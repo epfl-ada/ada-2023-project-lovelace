{
 "cells": [
  {
   "cell_type": "code",
   "execution_count": 1,
   "metadata": {
    "ExecuteTime": {
     "end_time": "2023-11-12T21:58:41.135838Z",
     "start_time": "2023-11-12T21:58:41.117283Z"
    }
   },
   "outputs": [],
   "source": [
    "import pandas as pd\n",
    "import numpy as np\n",
    "import matplotlib.pyplot as plt\n",
    "import seaborn as sns\n",
    "from helpers import *\n",
    "\n",
    "import warnings\n",
    "\n",
    "warnings.filterwarnings(\"ignore\")\n",
    "pd.set_option('display.max_columns', None)\n",
    "plt.rcdefaults()\n",
    "%load_ext autoreload\n",
    "%autoreload 2"
   ]
  },
  {
   "cell_type": "code",
   "execution_count": 2,
   "metadata": {
    "ExecuteTime": {
     "end_time": "2023-11-12T21:58:53.756740Z",
     "start_time": "2023-11-12T21:58:41.137386Z"
    }
   },
   "outputs": [],
   "source": [
    "DATA_FOLDER = \"../Data/\"\n",
    "\n",
    "imdb_basics_raw = pd.read_csv(\n",
    "    DATA_FOLDER + \"IMDb/title.basics.tsv.gz\",\n",
    "    sep=\"\\t\",\n",
    "    compression=\"gzip\",\n",
    ")\n",
    "imdb_ratings_raw = pd.read_csv(\n",
    "    DATA_FOLDER + \"IMDb/title.ratings.tsv.gz\",\n",
    "    sep=\"\\t\",\n",
    "    compression=\"gzip\",\n",
    ")\n",
    "movies_raw = pd.read_csv(DATA_FOLDER + \"MovieSummaries/movie.metadata.tsv\", sep=\"\\t\")"
   ]
  },
  {
   "cell_type": "code",
   "execution_count": 3,
   "metadata": {
    "ExecuteTime": {
     "end_time": "2023-11-12T21:58:53.767628Z",
     "start_time": "2023-11-12T21:58:53.752261Z"
    }
   },
   "outputs": [],
   "source": [
    "movies_raw.columns = [\n",
    "    \"wikiID\",\n",
    "    \"fbID\",\n",
    "    \"name\",\n",
    "    \"releaseDate\",\n",
    "    \"boxOffice\",\n",
    "    \"runtime\",\n",
    "    \"languages\",\n",
    "    \"countries\",\n",
    "    \"genres\",\n",
    "]\n",
    "\n",
    "imdb_basics_raw.rename(\n",
    "    columns={\n",
    "        \"primaryTitle\": \"name\",\n",
    "        \"startYear\": \"releaseYear\",\n",
    "        \"runtimeMinutes\": \"runtime\",\n",
    "    },\n",
    "    inplace=True\n",
    ")"
   ]
  },
  {
   "cell_type": "code",
   "execution_count": 4,
   "metadata": {
    "ExecuteTime": {
     "end_time": "2023-11-12T21:58:54.137006Z",
     "start_time": "2023-11-12T21:58:53.768044Z"
    }
   },
   "outputs": [],
   "source": [
    "movies = movies_raw.copy()\n",
    "imdb_basics = imdb_basics_raw.copy()\n",
    "imdb_ratings = imdb_ratings_raw.copy()"
   ]
  },
  {
   "cell_type": "code",
   "execution_count": 5,
   "metadata": {
    "ExecuteTime": {
     "end_time": "2023-11-12T21:58:59.473030Z",
     "start_time": "2023-11-12T21:58:54.138105Z"
    }
   },
   "outputs": [],
   "source": [
    "# Merge both imdb datasets\n",
    "imdb = pd.merge(imdb_basics, imdb_ratings, on='tconst', how='left')\n",
    "imdb.rename(columns={\"tconst\": \"imdbID\"}, inplace=True)"
   ]
  },
  {
   "cell_type": "code",
   "execution_count": 6,
   "metadata": {
    "ExecuteTime": {
     "end_time": "2023-11-12T21:59:01.743334Z",
     "start_time": "2023-11-12T21:58:59.474072Z"
    }
   },
   "outputs": [],
   "source": [
    "imdb[\"releaseYear\"] = pd.to_numeric(imdb[\"releaseYear\"], errors=\"coerce\")\n",
    "\n",
    "movies[\"releaseMonth\"] = pd.to_datetime(\n",
    "    movies[\"releaseDate\"],\n",
    "    errors=\"coerce\",\n",
    ").dt.month\n",
    "\n",
    "movies[\"releaseYear\"] = pd.to_datetime(\n",
    "    movies[\"releaseDate\"], errors=\"coerce\", format=\"mixed\"\n",
    ").dt.year\n",
    "\n",
    "movies.drop(columns=[\"releaseDate\"], inplace=True)"
   ]
  },
  {
   "cell_type": "code",
   "execution_count": 7,
   "outputs": [
    {
     "name": "stdout",
     "output_type": "stream",
     "text": [
      "['short' 'movie' 'tvShort' 'tvMovie' 'tvSeries' 'tvEpisode' 'tvMiniSeries'\n",
      " 'tvSpecial' 'video' 'videoGame' 'tvPilot']\n"
     ]
    }
   ],
   "source": [
    "# keep only movies and shorts\n",
    "print(imdb['titleType'].unique())\n",
    "imdb = imdb[imdb['titleType'].isin(['movie', 'short', 'tvMovie', 'tvShort'])]"
   ],
   "metadata": {
    "collapsed": false,
    "ExecuteTime": {
     "end_time": "2023-11-12T21:59:02.533923Z",
     "start_time": "2023-11-12T21:59:01.743998Z"
    }
   }
  },
  {
   "cell_type": "code",
   "execution_count": 8,
   "outputs": [
    {
     "name": "stdout",
     "output_type": "stream",
     "text": [
      "4\n",
      "0\n"
     ]
    }
   ],
   "source": [
    "# remove data for movies with no name\n",
    "print(imdb.name.isna().sum())\n",
    "print(movies.name.isna().sum())\n",
    "imdb.dropna(subset='name', inplace=True)"
   ],
   "metadata": {
    "collapsed": false,
    "ExecuteTime": {
     "end_time": "2023-11-12T21:59:02.833271Z",
     "start_time": "2023-11-12T21:59:02.533459Z"
    }
   }
  },
  {
   "cell_type": "code",
   "execution_count": 9,
   "outputs": [],
   "source": [
    "# standardize movie titles\n",
    "movies['name'] = movies['name'].apply(standardize_str)\n",
    "imdb['name'] = imdb['name'].apply(standardize_str)"
   ],
   "metadata": {
    "collapsed": false,
    "ExecuteTime": {
     "end_time": "2023-11-12T21:59:19.353271Z",
     "start_time": "2023-11-12T21:59:16.575132Z"
    }
   }
  },
  {
   "cell_type": "code",
   "execution_count": 10,
   "metadata": {
    "ExecuteTime": {
     "end_time": "2023-11-12T21:59:23.386150Z",
     "start_time": "2023-11-12T21:59:22.832058Z"
    }
   },
   "outputs": [],
   "source": [
    "movies.drop_duplicates(subset=[\"name\", \"releaseMonth\", \"releaseYear\"], inplace=True)\n",
    "imdb.drop_duplicates(subset=[\"name\", \"releaseYear\"], inplace=True)"
   ]
  },
  {
   "cell_type": "code",
   "execution_count": 11,
   "metadata": {
    "ExecuteTime": {
     "end_time": "2023-11-12T21:59:24.555533Z",
     "start_time": "2023-11-12T21:59:24.095818Z"
    }
   },
   "outputs": [],
   "source": [
    "imdb['runtime'] = pd.to_numeric(imdb['runtime'], errors=\"coerce\")"
   ]
  },
  {
   "cell_type": "code",
   "execution_count": 12,
   "metadata": {
    "ExecuteTime": {
     "end_time": "2023-11-12T21:59:25.999520Z",
     "start_time": "2023-11-12T21:59:25.347935Z"
    }
   },
   "outputs": [
    {
     "name": "stdout",
     "output_type": "stream",
     "text": [
      "(81626, 18) (81626, 10)\n",
      "proportion of IMDb IDs: 0.381\n",
      "proportion of IMDb ratings: 0.337\n",
      "proportion of non-null runtimes: 0.750\n"
     ]
    }
   ],
   "source": [
    "# merge on runtime (bad)\n",
    "movies_imdb_bad = pd.merge(\n",
    "    movies,\n",
    "    imdb,\n",
    "    how=\"left\",\n",
    "    on=[\"name\", \"releaseYear\", \"runtime\"],\n",
    "    suffixes=[\"Cmu\", \"Imdb\"],\n",
    ")\n",
    "print(movies_imdb_bad.shape, movies.shape)\n",
    "print(f\"proportion of IMDb IDs: {movies_imdb_bad.imdbID.notna().sum() / movies_imdb_bad.shape[0]:.3f}\")\n",
    "print(f\"proportion of IMDb ratings: {movies_imdb_bad.averageRating.notna().sum() / movies_imdb_bad.shape[0]:.3f}\")\n",
    "print(f\"proportion of non-null runtimes: {movies_imdb_bad.runtime.notna().sum() / movies_imdb_bad.shape[0]:.3f}\")"
   ]
  },
  {
   "cell_type": "code",
   "execution_count": 15,
   "outputs": [
    {
     "name": "stdout",
     "output_type": "stream",
     "text": [
      "(81626, 19) (81626, 10)\n"
     ]
    }
   ],
   "source": [
    "movies_imdb = pd.merge(\n",
    "    movies,\n",
    "    imdb,\n",
    "    how=\"left\",\n",
    "    on=[\"name\", \"releaseYear\"],\n",
    "    suffixes=[\"Cmu\", \"Imdb\"],\n",
    ")\n",
    "print(movies_imdb.shape, movies.shape)"
   ],
   "metadata": {
    "collapsed": false,
    "ExecuteTime": {
     "end_time": "2023-11-12T21:59:42.981848Z",
     "start_time": "2023-11-12T21:59:42.400804Z"
    }
   }
  },
  {
   "cell_type": "code",
   "execution_count": 16,
   "outputs": [
    {
     "name": "stdout",
     "output_type": "stream",
     "text": [
      "proportion of IMDb IDs: 0.607\n",
      "proportion of IMDb ratings: 0.539\n",
      "proportion of non-null runtimes: 0.844\n"
     ]
    }
   ],
   "source": [
    "# filter out imdb data for movies where runtime doesn't match (with tolerance)\n",
    "runtime_tol = 5  # allow for 5 minutes of leeway in runtime\n",
    "\n",
    "# when only one of the runtimes is nan, use the other\n",
    "movies_imdb['runtimeCmu'] = np.where(\n",
    "    # if runtimeCmu is nan but runtimeImdb is not, use runtimeImdb else keep runtimeCmu\n",
    "    pd.isna(movies_imdb['runtimeCmu']) & pd.notna(movies_imdb['runtimeImdb']),\n",
    "    movies_imdb['runtimeImdb'],\n",
    "    movies_imdb['runtimeCmu']\n",
    ")\n",
    "\n",
    "# identify rows where both runtimes are not NaN and the difference is not within tolerance\n",
    "mask = pd.notna(movies_imdb['runtimeCmu']) & pd.notna(movies_imdb['runtimeImdb']) & (\n",
    "        abs(movies_imdb['runtimeCmu'] - movies_imdb['runtimeImdb']) > runtime_tol)\n",
    "\n",
    "# remove IMDb data when the runtimes are not within tolerance\n",
    "movies_imdb.loc[mask, ['imdbID', 'titleType', 'originalTitle', 'isAdult', 'endYear', 'genresImdb', 'averageRating',\n",
    "                       'numVotes']] = np.nan\n",
    "\n",
    "# remove runtimeImdb column\n",
    "movies_imdb.drop(['runtimeImdb'], axis=1, inplace=True)\n",
    "movies_imdb.rename(columns={'runtimeCmu': 'runtime'}, inplace=True)\n",
    "\n",
    "print(f\"proportion of IMDb IDs: {movies_imdb.imdbID.notna().sum() / movies_imdb.shape[0]:.3f}\")\n",
    "print(f\"proportion of IMDb ratings: {movies_imdb.averageRating.notna().sum() / movies_imdb.shape[0]:.3f}\")\n",
    "print(f\"proportion of non-null runtimes: {movies_imdb.runtime.notna().sum() / movies_imdb.shape[0]:.3f}\")"
   ],
   "metadata": {
    "collapsed": false,
    "ExecuteTime": {
     "end_time": "2023-11-12T21:59:43.584656Z",
     "start_time": "2023-11-12T21:59:43.535723Z"
    }
   }
  },
  {
   "cell_type": "code",
   "execution_count": 17,
   "outputs": [
    {
     "data": {
      "text/plain": "                                                    name  releaseYear  \\\n7355               harry potter and the halfblood prince       2009.0   \n10817                harry potter and the goblet of fire       2005.0   \n17918          harry potter and the order of the phoenix       2007.0   \n30262        harry potter and the deathly hallows part 2       2011.0   \n41171            harry potter and the chamber of secrets       2002.0   \n41222           harry potter and the prisoner of azkaban       2004.0   \n44049                                        miss potter       2006.0   \n46421                                     private potter       1962.0   \n48798                               at the potters wheel       1914.0   \n59521        harry potter and the deathly hallows part i       2010.0   \n60922  harry potter and the secret chamberpot of azer...          NaN   \n71364            harry potter and the philosophers stone       2001.0   \n78385                        the tales of beatrix potter       1971.0   \n\n       runtime  averageRating  \n7355     153.0            7.6  \n10817    156.0            7.7  \n17918    137.0            7.5  \n30262    130.0            8.1  \n41171    174.0            NaN  \n41222    141.0            7.9  \n44049     93.0            7.0  \n46421     89.0            NaN  \n48798     11.0            NaN  \n59521    146.0            NaN  \n60922     16.0            NaN  \n71364    153.0            NaN  \n78385     90.0            6.8  ",
      "text/html": "<div>\n<style scoped>\n    .dataframe tbody tr th:only-of-type {\n        vertical-align: middle;\n    }\n\n    .dataframe tbody tr th {\n        vertical-align: top;\n    }\n\n    .dataframe thead th {\n        text-align: right;\n    }\n</style>\n<table border=\"1\" class=\"dataframe\">\n  <thead>\n    <tr style=\"text-align: right;\">\n      <th></th>\n      <th>name</th>\n      <th>releaseYear</th>\n      <th>runtime</th>\n      <th>averageRating</th>\n    </tr>\n  </thead>\n  <tbody>\n    <tr>\n      <th>7355</th>\n      <td>harry potter and the halfblood prince</td>\n      <td>2009.0</td>\n      <td>153.0</td>\n      <td>7.6</td>\n    </tr>\n    <tr>\n      <th>10817</th>\n      <td>harry potter and the goblet of fire</td>\n      <td>2005.0</td>\n      <td>156.0</td>\n      <td>7.7</td>\n    </tr>\n    <tr>\n      <th>17918</th>\n      <td>harry potter and the order of the phoenix</td>\n      <td>2007.0</td>\n      <td>137.0</td>\n      <td>7.5</td>\n    </tr>\n    <tr>\n      <th>30262</th>\n      <td>harry potter and the deathly hallows part 2</td>\n      <td>2011.0</td>\n      <td>130.0</td>\n      <td>8.1</td>\n    </tr>\n    <tr>\n      <th>41171</th>\n      <td>harry potter and the chamber of secrets</td>\n      <td>2002.0</td>\n      <td>174.0</td>\n      <td>NaN</td>\n    </tr>\n    <tr>\n      <th>41222</th>\n      <td>harry potter and the prisoner of azkaban</td>\n      <td>2004.0</td>\n      <td>141.0</td>\n      <td>7.9</td>\n    </tr>\n    <tr>\n      <th>44049</th>\n      <td>miss potter</td>\n      <td>2006.0</td>\n      <td>93.0</td>\n      <td>7.0</td>\n    </tr>\n    <tr>\n      <th>46421</th>\n      <td>private potter</td>\n      <td>1962.0</td>\n      <td>89.0</td>\n      <td>NaN</td>\n    </tr>\n    <tr>\n      <th>48798</th>\n      <td>at the potters wheel</td>\n      <td>1914.0</td>\n      <td>11.0</td>\n      <td>NaN</td>\n    </tr>\n    <tr>\n      <th>59521</th>\n      <td>harry potter and the deathly hallows part i</td>\n      <td>2010.0</td>\n      <td>146.0</td>\n      <td>NaN</td>\n    </tr>\n    <tr>\n      <th>60922</th>\n      <td>harry potter and the secret chamberpot of azer...</td>\n      <td>NaN</td>\n      <td>16.0</td>\n      <td>NaN</td>\n    </tr>\n    <tr>\n      <th>71364</th>\n      <td>harry potter and the philosophers stone</td>\n      <td>2001.0</td>\n      <td>153.0</td>\n      <td>NaN</td>\n    </tr>\n    <tr>\n      <th>78385</th>\n      <td>the tales of beatrix potter</td>\n      <td>1971.0</td>\n      <td>90.0</td>\n      <td>6.8</td>\n    </tr>\n  </tbody>\n</table>\n</div>"
     },
     "execution_count": 17,
     "metadata": {},
     "output_type": "execute_result"
    }
   ],
   "source": [
    "movies_imdb.query(\"`name`.str.contains('potter')\")[['name', 'releaseYear', 'runtime', 'averageRating']]"
   ],
   "metadata": {
    "collapsed": false,
    "ExecuteTime": {
     "end_time": "2023-11-12T22:00:09.719388Z",
     "start_time": "2023-11-12T22:00:09.679413Z"
    }
   }
  },
  {
   "cell_type": "code",
   "execution_count": 32,
   "outputs": [
    {
     "name": "stderr",
     "output_type": "stream",
     "text": [
      "100%|██████████| 81626/81626 [11:07<00:00, 122.24it/s]\n"
     ]
    },
    {
     "name": "stdout",
     "output_type": "stream",
     "text": [
      "(81626, 19) (81626, 11)\n"
     ]
    }
   ],
   "source": [
    "# better merge w/ fuzzy matching\n",
    "from rapidfuzz import process, fuzz\n",
    "from tqdm import tqdm\n",
    "\n",
    "\n",
    "# function to find the best match with a given minimum similarity threshold for a given movie title\n",
    "def get_best_match(row, grouped_df, scorer, threshold=95):\n",
    "    # filter the imdb dataframe to check only for movies with the same release year\n",
    "    same_year_movies = grouped_df.get_group(row['releaseYear'])['name'] if (row[\n",
    "                                                                                'releaseYear'] in grouped_df.groups) else []\n",
    "    # find the best match for the given movie title\n",
    "    best_match = process.extractOne(row['name'], same_year_movies, scorer=scorer)\n",
    "    # return the best match if its similarity is above the threshold\n",
    "    return best_match[0] if best_match and best_match[1] >= threshold else np.nan\n",
    "\n",
    "\n",
    "# group the imdb dataframe by releaseYear to speed up the search\n",
    "grouped_imdb = imdb.groupby('releaseYear')\n",
    "# enable tqdm pandas integration\n",
    "tqdm.pandas()\n",
    "# compute the best match for each title in movies\n",
    "movies['matched_title'] = movies.progress_apply(get_best_match, args=(grouped_imdb, fuzz.WRatio), axis=1, desc=\"Finding best match\")\n",
    "\n",
    "# merge on the matched titles and releaseYear\n",
    "movies_imdb = pd.merge(movies, imdb, left_on=['matched_title', 'releaseYear'], right_on=['name', 'releaseYear'],\n",
    "                       how='left', suffixes=['Cmu', 'Imdb'])\n",
    "# drop extra columns\n",
    "movies_imdb.drop(['matched_title', 'nameImdb'], axis=1, inplace=True)\n",
    "movies_imdb.rename(columns={'nameCmu': 'name'}, inplace=True)\n",
    "\n",
    "print(movies_imdb.shape, movies.shape)"
   ],
   "metadata": {
    "collapsed": false,
    "ExecuteTime": {
     "end_time": "2023-11-12T22:40:45.761190Z",
     "start_time": "2023-11-12T22:29:37.370956Z"
    }
   }
  },
  {
   "cell_type": "code",
   "execution_count": 33,
   "outputs": [
    {
     "name": "stdout",
     "output_type": "stream",
     "text": [
      "proportion of IMDb IDs: 0.621\n",
      "proportion of IMDb ratings: 0.559\n",
      "proportion of non-null runtimes: 0.849\n"
     ]
    },
    {
     "data": {
      "text/plain": "     wikiID        fbID                                               name  \\\n0   3196793   /m/08yl5d  getting away with murder the jonbenet ramsey m...   \n1  28463795  /m/0crgdbh                                        brun bitter   \n2   9363483  /m/0285_cd                                   white of the eye   \n3    261236   /m/01mrr1                                  a woman in flames   \n4  13696889  /m/03cfc81                                      the gangsters   \n5  18998739  /m/04jcqvw                           the sorcerers apprentice   \n6  10408933  /m/02qc0j7                            alexanders ragtime band   \n7   9997961  /m/06_y2j7                                     contigo y aqui   \n8   2345652   /m/075f66                                   city of the dead   \n9    175026   /m/017n1p                                      sarah and son   \n\n   boxOffice  runtime                                          languages  \\\n0        NaN     95.0                 {\"/m/02h40lc\": \"English Language\"}   \n1        NaN     83.0                 {\"/m/05f_3\": \"Norwegian Language\"}   \n2        NaN    110.0                 {\"/m/02h40lc\": \"English Language\"}   \n3        NaN    106.0                  {\"/m/04306rv\": \"German Language\"}   \n4        NaN     35.0  {\"/m/06ppq\": \"Silent film\", \"/m/02h40lc\": \"Eng...   \n5        NaN     86.0                 {\"/m/02h40lc\": \"English Language\"}   \n6  3600000.0    106.0                 {\"/m/02h40lc\": \"English Language\"}   \n7        NaN     70.0                   {\"/m/06nm1\": \"Spanish Language\"}   \n8        NaN     76.0                 {\"/m/02h40lc\": \"English Language\"}   \n9        NaN     86.0                 {\"/m/02h40lc\": \"English Language\"}   \n\n                                   countries  \\\n0  {\"/m/09c7w0\": \"United States of America\"}   \n1                     {\"/m/05b4w\": \"Norway\"}   \n2             {\"/m/07ssc\": \"United Kingdom\"}   \n3                    {\"/m/0345h\": \"Germany\"}   \n4  {\"/m/09c7w0\": \"United States of America\"}   \n5               {\"/m/0hzlz\": \"South Africa\"}   \n6  {\"/m/09c7w0\": \"United States of America\"}   \n7                   {\"/m/0jgd\": \"Argentina\"}   \n8             {\"/m/07ssc\": \"United Kingdom\"}   \n9  {\"/m/09c7w0\": \"United States of America\"}   \n\n                                           genresCmu  releaseMonth  \\\n0  {\"/m/02n4kr\": \"Mystery\", \"/m/03bxz7\": \"Biograp...           2.0   \n1  {\"/m/0lsxr\": \"Crime Fiction\", \"/m/07s9rl0\": \"D...           NaN   \n2  {\"/m/01jfsb\": \"Thriller\", \"/m/0glj9q\": \"Erotic...           NaN   \n3                            {\"/m/07s9rl0\": \"Drama\"}           NaN   \n4  {\"/m/02hmvc\": \"Short Film\", \"/m/06ppq\": \"Silen...           5.0   \n5  {\"/m/0hqxf\": \"Family Film\", \"/m/01hmnh\": \"Fant...           NaN   \n6  {\"/m/04t36\": \"Musical\", \"/m/01z4y\": \"Comedy\", ...           8.0   \n7  {\"/m/04t36\": \"Musical\", \"/m/07s9rl0\": \"Drama\",...           NaN   \n8  {\"/m/03npn\": \"Horror\", \"/m/0fdjb\": \"Supernatur...           NaN   \n9  {\"/m/07s9rl0\": \"Drama\", \"/m/01g6gs\": \"Black-an...           NaN   \n\n   releaseYear     imdbID titleType  \\\n0       2000.0  tt0245916   tvMovie   \n1       1988.0  tt0094806     movie   \n2       1987.0  tt0094320     movie   \n3       1983.0  tt0083949     movie   \n4       1913.0  tt0002894     short   \n5       2002.0        NaN       NaN   \n6       1938.0  tt0029852     movie   \n7       1974.0  tt0200545     movie   \n8       1960.0  tt0053719     movie   \n9       1930.0  tt0021335     movie   \n\n                                       originalTitle isAdult endYear  \\\n0  Getting Away with Murder: The JonBenet Ramsey ...       0      \\N   \n1                                        Brun bitter       0      \\N   \n2                                   White of the Eye       0      \\N   \n3                                Die flambierte Frau       0      \\N   \n4                                      The Gangsters       0      \\N   \n5                                                NaN     NaN     NaN   \n6                           Alexander's Ragtime Band       0      \\N   \n7                                     Contigo y aquí       0      \\N   \n8                               The City of the Dead       0      \\N   \n9                                      Sarah and Son       0      \\N   \n\n                genresImdb  averageRating  numVotes  \n0                    Drama            6.0      69.0  \n1              Crime,Drama            5.6      40.0  \n2  Horror,Mystery,Thriller            6.1    2885.0  \n3                    Drama            6.0     621.0  \n4             Comedy,Short            6.8      16.0  \n5                      NaN            NaN       NaN  \n6      Drama,Music,Musical            6.8    2264.0  \n7     Comedy,Drama,Musical            NaN       NaN  \n8  Horror,Mystery,Thriller            6.7    8261.0  \n9            Drama,Romance            5.4     298.0  ",
      "text/html": "<div>\n<style scoped>\n    .dataframe tbody tr th:only-of-type {\n        vertical-align: middle;\n    }\n\n    .dataframe tbody tr th {\n        vertical-align: top;\n    }\n\n    .dataframe thead th {\n        text-align: right;\n    }\n</style>\n<table border=\"1\" class=\"dataframe\">\n  <thead>\n    <tr style=\"text-align: right;\">\n      <th></th>\n      <th>wikiID</th>\n      <th>fbID</th>\n      <th>name</th>\n      <th>boxOffice</th>\n      <th>runtime</th>\n      <th>languages</th>\n      <th>countries</th>\n      <th>genresCmu</th>\n      <th>releaseMonth</th>\n      <th>releaseYear</th>\n      <th>imdbID</th>\n      <th>titleType</th>\n      <th>originalTitle</th>\n      <th>isAdult</th>\n      <th>endYear</th>\n      <th>genresImdb</th>\n      <th>averageRating</th>\n      <th>numVotes</th>\n    </tr>\n  </thead>\n  <tbody>\n    <tr>\n      <th>0</th>\n      <td>3196793</td>\n      <td>/m/08yl5d</td>\n      <td>getting away with murder the jonbenet ramsey m...</td>\n      <td>NaN</td>\n      <td>95.0</td>\n      <td>{\"/m/02h40lc\": \"English Language\"}</td>\n      <td>{\"/m/09c7w0\": \"United States of America\"}</td>\n      <td>{\"/m/02n4kr\": \"Mystery\", \"/m/03bxz7\": \"Biograp...</td>\n      <td>2.0</td>\n      <td>2000.0</td>\n      <td>tt0245916</td>\n      <td>tvMovie</td>\n      <td>Getting Away with Murder: The JonBenet Ramsey ...</td>\n      <td>0</td>\n      <td>\\N</td>\n      <td>Drama</td>\n      <td>6.0</td>\n      <td>69.0</td>\n    </tr>\n    <tr>\n      <th>1</th>\n      <td>28463795</td>\n      <td>/m/0crgdbh</td>\n      <td>brun bitter</td>\n      <td>NaN</td>\n      <td>83.0</td>\n      <td>{\"/m/05f_3\": \"Norwegian Language\"}</td>\n      <td>{\"/m/05b4w\": \"Norway\"}</td>\n      <td>{\"/m/0lsxr\": \"Crime Fiction\", \"/m/07s9rl0\": \"D...</td>\n      <td>NaN</td>\n      <td>1988.0</td>\n      <td>tt0094806</td>\n      <td>movie</td>\n      <td>Brun bitter</td>\n      <td>0</td>\n      <td>\\N</td>\n      <td>Crime,Drama</td>\n      <td>5.6</td>\n      <td>40.0</td>\n    </tr>\n    <tr>\n      <th>2</th>\n      <td>9363483</td>\n      <td>/m/0285_cd</td>\n      <td>white of the eye</td>\n      <td>NaN</td>\n      <td>110.0</td>\n      <td>{\"/m/02h40lc\": \"English Language\"}</td>\n      <td>{\"/m/07ssc\": \"United Kingdom\"}</td>\n      <td>{\"/m/01jfsb\": \"Thriller\", \"/m/0glj9q\": \"Erotic...</td>\n      <td>NaN</td>\n      <td>1987.0</td>\n      <td>tt0094320</td>\n      <td>movie</td>\n      <td>White of the Eye</td>\n      <td>0</td>\n      <td>\\N</td>\n      <td>Horror,Mystery,Thriller</td>\n      <td>6.1</td>\n      <td>2885.0</td>\n    </tr>\n    <tr>\n      <th>3</th>\n      <td>261236</td>\n      <td>/m/01mrr1</td>\n      <td>a woman in flames</td>\n      <td>NaN</td>\n      <td>106.0</td>\n      <td>{\"/m/04306rv\": \"German Language\"}</td>\n      <td>{\"/m/0345h\": \"Germany\"}</td>\n      <td>{\"/m/07s9rl0\": \"Drama\"}</td>\n      <td>NaN</td>\n      <td>1983.0</td>\n      <td>tt0083949</td>\n      <td>movie</td>\n      <td>Die flambierte Frau</td>\n      <td>0</td>\n      <td>\\N</td>\n      <td>Drama</td>\n      <td>6.0</td>\n      <td>621.0</td>\n    </tr>\n    <tr>\n      <th>4</th>\n      <td>13696889</td>\n      <td>/m/03cfc81</td>\n      <td>the gangsters</td>\n      <td>NaN</td>\n      <td>35.0</td>\n      <td>{\"/m/06ppq\": \"Silent film\", \"/m/02h40lc\": \"Eng...</td>\n      <td>{\"/m/09c7w0\": \"United States of America\"}</td>\n      <td>{\"/m/02hmvc\": \"Short Film\", \"/m/06ppq\": \"Silen...</td>\n      <td>5.0</td>\n      <td>1913.0</td>\n      <td>tt0002894</td>\n      <td>short</td>\n      <td>The Gangsters</td>\n      <td>0</td>\n      <td>\\N</td>\n      <td>Comedy,Short</td>\n      <td>6.8</td>\n      <td>16.0</td>\n    </tr>\n    <tr>\n      <th>5</th>\n      <td>18998739</td>\n      <td>/m/04jcqvw</td>\n      <td>the sorcerers apprentice</td>\n      <td>NaN</td>\n      <td>86.0</td>\n      <td>{\"/m/02h40lc\": \"English Language\"}</td>\n      <td>{\"/m/0hzlz\": \"South Africa\"}</td>\n      <td>{\"/m/0hqxf\": \"Family Film\", \"/m/01hmnh\": \"Fant...</td>\n      <td>NaN</td>\n      <td>2002.0</td>\n      <td>NaN</td>\n      <td>NaN</td>\n      <td>NaN</td>\n      <td>NaN</td>\n      <td>NaN</td>\n      <td>NaN</td>\n      <td>NaN</td>\n      <td>NaN</td>\n    </tr>\n    <tr>\n      <th>6</th>\n      <td>10408933</td>\n      <td>/m/02qc0j7</td>\n      <td>alexanders ragtime band</td>\n      <td>3600000.0</td>\n      <td>106.0</td>\n      <td>{\"/m/02h40lc\": \"English Language\"}</td>\n      <td>{\"/m/09c7w0\": \"United States of America\"}</td>\n      <td>{\"/m/04t36\": \"Musical\", \"/m/01z4y\": \"Comedy\", ...</td>\n      <td>8.0</td>\n      <td>1938.0</td>\n      <td>tt0029852</td>\n      <td>movie</td>\n      <td>Alexander's Ragtime Band</td>\n      <td>0</td>\n      <td>\\N</td>\n      <td>Drama,Music,Musical</td>\n      <td>6.8</td>\n      <td>2264.0</td>\n    </tr>\n    <tr>\n      <th>7</th>\n      <td>9997961</td>\n      <td>/m/06_y2j7</td>\n      <td>contigo y aqui</td>\n      <td>NaN</td>\n      <td>70.0</td>\n      <td>{\"/m/06nm1\": \"Spanish Language\"}</td>\n      <td>{\"/m/0jgd\": \"Argentina\"}</td>\n      <td>{\"/m/04t36\": \"Musical\", \"/m/07s9rl0\": \"Drama\",...</td>\n      <td>NaN</td>\n      <td>1974.0</td>\n      <td>tt0200545</td>\n      <td>movie</td>\n      <td>Contigo y aquí</td>\n      <td>0</td>\n      <td>\\N</td>\n      <td>Comedy,Drama,Musical</td>\n      <td>NaN</td>\n      <td>NaN</td>\n    </tr>\n    <tr>\n      <th>8</th>\n      <td>2345652</td>\n      <td>/m/075f66</td>\n      <td>city of the dead</td>\n      <td>NaN</td>\n      <td>76.0</td>\n      <td>{\"/m/02h40lc\": \"English Language\"}</td>\n      <td>{\"/m/07ssc\": \"United Kingdom\"}</td>\n      <td>{\"/m/03npn\": \"Horror\", \"/m/0fdjb\": \"Supernatur...</td>\n      <td>NaN</td>\n      <td>1960.0</td>\n      <td>tt0053719</td>\n      <td>movie</td>\n      <td>The City of the Dead</td>\n      <td>0</td>\n      <td>\\N</td>\n      <td>Horror,Mystery,Thriller</td>\n      <td>6.7</td>\n      <td>8261.0</td>\n    </tr>\n    <tr>\n      <th>9</th>\n      <td>175026</td>\n      <td>/m/017n1p</td>\n      <td>sarah and son</td>\n      <td>NaN</td>\n      <td>86.0</td>\n      <td>{\"/m/02h40lc\": \"English Language\"}</td>\n      <td>{\"/m/09c7w0\": \"United States of America\"}</td>\n      <td>{\"/m/07s9rl0\": \"Drama\", \"/m/01g6gs\": \"Black-an...</td>\n      <td>NaN</td>\n      <td>1930.0</td>\n      <td>tt0021335</td>\n      <td>movie</td>\n      <td>Sarah and Son</td>\n      <td>0</td>\n      <td>\\N</td>\n      <td>Drama,Romance</td>\n      <td>5.4</td>\n      <td>298.0</td>\n    </tr>\n  </tbody>\n</table>\n</div>"
     },
     "execution_count": 33,
     "metadata": {},
     "output_type": "execute_result"
    }
   ],
   "source": [
    "# filter out imdb data for movies where runtime doesn't match (with tolerance)\n",
    "runtime_tol = 5  # allow for 5 minutes of leeway in runtime\n",
    "\n",
    "# when only one of the runtimes is nan, use the other\n",
    "movies_imdb['runtimeCmu'] = np.where(\n",
    "    # if runtimeCmu is nan but runtimeImdb is not, use runtimeImdb else keep runtimeCmu\n",
    "    pd.isna(movies_imdb['runtimeCmu']) & pd.notna(movies_imdb['runtimeImdb']),\n",
    "    movies_imdb['runtimeImdb'],\n",
    "    movies_imdb['runtimeCmu']\n",
    ")\n",
    "\n",
    "# identify rows where both runtimes are not NaN and the difference is not within tolerance\n",
    "mask = pd.notna(movies_imdb['runtimeCmu']) & pd.notna(movies_imdb['runtimeImdb']) & (\n",
    "        abs(movies_imdb['runtimeCmu'] - movies_imdb['runtimeImdb']) > runtime_tol)\n",
    "\n",
    "# remove IMDb data when the runtimes are not within tolerance\n",
    "movies_imdb.loc[mask, ['imdbID', 'titleType', 'originalTitle', 'isAdult', 'endYear', 'genresImdb', 'averageRating',\n",
    "                       'numVotes']] = np.nan\n",
    "\n",
    "# remove runtimeImdb column\n",
    "movies_imdb.drop(['runtimeImdb'], axis=1, inplace=True)\n",
    "movies_imdb.rename(columns={'runtimeCmu': 'runtime'}, inplace=True)\n",
    "\n",
    "print(f\"proportion of IMDb IDs: {movies_imdb.imdbID.notna().sum() / movies_imdb.shape[0]:.3f}\")\n",
    "print(f\"proportion of IMDb ratings: {movies_imdb.averageRating.notna().sum() / movies_imdb.shape[0]:.3f}\")\n",
    "print(f\"proportion of non-null runtimes: {movies_imdb.runtime.notna().sum() / movies_imdb.shape[0]:.3f}\")\n",
    "\n",
    "movies_imdb.head(10)"
   ],
   "metadata": {
    "collapsed": false,
    "ExecuteTime": {
     "end_time": "2023-11-12T22:40:45.825471Z",
     "start_time": "2023-11-12T22:40:45.761346Z"
    }
   }
  },
  {
   "cell_type": "code",
   "execution_count": 34,
   "outputs": [
    {
     "data": {
      "text/plain": "                                                    name  releaseYear  \\\n7355               harry potter and the halfblood prince       2009.0   \n10817                harry potter and the goblet of fire       2005.0   \n17918          harry potter and the order of the phoenix       2007.0   \n30262        harry potter and the deathly hallows part 2       2011.0   \n41171            harry potter and the chamber of secrets       2002.0   \n41222           harry potter and the prisoner of azkaban       2004.0   \n59521        harry potter and the deathly hallows part i       2010.0   \n60922  harry potter and the secret chamberpot of azer...          NaN   \n71364            harry potter and the philosophers stone       2001.0   \n\n       runtime  averageRating  \n7355     153.0            7.6  \n10817    156.0            7.7  \n17918    137.0            7.5  \n30262    130.0            8.1  \n41171    174.0            NaN  \n41222    141.0            7.9  \n59521    146.0            7.7  \n60922     16.0            NaN  \n71364    153.0            NaN  ",
      "text/html": "<div>\n<style scoped>\n    .dataframe tbody tr th:only-of-type {\n        vertical-align: middle;\n    }\n\n    .dataframe tbody tr th {\n        vertical-align: top;\n    }\n\n    .dataframe thead th {\n        text-align: right;\n    }\n</style>\n<table border=\"1\" class=\"dataframe\">\n  <thead>\n    <tr style=\"text-align: right;\">\n      <th></th>\n      <th>name</th>\n      <th>releaseYear</th>\n      <th>runtime</th>\n      <th>averageRating</th>\n    </tr>\n  </thead>\n  <tbody>\n    <tr>\n      <th>7355</th>\n      <td>harry potter and the halfblood prince</td>\n      <td>2009.0</td>\n      <td>153.0</td>\n      <td>7.6</td>\n    </tr>\n    <tr>\n      <th>10817</th>\n      <td>harry potter and the goblet of fire</td>\n      <td>2005.0</td>\n      <td>156.0</td>\n      <td>7.7</td>\n    </tr>\n    <tr>\n      <th>17918</th>\n      <td>harry potter and the order of the phoenix</td>\n      <td>2007.0</td>\n      <td>137.0</td>\n      <td>7.5</td>\n    </tr>\n    <tr>\n      <th>30262</th>\n      <td>harry potter and the deathly hallows part 2</td>\n      <td>2011.0</td>\n      <td>130.0</td>\n      <td>8.1</td>\n    </tr>\n    <tr>\n      <th>41171</th>\n      <td>harry potter and the chamber of secrets</td>\n      <td>2002.0</td>\n      <td>174.0</td>\n      <td>NaN</td>\n    </tr>\n    <tr>\n      <th>41222</th>\n      <td>harry potter and the prisoner of azkaban</td>\n      <td>2004.0</td>\n      <td>141.0</td>\n      <td>7.9</td>\n    </tr>\n    <tr>\n      <th>59521</th>\n      <td>harry potter and the deathly hallows part i</td>\n      <td>2010.0</td>\n      <td>146.0</td>\n      <td>7.7</td>\n    </tr>\n    <tr>\n      <th>60922</th>\n      <td>harry potter and the secret chamberpot of azer...</td>\n      <td>NaN</td>\n      <td>16.0</td>\n      <td>NaN</td>\n    </tr>\n    <tr>\n      <th>71364</th>\n      <td>harry potter and the philosophers stone</td>\n      <td>2001.0</td>\n      <td>153.0</td>\n      <td>NaN</td>\n    </tr>\n  </tbody>\n</table>\n</div>"
     },
     "execution_count": 34,
     "metadata": {},
     "output_type": "execute_result"
    }
   ],
   "source": [
    "movies_imdb.query(\"`name`.str.contains('harry potter')\")[\n",
    "    ['name', 'releaseYear', 'runtime', 'averageRating']]"
   ],
   "metadata": {
    "collapsed": false,
    "ExecuteTime": {
     "end_time": "2023-11-12T22:40:45.893283Z",
     "start_time": "2023-11-12T22:40:45.824449Z"
    }
   }
  },
  {
   "cell_type": "code",
   "execution_count": 35,
   "metadata": {
    "collapsed": false,
    "ExecuteTime": {
     "end_time": "2023-11-12T22:41:32.396149Z",
     "start_time": "2023-11-12T22:41:30.611133Z"
    }
   },
   "outputs": [],
   "source": [
    "movies_imdb['languages'] = movies_imdb['languages'].apply(parse_dict)\n",
    "movies_imdb['countries'] = movies_imdb['countries'].apply(parse_dict)\n",
    "movies_imdb['genresCmu'] = movies_imdb['genresCmu'].apply(parse_dict)\n",
    "\n",
    "movies_imdb['genresImdb'] = movies_imdb['genresImdb'].apply(\n",
    "    lambda x: x.split(',') if not (isinstance(x, float) or x == \"\\\\N\") else np.nan)"
   ]
  },
  {
   "cell_type": "code",
   "execution_count": 36,
   "metadata": {
    "ExecuteTime": {
     "end_time": "2023-11-12T22:41:36.225986Z",
     "start_time": "2023-11-12T22:41:36.198722Z"
    }
   },
   "outputs": [
    {
     "name": "stdout",
     "output_type": "stream",
     "text": [
      "(81626, 11)\n",
      "(81626, 18)\n"
     ]
    },
    {
     "data": {
      "text/plain": "     wikiID        fbID                                               name  \\\n0   3196793   /m/08yl5d  getting away with murder the jonbenet ramsey m...   \n1  28463795  /m/0crgdbh                                        brun bitter   \n2   9363483  /m/0285_cd                                   white of the eye   \n3    261236   /m/01mrr1                                  a woman in flames   \n4  13696889  /m/03cfc81                                      the gangsters   \n5  18998739  /m/04jcqvw                           the sorcerers apprentice   \n6  10408933  /m/02qc0j7                            alexanders ragtime band   \n7   9997961  /m/06_y2j7                                     contigo y aqui   \n8   2345652   /m/075f66                                   city of the dead   \n9    175026   /m/017n1p                                      sarah and son   \n\n   boxOffice  runtime                        languages  \\\n0        NaN     95.0               [English Language]   \n1        NaN     83.0             [Norwegian Language]   \n2        NaN    110.0               [English Language]   \n3        NaN    106.0                [German Language]   \n4        NaN     35.0  [Silent film, English Language]   \n5        NaN     86.0               [English Language]   \n6  3600000.0    106.0               [English Language]   \n7        NaN     70.0               [Spanish Language]   \n8        NaN     76.0               [English Language]   \n9        NaN     86.0               [English Language]   \n\n                    countries  \\\n0  [United States of America]   \n1                    [Norway]   \n2            [United Kingdom]   \n3                   [Germany]   \n4  [United States of America]   \n5              [South Africa]   \n6  [United States of America]   \n7                 [Argentina]   \n8            [United Kingdom]   \n9  [United States of America]   \n\n                                           genresCmu  releaseMonth  \\\n0   [Mystery, Biographical film, Drama, Crime Drama]           2.0   \n1                             [Crime Fiction, Drama]           NaN   \n2  [Thriller, Erotic thriller, Psychological thri...           NaN   \n3                                            [Drama]           NaN   \n4  [Short Film, Silent film, Indie, Black-and-whi...           5.0   \n5    [Family Film, Fantasy, Adventure, World cinema]           NaN   \n6                 [Musical, Comedy, Black-and-white]           8.0   \n7                           [Musical, Drama, Comedy]           NaN   \n8                             [Horror, Supernatural]           NaN   \n9                           [Drama, Black-and-white]           NaN   \n\n   releaseYear     imdbID titleType  \\\n0       2000.0  tt0245916   tvMovie   \n1       1988.0  tt0094806     movie   \n2       1987.0  tt0094320     movie   \n3       1983.0  tt0083949     movie   \n4       1913.0  tt0002894     short   \n5       2002.0        NaN       NaN   \n6       1938.0  tt0029852     movie   \n7       1974.0  tt0200545     movie   \n8       1960.0  tt0053719     movie   \n9       1930.0  tt0021335     movie   \n\n                                       originalTitle isAdult endYear  \\\n0  Getting Away with Murder: The JonBenet Ramsey ...       0      \\N   \n1                                        Brun bitter       0      \\N   \n2                                   White of the Eye       0      \\N   \n3                                Die flambierte Frau       0      \\N   \n4                                      The Gangsters       0      \\N   \n5                                                NaN     NaN     NaN   \n6                           Alexander's Ragtime Band       0      \\N   \n7                                     Contigo y aquí       0      \\N   \n8                               The City of the Dead       0      \\N   \n9                                      Sarah and Son       0      \\N   \n\n                    genresImdb  averageRating  numVotes  \n0                      [Drama]            6.0      69.0  \n1               [Crime, Drama]            5.6      40.0  \n2  [Horror, Mystery, Thriller]            6.1    2885.0  \n3                      [Drama]            6.0     621.0  \n4              [Comedy, Short]            6.8      16.0  \n5                          NaN            NaN       NaN  \n6      [Drama, Music, Musical]            6.8    2264.0  \n7     [Comedy, Drama, Musical]            NaN       NaN  \n8  [Horror, Mystery, Thriller]            6.7    8261.0  \n9             [Drama, Romance]            5.4     298.0  ",
      "text/html": "<div>\n<style scoped>\n    .dataframe tbody tr th:only-of-type {\n        vertical-align: middle;\n    }\n\n    .dataframe tbody tr th {\n        vertical-align: top;\n    }\n\n    .dataframe thead th {\n        text-align: right;\n    }\n</style>\n<table border=\"1\" class=\"dataframe\">\n  <thead>\n    <tr style=\"text-align: right;\">\n      <th></th>\n      <th>wikiID</th>\n      <th>fbID</th>\n      <th>name</th>\n      <th>boxOffice</th>\n      <th>runtime</th>\n      <th>languages</th>\n      <th>countries</th>\n      <th>genresCmu</th>\n      <th>releaseMonth</th>\n      <th>releaseYear</th>\n      <th>imdbID</th>\n      <th>titleType</th>\n      <th>originalTitle</th>\n      <th>isAdult</th>\n      <th>endYear</th>\n      <th>genresImdb</th>\n      <th>averageRating</th>\n      <th>numVotes</th>\n    </tr>\n  </thead>\n  <tbody>\n    <tr>\n      <th>0</th>\n      <td>3196793</td>\n      <td>/m/08yl5d</td>\n      <td>getting away with murder the jonbenet ramsey m...</td>\n      <td>NaN</td>\n      <td>95.0</td>\n      <td>[English Language]</td>\n      <td>[United States of America]</td>\n      <td>[Mystery, Biographical film, Drama, Crime Drama]</td>\n      <td>2.0</td>\n      <td>2000.0</td>\n      <td>tt0245916</td>\n      <td>tvMovie</td>\n      <td>Getting Away with Murder: The JonBenet Ramsey ...</td>\n      <td>0</td>\n      <td>\\N</td>\n      <td>[Drama]</td>\n      <td>6.0</td>\n      <td>69.0</td>\n    </tr>\n    <tr>\n      <th>1</th>\n      <td>28463795</td>\n      <td>/m/0crgdbh</td>\n      <td>brun bitter</td>\n      <td>NaN</td>\n      <td>83.0</td>\n      <td>[Norwegian Language]</td>\n      <td>[Norway]</td>\n      <td>[Crime Fiction, Drama]</td>\n      <td>NaN</td>\n      <td>1988.0</td>\n      <td>tt0094806</td>\n      <td>movie</td>\n      <td>Brun bitter</td>\n      <td>0</td>\n      <td>\\N</td>\n      <td>[Crime, Drama]</td>\n      <td>5.6</td>\n      <td>40.0</td>\n    </tr>\n    <tr>\n      <th>2</th>\n      <td>9363483</td>\n      <td>/m/0285_cd</td>\n      <td>white of the eye</td>\n      <td>NaN</td>\n      <td>110.0</td>\n      <td>[English Language]</td>\n      <td>[United Kingdom]</td>\n      <td>[Thriller, Erotic thriller, Psychological thri...</td>\n      <td>NaN</td>\n      <td>1987.0</td>\n      <td>tt0094320</td>\n      <td>movie</td>\n      <td>White of the Eye</td>\n      <td>0</td>\n      <td>\\N</td>\n      <td>[Horror, Mystery, Thriller]</td>\n      <td>6.1</td>\n      <td>2885.0</td>\n    </tr>\n    <tr>\n      <th>3</th>\n      <td>261236</td>\n      <td>/m/01mrr1</td>\n      <td>a woman in flames</td>\n      <td>NaN</td>\n      <td>106.0</td>\n      <td>[German Language]</td>\n      <td>[Germany]</td>\n      <td>[Drama]</td>\n      <td>NaN</td>\n      <td>1983.0</td>\n      <td>tt0083949</td>\n      <td>movie</td>\n      <td>Die flambierte Frau</td>\n      <td>0</td>\n      <td>\\N</td>\n      <td>[Drama]</td>\n      <td>6.0</td>\n      <td>621.0</td>\n    </tr>\n    <tr>\n      <th>4</th>\n      <td>13696889</td>\n      <td>/m/03cfc81</td>\n      <td>the gangsters</td>\n      <td>NaN</td>\n      <td>35.0</td>\n      <td>[Silent film, English Language]</td>\n      <td>[United States of America]</td>\n      <td>[Short Film, Silent film, Indie, Black-and-whi...</td>\n      <td>5.0</td>\n      <td>1913.0</td>\n      <td>tt0002894</td>\n      <td>short</td>\n      <td>The Gangsters</td>\n      <td>0</td>\n      <td>\\N</td>\n      <td>[Comedy, Short]</td>\n      <td>6.8</td>\n      <td>16.0</td>\n    </tr>\n    <tr>\n      <th>5</th>\n      <td>18998739</td>\n      <td>/m/04jcqvw</td>\n      <td>the sorcerers apprentice</td>\n      <td>NaN</td>\n      <td>86.0</td>\n      <td>[English Language]</td>\n      <td>[South Africa]</td>\n      <td>[Family Film, Fantasy, Adventure, World cinema]</td>\n      <td>NaN</td>\n      <td>2002.0</td>\n      <td>NaN</td>\n      <td>NaN</td>\n      <td>NaN</td>\n      <td>NaN</td>\n      <td>NaN</td>\n      <td>NaN</td>\n      <td>NaN</td>\n      <td>NaN</td>\n    </tr>\n    <tr>\n      <th>6</th>\n      <td>10408933</td>\n      <td>/m/02qc0j7</td>\n      <td>alexanders ragtime band</td>\n      <td>3600000.0</td>\n      <td>106.0</td>\n      <td>[English Language]</td>\n      <td>[United States of America]</td>\n      <td>[Musical, Comedy, Black-and-white]</td>\n      <td>8.0</td>\n      <td>1938.0</td>\n      <td>tt0029852</td>\n      <td>movie</td>\n      <td>Alexander's Ragtime Band</td>\n      <td>0</td>\n      <td>\\N</td>\n      <td>[Drama, Music, Musical]</td>\n      <td>6.8</td>\n      <td>2264.0</td>\n    </tr>\n    <tr>\n      <th>7</th>\n      <td>9997961</td>\n      <td>/m/06_y2j7</td>\n      <td>contigo y aqui</td>\n      <td>NaN</td>\n      <td>70.0</td>\n      <td>[Spanish Language]</td>\n      <td>[Argentina]</td>\n      <td>[Musical, Drama, Comedy]</td>\n      <td>NaN</td>\n      <td>1974.0</td>\n      <td>tt0200545</td>\n      <td>movie</td>\n      <td>Contigo y aquí</td>\n      <td>0</td>\n      <td>\\N</td>\n      <td>[Comedy, Drama, Musical]</td>\n      <td>NaN</td>\n      <td>NaN</td>\n    </tr>\n    <tr>\n      <th>8</th>\n      <td>2345652</td>\n      <td>/m/075f66</td>\n      <td>city of the dead</td>\n      <td>NaN</td>\n      <td>76.0</td>\n      <td>[English Language]</td>\n      <td>[United Kingdom]</td>\n      <td>[Horror, Supernatural]</td>\n      <td>NaN</td>\n      <td>1960.0</td>\n      <td>tt0053719</td>\n      <td>movie</td>\n      <td>The City of the Dead</td>\n      <td>0</td>\n      <td>\\N</td>\n      <td>[Horror, Mystery, Thriller]</td>\n      <td>6.7</td>\n      <td>8261.0</td>\n    </tr>\n    <tr>\n      <th>9</th>\n      <td>175026</td>\n      <td>/m/017n1p</td>\n      <td>sarah and son</td>\n      <td>NaN</td>\n      <td>86.0</td>\n      <td>[English Language]</td>\n      <td>[United States of America]</td>\n      <td>[Drama, Black-and-white]</td>\n      <td>NaN</td>\n      <td>1930.0</td>\n      <td>tt0021335</td>\n      <td>movie</td>\n      <td>Sarah and Son</td>\n      <td>0</td>\n      <td>\\N</td>\n      <td>[Drama, Romance]</td>\n      <td>5.4</td>\n      <td>298.0</td>\n    </tr>\n  </tbody>\n</table>\n</div>"
     },
     "execution_count": 36,
     "metadata": {},
     "output_type": "execute_result"
    }
   ],
   "source": [
    "print(movies.shape)\n",
    "print(movies_imdb.shape)\n",
    "movies_imdb.head(10)"
   ]
  },
  {
   "cell_type": "code",
   "execution_count": 13,
   "metadata": {
    "ExecuteTime": {
     "end_time": "2023-11-06T12:20:48.385688Z",
     "start_time": "2023-11-06T12:20:47.614162Z"
    }
   },
   "outputs": [],
   "source": [
    "characters_raw = pd.read_csv(DATA_FOLDER + \"MovieSummaries/character.metadata.tsv\", sep='\\t')\n",
    "oscars_raw = pd.read_csv(DATA_FOLDER + \"Oscars/the_oscar_award.csv\", sep=',')"
   ]
  },
  {
   "cell_type": "code",
   "execution_count": 14,
   "metadata": {
    "ExecuteTime": {
     "end_time": "2023-11-06T12:20:48.388077Z",
     "start_time": "2023-11-06T12:20:48.385982Z"
    }
   },
   "outputs": [],
   "source": [
    "characters_raw.columns = [\n",
    "    \"wikiID\",\n",
    "    \"fbID\",\n",
    "    \"releaseDate\",\n",
    "    \"characterName\",\n",
    "    \"DOB\",\n",
    "    \"gender\",\n",
    "    \"height\",\n",
    "    \"ethnicity\",\n",
    "    \"name\",\n",
    "    \"ageAtMovieRelease\",\n",
    "    \"fbCharacterMap\",\n",
    "    \"fbCharacterID\",\n",
    "    \"fbActorID\",\n",
    "]"
   ]
  },
  {
   "cell_type": "code",
   "execution_count": 15,
   "metadata": {
    "ExecuteTime": {
     "end_time": "2023-11-06T12:20:48.393068Z",
     "start_time": "2023-11-06T12:20:48.391491Z"
    }
   },
   "outputs": [],
   "source": [
    "oscars_raw = oscars_raw.drop(columns=[\"ceremony\", \"year_ceremony\", \"film\"])\n",
    "oscars_raw.rename(columns={\"year_film\": \"releaseYear\", \"category\": \"oscarCategory\", \"winner\": \"oscarWinner\"},\n",
    "                  inplace=True)"
   ]
  },
  {
   "cell_type": "code",
   "execution_count": 16,
   "metadata": {
    "ExecuteTime": {
     "end_time": "2023-11-06T12:20:48.430494Z",
     "start_time": "2023-11-06T12:20:48.394151Z"
    }
   },
   "outputs": [],
   "source": [
    "characters = characters_raw.copy()\n",
    "oscars = oscars_raw.copy()"
   ]
  },
  {
   "cell_type": "code",
   "execution_count": 17,
   "metadata": {
    "ExecuteTime": {
     "end_time": "2023-11-06T12:20:48.538605Z",
     "start_time": "2023-11-06T12:20:48.458326Z"
    }
   },
   "outputs": [],
   "source": [
    "characters[\"releaseYear\"] = pd.to_datetime(\n",
    "    characters[\"releaseDate\"],\n",
    "    errors=\"coerce\",\n",
    "    yearfirst=True,\n",
    ").dt.year\n",
    "characters[\"releaseMonth\"] = pd.to_datetime(\n",
    "    characters[\"releaseDate\"],\n",
    "    errors=\"coerce\",\n",
    "    yearfirst=True,\n",
    ").dt.month\n",
    "characters.drop(columns=[\"releaseDate\"], inplace=True)"
   ]
  },
  {
   "cell_type": "code",
   "execution_count": 18,
   "metadata": {
    "ExecuteTime": {
     "end_time": "2023-11-06T12:20:48.708205Z",
     "start_time": "2023-11-06T12:20:48.540364Z"
    }
   },
   "outputs": [
    {
     "name": "stdout",
     "output_type": "stream",
     "text": [
      "(450713, 16)\n"
     ]
    },
    {
     "data": {
      "text/html": [
       "<div>\n",
       "<style scoped>\n",
       "    .dataframe tbody tr th:only-of-type {\n",
       "        vertical-align: middle;\n",
       "    }\n",
       "\n",
       "    .dataframe tbody tr th {\n",
       "        vertical-align: top;\n",
       "    }\n",
       "\n",
       "    .dataframe thead th {\n",
       "        text-align: right;\n",
       "    }\n",
       "</style>\n",
       "<table border=\"1\" class=\"dataframe\">\n",
       "  <thead>\n",
       "    <tr style=\"text-align: right;\">\n",
       "      <th></th>\n",
       "      <th>wikiID</th>\n",
       "      <th>fbID</th>\n",
       "      <th>characterName</th>\n",
       "      <th>DOB</th>\n",
       "      <th>gender</th>\n",
       "      <th>height</th>\n",
       "      <th>ethnicity</th>\n",
       "      <th>name</th>\n",
       "      <th>ageAtMovieRelease</th>\n",
       "      <th>fbCharacterMap</th>\n",
       "      <th>fbCharacterID</th>\n",
       "      <th>fbActorID</th>\n",
       "      <th>releaseYear</th>\n",
       "      <th>releaseMonth</th>\n",
       "      <th>oscarCategory</th>\n",
       "      <th>oscarWinner</th>\n",
       "    </tr>\n",
       "  </thead>\n",
       "  <tbody>\n",
       "    <tr>\n",
       "      <th>0</th>\n",
       "      <td>975900</td>\n",
       "      <td>/m/03vyhn</td>\n",
       "      <td>Lieutenant Melanie Ballard</td>\n",
       "      <td>1974-08-15</td>\n",
       "      <td>F</td>\n",
       "      <td>1.780</td>\n",
       "      <td>/m/044038p</td>\n",
       "      <td>Natasha Henstridge</td>\n",
       "      <td>27.0</td>\n",
       "      <td>/m/0jys3m</td>\n",
       "      <td>/m/0bgchn4</td>\n",
       "      <td>/m/0346l4</td>\n",
       "      <td>2001.0</td>\n",
       "      <td>8.0</td>\n",
       "      <td>NaN</td>\n",
       "      <td>NaN</td>\n",
       "    </tr>\n",
       "    <tr>\n",
       "      <th>1</th>\n",
       "      <td>975900</td>\n",
       "      <td>/m/03vyhn</td>\n",
       "      <td>Desolation Williams</td>\n",
       "      <td>1969-06-15</td>\n",
       "      <td>M</td>\n",
       "      <td>1.727</td>\n",
       "      <td>/m/0x67</td>\n",
       "      <td>Ice Cube</td>\n",
       "      <td>32.0</td>\n",
       "      <td>/m/0jys3g</td>\n",
       "      <td>/m/0bgchn_</td>\n",
       "      <td>/m/01vw26l</td>\n",
       "      <td>2001.0</td>\n",
       "      <td>8.0</td>\n",
       "      <td>NaN</td>\n",
       "      <td>NaN</td>\n",
       "    </tr>\n",
       "    <tr>\n",
       "      <th>2</th>\n",
       "      <td>975900</td>\n",
       "      <td>/m/03vyhn</td>\n",
       "      <td>Sgt Jericho Butler</td>\n",
       "      <td>1967-09-12</td>\n",
       "      <td>M</td>\n",
       "      <td>1.750</td>\n",
       "      <td>NaN</td>\n",
       "      <td>Jason Statham</td>\n",
       "      <td>33.0</td>\n",
       "      <td>/m/02vchl6</td>\n",
       "      <td>/m/0bgchnq</td>\n",
       "      <td>/m/034hyc</td>\n",
       "      <td>2001.0</td>\n",
       "      <td>8.0</td>\n",
       "      <td>NaN</td>\n",
       "      <td>NaN</td>\n",
       "    </tr>\n",
       "    <tr>\n",
       "      <th>3</th>\n",
       "      <td>975900</td>\n",
       "      <td>/m/03vyhn</td>\n",
       "      <td>Bashira Kincaid</td>\n",
       "      <td>1977-09-25</td>\n",
       "      <td>F</td>\n",
       "      <td>1.650</td>\n",
       "      <td>NaN</td>\n",
       "      <td>Clea DuVall</td>\n",
       "      <td>23.0</td>\n",
       "      <td>/m/02vbb3r</td>\n",
       "      <td>/m/0bgchp9</td>\n",
       "      <td>/m/01y9xg</td>\n",
       "      <td>2001.0</td>\n",
       "      <td>8.0</td>\n",
       "      <td>NaN</td>\n",
       "      <td>NaN</td>\n",
       "    </tr>\n",
       "    <tr>\n",
       "      <th>4</th>\n",
       "      <td>975900</td>\n",
       "      <td>/m/03vyhn</td>\n",
       "      <td>Commander Helena Braddock</td>\n",
       "      <td>1949-05-26</td>\n",
       "      <td>F</td>\n",
       "      <td>1.727</td>\n",
       "      <td>/m/0x67</td>\n",
       "      <td>Pam Grier</td>\n",
       "      <td>52.0</td>\n",
       "      <td>/m/02vdcfp</td>\n",
       "      <td>/m/0bgchnd</td>\n",
       "      <td>/m/0418ft</td>\n",
       "      <td>2001.0</td>\n",
       "      <td>8.0</td>\n",
       "      <td>NaN</td>\n",
       "      <td>NaN</td>\n",
       "    </tr>\n",
       "    <tr>\n",
       "      <th>5</th>\n",
       "      <td>975900</td>\n",
       "      <td>/m/03vyhn</td>\n",
       "      <td>Whitlock</td>\n",
       "      <td>1945-08-02</td>\n",
       "      <td>F</td>\n",
       "      <td>1.753</td>\n",
       "      <td>NaN</td>\n",
       "      <td>Joanna Cassidy</td>\n",
       "      <td>56.0</td>\n",
       "      <td>/m/02vd6kw</td>\n",
       "      <td>/m/0bgchmx</td>\n",
       "      <td>/m/06lj1m</td>\n",
       "      <td>2001.0</td>\n",
       "      <td>8.0</td>\n",
       "      <td>NaN</td>\n",
       "      <td>NaN</td>\n",
       "    </tr>\n",
       "    <tr>\n",
       "      <th>6</th>\n",
       "      <td>975900</td>\n",
       "      <td>/m/03vyhn</td>\n",
       "      <td>Big Daddy Mars</td>\n",
       "      <td>NaN</td>\n",
       "      <td>M</td>\n",
       "      <td>NaN</td>\n",
       "      <td>NaN</td>\n",
       "      <td>Richard Cetrone</td>\n",
       "      <td>NaN</td>\n",
       "      <td>/m/0bgchsy</td>\n",
       "      <td>/m/0bgcht0</td>\n",
       "      <td>/m/0bgcht7</td>\n",
       "      <td>2001.0</td>\n",
       "      <td>8.0</td>\n",
       "      <td>NaN</td>\n",
       "      <td>NaN</td>\n",
       "    </tr>\n",
       "    <tr>\n",
       "      <th>7</th>\n",
       "      <td>975900</td>\n",
       "      <td>/m/03vyhn</td>\n",
       "      <td>Michael Descanso</td>\n",
       "      <td>1971-03-20</td>\n",
       "      <td>M</td>\n",
       "      <td>1.892</td>\n",
       "      <td>NaN</td>\n",
       "      <td>Liam Waite</td>\n",
       "      <td>30.0</td>\n",
       "      <td>/m/03jqhb0</td>\n",
       "      <td>/m/0bgchs4</td>\n",
       "      <td>/m/0ks8b0</td>\n",
       "      <td>2001.0</td>\n",
       "      <td>8.0</td>\n",
       "      <td>NaN</td>\n",
       "      <td>NaN</td>\n",
       "    </tr>\n",
       "    <tr>\n",
       "      <th>8</th>\n",
       "      <td>975900</td>\n",
       "      <td>/m/03vyhn</td>\n",
       "      <td>Uno</td>\n",
       "      <td>NaN</td>\n",
       "      <td>M</td>\n",
       "      <td>NaN</td>\n",
       "      <td>NaN</td>\n",
       "      <td>Duane Davis</td>\n",
       "      <td>NaN</td>\n",
       "      <td>/m/0bgchtj</td>\n",
       "      <td>/m/0bgchtm</td>\n",
       "      <td>/m/03nrwdy</td>\n",
       "      <td>2001.0</td>\n",
       "      <td>8.0</td>\n",
       "      <td>NaN</td>\n",
       "      <td>NaN</td>\n",
       "    </tr>\n",
       "    <tr>\n",
       "      <th>9</th>\n",
       "      <td>975900</td>\n",
       "      <td>/m/03vyhn</td>\n",
       "      <td>Dos</td>\n",
       "      <td>NaN</td>\n",
       "      <td>M</td>\n",
       "      <td>NaN</td>\n",
       "      <td>NaN</td>\n",
       "      <td>Lobo Sebastian</td>\n",
       "      <td>NaN</td>\n",
       "      <td>/m/0bgchsc</td>\n",
       "      <td>/m/0bgchsg</td>\n",
       "      <td>/m/0bgchsp</td>\n",
       "      <td>2001.0</td>\n",
       "      <td>8.0</td>\n",
       "      <td>NaN</td>\n",
       "      <td>NaN</td>\n",
       "    </tr>\n",
       "  </tbody>\n",
       "</table>\n",
       "</div>"
      ],
      "text/plain": [
       "   wikiID       fbID               characterName         DOB gender  height  \\\n",
       "0  975900  /m/03vyhn  Lieutenant Melanie Ballard  1974-08-15      F   1.780   \n",
       "1  975900  /m/03vyhn         Desolation Williams  1969-06-15      M   1.727   \n",
       "2  975900  /m/03vyhn          Sgt Jericho Butler  1967-09-12      M   1.750   \n",
       "3  975900  /m/03vyhn             Bashira Kincaid  1977-09-25      F   1.650   \n",
       "4  975900  /m/03vyhn   Commander Helena Braddock  1949-05-26      F   1.727   \n",
       "5  975900  /m/03vyhn                    Whitlock  1945-08-02      F   1.753   \n",
       "6  975900  /m/03vyhn              Big Daddy Mars         NaN      M     NaN   \n",
       "7  975900  /m/03vyhn            Michael Descanso  1971-03-20      M   1.892   \n",
       "8  975900  /m/03vyhn                         Uno         NaN      M     NaN   \n",
       "9  975900  /m/03vyhn                         Dos         NaN      M     NaN   \n",
       "\n",
       "    ethnicity                name  ageAtMovieRelease fbCharacterMap  \\\n",
       "0  /m/044038p  Natasha Henstridge               27.0      /m/0jys3m   \n",
       "1     /m/0x67            Ice Cube               32.0      /m/0jys3g   \n",
       "2         NaN       Jason Statham               33.0     /m/02vchl6   \n",
       "3         NaN         Clea DuVall               23.0     /m/02vbb3r   \n",
       "4     /m/0x67           Pam Grier               52.0     /m/02vdcfp   \n",
       "5         NaN      Joanna Cassidy               56.0     /m/02vd6kw   \n",
       "6         NaN     Richard Cetrone                NaN     /m/0bgchsy   \n",
       "7         NaN          Liam Waite               30.0     /m/03jqhb0   \n",
       "8         NaN         Duane Davis                NaN     /m/0bgchtj   \n",
       "9         NaN      Lobo Sebastian                NaN     /m/0bgchsc   \n",
       "\n",
       "  fbCharacterID   fbActorID  releaseYear  releaseMonth oscarCategory  \\\n",
       "0    /m/0bgchn4   /m/0346l4       2001.0           8.0           NaN   \n",
       "1    /m/0bgchn_  /m/01vw26l       2001.0           8.0           NaN   \n",
       "2    /m/0bgchnq   /m/034hyc       2001.0           8.0           NaN   \n",
       "3    /m/0bgchp9   /m/01y9xg       2001.0           8.0           NaN   \n",
       "4    /m/0bgchnd   /m/0418ft       2001.0           8.0           NaN   \n",
       "5    /m/0bgchmx   /m/06lj1m       2001.0           8.0           NaN   \n",
       "6    /m/0bgcht0  /m/0bgcht7       2001.0           8.0           NaN   \n",
       "7    /m/0bgchs4   /m/0ks8b0       2001.0           8.0           NaN   \n",
       "8    /m/0bgchtm  /m/03nrwdy       2001.0           8.0           NaN   \n",
       "9    /m/0bgchsg  /m/0bgchsp       2001.0           8.0           NaN   \n",
       "\n",
       "  oscarWinner  \n",
       "0         NaN  \n",
       "1         NaN  \n",
       "2         NaN  \n",
       "3         NaN  \n",
       "4         NaN  \n",
       "5         NaN  \n",
       "6         NaN  \n",
       "7         NaN  \n",
       "8         NaN  \n",
       "9         NaN  "
      ]
     },
     "execution_count": 18,
     "metadata": {},
     "output_type": "execute_result"
    }
   ],
   "source": [
    "characters_oscars = pd.merge(characters, oscars, on=[\"name\", 'releaseYear'], how=\"left\")\n",
    "print(characters_oscars.shape)\n",
    "characters_oscars.head(10)"
   ]
  },
  {
   "cell_type": "code",
   "execution_count": 37,
   "metadata": {
    "ExecuteTime": {
     "end_time": "2023-11-12T22:41:58.048665Z",
     "start_time": "2023-11-12T22:41:57.474410Z"
    }
   },
   "outputs": [],
   "source": [
    "budget_raw = pd.read_csv(\n",
    "    DATA_FOLDER + \"Budget/movies_metadata.csv.zip\",\n",
    "    compression=\"zip\",\n",
    ")"
   ]
  },
  {
   "cell_type": "code",
   "execution_count": 38,
   "metadata": {
    "ExecuteTime": {
     "end_time": "2023-11-12T22:41:58.512430Z",
     "start_time": "2023-11-12T22:41:58.494265Z"
    }
   },
   "outputs": [],
   "source": [
    "budget = budget_raw[\n",
    "    [\n",
    "        \"budget\",\n",
    "        \"imdb_id\",\n",
    "        \"original_title\",\n",
    "        \"popularity\",\n",
    "        \"revenue\",\n",
    "        \"vote_average\",\n",
    "        \"vote_count\",\n",
    "        \"release_date\",\n",
    "    ]\n",
    "].copy()"
   ]
  },
  {
   "cell_type": "code",
   "execution_count": 39,
   "metadata": {
    "ExecuteTime": {
     "end_time": "2023-11-12T22:41:59.024988Z",
     "start_time": "2023-11-12T22:41:59.001495Z"
    }
   },
   "outputs": [],
   "source": [
    "budget.columns = [\n",
    "    \"budget\",\n",
    "    \"imdbID\",\n",
    "    \"name\",\n",
    "    \"popularity\",\n",
    "    \"revenue\",\n",
    "    \"voteAverage\",\n",
    "    \"voteCount\",\n",
    "    \"releaseDate\",\n",
    "]"
   ]
  },
  {
   "cell_type": "code",
   "execution_count": 40,
   "metadata": {
    "ExecuteTime": {
     "end_time": "2023-11-12T22:42:00.114855Z",
     "start_time": "2023-11-12T22:42:00.098677Z"
    }
   },
   "outputs": [],
   "source": [
    "budget.drop(columns=[\"releaseDate\", \"name\", \"revenue\", \"voteAverage\", \"voteCount\"], inplace=True)"
   ]
  },
  {
   "cell_type": "code",
   "execution_count": 41,
   "metadata": {
    "collapsed": false,
    "ExecuteTime": {
     "end_time": "2023-11-12T22:42:00.851465Z",
     "start_time": "2023-11-12T22:42:00.826040Z"
    }
   },
   "outputs": [],
   "source": [
    "budget[\"budget\"] = pd.to_numeric(budget[\"budget\"], errors=\"coerce\")"
   ]
  },
  {
   "cell_type": "code",
   "execution_count": 42,
   "metadata": {
    "ExecuteTime": {
     "end_time": "2023-11-12T22:42:01.628767Z",
     "start_time": "2023-11-12T22:42:01.609948Z"
    }
   },
   "outputs": [
    {
     "data": {
      "text/plain": "       budget     imdbID popularity\n0  30000000.0  tt0114709  21.946943\n1  65000000.0  tt0113497  17.015539\n2         0.0  tt0113228    11.7129\n3  16000000.0  tt0114885   3.859495\n4         0.0  tt0113041   8.387519",
      "text/html": "<div>\n<style scoped>\n    .dataframe tbody tr th:only-of-type {\n        vertical-align: middle;\n    }\n\n    .dataframe tbody tr th {\n        vertical-align: top;\n    }\n\n    .dataframe thead th {\n        text-align: right;\n    }\n</style>\n<table border=\"1\" class=\"dataframe\">\n  <thead>\n    <tr style=\"text-align: right;\">\n      <th></th>\n      <th>budget</th>\n      <th>imdbID</th>\n      <th>popularity</th>\n    </tr>\n  </thead>\n  <tbody>\n    <tr>\n      <th>0</th>\n      <td>30000000.0</td>\n      <td>tt0114709</td>\n      <td>21.946943</td>\n    </tr>\n    <tr>\n      <th>1</th>\n      <td>65000000.0</td>\n      <td>tt0113497</td>\n      <td>17.015539</td>\n    </tr>\n    <tr>\n      <th>2</th>\n      <td>0.0</td>\n      <td>tt0113228</td>\n      <td>11.7129</td>\n    </tr>\n    <tr>\n      <th>3</th>\n      <td>16000000.0</td>\n      <td>tt0114885</td>\n      <td>3.859495</td>\n    </tr>\n    <tr>\n      <th>4</th>\n      <td>0.0</td>\n      <td>tt0113041</td>\n      <td>8.387519</td>\n    </tr>\n  </tbody>\n</table>\n</div>"
     },
     "execution_count": 42,
     "metadata": {},
     "output_type": "execute_result"
    }
   ],
   "source": [
    "budget.head()"
   ]
  },
  {
   "cell_type": "code",
   "execution_count": 43,
   "metadata": {
    "ExecuteTime": {
     "end_time": "2023-11-12T22:42:05.595088Z",
     "start_time": "2023-11-12T22:42:05.575687Z"
    }
   },
   "outputs": [
    {
     "name": "stdout",
     "output_type": "stream",
     "text": [
      "17\n",
      "(45449, 3)\n"
     ]
    }
   ],
   "source": [
    "# remove imdbID nan entries to avoid issues when merging\n",
    "print(budget.imdbID.isnull().sum())\n",
    "budget.dropna(subset=['imdbID'], inplace=True)\n",
    "print(budget.shape)"
   ]
  },
  {
   "cell_type": "code",
   "execution_count": 44,
   "metadata": {
    "collapsed": false,
    "ExecuteTime": {
     "end_time": "2023-11-12T22:42:08.208690Z",
     "start_time": "2023-11-12T22:42:08.187803Z"
    }
   },
   "outputs": [
    {
     "name": "stdout",
     "output_type": "stream",
     "text": [
      "32\n",
      "(45417, 3)\n"
     ]
    }
   ],
   "source": [
    "# remove duplicate imdbID entries\n",
    "print(budget.imdbID.duplicated().sum())\n",
    "budget.drop_duplicates(subset='imdbID', inplace=True)\n",
    "print(budget.shape)"
   ]
  },
  {
   "cell_type": "code",
   "execution_count": 45,
   "metadata": {
    "ExecuteTime": {
     "end_time": "2023-11-12T22:42:09.860577Z",
     "start_time": "2023-11-12T22:42:09.844080Z"
    }
   },
   "outputs": [
    {
     "name": "stdout",
     "output_type": "stream",
     "text": [
      "36538\n"
     ]
    }
   ],
   "source": [
    "# replace all zero budget entries to nan\n",
    "print((budget['budget'] == 0).sum())\n",
    "budget.loc[budget['budget'] == 0, 'budget'] = np.nan"
   ]
  },
  {
   "cell_type": "code",
   "execution_count": 46,
   "metadata": {
    "collapsed": false,
    "ExecuteTime": {
     "end_time": "2023-11-12T22:42:13.097777Z",
     "start_time": "2023-11-12T22:42:13.063986Z"
    }
   },
   "outputs": [
    {
     "name": "stdout",
     "output_type": "stream",
     "text": [
      "19159\n"
     ]
    },
    {
     "data": {
      "text/plain": "5121"
     },
     "execution_count": 46,
     "metadata": {},
     "output_type": "execute_result"
    }
   ],
   "source": [
    "# check imdbID matches\n",
    "print(budget['imdbID'].isin(movies_imdb['imdbID']).sum())\n",
    "# check how many movies we can populate with budget data\n",
    "budget.loc[budget['imdbID'].isin(movies_imdb['imdbID']), 'budget'].notnull().sum()"
   ]
  },
  {
   "cell_type": "code",
   "execution_count": 47,
   "metadata": {
    "collapsed": false,
    "ExecuteTime": {
     "end_time": "2023-11-12T22:42:21.171238Z",
     "start_time": "2023-11-12T22:42:21.152356Z"
    }
   },
   "outputs": [
    {
     "data": {
      "text/plain": "       budget     imdbID popularity\n0  30000000.0  tt0114709  21.946943\n1  65000000.0  tt0113497  17.015539\n2         NaN  tt0113228    11.7129\n3  16000000.0  tt0114885   3.859495\n4         NaN  tt0113041   8.387519\n5  60000000.0  tt0113277  17.924927\n6  58000000.0  tt0114319   6.677277\n7         NaN  tt0112302   2.561161\n8  35000000.0  tt0114576    5.23158\n9  58000000.0  tt0113189  14.686036",
      "text/html": "<div>\n<style scoped>\n    .dataframe tbody tr th:only-of-type {\n        vertical-align: middle;\n    }\n\n    .dataframe tbody tr th {\n        vertical-align: top;\n    }\n\n    .dataframe thead th {\n        text-align: right;\n    }\n</style>\n<table border=\"1\" class=\"dataframe\">\n  <thead>\n    <tr style=\"text-align: right;\">\n      <th></th>\n      <th>budget</th>\n      <th>imdbID</th>\n      <th>popularity</th>\n    </tr>\n  </thead>\n  <tbody>\n    <tr>\n      <th>0</th>\n      <td>30000000.0</td>\n      <td>tt0114709</td>\n      <td>21.946943</td>\n    </tr>\n    <tr>\n      <th>1</th>\n      <td>65000000.0</td>\n      <td>tt0113497</td>\n      <td>17.015539</td>\n    </tr>\n    <tr>\n      <th>2</th>\n      <td>NaN</td>\n      <td>tt0113228</td>\n      <td>11.7129</td>\n    </tr>\n    <tr>\n      <th>3</th>\n      <td>16000000.0</td>\n      <td>tt0114885</td>\n      <td>3.859495</td>\n    </tr>\n    <tr>\n      <th>4</th>\n      <td>NaN</td>\n      <td>tt0113041</td>\n      <td>8.387519</td>\n    </tr>\n    <tr>\n      <th>5</th>\n      <td>60000000.0</td>\n      <td>tt0113277</td>\n      <td>17.924927</td>\n    </tr>\n    <tr>\n      <th>6</th>\n      <td>58000000.0</td>\n      <td>tt0114319</td>\n      <td>6.677277</td>\n    </tr>\n    <tr>\n      <th>7</th>\n      <td>NaN</td>\n      <td>tt0112302</td>\n      <td>2.561161</td>\n    </tr>\n    <tr>\n      <th>8</th>\n      <td>35000000.0</td>\n      <td>tt0114576</td>\n      <td>5.23158</td>\n    </tr>\n    <tr>\n      <th>9</th>\n      <td>58000000.0</td>\n      <td>tt0113189</td>\n      <td>14.686036</td>\n    </tr>\n  </tbody>\n</table>\n</div>"
     },
     "execution_count": 47,
     "metadata": {},
     "output_type": "execute_result"
    }
   ],
   "source": [
    "budget.head(10)"
   ]
  },
  {
   "cell_type": "code",
   "execution_count": 48,
   "metadata": {
    "ExecuteTime": {
     "end_time": "2023-11-12T22:42:28.761946Z",
     "start_time": "2023-11-12T22:42:28.715614Z"
    }
   },
   "outputs": [
    {
     "data": {
      "text/plain": "(81626, 20)"
     },
     "execution_count": 48,
     "metadata": {},
     "output_type": "execute_result"
    }
   ],
   "source": [
    "movies_imdb = pd.merge(movies_imdb, budget, on='imdbID', how='left')\n",
    "movies_imdb.shape"
   ]
  },
  {
   "cell_type": "code",
   "execution_count": 49,
   "metadata": {
    "collapsed": false,
    "ExecuteTime": {
     "end_time": "2023-11-12T22:42:33.070348Z",
     "start_time": "2023-11-12T22:42:32.568268Z"
    }
   },
   "outputs": [],
   "source": [
    "# save preprocessed dataframe to csv\n",
    "movies_imdb.to_csv(DATA_FOLDER + \"movies_imdb.csv\", index=False)"
   ]
  },
  {
   "cell_type": "code",
   "execution_count": 50,
   "metadata": {
    "collapsed": false,
    "ExecuteTime": {
     "end_time": "2023-11-12T22:42:36.393449Z",
     "start_time": "2023-11-12T22:42:34.656721Z"
    }
   },
   "outputs": [
    {
     "data": {
      "text/plain": "     wikiID        fbID                                               name  \\\n0   3196793   /m/08yl5d  getting away with murder the jonbenet ramsey m...   \n1  28463795  /m/0crgdbh                                        brun bitter   \n2   9363483  /m/0285_cd                                   white of the eye   \n3    261236   /m/01mrr1                                  a woman in flames   \n4  13696889  /m/03cfc81                                      the gangsters   \n5  18998739  /m/04jcqvw                           the sorcerers apprentice   \n6  10408933  /m/02qc0j7                            alexanders ragtime band   \n7   9997961  /m/06_y2j7                                     contigo y aqui   \n8   2345652   /m/075f66                                   city of the dead   \n9    175026   /m/017n1p                                      sarah and son   \n\n   boxOffice  runtime                        languages  \\\n0        NaN     95.0               [English Language]   \n1        NaN     83.0             [Norwegian Language]   \n2        NaN    110.0               [English Language]   \n3        NaN    106.0                [German Language]   \n4        NaN     35.0  [Silent film, English Language]   \n5        NaN     86.0               [English Language]   \n6  3600000.0    106.0               [English Language]   \n7        NaN     70.0               [Spanish Language]   \n8        NaN     76.0               [English Language]   \n9        NaN     86.0               [English Language]   \n\n                    countries  \\\n0  [United States of America]   \n1                    [Norway]   \n2            [United Kingdom]   \n3                   [Germany]   \n4  [United States of America]   \n5              [South Africa]   \n6  [United States of America]   \n7                 [Argentina]   \n8            [United Kingdom]   \n9  [United States of America]   \n\n                                           genresCmu  releaseMonth  \\\n0   [Mystery, Biographical film, Drama, Crime Drama]           2.0   \n1                             [Crime Fiction, Drama]           NaN   \n2  [Thriller, Erotic thriller, Psychological thri...           NaN   \n3                                            [Drama]           NaN   \n4  [Short Film, Silent film, Indie, Black-and-whi...           5.0   \n5    [Family Film, Fantasy, Adventure, World cinema]           NaN   \n6                 [Musical, Comedy, Black-and-white]           8.0   \n7                           [Musical, Drama, Comedy]           NaN   \n8                             [Horror, Supernatural]           NaN   \n9                           [Drama, Black-and-white]           NaN   \n\n   releaseYear     imdbID titleType  \\\n0       2000.0  tt0245916   tvMovie   \n1       1988.0  tt0094806     movie   \n2       1987.0  tt0094320     movie   \n3       1983.0  tt0083949     movie   \n4       1913.0  tt0002894     short   \n5       2002.0        NaN       NaN   \n6       1938.0  tt0029852     movie   \n7       1974.0  tt0200545     movie   \n8       1960.0  tt0053719     movie   \n9       1930.0  tt0021335     movie   \n\n                                       originalTitle  isAdult endYear  \\\n0  Getting Away with Murder: The JonBenet Ramsey ...      0.0      \\N   \n1                                        Brun bitter      0.0      \\N   \n2                                   White of the Eye      0.0      \\N   \n3                                Die flambierte Frau      0.0      \\N   \n4                                      The Gangsters      0.0      \\N   \n5                                                NaN      NaN     NaN   \n6                           Alexander's Ragtime Band      0.0      \\N   \n7                                     Contigo y aquí      0.0      \\N   \n8                               The City of the Dead      0.0      \\N   \n9                                      Sarah and Son      0.0      \\N   \n\n                    genresImdb  averageRating  numVotes     budget  popularity  \n0                      [Drama]            6.0      69.0        NaN         NaN  \n1               [Crime, Drama]            5.6      40.0        NaN         NaN  \n2  [Horror, Mystery, Thriller]            6.1    2885.0        NaN    3.121105  \n3                      [Drama]            6.0     621.0        NaN         NaN  \n4              [Comedy, Short]            6.8      16.0        NaN         NaN  \n5                          NaN            NaN       NaN        NaN         NaN  \n6      [Drama, Music, Musical]            6.8    2264.0  2000000.0    0.632261  \n7     [Comedy, Drama, Musical]            NaN       NaN        NaN         NaN  \n8  [Horror, Mystery, Thriller]            6.7    8261.0        NaN    1.514972  \n9             [Drama, Romance]            5.4     298.0        NaN         NaN  ",
      "text/html": "<div>\n<style scoped>\n    .dataframe tbody tr th:only-of-type {\n        vertical-align: middle;\n    }\n\n    .dataframe tbody tr th {\n        vertical-align: top;\n    }\n\n    .dataframe thead th {\n        text-align: right;\n    }\n</style>\n<table border=\"1\" class=\"dataframe\">\n  <thead>\n    <tr style=\"text-align: right;\">\n      <th></th>\n      <th>wikiID</th>\n      <th>fbID</th>\n      <th>name</th>\n      <th>boxOffice</th>\n      <th>runtime</th>\n      <th>languages</th>\n      <th>countries</th>\n      <th>genresCmu</th>\n      <th>releaseMonth</th>\n      <th>releaseYear</th>\n      <th>imdbID</th>\n      <th>titleType</th>\n      <th>originalTitle</th>\n      <th>isAdult</th>\n      <th>endYear</th>\n      <th>genresImdb</th>\n      <th>averageRating</th>\n      <th>numVotes</th>\n      <th>budget</th>\n      <th>popularity</th>\n    </tr>\n  </thead>\n  <tbody>\n    <tr>\n      <th>0</th>\n      <td>3196793</td>\n      <td>/m/08yl5d</td>\n      <td>getting away with murder the jonbenet ramsey m...</td>\n      <td>NaN</td>\n      <td>95.0</td>\n      <td>[English Language]</td>\n      <td>[United States of America]</td>\n      <td>[Mystery, Biographical film, Drama, Crime Drama]</td>\n      <td>2.0</td>\n      <td>2000.0</td>\n      <td>tt0245916</td>\n      <td>tvMovie</td>\n      <td>Getting Away with Murder: The JonBenet Ramsey ...</td>\n      <td>0.0</td>\n      <td>\\N</td>\n      <td>[Drama]</td>\n      <td>6.0</td>\n      <td>69.0</td>\n      <td>NaN</td>\n      <td>NaN</td>\n    </tr>\n    <tr>\n      <th>1</th>\n      <td>28463795</td>\n      <td>/m/0crgdbh</td>\n      <td>brun bitter</td>\n      <td>NaN</td>\n      <td>83.0</td>\n      <td>[Norwegian Language]</td>\n      <td>[Norway]</td>\n      <td>[Crime Fiction, Drama]</td>\n      <td>NaN</td>\n      <td>1988.0</td>\n      <td>tt0094806</td>\n      <td>movie</td>\n      <td>Brun bitter</td>\n      <td>0.0</td>\n      <td>\\N</td>\n      <td>[Crime, Drama]</td>\n      <td>5.6</td>\n      <td>40.0</td>\n      <td>NaN</td>\n      <td>NaN</td>\n    </tr>\n    <tr>\n      <th>2</th>\n      <td>9363483</td>\n      <td>/m/0285_cd</td>\n      <td>white of the eye</td>\n      <td>NaN</td>\n      <td>110.0</td>\n      <td>[English Language]</td>\n      <td>[United Kingdom]</td>\n      <td>[Thriller, Erotic thriller, Psychological thri...</td>\n      <td>NaN</td>\n      <td>1987.0</td>\n      <td>tt0094320</td>\n      <td>movie</td>\n      <td>White of the Eye</td>\n      <td>0.0</td>\n      <td>\\N</td>\n      <td>[Horror, Mystery, Thriller]</td>\n      <td>6.1</td>\n      <td>2885.0</td>\n      <td>NaN</td>\n      <td>3.121105</td>\n    </tr>\n    <tr>\n      <th>3</th>\n      <td>261236</td>\n      <td>/m/01mrr1</td>\n      <td>a woman in flames</td>\n      <td>NaN</td>\n      <td>106.0</td>\n      <td>[German Language]</td>\n      <td>[Germany]</td>\n      <td>[Drama]</td>\n      <td>NaN</td>\n      <td>1983.0</td>\n      <td>tt0083949</td>\n      <td>movie</td>\n      <td>Die flambierte Frau</td>\n      <td>0.0</td>\n      <td>\\N</td>\n      <td>[Drama]</td>\n      <td>6.0</td>\n      <td>621.0</td>\n      <td>NaN</td>\n      <td>NaN</td>\n    </tr>\n    <tr>\n      <th>4</th>\n      <td>13696889</td>\n      <td>/m/03cfc81</td>\n      <td>the gangsters</td>\n      <td>NaN</td>\n      <td>35.0</td>\n      <td>[Silent film, English Language]</td>\n      <td>[United States of America]</td>\n      <td>[Short Film, Silent film, Indie, Black-and-whi...</td>\n      <td>5.0</td>\n      <td>1913.0</td>\n      <td>tt0002894</td>\n      <td>short</td>\n      <td>The Gangsters</td>\n      <td>0.0</td>\n      <td>\\N</td>\n      <td>[Comedy, Short]</td>\n      <td>6.8</td>\n      <td>16.0</td>\n      <td>NaN</td>\n      <td>NaN</td>\n    </tr>\n    <tr>\n      <th>5</th>\n      <td>18998739</td>\n      <td>/m/04jcqvw</td>\n      <td>the sorcerers apprentice</td>\n      <td>NaN</td>\n      <td>86.0</td>\n      <td>[English Language]</td>\n      <td>[South Africa]</td>\n      <td>[Family Film, Fantasy, Adventure, World cinema]</td>\n      <td>NaN</td>\n      <td>2002.0</td>\n      <td>NaN</td>\n      <td>NaN</td>\n      <td>NaN</td>\n      <td>NaN</td>\n      <td>NaN</td>\n      <td>NaN</td>\n      <td>NaN</td>\n      <td>NaN</td>\n      <td>NaN</td>\n      <td>NaN</td>\n    </tr>\n    <tr>\n      <th>6</th>\n      <td>10408933</td>\n      <td>/m/02qc0j7</td>\n      <td>alexanders ragtime band</td>\n      <td>3600000.0</td>\n      <td>106.0</td>\n      <td>[English Language]</td>\n      <td>[United States of America]</td>\n      <td>[Musical, Comedy, Black-and-white]</td>\n      <td>8.0</td>\n      <td>1938.0</td>\n      <td>tt0029852</td>\n      <td>movie</td>\n      <td>Alexander's Ragtime Band</td>\n      <td>0.0</td>\n      <td>\\N</td>\n      <td>[Drama, Music, Musical]</td>\n      <td>6.8</td>\n      <td>2264.0</td>\n      <td>2000000.0</td>\n      <td>0.632261</td>\n    </tr>\n    <tr>\n      <th>7</th>\n      <td>9997961</td>\n      <td>/m/06_y2j7</td>\n      <td>contigo y aqui</td>\n      <td>NaN</td>\n      <td>70.0</td>\n      <td>[Spanish Language]</td>\n      <td>[Argentina]</td>\n      <td>[Musical, Drama, Comedy]</td>\n      <td>NaN</td>\n      <td>1974.0</td>\n      <td>tt0200545</td>\n      <td>movie</td>\n      <td>Contigo y aquí</td>\n      <td>0.0</td>\n      <td>\\N</td>\n      <td>[Comedy, Drama, Musical]</td>\n      <td>NaN</td>\n      <td>NaN</td>\n      <td>NaN</td>\n      <td>NaN</td>\n    </tr>\n    <tr>\n      <th>8</th>\n      <td>2345652</td>\n      <td>/m/075f66</td>\n      <td>city of the dead</td>\n      <td>NaN</td>\n      <td>76.0</td>\n      <td>[English Language]</td>\n      <td>[United Kingdom]</td>\n      <td>[Horror, Supernatural]</td>\n      <td>NaN</td>\n      <td>1960.0</td>\n      <td>tt0053719</td>\n      <td>movie</td>\n      <td>The City of the Dead</td>\n      <td>0.0</td>\n      <td>\\N</td>\n      <td>[Horror, Mystery, Thriller]</td>\n      <td>6.7</td>\n      <td>8261.0</td>\n      <td>NaN</td>\n      <td>1.514972</td>\n    </tr>\n    <tr>\n      <th>9</th>\n      <td>175026</td>\n      <td>/m/017n1p</td>\n      <td>sarah and son</td>\n      <td>NaN</td>\n      <td>86.0</td>\n      <td>[English Language]</td>\n      <td>[United States of America]</td>\n      <td>[Drama, Black-and-white]</td>\n      <td>NaN</td>\n      <td>1930.0</td>\n      <td>tt0021335</td>\n      <td>movie</td>\n      <td>Sarah and Son</td>\n      <td>0.0</td>\n      <td>\\N</td>\n      <td>[Drama, Romance]</td>\n      <td>5.4</td>\n      <td>298.0</td>\n      <td>NaN</td>\n      <td>NaN</td>\n    </tr>\n  </tbody>\n</table>\n</div>"
     },
     "execution_count": 50,
     "metadata": {},
     "output_type": "execute_result"
    }
   ],
   "source": [
    "# retrieve dataframe as such\n",
    "movies_imdb = pd.read_csv(DATA_FOLDER + 'movies_imdb.csv',\n",
    "                          converters={'languages': parse_list, 'countries': parse_list, 'genresCmu': parse_list,\n",
    "                                      'genresImdb': parse_list})\n",
    "movies_imdb.head(10)"
   ]
  }
 ],
 "metadata": {
  "kernelspec": {
   "display_name": "Python 3",
   "language": "python",
   "name": "python3"
  },
  "language_info": {
   "codemirror_mode": {
    "name": "ipython",
    "version": 3
   },
   "file_extension": ".py",
   "mimetype": "text/x-python",
   "name": "python",
   "nbconvert_exporter": "python",
   "pygments_lexer": "ipython3",
   "version": "3.10.7"
  }
 },
 "nbformat": 4,
 "nbformat_minor": 2
}
