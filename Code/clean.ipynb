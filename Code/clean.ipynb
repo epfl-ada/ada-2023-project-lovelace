{
 "cells": [
  {
   "cell_type": "code",
   "execution_count": 202,
   "metadata": {
    "ExecuteTime": {
     "end_time": "2023-11-06T12:20:15.075813Z",
     "start_time": "2023-11-06T12:20:14.989277Z"
    }
   },
   "outputs": [],
   "source": [
    "import pandas as pd\n",
    "import numpy as np\n",
    "import matplotlib.pyplot as plt\n",
    "import seaborn as sns\n",
    "from helpers import *\n",
    "\n",
    "import warnings\n",
    "\n",
    "warnings.filterwarnings(\"ignore\")\n",
    "pd.set_option('display.max_columns', None)\n",
    "plt.rcdefaults()"
   ]
  },
  {
   "cell_type": "code",
   "execution_count": 203,
   "metadata": {
    "ExecuteTime": {
     "end_time": "2023-11-06T12:20:29.078018Z",
     "start_time": "2023-11-06T12:20:14.992167Z"
    }
   },
   "outputs": [],
   "source": [
    "DATA_FOLDER = \"../Data/\"\n",
    "\n",
    "imdb_basics_raw = pd.read_csv(\n",
    "    DATA_FOLDER + \"IMDb/title.basics.tsv.gz\",\n",
    "    sep=\"\\t\",\n",
    "    compression=\"gzip\",\n",
    ")\n",
    "imdb_ratings_raw = pd.read_csv(\n",
    "    DATA_FOLDER + \"IMDb/title.ratings.tsv.gz\",\n",
    "    sep=\"\\t\",\n",
    "    compression=\"gzip\",\n",
    ")\n",
    "movies_raw = pd.read_csv(DATA_FOLDER + \"MovieSummaries/movie.metadata.tsv\", sep=\"\\t\")"
   ]
  },
  {
   "cell_type": "code",
   "execution_count": 204,
   "metadata": {
    "ExecuteTime": {
     "end_time": "2023-11-06T12:20:29.082353Z",
     "start_time": "2023-11-06T12:20:29.078577Z"
    }
   },
   "outputs": [],
   "source": [
    "movies_raw.columns = [\n",
    "    \"wikiID\",\n",
    "    \"fbID\",\n",
    "    \"name\",\n",
    "    \"releaseDate\",\n",
    "    \"boxOffice\",\n",
    "    \"runtime\",\n",
    "    \"languages\",\n",
    "    \"countries\",\n",
    "    \"genres\",\n",
    "]\n",
    "\n",
    "imdb_basics_raw.rename(\n",
    "    columns={\n",
    "        \"primaryTitle\": \"name\",\n",
    "        \"startYear\": \"releaseYear\",\n",
    "        \"runtimeMinutes\": \"runtime\",\n",
    "    },\n",
    "    inplace=True\n",
    ")"
   ]
  },
  {
   "cell_type": "code",
   "execution_count": 205,
   "metadata": {
    "ExecuteTime": {
     "end_time": "2023-11-06T12:20:29.861921Z",
     "start_time": "2023-11-06T12:20:29.080912Z"
    }
   },
   "outputs": [],
   "source": [
    "movies = movies_raw.copy()\n",
    "imdb_basics = imdb_basics_raw.copy()\n",
    "imdb_ratings = imdb_ratings_raw.copy()"
   ]
  },
  {
   "cell_type": "code",
   "execution_count": 206,
   "metadata": {
    "ExecuteTime": {
     "end_time": "2023-11-06T12:20:35.745008Z",
     "start_time": "2023-11-06T12:20:29.860208Z"
    }
   },
   "outputs": [],
   "source": [
    "# Merge both imdb datasets\n",
    "imdb = pd.merge(imdb_basics, imdb_ratings, on='tconst', how='left')\n",
    "imdb.rename(columns={\"tconst\": \"imdbID\"}, inplace=True)"
   ]
  },
  {
   "cell_type": "code",
   "execution_count": 207,
   "metadata": {
    "ExecuteTime": {
     "end_time": "2023-11-06T12:20:37.987919Z",
     "start_time": "2023-11-06T12:20:35.746177Z"
    }
   },
   "outputs": [],
   "source": [
    "imdb[\"releaseYear\"] = pd.to_numeric(imdb[\"releaseYear\"], errors=\"coerce\")\n",
    "\n",
    "movies[\"releaseMonth\"] = pd.to_datetime(\n",
    "    movies[\"releaseDate\"],\n",
    "    errors=\"coerce\",\n",
    ").dt.month\n",
    "\n",
    "movies[\"releaseYear\"] = pd.to_datetime(\n",
    "    movies[\"releaseDate\"], errors=\"coerce\", format=\"mixed\"\n",
    ").dt.year\n",
    "\n",
    "movies.drop(columns=[\"releaseDate\"], inplace=True)"
   ]
  },
  {
   "cell_type": "code",
   "execution_count": 208,
   "metadata": {
    "ExecuteTime": {
     "end_time": "2023-11-06T12:20:41.772806Z",
     "start_time": "2023-11-06T12:20:37.989654Z"
    }
   },
   "outputs": [],
   "source": [
    "movies.drop_duplicates(subset=[\"name\", \"releaseMonth\", \"releaseYear\"], inplace=True)\n",
    "imdb.drop_duplicates(subset=[\"name\", \"releaseYear\"], inplace=True)"
   ]
  },
  {
   "cell_type": "code",
   "execution_count": 209,
   "metadata": {
    "ExecuteTime": {
     "end_time": "2023-11-06T12:20:43.452332Z",
     "start_time": "2023-11-06T12:20:41.773012Z"
    }
   },
   "outputs": [],
   "source": [
    "imdb.runtime = pd.to_numeric(imdb.runtime, errors=\"coerce\")"
   ]
  },
  {
   "cell_type": "code",
   "execution_count": 210,
   "metadata": {
    "ExecuteTime": {
     "end_time": "2023-11-06T12:20:46.102836Z",
     "start_time": "2023-11-06T12:20:43.453659Z"
    }
   },
   "outputs": [],
   "source": [
    "movies_imdb = pd.merge(movies, imdb, how=\"left\", on=[\"name\", \"releaseYear\", \"runtime\"], suffixes=[\"Cmu\", \"Imdb\"])"
   ]
  },
  {
   "cell_type": "code",
   "execution_count": 211,
   "metadata": {
    "collapsed": false,
    "ExecuteTime": {
     "end_time": "2023-11-06T12:20:47.601876Z",
     "start_time": "2023-11-06T12:20:46.160756Z"
    }
   },
   "outputs": [],
   "source": [
    "movies_imdb['languages'] = movies_imdb['languages'].apply(parse_dict)\n",
    "movies_imdb['countries'] = movies_imdb['countries'].apply(parse_dict)\n",
    "movies_imdb['genresCmu'] = movies_imdb['genresCmu'].apply(parse_dict)\n",
    "\n",
    "movies_imdb['genresImdb'] = movies_imdb['genresImdb'].apply(\n",
    "    lambda x: x.split(',') if not isinstance(x, float) else np.nan)"
   ]
  },
  {
   "cell_type": "code",
   "execution_count": 212,
   "metadata": {
    "ExecuteTime": {
     "end_time": "2023-11-06T12:20:47.615487Z",
     "start_time": "2023-11-06T12:20:47.612027Z"
    }
   },
   "outputs": [
    {
     "name": "stdout",
     "output_type": "stream",
     "text": [
      "(81630, 10)\n",
      "(81630, 18)\n"
     ]
    },
    {
     "data": {
      "text/plain": "     wikiID        fbID                                               name  \\\n0   3196793   /m/08yl5d  Getting Away with Murder: The JonBenét Ramsey ...   \n1  28463795  /m/0crgdbh                                        Brun bitter   \n2   9363483  /m/0285_cd                                   White Of The Eye   \n3    261236   /m/01mrr1                                  A Woman in Flames   \n4  13696889  /m/03cfc81                                      The Gangsters   \n5  18998739  /m/04jcqvw                          The Sorcerer's Apprentice   \n6  10408933  /m/02qc0j7                           Alexander's Ragtime Band   \n7   9997961  /m/06_y2j7                                     Contigo y aquí   \n8   2345652   /m/075f66                                   City of the Dead   \n9    175026   /m/017n1p                                      Sarah and Son   \n\n   boxOffice  runtime                        languages  \\\n0        NaN     95.0               [English Language]   \n1        NaN     83.0             [Norwegian Language]   \n2        NaN    110.0               [English Language]   \n3        NaN    106.0                [German Language]   \n4        NaN     35.0  [Silent film, English Language]   \n5        NaN     86.0               [English Language]   \n6  3600000.0    106.0               [English Language]   \n7        NaN      NaN               [Spanish Language]   \n8        NaN     76.0               [English Language]   \n9        NaN     86.0               [English Language]   \n\n                    countries  \\\n0  [United States of America]   \n1                    [Norway]   \n2            [United Kingdom]   \n3                   [Germany]   \n4  [United States of America]   \n5              [South Africa]   \n6  [United States of America]   \n7                 [Argentina]   \n8            [United Kingdom]   \n9  [United States of America]   \n\n                                           genresCmu  releaseMonth  \\\n0   [Mystery, Biographical film, Drama, Crime Drama]           2.0   \n1                             [Crime Fiction, Drama]           NaN   \n2  [Thriller, Erotic thriller, Psychological thri...           NaN   \n3                                            [Drama]           NaN   \n4  [Short Film, Silent film, Indie, Black-and-whi...           5.0   \n5    [Family Film, Fantasy, Adventure, World cinema]           NaN   \n6                 [Musical, Comedy, Black-and-white]           8.0   \n7                           [Musical, Drama, Comedy]           NaN   \n8                             [Horror, Supernatural]           NaN   \n9                           [Drama, Black-and-white]           NaN   \n\n   releaseYear     imdbID titleType             originalTitle isAdult endYear  \\\n0       2000.0        NaN       NaN                       NaN     NaN     NaN   \n1       1988.0  tt0094806     movie               Brun bitter       0      \\N   \n2       1987.0        NaN       NaN                       NaN     NaN     NaN   \n3       1983.0  tt0083949     movie       Die flambierte Frau       0      \\N   \n4       1913.0  tt0002894     short             The Gangsters       0      \\N   \n5       2002.0        NaN       NaN                       NaN     NaN     NaN   \n6       1938.0  tt0029852     movie  Alexander's Ragtime Band       0      \\N   \n7       1974.0        NaN       NaN                       NaN     NaN     NaN   \n8       1960.0        NaN       NaN                       NaN     NaN     NaN   \n9       1930.0  tt0021335     movie             Sarah and Son       0      \\N   \n\n                genresImdb  averageRating  numVotes  \n0                      NaN            NaN       NaN  \n1           [Crime, Drama]            5.6      40.0  \n2                      NaN            NaN       NaN  \n3                  [Drama]            6.0     621.0  \n4          [Comedy, Short]            6.8      16.0  \n5                      NaN            NaN       NaN  \n6  [Drama, Music, Musical]            6.8    2264.0  \n7                      NaN            NaN       NaN  \n8                      NaN            NaN       NaN  \n9         [Drama, Romance]            5.4     298.0  ",
      "text/html": "<div>\n<style scoped>\n    .dataframe tbody tr th:only-of-type {\n        vertical-align: middle;\n    }\n\n    .dataframe tbody tr th {\n        vertical-align: top;\n    }\n\n    .dataframe thead th {\n        text-align: right;\n    }\n</style>\n<table border=\"1\" class=\"dataframe\">\n  <thead>\n    <tr style=\"text-align: right;\">\n      <th></th>\n      <th>wikiID</th>\n      <th>fbID</th>\n      <th>name</th>\n      <th>boxOffice</th>\n      <th>runtime</th>\n      <th>languages</th>\n      <th>countries</th>\n      <th>genresCmu</th>\n      <th>releaseMonth</th>\n      <th>releaseYear</th>\n      <th>imdbID</th>\n      <th>titleType</th>\n      <th>originalTitle</th>\n      <th>isAdult</th>\n      <th>endYear</th>\n      <th>genresImdb</th>\n      <th>averageRating</th>\n      <th>numVotes</th>\n    </tr>\n  </thead>\n  <tbody>\n    <tr>\n      <th>0</th>\n      <td>3196793</td>\n      <td>/m/08yl5d</td>\n      <td>Getting Away with Murder: The JonBenét Ramsey ...</td>\n      <td>NaN</td>\n      <td>95.0</td>\n      <td>[English Language]</td>\n      <td>[United States of America]</td>\n      <td>[Mystery, Biographical film, Drama, Crime Drama]</td>\n      <td>2.0</td>\n      <td>2000.0</td>\n      <td>NaN</td>\n      <td>NaN</td>\n      <td>NaN</td>\n      <td>NaN</td>\n      <td>NaN</td>\n      <td>NaN</td>\n      <td>NaN</td>\n      <td>NaN</td>\n    </tr>\n    <tr>\n      <th>1</th>\n      <td>28463795</td>\n      <td>/m/0crgdbh</td>\n      <td>Brun bitter</td>\n      <td>NaN</td>\n      <td>83.0</td>\n      <td>[Norwegian Language]</td>\n      <td>[Norway]</td>\n      <td>[Crime Fiction, Drama]</td>\n      <td>NaN</td>\n      <td>1988.0</td>\n      <td>tt0094806</td>\n      <td>movie</td>\n      <td>Brun bitter</td>\n      <td>0</td>\n      <td>\\N</td>\n      <td>[Crime, Drama]</td>\n      <td>5.6</td>\n      <td>40.0</td>\n    </tr>\n    <tr>\n      <th>2</th>\n      <td>9363483</td>\n      <td>/m/0285_cd</td>\n      <td>White Of The Eye</td>\n      <td>NaN</td>\n      <td>110.0</td>\n      <td>[English Language]</td>\n      <td>[United Kingdom]</td>\n      <td>[Thriller, Erotic thriller, Psychological thri...</td>\n      <td>NaN</td>\n      <td>1987.0</td>\n      <td>NaN</td>\n      <td>NaN</td>\n      <td>NaN</td>\n      <td>NaN</td>\n      <td>NaN</td>\n      <td>NaN</td>\n      <td>NaN</td>\n      <td>NaN</td>\n    </tr>\n    <tr>\n      <th>3</th>\n      <td>261236</td>\n      <td>/m/01mrr1</td>\n      <td>A Woman in Flames</td>\n      <td>NaN</td>\n      <td>106.0</td>\n      <td>[German Language]</td>\n      <td>[Germany]</td>\n      <td>[Drama]</td>\n      <td>NaN</td>\n      <td>1983.0</td>\n      <td>tt0083949</td>\n      <td>movie</td>\n      <td>Die flambierte Frau</td>\n      <td>0</td>\n      <td>\\N</td>\n      <td>[Drama]</td>\n      <td>6.0</td>\n      <td>621.0</td>\n    </tr>\n    <tr>\n      <th>4</th>\n      <td>13696889</td>\n      <td>/m/03cfc81</td>\n      <td>The Gangsters</td>\n      <td>NaN</td>\n      <td>35.0</td>\n      <td>[Silent film, English Language]</td>\n      <td>[United States of America]</td>\n      <td>[Short Film, Silent film, Indie, Black-and-whi...</td>\n      <td>5.0</td>\n      <td>1913.0</td>\n      <td>tt0002894</td>\n      <td>short</td>\n      <td>The Gangsters</td>\n      <td>0</td>\n      <td>\\N</td>\n      <td>[Comedy, Short]</td>\n      <td>6.8</td>\n      <td>16.0</td>\n    </tr>\n    <tr>\n      <th>5</th>\n      <td>18998739</td>\n      <td>/m/04jcqvw</td>\n      <td>The Sorcerer's Apprentice</td>\n      <td>NaN</td>\n      <td>86.0</td>\n      <td>[English Language]</td>\n      <td>[South Africa]</td>\n      <td>[Family Film, Fantasy, Adventure, World cinema]</td>\n      <td>NaN</td>\n      <td>2002.0</td>\n      <td>NaN</td>\n      <td>NaN</td>\n      <td>NaN</td>\n      <td>NaN</td>\n      <td>NaN</td>\n      <td>NaN</td>\n      <td>NaN</td>\n      <td>NaN</td>\n    </tr>\n    <tr>\n      <th>6</th>\n      <td>10408933</td>\n      <td>/m/02qc0j7</td>\n      <td>Alexander's Ragtime Band</td>\n      <td>3600000.0</td>\n      <td>106.0</td>\n      <td>[English Language]</td>\n      <td>[United States of America]</td>\n      <td>[Musical, Comedy, Black-and-white]</td>\n      <td>8.0</td>\n      <td>1938.0</td>\n      <td>tt0029852</td>\n      <td>movie</td>\n      <td>Alexander's Ragtime Band</td>\n      <td>0</td>\n      <td>\\N</td>\n      <td>[Drama, Music, Musical]</td>\n      <td>6.8</td>\n      <td>2264.0</td>\n    </tr>\n    <tr>\n      <th>7</th>\n      <td>9997961</td>\n      <td>/m/06_y2j7</td>\n      <td>Contigo y aquí</td>\n      <td>NaN</td>\n      <td>NaN</td>\n      <td>[Spanish Language]</td>\n      <td>[Argentina]</td>\n      <td>[Musical, Drama, Comedy]</td>\n      <td>NaN</td>\n      <td>1974.0</td>\n      <td>NaN</td>\n      <td>NaN</td>\n      <td>NaN</td>\n      <td>NaN</td>\n      <td>NaN</td>\n      <td>NaN</td>\n      <td>NaN</td>\n      <td>NaN</td>\n    </tr>\n    <tr>\n      <th>8</th>\n      <td>2345652</td>\n      <td>/m/075f66</td>\n      <td>City of the Dead</td>\n      <td>NaN</td>\n      <td>76.0</td>\n      <td>[English Language]</td>\n      <td>[United Kingdom]</td>\n      <td>[Horror, Supernatural]</td>\n      <td>NaN</td>\n      <td>1960.0</td>\n      <td>NaN</td>\n      <td>NaN</td>\n      <td>NaN</td>\n      <td>NaN</td>\n      <td>NaN</td>\n      <td>NaN</td>\n      <td>NaN</td>\n      <td>NaN</td>\n    </tr>\n    <tr>\n      <th>9</th>\n      <td>175026</td>\n      <td>/m/017n1p</td>\n      <td>Sarah and Son</td>\n      <td>NaN</td>\n      <td>86.0</td>\n      <td>[English Language]</td>\n      <td>[United States of America]</td>\n      <td>[Drama, Black-and-white]</td>\n      <td>NaN</td>\n      <td>1930.0</td>\n      <td>tt0021335</td>\n      <td>movie</td>\n      <td>Sarah and Son</td>\n      <td>0</td>\n      <td>\\N</td>\n      <td>[Drama, Romance]</td>\n      <td>5.4</td>\n      <td>298.0</td>\n    </tr>\n  </tbody>\n</table>\n</div>"
     },
     "execution_count": 212,
     "metadata": {},
     "output_type": "execute_result"
    }
   ],
   "source": [
    "print(movies.shape)\n",
    "print(movies_imdb.shape)\n",
    "movies_imdb.head(10)"
   ]
  },
  {
   "cell_type": "code",
   "execution_count": 213,
   "metadata": {
    "ExecuteTime": {
     "end_time": "2023-11-06T12:20:48.385688Z",
     "start_time": "2023-11-06T12:20:47.614162Z"
    }
   },
   "outputs": [],
   "source": [
    "characters_raw = pd.read_csv(DATA_FOLDER + \"MovieSummaries/character.metadata.tsv\", sep='\\t')\n",
    "oscars_raw = pd.read_csv(DATA_FOLDER + \"Oscars/the_oscar_award.csv\", sep=',')"
   ]
  },
  {
   "cell_type": "code",
   "execution_count": 214,
   "metadata": {
    "ExecuteTime": {
     "end_time": "2023-11-06T12:20:48.388077Z",
     "start_time": "2023-11-06T12:20:48.385982Z"
    }
   },
   "outputs": [],
   "source": [
    "characters_raw.columns = [\n",
    "    \"wikiID\",\n",
    "    \"fbID\",\n",
    "    \"releaseDate\",\n",
    "    \"characterName\",\n",
    "    \"DOB\",\n",
    "    \"gender\",\n",
    "    \"height\",\n",
    "    \"ethnicity\",\n",
    "    \"name\",\n",
    "    \"ageAtMovieRelease\",\n",
    "    \"fbCharacterMap\",\n",
    "    \"fbCharacterID\",\n",
    "    \"fbActorID\",\n",
    "]"
   ]
  },
  {
   "cell_type": "code",
   "execution_count": 215,
   "metadata": {
    "ExecuteTime": {
     "end_time": "2023-11-06T12:20:48.393068Z",
     "start_time": "2023-11-06T12:20:48.391491Z"
    }
   },
   "outputs": [],
   "source": [
    "oscars_raw = oscars_raw.drop(columns=[\"ceremony\", \"year_ceremony\", \"film\"])\n",
    "oscars_raw.rename(columns={\"year_film\": \"releaseYear\", \"category\": \"oscarCategory\", \"winner\": \"oscarWinner\"},\n",
    "                  inplace=True)"
   ]
  },
  {
   "cell_type": "code",
   "execution_count": 216,
   "metadata": {
    "ExecuteTime": {
     "end_time": "2023-11-06T12:20:48.430494Z",
     "start_time": "2023-11-06T12:20:48.394151Z"
    }
   },
   "outputs": [],
   "source": [
    "characters = characters_raw.copy()\n",
    "oscars = oscars_raw.copy()"
   ]
  },
  {
   "cell_type": "code",
   "execution_count": 217,
   "metadata": {
    "ExecuteTime": {
     "end_time": "2023-11-06T12:20:48.538605Z",
     "start_time": "2023-11-06T12:20:48.458326Z"
    }
   },
   "outputs": [],
   "source": [
    "characters[\"releaseYear\"] = pd.to_datetime(\n",
    "    characters[\"releaseDate\"],\n",
    "    errors=\"coerce\",\n",
    "    yearfirst=True,\n",
    ").dt.year\n",
    "characters[\"releaseMonth\"] = pd.to_datetime(\n",
    "    characters[\"releaseDate\"],\n",
    "    errors=\"coerce\",\n",
    "    yearfirst=True,\n",
    ").dt.month\n",
    "characters.drop(columns=[\"releaseDate\"], inplace=True)"
   ]
  },
  {
   "cell_type": "code",
   "execution_count": 218,
   "metadata": {
    "ExecuteTime": {
     "end_time": "2023-11-06T12:20:48.708205Z",
     "start_time": "2023-11-06T12:20:48.540364Z"
    }
   },
   "outputs": [
    {
     "name": "stdout",
     "output_type": "stream",
     "text": [
      "(450713, 16)\n"
     ]
    },
    {
     "data": {
      "text/plain": "   wikiID       fbID               characterName         DOB gender  height  \\\n0  975900  /m/03vyhn  Lieutenant Melanie Ballard  1974-08-15      F   1.780   \n1  975900  /m/03vyhn         Desolation Williams  1969-06-15      M   1.727   \n2  975900  /m/03vyhn          Sgt Jericho Butler  1967-09-12      M   1.750   \n3  975900  /m/03vyhn             Bashira Kincaid  1977-09-25      F   1.650   \n4  975900  /m/03vyhn   Commander Helena Braddock  1949-05-26      F   1.727   \n5  975900  /m/03vyhn                    Whitlock  1945-08-02      F   1.753   \n6  975900  /m/03vyhn              Big Daddy Mars         NaN      M     NaN   \n7  975900  /m/03vyhn            Michael Descanso  1971-03-20      M   1.892   \n8  975900  /m/03vyhn                         Uno         NaN      M     NaN   \n9  975900  /m/03vyhn                         Dos         NaN      M     NaN   \n\n    ethnicity                name  ageAtMovieRelease fbCharacterMap  \\\n0  /m/044038p  Natasha Henstridge               27.0      /m/0jys3m   \n1     /m/0x67            Ice Cube               32.0      /m/0jys3g   \n2         NaN       Jason Statham               33.0     /m/02vchl6   \n3         NaN         Clea DuVall               23.0     /m/02vbb3r   \n4     /m/0x67           Pam Grier               52.0     /m/02vdcfp   \n5         NaN      Joanna Cassidy               56.0     /m/02vd6kw   \n6         NaN     Richard Cetrone                NaN     /m/0bgchsy   \n7         NaN          Liam Waite               30.0     /m/03jqhb0   \n8         NaN         Duane Davis                NaN     /m/0bgchtj   \n9         NaN      Lobo Sebastian                NaN     /m/0bgchsc   \n\n  fbCharacterID   fbActorID  releaseYear  releaseMonth oscarCategory  \\\n0    /m/0bgchn4   /m/0346l4       2001.0           8.0           NaN   \n1    /m/0bgchn_  /m/01vw26l       2001.0           8.0           NaN   \n2    /m/0bgchnq   /m/034hyc       2001.0           8.0           NaN   \n3    /m/0bgchp9   /m/01y9xg       2001.0           8.0           NaN   \n4    /m/0bgchnd   /m/0418ft       2001.0           8.0           NaN   \n5    /m/0bgchmx   /m/06lj1m       2001.0           8.0           NaN   \n6    /m/0bgcht0  /m/0bgcht7       2001.0           8.0           NaN   \n7    /m/0bgchs4   /m/0ks8b0       2001.0           8.0           NaN   \n8    /m/0bgchtm  /m/03nrwdy       2001.0           8.0           NaN   \n9    /m/0bgchsg  /m/0bgchsp       2001.0           8.0           NaN   \n\n  oscarWinner  \n0         NaN  \n1         NaN  \n2         NaN  \n3         NaN  \n4         NaN  \n5         NaN  \n6         NaN  \n7         NaN  \n8         NaN  \n9         NaN  ",
      "text/html": "<div>\n<style scoped>\n    .dataframe tbody tr th:only-of-type {\n        vertical-align: middle;\n    }\n\n    .dataframe tbody tr th {\n        vertical-align: top;\n    }\n\n    .dataframe thead th {\n        text-align: right;\n    }\n</style>\n<table border=\"1\" class=\"dataframe\">\n  <thead>\n    <tr style=\"text-align: right;\">\n      <th></th>\n      <th>wikiID</th>\n      <th>fbID</th>\n      <th>characterName</th>\n      <th>DOB</th>\n      <th>gender</th>\n      <th>height</th>\n      <th>ethnicity</th>\n      <th>name</th>\n      <th>ageAtMovieRelease</th>\n      <th>fbCharacterMap</th>\n      <th>fbCharacterID</th>\n      <th>fbActorID</th>\n      <th>releaseYear</th>\n      <th>releaseMonth</th>\n      <th>oscarCategory</th>\n      <th>oscarWinner</th>\n    </tr>\n  </thead>\n  <tbody>\n    <tr>\n      <th>0</th>\n      <td>975900</td>\n      <td>/m/03vyhn</td>\n      <td>Lieutenant Melanie Ballard</td>\n      <td>1974-08-15</td>\n      <td>F</td>\n      <td>1.780</td>\n      <td>/m/044038p</td>\n      <td>Natasha Henstridge</td>\n      <td>27.0</td>\n      <td>/m/0jys3m</td>\n      <td>/m/0bgchn4</td>\n      <td>/m/0346l4</td>\n      <td>2001.0</td>\n      <td>8.0</td>\n      <td>NaN</td>\n      <td>NaN</td>\n    </tr>\n    <tr>\n      <th>1</th>\n      <td>975900</td>\n      <td>/m/03vyhn</td>\n      <td>Desolation Williams</td>\n      <td>1969-06-15</td>\n      <td>M</td>\n      <td>1.727</td>\n      <td>/m/0x67</td>\n      <td>Ice Cube</td>\n      <td>32.0</td>\n      <td>/m/0jys3g</td>\n      <td>/m/0bgchn_</td>\n      <td>/m/01vw26l</td>\n      <td>2001.0</td>\n      <td>8.0</td>\n      <td>NaN</td>\n      <td>NaN</td>\n    </tr>\n    <tr>\n      <th>2</th>\n      <td>975900</td>\n      <td>/m/03vyhn</td>\n      <td>Sgt Jericho Butler</td>\n      <td>1967-09-12</td>\n      <td>M</td>\n      <td>1.750</td>\n      <td>NaN</td>\n      <td>Jason Statham</td>\n      <td>33.0</td>\n      <td>/m/02vchl6</td>\n      <td>/m/0bgchnq</td>\n      <td>/m/034hyc</td>\n      <td>2001.0</td>\n      <td>8.0</td>\n      <td>NaN</td>\n      <td>NaN</td>\n    </tr>\n    <tr>\n      <th>3</th>\n      <td>975900</td>\n      <td>/m/03vyhn</td>\n      <td>Bashira Kincaid</td>\n      <td>1977-09-25</td>\n      <td>F</td>\n      <td>1.650</td>\n      <td>NaN</td>\n      <td>Clea DuVall</td>\n      <td>23.0</td>\n      <td>/m/02vbb3r</td>\n      <td>/m/0bgchp9</td>\n      <td>/m/01y9xg</td>\n      <td>2001.0</td>\n      <td>8.0</td>\n      <td>NaN</td>\n      <td>NaN</td>\n    </tr>\n    <tr>\n      <th>4</th>\n      <td>975900</td>\n      <td>/m/03vyhn</td>\n      <td>Commander Helena Braddock</td>\n      <td>1949-05-26</td>\n      <td>F</td>\n      <td>1.727</td>\n      <td>/m/0x67</td>\n      <td>Pam Grier</td>\n      <td>52.0</td>\n      <td>/m/02vdcfp</td>\n      <td>/m/0bgchnd</td>\n      <td>/m/0418ft</td>\n      <td>2001.0</td>\n      <td>8.0</td>\n      <td>NaN</td>\n      <td>NaN</td>\n    </tr>\n    <tr>\n      <th>5</th>\n      <td>975900</td>\n      <td>/m/03vyhn</td>\n      <td>Whitlock</td>\n      <td>1945-08-02</td>\n      <td>F</td>\n      <td>1.753</td>\n      <td>NaN</td>\n      <td>Joanna Cassidy</td>\n      <td>56.0</td>\n      <td>/m/02vd6kw</td>\n      <td>/m/0bgchmx</td>\n      <td>/m/06lj1m</td>\n      <td>2001.0</td>\n      <td>8.0</td>\n      <td>NaN</td>\n      <td>NaN</td>\n    </tr>\n    <tr>\n      <th>6</th>\n      <td>975900</td>\n      <td>/m/03vyhn</td>\n      <td>Big Daddy Mars</td>\n      <td>NaN</td>\n      <td>M</td>\n      <td>NaN</td>\n      <td>NaN</td>\n      <td>Richard Cetrone</td>\n      <td>NaN</td>\n      <td>/m/0bgchsy</td>\n      <td>/m/0bgcht0</td>\n      <td>/m/0bgcht7</td>\n      <td>2001.0</td>\n      <td>8.0</td>\n      <td>NaN</td>\n      <td>NaN</td>\n    </tr>\n    <tr>\n      <th>7</th>\n      <td>975900</td>\n      <td>/m/03vyhn</td>\n      <td>Michael Descanso</td>\n      <td>1971-03-20</td>\n      <td>M</td>\n      <td>1.892</td>\n      <td>NaN</td>\n      <td>Liam Waite</td>\n      <td>30.0</td>\n      <td>/m/03jqhb0</td>\n      <td>/m/0bgchs4</td>\n      <td>/m/0ks8b0</td>\n      <td>2001.0</td>\n      <td>8.0</td>\n      <td>NaN</td>\n      <td>NaN</td>\n    </tr>\n    <tr>\n      <th>8</th>\n      <td>975900</td>\n      <td>/m/03vyhn</td>\n      <td>Uno</td>\n      <td>NaN</td>\n      <td>M</td>\n      <td>NaN</td>\n      <td>NaN</td>\n      <td>Duane Davis</td>\n      <td>NaN</td>\n      <td>/m/0bgchtj</td>\n      <td>/m/0bgchtm</td>\n      <td>/m/03nrwdy</td>\n      <td>2001.0</td>\n      <td>8.0</td>\n      <td>NaN</td>\n      <td>NaN</td>\n    </tr>\n    <tr>\n      <th>9</th>\n      <td>975900</td>\n      <td>/m/03vyhn</td>\n      <td>Dos</td>\n      <td>NaN</td>\n      <td>M</td>\n      <td>NaN</td>\n      <td>NaN</td>\n      <td>Lobo Sebastian</td>\n      <td>NaN</td>\n      <td>/m/0bgchsc</td>\n      <td>/m/0bgchsg</td>\n      <td>/m/0bgchsp</td>\n      <td>2001.0</td>\n      <td>8.0</td>\n      <td>NaN</td>\n      <td>NaN</td>\n    </tr>\n  </tbody>\n</table>\n</div>"
     },
     "execution_count": 218,
     "metadata": {},
     "output_type": "execute_result"
    }
   ],
   "source": [
    "characters_oscars = pd.merge(characters, oscars, on=[\"name\", 'releaseYear'], how=\"left\")\n",
    "print(characters_oscars.shape)\n",
    "characters_oscars.head(10)"
   ]
  },
  {
   "cell_type": "code",
   "execution_count": 219,
   "metadata": {
    "ExecuteTime": {
     "end_time": "2023-11-06T12:20:49.212847Z",
     "start_time": "2023-11-06T12:20:48.706600Z"
    }
   },
   "outputs": [],
   "source": [
    "budget_raw = pd.read_csv(\n",
    "    DATA_FOLDER + \"Budget/movies_metadata.csv.zip\",\n",
    "    compression=\"zip\",\n",
    ")"
   ]
  },
  {
   "cell_type": "code",
   "execution_count": 220,
   "metadata": {
    "ExecuteTime": {
     "end_time": "2023-11-06T12:20:49.219090Z",
     "start_time": "2023-11-06T12:20:49.216788Z"
    }
   },
   "outputs": [],
   "source": [
    "budget = budget_raw[\n",
    "    [\n",
    "        \"budget\",\n",
    "        \"imdb_id\",\n",
    "        \"original_title\",\n",
    "        \"popularity\",\n",
    "        \"revenue\",\n",
    "        \"vote_average\",\n",
    "        \"vote_count\",\n",
    "        \"release_date\",\n",
    "    ]\n",
    "].copy()"
   ]
  },
  {
   "cell_type": "code",
   "execution_count": 221,
   "metadata": {
    "ExecuteTime": {
     "end_time": "2023-11-06T12:20:49.221323Z",
     "start_time": "2023-11-06T12:20:49.220044Z"
    }
   },
   "outputs": [],
   "source": [
    "budget.columns = [\n",
    "    \"budget\",\n",
    "    \"imdbID\",\n",
    "    \"name\",\n",
    "    \"popularity\",\n",
    "    \"revenue\",\n",
    "    \"voteAverage\",\n",
    "    \"voteCount\",\n",
    "    \"releaseDate\",\n",
    "]"
   ]
  },
  {
   "cell_type": "code",
   "execution_count": 222,
   "metadata": {
    "ExecuteTime": {
     "end_time": "2023-11-06T12:20:49.226075Z",
     "start_time": "2023-11-06T12:20:49.224162Z"
    }
   },
   "outputs": [],
   "source": [
    "#budget[\"releaseMonth\"] = pd.to_datetime(budget[\"releaseDate\"], errors=\"coerce\").dt.month\n",
    "#budget[\"releaseYear\"] = pd.to_datetime(budget[\"releaseDate\"], errors=\"coerce\").dt.year\n",
    "#budget.drop_duplicates(subset=[\"name\", \"releaseMonth\", \"releaseYear\"], inplace=True)\n",
    "budget.drop(columns=[\"releaseDate\", \"name\", \"revenue\", \"voteAverage\", \"voteCount\"], inplace=True)"
   ]
  },
  {
   "cell_type": "code",
   "execution_count": 223,
   "metadata": {
    "collapsed": false,
    "ExecuteTime": {
     "end_time": "2023-11-06T12:20:49.240061Z",
     "start_time": "2023-11-06T12:20:49.235975Z"
    }
   },
   "outputs": [],
   "source": [
    "budget[\"budget\"] = pd.to_numeric(budget[\"budget\"], errors=\"coerce\")"
   ]
  },
  {
   "cell_type": "code",
   "execution_count": 224,
   "metadata": {
    "ExecuteTime": {
     "end_time": "2023-11-06T12:20:49.242550Z",
     "start_time": "2023-11-06T12:20:49.239361Z"
    }
   },
   "outputs": [
    {
     "data": {
      "text/plain": "       budget     imdbID popularity\n0  30000000.0  tt0114709  21.946943\n1  65000000.0  tt0113497  17.015539\n2         0.0  tt0113228    11.7129\n3  16000000.0  tt0114885   3.859495\n4         0.0  tt0113041   8.387519",
      "text/html": "<div>\n<style scoped>\n    .dataframe tbody tr th:only-of-type {\n        vertical-align: middle;\n    }\n\n    .dataframe tbody tr th {\n        vertical-align: top;\n    }\n\n    .dataframe thead th {\n        text-align: right;\n    }\n</style>\n<table border=\"1\" class=\"dataframe\">\n  <thead>\n    <tr style=\"text-align: right;\">\n      <th></th>\n      <th>budget</th>\n      <th>imdbID</th>\n      <th>popularity</th>\n    </tr>\n  </thead>\n  <tbody>\n    <tr>\n      <th>0</th>\n      <td>30000000.0</td>\n      <td>tt0114709</td>\n      <td>21.946943</td>\n    </tr>\n    <tr>\n      <th>1</th>\n      <td>65000000.0</td>\n      <td>tt0113497</td>\n      <td>17.015539</td>\n    </tr>\n    <tr>\n      <th>2</th>\n      <td>0.0</td>\n      <td>tt0113228</td>\n      <td>11.7129</td>\n    </tr>\n    <tr>\n      <th>3</th>\n      <td>16000000.0</td>\n      <td>tt0114885</td>\n      <td>3.859495</td>\n    </tr>\n    <tr>\n      <th>4</th>\n      <td>0.0</td>\n      <td>tt0113041</td>\n      <td>8.387519</td>\n    </tr>\n  </tbody>\n</table>\n</div>"
     },
     "execution_count": 224,
     "metadata": {},
     "output_type": "execute_result"
    }
   ],
   "source": [
    "budget.head()"
   ]
  },
  {
   "cell_type": "code",
   "execution_count": 225,
   "metadata": {
    "ExecuteTime": {
     "end_time": "2023-11-06T12:20:49.249072Z",
     "start_time": "2023-11-06T12:20:49.243653Z"
    }
   },
   "outputs": [
    {
     "name": "stdout",
     "output_type": "stream",
     "text": [
      "17\n",
      "(45449, 3)\n"
     ]
    }
   ],
   "source": [
    "# remove imdbID nan entries to avoid issues when merging\n",
    "print(budget.imdbID.isnull().sum())\n",
    "budget.dropna(subset=['imdbID'], inplace=True)\n",
    "print(budget.shape)"
   ]
  },
  {
   "cell_type": "code",
   "execution_count": 226,
   "metadata": {
    "collapsed": false,
    "ExecuteTime": {
     "end_time": "2023-11-06T12:20:49.255326Z",
     "start_time": "2023-11-06T12:20:49.250965Z"
    }
   },
   "outputs": [
    {
     "name": "stdout",
     "output_type": "stream",
     "text": [
      "32\n",
      "(45417, 3)\n"
     ]
    }
   ],
   "source": [
    "# remove duplicate imdbID entries\n",
    "print(budget.imdbID.duplicated().sum())\n",
    "budget.drop_duplicates(subset='imdbID', inplace=True)\n",
    "print(budget.shape)"
   ]
  },
  {
   "cell_type": "code",
   "execution_count": 227,
   "metadata": {
    "ExecuteTime": {
     "end_time": "2023-11-06T12:20:49.259745Z",
     "start_time": "2023-11-06T12:20:49.256412Z"
    }
   },
   "outputs": [
    {
     "name": "stdout",
     "output_type": "stream",
     "text": [
      "36538\n"
     ]
    }
   ],
   "source": [
    "# replace all zero budget entries to nan\n",
    "print((budget['budget'] == 0).sum())\n",
    "budget.loc[budget['budget'] == 0, 'budget'] = np.nan"
   ]
  },
  {
   "cell_type": "code",
   "execution_count": 228,
   "metadata": {
    "collapsed": false,
    "ExecuteTime": {
     "end_time": "2023-11-06T12:20:49.302692Z",
     "start_time": "2023-11-06T12:20:49.271860Z"
    }
   },
   "outputs": [
    {
     "name": "stdout",
     "output_type": "stream",
     "text": [
      "11401\n"
     ]
    },
    {
     "data": {
      "text/plain": "2798"
     },
     "execution_count": 228,
     "metadata": {},
     "output_type": "execute_result"
    }
   ],
   "source": [
    "# check imdbID matches\n",
    "print(budget['imdbID'].isin(movies_imdb['imdbID']).sum())\n",
    "# check how many movies we can populate with budget data\n",
    "budget.loc[budget['imdbID'].isin(movies_imdb['imdbID']), 'budget'].notnull().sum()"
   ]
  },
  {
   "cell_type": "code",
   "execution_count": 229,
   "metadata": {
    "collapsed": false,
    "ExecuteTime": {
     "end_time": "2023-11-06T12:20:49.303114Z",
     "start_time": "2023-11-06T12:20:49.277547Z"
    }
   },
   "outputs": [
    {
     "data": {
      "text/plain": "       budget     imdbID popularity\n0  30000000.0  tt0114709  21.946943\n1  65000000.0  tt0113497  17.015539\n2         NaN  tt0113228    11.7129\n3  16000000.0  tt0114885   3.859495\n4         NaN  tt0113041   8.387519\n5  60000000.0  tt0113277  17.924927\n6  58000000.0  tt0114319   6.677277\n7         NaN  tt0112302   2.561161\n8  35000000.0  tt0114576    5.23158\n9  58000000.0  tt0113189  14.686036",
      "text/html": "<div>\n<style scoped>\n    .dataframe tbody tr th:only-of-type {\n        vertical-align: middle;\n    }\n\n    .dataframe tbody tr th {\n        vertical-align: top;\n    }\n\n    .dataframe thead th {\n        text-align: right;\n    }\n</style>\n<table border=\"1\" class=\"dataframe\">\n  <thead>\n    <tr style=\"text-align: right;\">\n      <th></th>\n      <th>budget</th>\n      <th>imdbID</th>\n      <th>popularity</th>\n    </tr>\n  </thead>\n  <tbody>\n    <tr>\n      <th>0</th>\n      <td>30000000.0</td>\n      <td>tt0114709</td>\n      <td>21.946943</td>\n    </tr>\n    <tr>\n      <th>1</th>\n      <td>65000000.0</td>\n      <td>tt0113497</td>\n      <td>17.015539</td>\n    </tr>\n    <tr>\n      <th>2</th>\n      <td>NaN</td>\n      <td>tt0113228</td>\n      <td>11.7129</td>\n    </tr>\n    <tr>\n      <th>3</th>\n      <td>16000000.0</td>\n      <td>tt0114885</td>\n      <td>3.859495</td>\n    </tr>\n    <tr>\n      <th>4</th>\n      <td>NaN</td>\n      <td>tt0113041</td>\n      <td>8.387519</td>\n    </tr>\n    <tr>\n      <th>5</th>\n      <td>60000000.0</td>\n      <td>tt0113277</td>\n      <td>17.924927</td>\n    </tr>\n    <tr>\n      <th>6</th>\n      <td>58000000.0</td>\n      <td>tt0114319</td>\n      <td>6.677277</td>\n    </tr>\n    <tr>\n      <th>7</th>\n      <td>NaN</td>\n      <td>tt0112302</td>\n      <td>2.561161</td>\n    </tr>\n    <tr>\n      <th>8</th>\n      <td>35000000.0</td>\n      <td>tt0114576</td>\n      <td>5.23158</td>\n    </tr>\n    <tr>\n      <th>9</th>\n      <td>58000000.0</td>\n      <td>tt0113189</td>\n      <td>14.686036</td>\n    </tr>\n  </tbody>\n</table>\n</div>"
     },
     "execution_count": 229,
     "metadata": {},
     "output_type": "execute_result"
    }
   ],
   "source": [
    "budget.head(10)"
   ]
  },
  {
   "cell_type": "code",
   "execution_count": 230,
   "metadata": {
    "ExecuteTime": {
     "end_time": "2023-11-06T12:20:49.334171Z",
     "start_time": "2023-11-06T12:20:49.295502Z"
    }
   },
   "outputs": [
    {
     "data": {
      "text/plain": "(81630, 20)"
     },
     "execution_count": 230,
     "metadata": {},
     "output_type": "execute_result"
    }
   ],
   "source": [
    "movies_imdb = pd.merge(movies_imdb, budget, on='imdbID', how='left')\n",
    "movies_imdb.shape"
   ]
  },
  {
   "cell_type": "code",
   "execution_count": 231,
   "outputs": [],
   "source": [
    "# save preprocessed dataframe to csv\n",
    "movies_imdb.to_csv(DATA_FOLDER + \"movies_imdb.csv\", index=False)"
   ],
   "metadata": {
    "collapsed": false,
    "ExecuteTime": {
     "end_time": "2023-11-06T12:20:49.720400Z",
     "start_time": "2023-11-06T12:20:49.311603Z"
    }
   }
  },
  {
   "cell_type": "code",
   "execution_count": 232,
   "outputs": [
    {
     "data": {
      "text/plain": "     wikiID        fbID                                               name  \\\n0   3196793   /m/08yl5d  Getting Away with Murder: The JonBenét Ramsey ...   \n1  28463795  /m/0crgdbh                                        Brun bitter   \n2   9363483  /m/0285_cd                                   White Of The Eye   \n3    261236   /m/01mrr1                                  A Woman in Flames   \n4  13696889  /m/03cfc81                                      The Gangsters   \n5  18998739  /m/04jcqvw                          The Sorcerer's Apprentice   \n6  10408933  /m/02qc0j7                           Alexander's Ragtime Band   \n7   9997961  /m/06_y2j7                                     Contigo y aquí   \n8   2345652   /m/075f66                                   City of the Dead   \n9    175026   /m/017n1p                                      Sarah and Son   \n\n   boxOffice  runtime                        languages  \\\n0        NaN     95.0               [English Language]   \n1        NaN     83.0             [Norwegian Language]   \n2        NaN    110.0               [English Language]   \n3        NaN    106.0                [German Language]   \n4        NaN     35.0  [Silent film, English Language]   \n5        NaN     86.0               [English Language]   \n6  3600000.0    106.0               [English Language]   \n7        NaN      NaN               [Spanish Language]   \n8        NaN     76.0               [English Language]   \n9        NaN     86.0               [English Language]   \n\n                    countries  \\\n0  [United States of America]   \n1                    [Norway]   \n2            [United Kingdom]   \n3                   [Germany]   \n4  [United States of America]   \n5              [South Africa]   \n6  [United States of America]   \n7                 [Argentina]   \n8            [United Kingdom]   \n9  [United States of America]   \n\n                                           genresCmu  releaseMonth  \\\n0   [Mystery, Biographical film, Drama, Crime Drama]           2.0   \n1                             [Crime Fiction, Drama]           NaN   \n2  [Thriller, Erotic thriller, Psychological thri...           NaN   \n3                                            [Drama]           NaN   \n4  [Short Film, Silent film, Indie, Black-and-whi...           5.0   \n5    [Family Film, Fantasy, Adventure, World cinema]           NaN   \n6                 [Musical, Comedy, Black-and-white]           8.0   \n7                           [Musical, Drama, Comedy]           NaN   \n8                             [Horror, Supernatural]           NaN   \n9                           [Drama, Black-and-white]           NaN   \n\n   releaseYear     imdbID titleType             originalTitle  isAdult  \\\n0       2000.0        NaN       NaN                       NaN      NaN   \n1       1988.0  tt0094806     movie               Brun bitter      0.0   \n2       1987.0        NaN       NaN                       NaN      NaN   \n3       1983.0  tt0083949     movie       Die flambierte Frau      0.0   \n4       1913.0  tt0002894     short             The Gangsters      0.0   \n5       2002.0        NaN       NaN                       NaN      NaN   \n6       1938.0  tt0029852     movie  Alexander's Ragtime Band      0.0   \n7       1974.0        NaN       NaN                       NaN      NaN   \n8       1960.0        NaN       NaN                       NaN      NaN   \n9       1930.0  tt0021335     movie             Sarah and Son      0.0   \n\n  endYear               genresImdb  averageRating  numVotes     budget  \\\n0     NaN                      NaN            NaN       NaN        NaN   \n1      \\N           [Crime, Drama]            5.6      40.0        NaN   \n2     NaN                      NaN            NaN       NaN        NaN   \n3      \\N                  [Drama]            6.0     621.0        NaN   \n4      \\N          [Comedy, Short]            6.8      16.0        NaN   \n5     NaN                      NaN            NaN       NaN        NaN   \n6      \\N  [Drama, Music, Musical]            6.8    2264.0  2000000.0   \n7     NaN                      NaN            NaN       NaN        NaN   \n8     NaN                      NaN            NaN       NaN        NaN   \n9      \\N         [Drama, Romance]            5.4     298.0        NaN   \n\n   popularity  \n0         NaN  \n1         NaN  \n2         NaN  \n3         NaN  \n4         NaN  \n5         NaN  \n6    0.632261  \n7         NaN  \n8         NaN  \n9         NaN  ",
      "text/html": "<div>\n<style scoped>\n    .dataframe tbody tr th:only-of-type {\n        vertical-align: middle;\n    }\n\n    .dataframe tbody tr th {\n        vertical-align: top;\n    }\n\n    .dataframe thead th {\n        text-align: right;\n    }\n</style>\n<table border=\"1\" class=\"dataframe\">\n  <thead>\n    <tr style=\"text-align: right;\">\n      <th></th>\n      <th>wikiID</th>\n      <th>fbID</th>\n      <th>name</th>\n      <th>boxOffice</th>\n      <th>runtime</th>\n      <th>languages</th>\n      <th>countries</th>\n      <th>genresCmu</th>\n      <th>releaseMonth</th>\n      <th>releaseYear</th>\n      <th>imdbID</th>\n      <th>titleType</th>\n      <th>originalTitle</th>\n      <th>isAdult</th>\n      <th>endYear</th>\n      <th>genresImdb</th>\n      <th>averageRating</th>\n      <th>numVotes</th>\n      <th>budget</th>\n      <th>popularity</th>\n    </tr>\n  </thead>\n  <tbody>\n    <tr>\n      <th>0</th>\n      <td>3196793</td>\n      <td>/m/08yl5d</td>\n      <td>Getting Away with Murder: The JonBenét Ramsey ...</td>\n      <td>NaN</td>\n      <td>95.0</td>\n      <td>[English Language]</td>\n      <td>[United States of America]</td>\n      <td>[Mystery, Biographical film, Drama, Crime Drama]</td>\n      <td>2.0</td>\n      <td>2000.0</td>\n      <td>NaN</td>\n      <td>NaN</td>\n      <td>NaN</td>\n      <td>NaN</td>\n      <td>NaN</td>\n      <td>NaN</td>\n      <td>NaN</td>\n      <td>NaN</td>\n      <td>NaN</td>\n      <td>NaN</td>\n    </tr>\n    <tr>\n      <th>1</th>\n      <td>28463795</td>\n      <td>/m/0crgdbh</td>\n      <td>Brun bitter</td>\n      <td>NaN</td>\n      <td>83.0</td>\n      <td>[Norwegian Language]</td>\n      <td>[Norway]</td>\n      <td>[Crime Fiction, Drama]</td>\n      <td>NaN</td>\n      <td>1988.0</td>\n      <td>tt0094806</td>\n      <td>movie</td>\n      <td>Brun bitter</td>\n      <td>0.0</td>\n      <td>\\N</td>\n      <td>[Crime, Drama]</td>\n      <td>5.6</td>\n      <td>40.0</td>\n      <td>NaN</td>\n      <td>NaN</td>\n    </tr>\n    <tr>\n      <th>2</th>\n      <td>9363483</td>\n      <td>/m/0285_cd</td>\n      <td>White Of The Eye</td>\n      <td>NaN</td>\n      <td>110.0</td>\n      <td>[English Language]</td>\n      <td>[United Kingdom]</td>\n      <td>[Thriller, Erotic thriller, Psychological thri...</td>\n      <td>NaN</td>\n      <td>1987.0</td>\n      <td>NaN</td>\n      <td>NaN</td>\n      <td>NaN</td>\n      <td>NaN</td>\n      <td>NaN</td>\n      <td>NaN</td>\n      <td>NaN</td>\n      <td>NaN</td>\n      <td>NaN</td>\n      <td>NaN</td>\n    </tr>\n    <tr>\n      <th>3</th>\n      <td>261236</td>\n      <td>/m/01mrr1</td>\n      <td>A Woman in Flames</td>\n      <td>NaN</td>\n      <td>106.0</td>\n      <td>[German Language]</td>\n      <td>[Germany]</td>\n      <td>[Drama]</td>\n      <td>NaN</td>\n      <td>1983.0</td>\n      <td>tt0083949</td>\n      <td>movie</td>\n      <td>Die flambierte Frau</td>\n      <td>0.0</td>\n      <td>\\N</td>\n      <td>[Drama]</td>\n      <td>6.0</td>\n      <td>621.0</td>\n      <td>NaN</td>\n      <td>NaN</td>\n    </tr>\n    <tr>\n      <th>4</th>\n      <td>13696889</td>\n      <td>/m/03cfc81</td>\n      <td>The Gangsters</td>\n      <td>NaN</td>\n      <td>35.0</td>\n      <td>[Silent film, English Language]</td>\n      <td>[United States of America]</td>\n      <td>[Short Film, Silent film, Indie, Black-and-whi...</td>\n      <td>5.0</td>\n      <td>1913.0</td>\n      <td>tt0002894</td>\n      <td>short</td>\n      <td>The Gangsters</td>\n      <td>0.0</td>\n      <td>\\N</td>\n      <td>[Comedy, Short]</td>\n      <td>6.8</td>\n      <td>16.0</td>\n      <td>NaN</td>\n      <td>NaN</td>\n    </tr>\n    <tr>\n      <th>5</th>\n      <td>18998739</td>\n      <td>/m/04jcqvw</td>\n      <td>The Sorcerer's Apprentice</td>\n      <td>NaN</td>\n      <td>86.0</td>\n      <td>[English Language]</td>\n      <td>[South Africa]</td>\n      <td>[Family Film, Fantasy, Adventure, World cinema]</td>\n      <td>NaN</td>\n      <td>2002.0</td>\n      <td>NaN</td>\n      <td>NaN</td>\n      <td>NaN</td>\n      <td>NaN</td>\n      <td>NaN</td>\n      <td>NaN</td>\n      <td>NaN</td>\n      <td>NaN</td>\n      <td>NaN</td>\n      <td>NaN</td>\n    </tr>\n    <tr>\n      <th>6</th>\n      <td>10408933</td>\n      <td>/m/02qc0j7</td>\n      <td>Alexander's Ragtime Band</td>\n      <td>3600000.0</td>\n      <td>106.0</td>\n      <td>[English Language]</td>\n      <td>[United States of America]</td>\n      <td>[Musical, Comedy, Black-and-white]</td>\n      <td>8.0</td>\n      <td>1938.0</td>\n      <td>tt0029852</td>\n      <td>movie</td>\n      <td>Alexander's Ragtime Band</td>\n      <td>0.0</td>\n      <td>\\N</td>\n      <td>[Drama, Music, Musical]</td>\n      <td>6.8</td>\n      <td>2264.0</td>\n      <td>2000000.0</td>\n      <td>0.632261</td>\n    </tr>\n    <tr>\n      <th>7</th>\n      <td>9997961</td>\n      <td>/m/06_y2j7</td>\n      <td>Contigo y aquí</td>\n      <td>NaN</td>\n      <td>NaN</td>\n      <td>[Spanish Language]</td>\n      <td>[Argentina]</td>\n      <td>[Musical, Drama, Comedy]</td>\n      <td>NaN</td>\n      <td>1974.0</td>\n      <td>NaN</td>\n      <td>NaN</td>\n      <td>NaN</td>\n      <td>NaN</td>\n      <td>NaN</td>\n      <td>NaN</td>\n      <td>NaN</td>\n      <td>NaN</td>\n      <td>NaN</td>\n      <td>NaN</td>\n    </tr>\n    <tr>\n      <th>8</th>\n      <td>2345652</td>\n      <td>/m/075f66</td>\n      <td>City of the Dead</td>\n      <td>NaN</td>\n      <td>76.0</td>\n      <td>[English Language]</td>\n      <td>[United Kingdom]</td>\n      <td>[Horror, Supernatural]</td>\n      <td>NaN</td>\n      <td>1960.0</td>\n      <td>NaN</td>\n      <td>NaN</td>\n      <td>NaN</td>\n      <td>NaN</td>\n      <td>NaN</td>\n      <td>NaN</td>\n      <td>NaN</td>\n      <td>NaN</td>\n      <td>NaN</td>\n      <td>NaN</td>\n    </tr>\n    <tr>\n      <th>9</th>\n      <td>175026</td>\n      <td>/m/017n1p</td>\n      <td>Sarah and Son</td>\n      <td>NaN</td>\n      <td>86.0</td>\n      <td>[English Language]</td>\n      <td>[United States of America]</td>\n      <td>[Drama, Black-and-white]</td>\n      <td>NaN</td>\n      <td>1930.0</td>\n      <td>tt0021335</td>\n      <td>movie</td>\n      <td>Sarah and Son</td>\n      <td>0.0</td>\n      <td>\\N</td>\n      <td>[Drama, Romance]</td>\n      <td>5.4</td>\n      <td>298.0</td>\n      <td>NaN</td>\n      <td>NaN</td>\n    </tr>\n  </tbody>\n</table>\n</div>"
     },
     "execution_count": 232,
     "metadata": {},
     "output_type": "execute_result"
    }
   ],
   "source": [
    "# retrieve dataframe as such\n",
    "movies_imdb = pd.read_csv(DATA_FOLDER + 'movies_imdb.csv',\n",
    "                          converters={'languages': parse_list, 'countries': parse_list, 'genresCmu': parse_list,\n",
    "                                      'genresImdb': parse_list})\n",
    "movies_imdb.head(10)"
   ],
   "metadata": {
    "collapsed": false,
    "ExecuteTime": {
     "end_time": "2023-11-06T12:20:51.847896Z",
     "start_time": "2023-11-06T12:20:49.720985Z"
    }
   }
  }
 ],
 "metadata": {
  "kernelspec": {
   "display_name": "Python 3",
   "language": "python",
   "name": "python3"
  },
  "language_info": {
   "codemirror_mode": {
    "name": "ipython",
    "version": 3
   },
   "file_extension": ".py",
   "mimetype": "text/x-python",
   "name": "python",
   "nbconvert_exporter": "python",
   "pygments_lexer": "ipython3",
   "version": "3.9.7"
  }
 },
 "nbformat": 4,
 "nbformat_minor": 2
}
