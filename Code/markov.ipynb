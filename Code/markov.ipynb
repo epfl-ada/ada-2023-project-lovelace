{
 "cells": [
  {
   "cell_type": "code",
   "execution_count": 1,
   "metadata": {},
   "outputs": [],
   "source": [
    "import pandas as pd\n",
    "import numpy as np\n",
    "import matplotlib.pyplot as plt\n",
    "import seaborn as sns\n",
    "from helpers import *"
   ]
  },
  {
   "cell_type": "code",
   "execution_count": 2,
   "metadata": {},
   "outputs": [],
   "source": [
    "DATA_FOLDER = \"../Data/\"\n",
    "actors_load = pd.read_csv(\n",
    "    DATA_FOLDER + \"actors.csv\",\n",
    "    converters={\n",
    "        \"fbID\":parse_list_actors,\n",
    "        \"ageAtMovieRelease\": parse_dict,\n",
    "        \"category\": parse_dict,\n",
    "        \"winner\": parse_dict,\n",
    "    },\n",
    ")\n",
    "movies_load = pd.read_csv(\n",
    "    DATA_FOLDER + \"movies.csv\",\n",
    "    converters={\n",
    "        \"languages\": parse_list,\n",
    "        \"countries\": parse_list,\n",
    "        \"genres\": parse_list\n",
    "    },\n",
    ")"
   ]
  },
  {
   "cell_type": "code",
   "execution_count": 3,
   "metadata": {},
   "outputs": [],
   "source": [
    "actors = actors_load.copy()\n",
    "movies = movies_load.copy()"
   ]
  },
  {
   "cell_type": "code",
   "execution_count": 4,
   "metadata": {},
   "outputs": [],
   "source": [
    "actors_exp = explode_on_movies(actors)"
   ]
  },
  {
   "cell_type": "code",
   "execution_count": 5,
   "metadata": {},
   "outputs": [
    {
     "data": {
      "text/html": [
       "<div>\n",
       "<style scoped>\n",
       "    .dataframe tbody tr th:only-of-type {\n",
       "        vertical-align: middle;\n",
       "    }\n",
       "\n",
       "    .dataframe tbody tr th {\n",
       "        vertical-align: top;\n",
       "    }\n",
       "\n",
       "    .dataframe thead th {\n",
       "        text-align: right;\n",
       "    }\n",
       "</style>\n",
       "<table border=\"1\" class=\"dataframe\">\n",
       "  <thead>\n",
       "    <tr style=\"text-align: right;\">\n",
       "      <th></th>\n",
       "      <th>fbID</th>\n",
       "      <th>movieName</th>\n",
       "      <th>boxOffice</th>\n",
       "      <th>runtime</th>\n",
       "      <th>languages</th>\n",
       "      <th>countries</th>\n",
       "      <th>genresCmu</th>\n",
       "      <th>releaseMonth</th>\n",
       "      <th>releaseYear</th>\n",
       "      <th>imdbID</th>\n",
       "      <th>titleType</th>\n",
       "      <th>originalTitle</th>\n",
       "      <th>isAdult</th>\n",
       "      <th>endYear</th>\n",
       "      <th>genresImdb</th>\n",
       "      <th>averageRating</th>\n",
       "      <th>numVotes</th>\n",
       "      <th>combinedGenres</th>\n",
       "      <th>genres</th>\n",
       "    </tr>\n",
       "  </thead>\n",
       "  <tbody>\n",
       "    <tr>\n",
       "      <th>0</th>\n",
       "      <td>/m/08yl5d</td>\n",
       "      <td>Getting Away with Murder: The JonBenét Ramsey ...</td>\n",
       "      <td>NaN</td>\n",
       "      <td>95.0</td>\n",
       "      <td>[English Language]</td>\n",
       "      <td>[United States of America]</td>\n",
       "      <td>['Mystery', 'Biographical film', 'Drama', 'Cri...</td>\n",
       "      <td>2.0</td>\n",
       "      <td>2000.0</td>\n",
       "      <td>tt0245916</td>\n",
       "      <td>tvMovie</td>\n",
       "      <td>Getting Away with Murder: The JonBenet Ramsey ...</td>\n",
       "      <td>0.0</td>\n",
       "      <td>\\N</td>\n",
       "      <td>['Drama']</td>\n",
       "      <td>6.0</td>\n",
       "      <td>69.0</td>\n",
       "      <td>{'Crime Drama', 'Biographical film', 'Drama', ...</td>\n",
       "      <td>{Mystery, Crime, Drama}</td>\n",
       "    </tr>\n",
       "    <tr>\n",
       "      <th>1</th>\n",
       "      <td>/m/0crgdbh</td>\n",
       "      <td>Brun bitter</td>\n",
       "      <td>NaN</td>\n",
       "      <td>83.0</td>\n",
       "      <td>[Norwegian Language]</td>\n",
       "      <td>[Norway]</td>\n",
       "      <td>['Crime Fiction', 'Drama']</td>\n",
       "      <td>NaN</td>\n",
       "      <td>1988.0</td>\n",
       "      <td>tt0094806</td>\n",
       "      <td>movie</td>\n",
       "      <td>Brun bitter</td>\n",
       "      <td>0.0</td>\n",
       "      <td>\\N</td>\n",
       "      <td>['Crime', 'Drama']</td>\n",
       "      <td>5.6</td>\n",
       "      <td>40.0</td>\n",
       "      <td>{'Crime Fiction', 'Drama', 'Crime'}</td>\n",
       "      <td>{Drama, Crime, Fiction}</td>\n",
       "    </tr>\n",
       "    <tr>\n",
       "      <th>2</th>\n",
       "      <td>/m/0285_cd</td>\n",
       "      <td>White Of The Eye</td>\n",
       "      <td>NaN</td>\n",
       "      <td>110.0</td>\n",
       "      <td>[English Language]</td>\n",
       "      <td>[United Kingdom]</td>\n",
       "      <td>['Thriller', 'Erotic thriller', 'Psychological...</td>\n",
       "      <td>NaN</td>\n",
       "      <td>1987.0</td>\n",
       "      <td>tt0094320</td>\n",
       "      <td>movie</td>\n",
       "      <td>White of the Eye</td>\n",
       "      <td>0.0</td>\n",
       "      <td>\\N</td>\n",
       "      <td>['Horror', 'Mystery', 'Thriller']</td>\n",
       "      <td>6.1</td>\n",
       "      <td>2885.0</td>\n",
       "      <td>{'Horror', 'Erotic thriller', 'Mystery', 'Thri...</td>\n",
       "      <td>{Thriller, Mystery, Horror}</td>\n",
       "    </tr>\n",
       "    <tr>\n",
       "      <th>3</th>\n",
       "      <td>/m/01mrr1</td>\n",
       "      <td>A Woman in Flames</td>\n",
       "      <td>NaN</td>\n",
       "      <td>106.0</td>\n",
       "      <td>[German Language]</td>\n",
       "      <td>[Germany]</td>\n",
       "      <td>['Drama']</td>\n",
       "      <td>NaN</td>\n",
       "      <td>1983.0</td>\n",
       "      <td>tt0083949</td>\n",
       "      <td>movie</td>\n",
       "      <td>Die flambierte Frau</td>\n",
       "      <td>0.0</td>\n",
       "      <td>\\N</td>\n",
       "      <td>['Drama']</td>\n",
       "      <td>6.0</td>\n",
       "      <td>621.0</td>\n",
       "      <td>{'Drama'}</td>\n",
       "      <td>{Drama}</td>\n",
       "    </tr>\n",
       "    <tr>\n",
       "      <th>4</th>\n",
       "      <td>/m/03cfc81</td>\n",
       "      <td>The Gangsters</td>\n",
       "      <td>NaN</td>\n",
       "      <td>35.0</td>\n",
       "      <td>[Silent film, English Language]</td>\n",
       "      <td>[United States of America]</td>\n",
       "      <td>['Short Film', 'Silent film', 'Indie', 'Black-...</td>\n",
       "      <td>5.0</td>\n",
       "      <td>1913.0</td>\n",
       "      <td>tt0002894</td>\n",
       "      <td>short</td>\n",
       "      <td>The Gangsters</td>\n",
       "      <td>0.0</td>\n",
       "      <td>\\N</td>\n",
       "      <td>['Comedy', 'Short']</td>\n",
       "      <td>6.8</td>\n",
       "      <td>16.0</td>\n",
       "      <td>{'Comedy', 'Short', 'Short Film', 'Indie', 'Si...</td>\n",
       "      <td>{Indie, Comedy, Short, Black-and-white, Silent}</td>\n",
       "    </tr>\n",
       "  </tbody>\n",
       "</table>\n",
       "</div>"
      ],
      "text/plain": [
       "         fbID                                          movieName  boxOffice  \\\n",
       "0   /m/08yl5d  Getting Away with Murder: The JonBenét Ramsey ...        NaN   \n",
       "1  /m/0crgdbh                                        Brun bitter        NaN   \n",
       "2  /m/0285_cd                                   White Of The Eye        NaN   \n",
       "3   /m/01mrr1                                  A Woman in Flames        NaN   \n",
       "4  /m/03cfc81                                      The Gangsters        NaN   \n",
       "\n",
       "   runtime                        languages                   countries  \\\n",
       "0     95.0               [English Language]  [United States of America]   \n",
       "1     83.0             [Norwegian Language]                    [Norway]   \n",
       "2    110.0               [English Language]            [United Kingdom]   \n",
       "3    106.0                [German Language]                   [Germany]   \n",
       "4     35.0  [Silent film, English Language]  [United States of America]   \n",
       "\n",
       "                                           genresCmu  releaseMonth  \\\n",
       "0  ['Mystery', 'Biographical film', 'Drama', 'Cri...           2.0   \n",
       "1                         ['Crime Fiction', 'Drama']           NaN   \n",
       "2  ['Thriller', 'Erotic thriller', 'Psychological...           NaN   \n",
       "3                                          ['Drama']           NaN   \n",
       "4  ['Short Film', 'Silent film', 'Indie', 'Black-...           5.0   \n",
       "\n",
       "   releaseYear     imdbID titleType  \\\n",
       "0       2000.0  tt0245916   tvMovie   \n",
       "1       1988.0  tt0094806     movie   \n",
       "2       1987.0  tt0094320     movie   \n",
       "3       1983.0  tt0083949     movie   \n",
       "4       1913.0  tt0002894     short   \n",
       "\n",
       "                                       originalTitle  isAdult endYear  \\\n",
       "0  Getting Away with Murder: The JonBenet Ramsey ...      0.0      \\N   \n",
       "1                                        Brun bitter      0.0      \\N   \n",
       "2                                   White of the Eye      0.0      \\N   \n",
       "3                                Die flambierte Frau      0.0      \\N   \n",
       "4                                      The Gangsters      0.0      \\N   \n",
       "\n",
       "                          genresImdb  averageRating  numVotes  \\\n",
       "0                          ['Drama']            6.0      69.0   \n",
       "1                 ['Crime', 'Drama']            5.6      40.0   \n",
       "2  ['Horror', 'Mystery', 'Thriller']            6.1    2885.0   \n",
       "3                          ['Drama']            6.0     621.0   \n",
       "4                ['Comedy', 'Short']            6.8      16.0   \n",
       "\n",
       "                                      combinedGenres  \\\n",
       "0  {'Crime Drama', 'Biographical film', 'Drama', ...   \n",
       "1                {'Crime Fiction', 'Drama', 'Crime'}   \n",
       "2  {'Horror', 'Erotic thriller', 'Mystery', 'Thri...   \n",
       "3                                          {'Drama'}   \n",
       "4  {'Comedy', 'Short', 'Short Film', 'Indie', 'Si...   \n",
       "\n",
       "                                            genres  \n",
       "0                          {Mystery, Crime, Drama}  \n",
       "1                          {Drama, Crime, Fiction}  \n",
       "2                      {Thriller, Mystery, Horror}  \n",
       "3                                          {Drama}  \n",
       "4  {Indie, Comedy, Short, Black-and-white, Silent}  "
      ]
     },
     "execution_count": 5,
     "metadata": {},
     "output_type": "execute_result"
    }
   ],
   "source": [
    "movies.head()"
   ]
  },
  {
   "cell_type": "code",
   "execution_count": 6,
   "metadata": {},
   "outputs": [],
   "source": [
    "actors_movies = actors_exp.merge(movies[[\"fbID\",\"genres\",\"releaseMonth\",\"releaseYear\"]], how=\"left\", on=\"fbID\")"
   ]
  },
  {
   "cell_type": "code",
   "execution_count": 7,
   "metadata": {},
   "outputs": [],
   "source": [
    "actors_movies_sort = actors_movies.sort_values(by=[\"fbActorID\", \"ageAtMovieRelease\",\"releaseYear\",\"releaseMonth\"])"
   ]
  },
  {
   "cell_type": "code",
   "execution_count": 8,
   "metadata": {},
   "outputs": [],
   "source": [
    "actors_min_movies = actors_movies_sort.query(\"numMovies >=30\")"
   ]
  },
  {
   "cell_type": "code",
   "execution_count": 9,
   "metadata": {},
   "outputs": [],
   "source": [
    "actors_min_movies = actors_min_movies[\n",
    "    ~(actors_min_movies.ageAtMovieRelease.isna() & actors_min_movies.releaseYear.isna())\n",
    "]\n",
    "actors_min_movies = actors_min_movies[~actors_min_movies.genres.isna()]"
   ]
  },
  {
   "cell_type": "code",
   "execution_count": 10,
   "metadata": {},
   "outputs": [],
   "source": [
    "actors_min_movies[\"genresLen\"] = actors_min_movies.genres.apply(lambda x:len(x))"
   ]
  },
  {
   "cell_type": "code",
   "execution_count": 11,
   "metadata": {},
   "outputs": [],
   "source": [
    "actors_min_movies[\"LastMovie\"] = np.array([*(actors_min_movies.fbActorID[1:].values != actors_min_movies.fbActorID.values[:-1]),True]) "
   ]
  },
  {
   "cell_type": "code",
   "execution_count": 12,
   "metadata": {},
   "outputs": [
    {
     "data": {
      "text/plain": [
       "genres\n",
       "{Drama}                                                                5348\n",
       "{Comedy}                                                               3090\n",
       "{Comedy, Romance, Drama}                                               2359\n",
       "{Romance, Drama}                                                       2289\n",
       "{Comedy, Drama}                                                        1998\n",
       "                                                                       ... \n",
       "{Thriller, Drama, Adventure, Action, Fiction, World, Crime, Horror}       1\n",
       "{Mystery, Western}                                                        1\n",
       "{Mystery, Western, Action, Drama}                                         1\n",
       "{Thriller, Black-and-white, Mystery, Fiction, World, Crime}               1\n",
       "{Thriller, Family, Fantasy, Drama, Horror}                                1\n",
       "Name: count, Length: 4508, dtype: int64"
      ]
     },
     "execution_count": 12,
     "metadata": {},
     "output_type": "execute_result"
    }
   ],
   "source": [
    "actors_min_movies.genres.value_counts()"
   ]
  },
  {
   "cell_type": "code",
   "execution_count": 13,
   "metadata": {},
   "outputs": [],
   "source": [
    "genreslist = actors_min_movies.genres.explode().unique()"
   ]
  },
  {
   "cell_type": "code",
   "execution_count": 14,
   "metadata": {},
   "outputs": [
    {
     "data": {
      "text/plain": [
       "genres\n",
       "Drama              60140\n",
       "Comedy             36693\n",
       "Romance            25563\n",
       "Action             25483\n",
       "Adventure          19719\n",
       "Thriller           19633\n",
       "Crime              18675\n",
       "Fiction            17847\n",
       "World              11335\n",
       "Family             11004\n",
       "Black-and-white    10620\n",
       "Musical            10109\n",
       "Indie               8865\n",
       "Mystery             7730\n",
       "Fantasy             6043\n",
       "Horror              5174\n",
       "Short               4968\n",
       "War                 4548\n",
       "Western             4277\n",
       "Science             4132\n",
       "Animation           4123\n",
       "Biography           3386\n",
       "Silent              3230\n",
       "History             2766\n",
       "Japanese             961\n",
       "Documentary          693\n",
       "Name: count, dtype: int64"
      ]
     },
     "execution_count": 14,
     "metadata": {},
     "output_type": "execute_result"
    }
   ],
   "source": [
    "actors_min_movies.genres.explode().value_counts()"
   ]
  },
  {
   "cell_type": "code",
   "execution_count": 15,
   "metadata": {},
   "outputs": [],
   "source": [
    "index_genres = dict(zip(genreslist, np.arange(len(genreslist))))"
   ]
  },
  {
   "cell_type": "code",
   "execution_count": 16,
   "metadata": {},
   "outputs": [],
   "source": [
    "A = np.zeros((len(index_genres),len(index_genres)))"
   ]
  },
  {
   "cell_type": "code",
   "execution_count": 17,
   "metadata": {},
   "outputs": [],
   "source": [
    "df_genres = actors_min_movies[[\"genres\",\"genresLen\", \"LastMovie\"]].reset_index(drop=True).copy()"
   ]
  },
  {
   "cell_type": "code",
   "execution_count": 18,
   "metadata": {},
   "outputs": [
    {
     "data": {
      "text/plain": [
       "genres       {Comedy}\n",
       "genresLen           1\n",
       "LastMovie       False\n",
       "Name: 1, dtype: object"
      ]
     },
     "execution_count": 18,
     "metadata": {},
     "output_type": "execute_result"
    }
   ],
   "source": [
    "df_genres.iloc[1]"
   ]
  },
  {
   "cell_type": "code",
   "execution_count": 19,
   "metadata": {},
   "outputs": [
    {
     "data": {
      "text/plain": [
       "0        False\n",
       "1        False\n",
       "2        False\n",
       "3        False\n",
       "4        False\n",
       "         ...  \n",
       "96108    False\n",
       "96109    False\n",
       "96110    False\n",
       "96111    False\n",
       "96112     True\n",
       "Name: LastMovie, Length: 96113, dtype: bool"
      ]
     },
     "execution_count": 19,
     "metadata": {},
     "output_type": "execute_result"
    }
   ],
   "source": [
    "df_genres.LastMovie"
   ]
  },
  {
   "cell_type": "code",
   "execution_count": 34,
   "metadata": {},
   "outputs": [
    {
     "ename": "TypeError",
     "evalue": "unhashable type: 'list'",
     "output_type": "error",
     "traceback": [
      "\u001b[0;31m---------------------------------------------------------------------------\u001b[0m",
      "\u001b[0;31mTypeError\u001b[0m                                 Traceback (most recent call last)",
      "\u001b[1;32m/Users/vacosta/Desktop/ada-2023-project-lovelace/Code/markov.ipynb Cell 20\u001b[0m line \u001b[0;36m9\n\u001b[1;32m      <a href='vscode-notebook-cell:/Users/vacosta/Desktop/ada-2023-project-lovelace/Code/markov.ipynb#X25sZmlsZQ%3D%3D?line=6'>7</a>\u001b[0m             A[index_genres[genres_i], index_genres[genres_j]] \u001b[39m+\u001b[39m\u001b[39m=\u001b[39m \u001b[39m1\u001b[39m\u001b[39m/\u001b[39m(row[\u001b[39m\"\u001b[39m\u001b[39mgenresLen\u001b[39m\u001b[39m\"\u001b[39m]\u001b[39m*\u001b[39m df_genres[\u001b[39m\"\u001b[39m\u001b[39mgenresLen\u001b[39m\u001b[39m\"\u001b[39m]\u001b[39m.\u001b[39miloc[index\u001b[39m+\u001b[39m\u001b[39m1\u001b[39m])\n\u001b[1;32m      <a href='vscode-notebook-cell:/Users/vacosta/Desktop/ada-2023-project-lovelace/Code/markov.ipynb#X25sZmlsZQ%3D%3D?line=7'>8</a>\u001b[0m \u001b[39melse\u001b[39;00m :\n\u001b[0;32m----> <a href='vscode-notebook-cell:/Users/vacosta/Desktop/ada-2023-project-lovelace/Code/markov.ipynb#X25sZmlsZQ%3D%3D?line=8'>9</a>\u001b[0m     \u001b[39mprint\u001b[39m(index_genres[\u001b[39mlist\u001b[39;49m(genre_intersection)])\n\u001b[1;32m     <a href='vscode-notebook-cell:/Users/vacosta/Desktop/ada-2023-project-lovelace/Code/markov.ipynb#X25sZmlsZQ%3D%3D?line=9'>10</a>\u001b[0m     A[index_genres[genres_i], index_genres[genres_j]] \u001b[39m+\u001b[39m\u001b[39m=\u001b[39m \u001b[39m1\u001b[39m\u001b[39m/\u001b[39m\u001b[39mlen\u001b[39m(genre_intersection)\n",
      "\u001b[0;31mTypeError\u001b[0m: unhashable type: 'list'"
     ]
    }
   ],
   "source": [
    "for index ,row in df_genres.iterrows():\n",
    "    if not row[\"LastMovie\"]:\n",
    "        genre_intersection = row[\"genres\"].intersection(df_genres[\"genres\"].iloc[index+1]) \n",
    "        if len(genre_intersection)==0:\n",
    "            for genres_i in row[\"genres\"]:\n",
    "                for genres_j in df_genres[\"genres\"].iloc[index+1]:\n",
    "                    A[index_genres[genres_i], index_genres[genres_j]] += 1/(row[\"genresLen\"]* df_genres[\"genresLen\"].iloc[index+1])\n",
    "        else :\n",
    "            print(index_genres[list(genre_intersection)])\n",
    "            A[index_genres[genres_i], index_genres[genres_j]] += 1/len(genre_intersection)"
   ]
  },
  {
   "cell_type": "code",
   "execution_count": 26,
   "metadata": {},
   "outputs": [],
   "source": [
    "A = A.T/np.sum(A,axis=0)"
   ]
  },
  {
   "cell_type": "code",
   "execution_count": 27,
   "metadata": {},
   "outputs": [
    {
     "data": {
      "text/plain": [
       "array([0.39564667, 3.47422455, 5.30015162, 1.93850603, 1.29065564,\n",
       "       1.34229842, 1.70027606, 1.09892404, 0.47112398, 0.92365817,\n",
       "       0.45885689, 1.03812646, 0.68346619, 0.27166647, 0.48845853,\n",
       "       0.36031132, 0.27917042, 0.76540692, 0.19992299, 0.52989989,\n",
       "       0.65930548, 0.21694638, 0.93626972, 0.44740822, 0.10041838,\n",
       "       0.62890055])"
      ]
     },
     "execution_count": 27,
     "metadata": {},
     "output_type": "execute_result"
    }
   ],
   "source": [
    "np.sum(A,axis=0)"
   ]
  },
  {
   "cell_type": "code",
   "execution_count": 29,
   "metadata": {},
   "outputs": [
    {
     "data": {
      "text/plain": [
       "<matplotlib.colorbar.Colorbar at 0x137826440>"
      ]
     },
     "execution_count": 29,
     "metadata": {},
     "output_type": "execute_result"
    },
    {
     "data": {
      "image/png": "[encoded data removed]",
      "text/plain": [
       "<Figure size 640x480 with 2 Axes>"
      ]
     },
     "metadata": {},
     "output_type": "display_data"
    }
   ],
   "source": [
    "plt.imshow(A)\n",
    "plt.colorbar()"
   ]
  },
  {
   "cell_type": "code",
   "execution_count": 24,
   "metadata": {},
   "outputs": [
    {
     "data": {
      "text/plain": [
       "{'Western': 0,\n",
       " 'Comedy': 1,\n",
       " 'Drama': 2,\n",
       " 'Romance': 3,\n",
       " 'Thriller': 4,\n",
       " 'Adventure': 5,\n",
       " 'Action': 6,\n",
       " 'Crime': 7,\n",
       " 'Animation': 8,\n",
       " 'Family': 9,\n",
       " 'Fantasy': 10,\n",
       " 'Fiction': 11,\n",
       " 'World': 12,\n",
       " 'Science': 13,\n",
       " 'Mystery': 14,\n",
       " 'War': 15,\n",
       " 'Biography': 16,\n",
       " 'Indie': 17,\n",
       " 'History': 18,\n",
       " 'Horror': 19,\n",
       " 'Musical': 20,\n",
       " 'Japanese': 21,\n",
       " 'Black-and-white': 22,\n",
       " 'Silent': 23,\n",
       " 'Documentary': 24,\n",
       " 'Short': 25}"
      ]
     },
     "execution_count": 24,
     "metadata": {},
     "output_type": "execute_result"
    }
   ],
   "source": [
    "index_genres"
   ]
  }
 ],
 "metadata": {
  "kernelspec": {
   "display_name": "Python 3",
   "language": "python",
   "name": "python3"
  },
  "language_info": {
   "codemirror_mode": {
    "name": "ipython",
    "version": 3
   },
   "file_extension": ".py",
   "mimetype": "text/x-python",
   "name": "python",
   "nbconvert_exporter": "python",
   "pygments_lexer": "ipython3",
   "version": "3.10.7"
  }
 },
 "nbformat": 4,
 "nbformat_minor": 2
}
