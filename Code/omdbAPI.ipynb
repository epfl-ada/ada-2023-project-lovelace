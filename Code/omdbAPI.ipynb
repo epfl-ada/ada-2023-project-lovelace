{
 "cells": [
  {
   "cell_type": "code",
   "execution_count": null,
   "id": "initial_id",
   "metadata": {
    "collapsed": true
   },
   "outputs": [],
   "source": [
    "import requests\n",
    "import pandas as pd\n",
    "import numpy as np\n",
    "import matplotlib.pyplot as plt\n",
    "import seaborn as sns\n",
    "from tqdm import tqdm\n",
    "from time import sleep\n",
    "import json\n",
    "from helpers import *\n",
    "import warnings\n",
    "\n",
    "warnings.filterwarnings(\"ignore\")\n",
    "plt.rcdefaults()"
   ]
  },
  {
   "cell_type": "code",
   "execution_count": 3,
   "outputs": [
    {
     "data": {
      "text/plain": "     wikiID        fbID                                               name  \\\n0   3196793   /m/08yl5d  getting away with murder the jonbenet ramsey m...   \n1  28463795  /m/0crgdbh                                        brun bitter   \n2   9363483  /m/0285_cd                                   white of the eye   \n3    261236   /m/01mrr1                                  a woman in flames   \n4  13696889  /m/03cfc81                                      the gangsters   \n5  18998739  /m/04jcqvw                           the sorcerers apprentice   \n6  10408933  /m/02qc0j7                            alexanders ragtime band   \n7   9997961  /m/06_y2j7                                     contigo y aqui   \n8   2345652   /m/075f66                                   city of the dead   \n9    175026   /m/017n1p                                      sarah and son   \n\n   boxOffice  runtime                        languages  \\\n0        NaN     95.0               [English Language]   \n1        NaN     83.0             [Norwegian Language]   \n2        NaN    110.0               [English Language]   \n3        NaN    106.0                [German Language]   \n4        NaN     35.0  [Silent film, English Language]   \n5        NaN     86.0               [English Language]   \n6  3600000.0    106.0               [English Language]   \n7        NaN     70.0               [Spanish Language]   \n8        NaN     76.0               [English Language]   \n9        NaN     86.0               [English Language]   \n\n                    countries  \\\n0  [United States of America]   \n1                    [Norway]   \n2            [United Kingdom]   \n3                   [Germany]   \n4  [United States of America]   \n5              [South Africa]   \n6  [United States of America]   \n7                 [Argentina]   \n8            [United Kingdom]   \n9  [United States of America]   \n\n                                           genresCmu  releaseMonth  \\\n0   [Mystery, Biographical film, Drama, Crime Drama]           2.0   \n1                             [Crime Fiction, Drama]           NaN   \n2  [Thriller, Erotic thriller, Psychological thri...           NaN   \n3                                            [Drama]           NaN   \n4  [Short Film, Silent film, Indie, Black-and-whi...           5.0   \n5    [Family Film, Fantasy, Adventure, World cinema]           NaN   \n6                 [Musical, Comedy, Black-and-white]           8.0   \n7                           [Musical, Drama, Comedy]           NaN   \n8                             [Horror, Supernatural]           NaN   \n9                           [Drama, Black-and-white]           NaN   \n\n   releaseYear     imdbID titleType  \\\n0       2000.0  tt0245916   tvMovie   \n1       1988.0  tt0094806     movie   \n2       1987.0  tt0094320     movie   \n3       1983.0  tt0083949     movie   \n4       1913.0  tt0002894     short   \n5       2002.0        NaN       NaN   \n6       1938.0  tt0029852     movie   \n7       1974.0  tt0200545     movie   \n8       1960.0  tt0053719     movie   \n9       1930.0  tt0021335     movie   \n\n                                       originalTitle  isAdult endYear  \\\n0  Getting Away with Murder: The JonBenet Ramsey ...      0.0      \\N   \n1                                        Brun bitter      0.0      \\N   \n2                                   White of the Eye      0.0      \\N   \n3                                Die flambierte Frau      0.0      \\N   \n4                                      The Gangsters      0.0      \\N   \n5                                                NaN      NaN     NaN   \n6                           Alexander's Ragtime Band      0.0      \\N   \n7                                     Contigo y aquí      0.0      \\N   \n8                               The City of the Dead      0.0      \\N   \n9                                      Sarah and Son      0.0      \\N   \n\n                    genresImdb  averageRating  numVotes     budget  popularity  \n0                      [Drama]            6.0      69.0        NaN         NaN  \n1               [Crime, Drama]            5.6      40.0        NaN         NaN  \n2  [Horror, Mystery, Thriller]            6.1    2885.0        NaN    3.121105  \n3                      [Drama]            6.0     621.0        NaN         NaN  \n4              [Comedy, Short]            6.8      16.0        NaN         NaN  \n5                          NaN            NaN       NaN        NaN         NaN  \n6      [Drama, Music, Musical]            6.8    2264.0  2000000.0    0.632261  \n7     [Comedy, Drama, Musical]            NaN       NaN        NaN         NaN  \n8  [Horror, Mystery, Thriller]            6.7    8261.0        NaN    1.514972  \n9             [Drama, Romance]            5.4     298.0        NaN         NaN  ",
      "text/html": "<div>\n<style scoped>\n    .dataframe tbody tr th:only-of-type {\n        vertical-align: middle;\n    }\n\n    .dataframe tbody tr th {\n        vertical-align: top;\n    }\n\n    .dataframe thead th {\n        text-align: right;\n    }\n</style>\n<table border=\"1\" class=\"dataframe\">\n  <thead>\n    <tr style=\"text-align: right;\">\n      <th></th>\n      <th>wikiID</th>\n      <th>fbID</th>\n      <th>name</th>\n      <th>boxOffice</th>\n      <th>runtime</th>\n      <th>languages</th>\n      <th>countries</th>\n      <th>genresCmu</th>\n      <th>releaseMonth</th>\n      <th>releaseYear</th>\n      <th>imdbID</th>\n      <th>titleType</th>\n      <th>originalTitle</th>\n      <th>isAdult</th>\n      <th>endYear</th>\n      <th>genresImdb</th>\n      <th>averageRating</th>\n      <th>numVotes</th>\n      <th>budget</th>\n      <th>popularity</th>\n    </tr>\n  </thead>\n  <tbody>\n    <tr>\n      <th>0</th>\n      <td>3196793</td>\n      <td>/m/08yl5d</td>\n      <td>getting away with murder the jonbenet ramsey m...</td>\n      <td>NaN</td>\n      <td>95.0</td>\n      <td>[English Language]</td>\n      <td>[United States of America]</td>\n      <td>[Mystery, Biographical film, Drama, Crime Drama]</td>\n      <td>2.0</td>\n      <td>2000.0</td>\n      <td>tt0245916</td>\n      <td>tvMovie</td>\n      <td>Getting Away with Murder: The JonBenet Ramsey ...</td>\n      <td>0.0</td>\n      <td>\\N</td>\n      <td>[Drama]</td>\n      <td>6.0</td>\n      <td>69.0</td>\n      <td>NaN</td>\n      <td>NaN</td>\n    </tr>\n    <tr>\n      <th>1</th>\n      <td>28463795</td>\n      <td>/m/0crgdbh</td>\n      <td>brun bitter</td>\n      <td>NaN</td>\n      <td>83.0</td>\n      <td>[Norwegian Language]</td>\n      <td>[Norway]</td>\n      <td>[Crime Fiction, Drama]</td>\n      <td>NaN</td>\n      <td>1988.0</td>\n      <td>tt0094806</td>\n      <td>movie</td>\n      <td>Brun bitter</td>\n      <td>0.0</td>\n      <td>\\N</td>\n      <td>[Crime, Drama]</td>\n      <td>5.6</td>\n      <td>40.0</td>\n      <td>NaN</td>\n      <td>NaN</td>\n    </tr>\n    <tr>\n      <th>2</th>\n      <td>9363483</td>\n      <td>/m/0285_cd</td>\n      <td>white of the eye</td>\n      <td>NaN</td>\n      <td>110.0</td>\n      <td>[English Language]</td>\n      <td>[United Kingdom]</td>\n      <td>[Thriller, Erotic thriller, Psychological thri...</td>\n      <td>NaN</td>\n      <td>1987.0</td>\n      <td>tt0094320</td>\n      <td>movie</td>\n      <td>White of the Eye</td>\n      <td>0.0</td>\n      <td>\\N</td>\n      <td>[Horror, Mystery, Thriller]</td>\n      <td>6.1</td>\n      <td>2885.0</td>\n      <td>NaN</td>\n      <td>3.121105</td>\n    </tr>\n    <tr>\n      <th>3</th>\n      <td>261236</td>\n      <td>/m/01mrr1</td>\n      <td>a woman in flames</td>\n      <td>NaN</td>\n      <td>106.0</td>\n      <td>[German Language]</td>\n      <td>[Germany]</td>\n      <td>[Drama]</td>\n      <td>NaN</td>\n      <td>1983.0</td>\n      <td>tt0083949</td>\n      <td>movie</td>\n      <td>Die flambierte Frau</td>\n      <td>0.0</td>\n      <td>\\N</td>\n      <td>[Drama]</td>\n      <td>6.0</td>\n      <td>621.0</td>\n      <td>NaN</td>\n      <td>NaN</td>\n    </tr>\n    <tr>\n      <th>4</th>\n      <td>13696889</td>\n      <td>/m/03cfc81</td>\n      <td>the gangsters</td>\n      <td>NaN</td>\n      <td>35.0</td>\n      <td>[Silent film, English Language]</td>\n      <td>[United States of America]</td>\n      <td>[Short Film, Silent film, Indie, Black-and-whi...</td>\n      <td>5.0</td>\n      <td>1913.0</td>\n      <td>tt0002894</td>\n      <td>short</td>\n      <td>The Gangsters</td>\n      <td>0.0</td>\n      <td>\\N</td>\n      <td>[Comedy, Short]</td>\n      <td>6.8</td>\n      <td>16.0</td>\n      <td>NaN</td>\n      <td>NaN</td>\n    </tr>\n    <tr>\n      <th>5</th>\n      <td>18998739</td>\n      <td>/m/04jcqvw</td>\n      <td>the sorcerers apprentice</td>\n      <td>NaN</td>\n      <td>86.0</td>\n      <td>[English Language]</td>\n      <td>[South Africa]</td>\n      <td>[Family Film, Fantasy, Adventure, World cinema]</td>\n      <td>NaN</td>\n      <td>2002.0</td>\n      <td>NaN</td>\n      <td>NaN</td>\n      <td>NaN</td>\n      <td>NaN</td>\n      <td>NaN</td>\n      <td>NaN</td>\n      <td>NaN</td>\n      <td>NaN</td>\n      <td>NaN</td>\n      <td>NaN</td>\n    </tr>\n    <tr>\n      <th>6</th>\n      <td>10408933</td>\n      <td>/m/02qc0j7</td>\n      <td>alexanders ragtime band</td>\n      <td>3600000.0</td>\n      <td>106.0</td>\n      <td>[English Language]</td>\n      <td>[United States of America]</td>\n      <td>[Musical, Comedy, Black-and-white]</td>\n      <td>8.0</td>\n      <td>1938.0</td>\n      <td>tt0029852</td>\n      <td>movie</td>\n      <td>Alexander's Ragtime Band</td>\n      <td>0.0</td>\n      <td>\\N</td>\n      <td>[Drama, Music, Musical]</td>\n      <td>6.8</td>\n      <td>2264.0</td>\n      <td>2000000.0</td>\n      <td>0.632261</td>\n    </tr>\n    <tr>\n      <th>7</th>\n      <td>9997961</td>\n      <td>/m/06_y2j7</td>\n      <td>contigo y aqui</td>\n      <td>NaN</td>\n      <td>70.0</td>\n      <td>[Spanish Language]</td>\n      <td>[Argentina]</td>\n      <td>[Musical, Drama, Comedy]</td>\n      <td>NaN</td>\n      <td>1974.0</td>\n      <td>tt0200545</td>\n      <td>movie</td>\n      <td>Contigo y aquí</td>\n      <td>0.0</td>\n      <td>\\N</td>\n      <td>[Comedy, Drama, Musical]</td>\n      <td>NaN</td>\n      <td>NaN</td>\n      <td>NaN</td>\n      <td>NaN</td>\n    </tr>\n    <tr>\n      <th>8</th>\n      <td>2345652</td>\n      <td>/m/075f66</td>\n      <td>city of the dead</td>\n      <td>NaN</td>\n      <td>76.0</td>\n      <td>[English Language]</td>\n      <td>[United Kingdom]</td>\n      <td>[Horror, Supernatural]</td>\n      <td>NaN</td>\n      <td>1960.0</td>\n      <td>tt0053719</td>\n      <td>movie</td>\n      <td>The City of the Dead</td>\n      <td>0.0</td>\n      <td>\\N</td>\n      <td>[Horror, Mystery, Thriller]</td>\n      <td>6.7</td>\n      <td>8261.0</td>\n      <td>NaN</td>\n      <td>1.514972</td>\n    </tr>\n    <tr>\n      <th>9</th>\n      <td>175026</td>\n      <td>/m/017n1p</td>\n      <td>sarah and son</td>\n      <td>NaN</td>\n      <td>86.0</td>\n      <td>[English Language]</td>\n      <td>[United States of America]</td>\n      <td>[Drama, Black-and-white]</td>\n      <td>NaN</td>\n      <td>1930.0</td>\n      <td>tt0021335</td>\n      <td>movie</td>\n      <td>Sarah and Son</td>\n      <td>0.0</td>\n      <td>\\N</td>\n      <td>[Drama, Romance]</td>\n      <td>5.4</td>\n      <td>298.0</td>\n      <td>NaN</td>\n      <td>NaN</td>\n    </tr>\n  </tbody>\n</table>\n</div>"
     },
     "execution_count": 3,
     "metadata": {},
     "output_type": "execute_result"
    }
   ],
   "source": [
    "DATA_FOLDER = \"../Data/\"\n",
    "movies_imdb = pd.read_csv(DATA_FOLDER + 'movies_imdb.csv',\n",
    "                          converters={'languages': parse_list, 'countries': parse_list, 'genresCmu': parse_list,\n",
    "                                      'genresImdb': parse_list})\n",
    "movies_imdb.head(10)"
   ],
   "metadata": {
    "collapsed": false,
    "ExecuteTime": {
     "end_time": "2023-11-12T23:29:35.782283500Z",
     "start_time": "2023-11-12T23:29:33.334193500Z"
    }
   },
   "id": "15c37c7283fc631a"
  },
  {
   "cell_type": "code",
   "execution_count": 4,
   "outputs": [
    {
     "name": "stderr",
     "output_type": "stream",
     "text": [
      "Fetching movie data: 100%|██████████| 81626/81626 [3:10:07<00:00,  7.16it/s]    \n"
     ]
    },
    {
     "data": {
      "text/plain": "                                                   Title  Year      Rated  \\\n0      Getting Away with Murder: The JonBenet Ramsey ...  2000        N/A   \n1                                            Brun bitter  1988        N/A   \n2                                       White of the Eye  1987          R   \n3                                      A Woman in Flames  1983  Not Rated   \n4                                          The Gangsters  1913        N/A   \n...                                                  ...   ...        ...   \n50682                               The Luck of the Navy  1927        N/A   \n50683                                     Esrefpasalilar  2010        N/A   \n50684                                    The Ghost Train  1941  Not Rated   \n50685                                            Knuckle  2011          R   \n50686                                  Another Nice Mess  1972         PG   \n\n          Released  Runtime                          Genre  \\\n0      16 Feb 2000   95 min                          Drama   \n1      17 Nov 1988   83 min                   Crime, Drama   \n2      19 Jun 1987  110 min      Horror, Mystery, Thriller   \n3      10 Jun 1983  106 min                          Drama   \n4      29 May 1913   35 min                  Comedy, Short   \n...            ...      ...                            ...   \n50682  06 Dec 1929  110 min                  Action, Drama   \n50683  05 Mar 2010  100 min                  Comedy, Drama   \n50684  05 May 1941   85 min                 Comedy, Horror   \n50685  09 Dec 2011   97 min  Documentary, Biography, Drama   \n50686  22 Sep 1972   66 min                         Comedy   \n\n                 Director                                     Writer  \\\n0            Edward Lucas              Michael A. Graham, Ted Haimes   \n1            Sølve Skagen             Sølve Skagen, Gunnar Staalesen   \n2          Donald Cammell  China Kong, Donald Cammell, Andrew Klavan   \n3      Robert van Ackeren      Robert van Ackeren, Catharina Zwerenz   \n4           Henry Lehrman                                 Fred Niblo   \n...                   ...                                        ...   \n50682           Fred Paul                             Clifford Mills   \n50683     Hüdaverdi Yavuz                                Burak Tarik   \n50684        Walter Forde     Arnold Ridley, J.O.C. Orton, Val Guest   \n50685          Ian Palmer                                        N/A   \n50686        Bob Einstein                               Bob Einstein   \n\n                                                  Actors  \\\n0                 Alice Barrett, Rod Britt, Hildy Brooks   \n1           Frank Krog, Kristin Kajander, Anne Krigsvoll   \n2            David Keith, Cathy Moriarty, Alan Rosenberg   \n3      Gudrun Landgrebe, Mathieu Carrière, Hanns Zisc...   \n4        Roscoe 'Fatty' Arbuckle, Fred Mace, Nick Cogley   \n...                                                  ...   \n50682           Evelyn Laye, Henry Victor, Hayford Hobbs   \n50683        Sinan Albayrak, Burak Tarik, Turgay Tanülkü   \n50684   Arthur Askey, Richard Murdoch, Kathleen Harrison   \n50685  James Quinn McDonagh, Paddy Quinn McDonagh, Mi...   \n50686           Rich Little, Herb Voland, Diahn Williams   \n\n                                                    Plot  ...   Type  \\\n0      Six-year-old JonBenét Ramsey, whose body was f...  ...  movie   \n1      The lonely, divorced and disillusioned lawyer ...  ...  movie   \n2      Somebody's killing rich married women in their...  ...  movie   \n3      Eva, an upper-class housewife, frustratingly l...  ...  movie   \n4      An amusing burlesque of gang fighters. The pol...  ...  movie   \n...                                                  ...  ...    ...   \n50682  A spy has his son steal an Admiral's submarine...  ...  movie   \n50683  The story of a newly appointed imam to an aban...  ...  movie   \n50684  High jinks and chills ensue when a group of pe...  ...  movie   \n50685  An epic 12-year journey into the brutal and se...  ...  movie   \n50686  Farce / Spoof Comedy: President Nixon and V.P....  ...  movie   \n\n               DVD BoxOffice Production Website Response Error Season Episode  \\\n0              N/A       N/A        N/A     N/A     True   NaN    NaN     NaN   \n1              N/A       N/A        N/A     N/A     True   NaN    NaN     NaN   \n2      10 Aug 2016  $225,132        N/A     N/A     True   NaN    NaN     NaN   \n3      20 Mar 2017       N/A        N/A     N/A     True   NaN    NaN     NaN   \n4              N/A       N/A        N/A     N/A     True   NaN    NaN     NaN   \n...            ...       ...        ...     ...      ...   ...    ...     ...   \n50682          N/A       N/A        N/A     N/A     True   NaN    NaN     NaN   \n50683          N/A       N/A        N/A     N/A     True   NaN    NaN     NaN   \n50684          N/A       N/A        N/A     N/A     True   NaN    NaN     NaN   \n50685  18 Nov 2016    $2,647        N/A     N/A     True   NaN    NaN     NaN   \n50686          N/A       N/A        N/A     N/A     True   NaN    NaN     NaN   \n\n      seriesID  \n0          NaN  \n1          NaN  \n2          NaN  \n3          NaN  \n4          NaN  \n...        ...  \n50682      NaN  \n50683      NaN  \n50684      NaN  \n50685      NaN  \n50686      NaN  \n\n[50687 rows x 29 columns]",
      "text/html": "<div>\n<style scoped>\n    .dataframe tbody tr th:only-of-type {\n        vertical-align: middle;\n    }\n\n    .dataframe tbody tr th {\n        vertical-align: top;\n    }\n\n    .dataframe thead th {\n        text-align: right;\n    }\n</style>\n<table border=\"1\" class=\"dataframe\">\n  <thead>\n    <tr style=\"text-align: right;\">\n      <th></th>\n      <th>Title</th>\n      <th>Year</th>\n      <th>Rated</th>\n      <th>Released</th>\n      <th>Runtime</th>\n      <th>Genre</th>\n      <th>Director</th>\n      <th>Writer</th>\n      <th>Actors</th>\n      <th>Plot</th>\n      <th>...</th>\n      <th>Type</th>\n      <th>DVD</th>\n      <th>BoxOffice</th>\n      <th>Production</th>\n      <th>Website</th>\n      <th>Response</th>\n      <th>Error</th>\n      <th>Season</th>\n      <th>Episode</th>\n      <th>seriesID</th>\n    </tr>\n  </thead>\n  <tbody>\n    <tr>\n      <th>0</th>\n      <td>Getting Away with Murder: The JonBenet Ramsey ...</td>\n      <td>2000</td>\n      <td>N/A</td>\n      <td>16 Feb 2000</td>\n      <td>95 min</td>\n      <td>Drama</td>\n      <td>Edward Lucas</td>\n      <td>Michael A. Graham, Ted Haimes</td>\n      <td>Alice Barrett, Rod Britt, Hildy Brooks</td>\n      <td>Six-year-old JonBenét Ramsey, whose body was f...</td>\n      <td>...</td>\n      <td>movie</td>\n      <td>N/A</td>\n      <td>N/A</td>\n      <td>N/A</td>\n      <td>N/A</td>\n      <td>True</td>\n      <td>NaN</td>\n      <td>NaN</td>\n      <td>NaN</td>\n      <td>NaN</td>\n    </tr>\n    <tr>\n      <th>1</th>\n      <td>Brun bitter</td>\n      <td>1988</td>\n      <td>N/A</td>\n      <td>17 Nov 1988</td>\n      <td>83 min</td>\n      <td>Crime, Drama</td>\n      <td>Sølve Skagen</td>\n      <td>Sølve Skagen, Gunnar Staalesen</td>\n      <td>Frank Krog, Kristin Kajander, Anne Krigsvoll</td>\n      <td>The lonely, divorced and disillusioned lawyer ...</td>\n      <td>...</td>\n      <td>movie</td>\n      <td>N/A</td>\n      <td>N/A</td>\n      <td>N/A</td>\n      <td>N/A</td>\n      <td>True</td>\n      <td>NaN</td>\n      <td>NaN</td>\n      <td>NaN</td>\n      <td>NaN</td>\n    </tr>\n    <tr>\n      <th>2</th>\n      <td>White of the Eye</td>\n      <td>1987</td>\n      <td>R</td>\n      <td>19 Jun 1987</td>\n      <td>110 min</td>\n      <td>Horror, Mystery, Thriller</td>\n      <td>Donald Cammell</td>\n      <td>China Kong, Donald Cammell, Andrew Klavan</td>\n      <td>David Keith, Cathy Moriarty, Alan Rosenberg</td>\n      <td>Somebody's killing rich married women in their...</td>\n      <td>...</td>\n      <td>movie</td>\n      <td>10 Aug 2016</td>\n      <td>$225,132</td>\n      <td>N/A</td>\n      <td>N/A</td>\n      <td>True</td>\n      <td>NaN</td>\n      <td>NaN</td>\n      <td>NaN</td>\n      <td>NaN</td>\n    </tr>\n    <tr>\n      <th>3</th>\n      <td>A Woman in Flames</td>\n      <td>1983</td>\n      <td>Not Rated</td>\n      <td>10 Jun 1983</td>\n      <td>106 min</td>\n      <td>Drama</td>\n      <td>Robert van Ackeren</td>\n      <td>Robert van Ackeren, Catharina Zwerenz</td>\n      <td>Gudrun Landgrebe, Mathieu Carrière, Hanns Zisc...</td>\n      <td>Eva, an upper-class housewife, frustratingly l...</td>\n      <td>...</td>\n      <td>movie</td>\n      <td>20 Mar 2017</td>\n      <td>N/A</td>\n      <td>N/A</td>\n      <td>N/A</td>\n      <td>True</td>\n      <td>NaN</td>\n      <td>NaN</td>\n      <td>NaN</td>\n      <td>NaN</td>\n    </tr>\n    <tr>\n      <th>4</th>\n      <td>The Gangsters</td>\n      <td>1913</td>\n      <td>N/A</td>\n      <td>29 May 1913</td>\n      <td>35 min</td>\n      <td>Comedy, Short</td>\n      <td>Henry Lehrman</td>\n      <td>Fred Niblo</td>\n      <td>Roscoe 'Fatty' Arbuckle, Fred Mace, Nick Cogley</td>\n      <td>An amusing burlesque of gang fighters. The pol...</td>\n      <td>...</td>\n      <td>movie</td>\n      <td>N/A</td>\n      <td>N/A</td>\n      <td>N/A</td>\n      <td>N/A</td>\n      <td>True</td>\n      <td>NaN</td>\n      <td>NaN</td>\n      <td>NaN</td>\n      <td>NaN</td>\n    </tr>\n    <tr>\n      <th>...</th>\n      <td>...</td>\n      <td>...</td>\n      <td>...</td>\n      <td>...</td>\n      <td>...</td>\n      <td>...</td>\n      <td>...</td>\n      <td>...</td>\n      <td>...</td>\n      <td>...</td>\n      <td>...</td>\n      <td>...</td>\n      <td>...</td>\n      <td>...</td>\n      <td>...</td>\n      <td>...</td>\n      <td>...</td>\n      <td>...</td>\n      <td>...</td>\n      <td>...</td>\n      <td>...</td>\n    </tr>\n    <tr>\n      <th>50682</th>\n      <td>The Luck of the Navy</td>\n      <td>1927</td>\n      <td>N/A</td>\n      <td>06 Dec 1929</td>\n      <td>110 min</td>\n      <td>Action, Drama</td>\n      <td>Fred Paul</td>\n      <td>Clifford Mills</td>\n      <td>Evelyn Laye, Henry Victor, Hayford Hobbs</td>\n      <td>A spy has his son steal an Admiral's submarine...</td>\n      <td>...</td>\n      <td>movie</td>\n      <td>N/A</td>\n      <td>N/A</td>\n      <td>N/A</td>\n      <td>N/A</td>\n      <td>True</td>\n      <td>NaN</td>\n      <td>NaN</td>\n      <td>NaN</td>\n      <td>NaN</td>\n    </tr>\n    <tr>\n      <th>50683</th>\n      <td>Esrefpasalilar</td>\n      <td>2010</td>\n      <td>N/A</td>\n      <td>05 Mar 2010</td>\n      <td>100 min</td>\n      <td>Comedy, Drama</td>\n      <td>Hüdaverdi Yavuz</td>\n      <td>Burak Tarik</td>\n      <td>Sinan Albayrak, Burak Tarik, Turgay Tanülkü</td>\n      <td>The story of a newly appointed imam to an aban...</td>\n      <td>...</td>\n      <td>movie</td>\n      <td>N/A</td>\n      <td>N/A</td>\n      <td>N/A</td>\n      <td>N/A</td>\n      <td>True</td>\n      <td>NaN</td>\n      <td>NaN</td>\n      <td>NaN</td>\n      <td>NaN</td>\n    </tr>\n    <tr>\n      <th>50684</th>\n      <td>The Ghost Train</td>\n      <td>1941</td>\n      <td>Not Rated</td>\n      <td>05 May 1941</td>\n      <td>85 min</td>\n      <td>Comedy, Horror</td>\n      <td>Walter Forde</td>\n      <td>Arnold Ridley, J.O.C. Orton, Val Guest</td>\n      <td>Arthur Askey, Richard Murdoch, Kathleen Harrison</td>\n      <td>High jinks and chills ensue when a group of pe...</td>\n      <td>...</td>\n      <td>movie</td>\n      <td>N/A</td>\n      <td>N/A</td>\n      <td>N/A</td>\n      <td>N/A</td>\n      <td>True</td>\n      <td>NaN</td>\n      <td>NaN</td>\n      <td>NaN</td>\n      <td>NaN</td>\n    </tr>\n    <tr>\n      <th>50685</th>\n      <td>Knuckle</td>\n      <td>2011</td>\n      <td>R</td>\n      <td>09 Dec 2011</td>\n      <td>97 min</td>\n      <td>Documentary, Biography, Drama</td>\n      <td>Ian Palmer</td>\n      <td>N/A</td>\n      <td>James Quinn McDonagh, Paddy Quinn McDonagh, Mi...</td>\n      <td>An epic 12-year journey into the brutal and se...</td>\n      <td>...</td>\n      <td>movie</td>\n      <td>18 Nov 2016</td>\n      <td>$2,647</td>\n      <td>N/A</td>\n      <td>N/A</td>\n      <td>True</td>\n      <td>NaN</td>\n      <td>NaN</td>\n      <td>NaN</td>\n      <td>NaN</td>\n    </tr>\n    <tr>\n      <th>50686</th>\n      <td>Another Nice Mess</td>\n      <td>1972</td>\n      <td>PG</td>\n      <td>22 Sep 1972</td>\n      <td>66 min</td>\n      <td>Comedy</td>\n      <td>Bob Einstein</td>\n      <td>Bob Einstein</td>\n      <td>Rich Little, Herb Voland, Diahn Williams</td>\n      <td>Farce / Spoof Comedy: President Nixon and V.P....</td>\n      <td>...</td>\n      <td>movie</td>\n      <td>N/A</td>\n      <td>N/A</td>\n      <td>N/A</td>\n      <td>N/A</td>\n      <td>True</td>\n      <td>NaN</td>\n      <td>NaN</td>\n      <td>NaN</td>\n      <td>NaN</td>\n    </tr>\n  </tbody>\n</table>\n<p>50687 rows × 29 columns</p>\n</div>"
     },
     "execution_count": 4,
     "metadata": {},
     "output_type": "execute_result"
    }
   ],
   "source": [
    "# function to fetch all movie data for a given imdb id\n",
    "def fetch_movie_data(imdbID, api_key):\n",
    "    base_url = \"http://www.omdbapi.com/\"\n",
    "    params = {'i': imdbID, 'apikey': api_key}\n",
    "    response = requests.get(base_url, params=params)\n",
    "    movie_data = response.json()\n",
    "\n",
    "    return movie_data\n",
    "\n",
    "\n",
    "api_key = '2cdf120a'\n",
    "\n",
    "movie_data_example = fetch_movie_data('tt0000001', api_key)\n",
    "omdb = pd.DataFrame(columns=movie_data_example.keys())\n",
    "\n",
    "# iterate over the 'imdbID' column with tqdm\n",
    "for imdb_id in tqdm(movies_imdb['imdbID'], desc='Fetching movie data'):\n",
    "    success = False\n",
    "    retries = 0\n",
    "    max_retries = 5  # maximum number of retries\n",
    "    backoff_factor = 1.5  # growth rate of the delay between retries\n",
    "\n",
    "    if pd.notna(imdb_id):\n",
    "        while not success and retries < max_retries:\n",
    "            try:\n",
    "                # fetch movie data\n",
    "                movie_data = fetch_movie_data(imdb_id, api_key)\n",
    "                # convert dictionary to pandas Series and append to the omdb DataFrame\n",
    "                omdb = pd.concat([omdb, pd.DataFrame([movie_data])], ignore_index=True)\n",
    "                success = True\n",
    "            except json.JSONDecodeError:\n",
    "                print(f\"Failed to fetch data for IMDb ID: {imdb_id}\")\n",
    "                retries += 1\n",
    "                sleep_time = backoff_factor ** retries  # exponential backoff\n",
    "                print(f\"Retrying in {sleep_time} seconds...\")\n",
    "                sleep(sleep_time)\n",
    "            except Exception as e:\n",
    "                print(f\"An error occurred: {e}\")\n",
    "                break\n",
    "omdb"
   ],
   "metadata": {
    "collapsed": false,
    "ExecuteTime": {
     "end_time": "2023-11-13T02:40:06.013425900Z",
     "start_time": "2023-11-12T23:29:58.306101200Z"
    }
   },
   "id": "fcdc99bdb5b1dc6a"
  },
  {
   "cell_type": "code",
   "execution_count": 5,
   "outputs": [],
   "source": [
    "omdb.to_csv(DATA_FOLDER + 'OMDb/omdb.csv', index=False)"
   ],
   "metadata": {
    "collapsed": false,
    "ExecuteTime": {
     "end_time": "2023-11-13T02:40:06.663105400Z",
     "start_time": "2023-11-13T02:40:06.001893700Z"
    }
   },
   "id": "fc488195a4c547c8"
  }
 ],
 "metadata": {
  "kernelspec": {
   "display_name": "Python 3",
   "language": "python",
   "name": "python3"
  },
  "language_info": {
   "codemirror_mode": {
    "name": "ipython",
    "version": 2
   },
   "file_extension": ".py",
   "mimetype": "text/x-python",
   "name": "python",
   "nbconvert_exporter": "python",
   "pygments_lexer": "ipython2",
   "version": "2.7.6"
  }
 },
 "nbformat": 4,
 "nbformat_minor": 5
}
