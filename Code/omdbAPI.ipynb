{
 "cells": [
  {
   "cell_type": "code",
   "execution_count": 1,
   "id": "initial_id",
   "metadata": {
    "collapsed": true,
    "ExecuteTime": {
     "end_time": "2023-11-06T18:10:13.884536Z",
     "start_time": "2023-11-06T18:10:13.848438Z"
    }
   },
   "outputs": [],
   "source": [
    "import requests\n",
    "import pandas as pd\n",
    "import numpy as np\n",
    "import matplotlib.pyplot as plt\n",
    "import seaborn as sns\n",
    "from tqdm import tqdm\n",
    "from time import sleep\n",
    "import json\n",
    "from helpers import *\n",
    "import warnings\n",
    "\n",
    "warnings.filterwarnings(\"ignore\")\n",
    "plt.rcdefaults()"
   ]
  },
  {
   "cell_type": "code",
   "execution_count": 2,
   "outputs": [
    {
     "data": {
      "text/plain": "     wikiID        fbID                                               name  \\\n0   3196793   /m/08yl5d  Getting Away with Murder: The JonBenét Ramsey ...   \n1  28463795  /m/0crgdbh                                        Brun bitter   \n2   9363483  /m/0285_cd                                   White Of The Eye   \n3    261236   /m/01mrr1                                  A Woman in Flames   \n4  13696889  /m/03cfc81                                      The Gangsters   \n5  18998739  /m/04jcqvw                          The Sorcerer's Apprentice   \n6  10408933  /m/02qc0j7                           Alexander's Ragtime Band   \n7   9997961  /m/06_y2j7                                     Contigo y aquí   \n8   2345652   /m/075f66                                   City of the Dead   \n9    175026   /m/017n1p                                      Sarah and Son   \n\n   boxOffice  runtime                        languages  \\\n0        NaN     95.0               [English Language]   \n1        NaN     83.0             [Norwegian Language]   \n2        NaN    110.0               [English Language]   \n3        NaN    106.0                [German Language]   \n4        NaN     35.0  [Silent film, English Language]   \n5        NaN     86.0               [English Language]   \n6  3600000.0    106.0               [English Language]   \n7        NaN      NaN               [Spanish Language]   \n8        NaN     76.0               [English Language]   \n9        NaN     86.0               [English Language]   \n\n                    countries  \\\n0  [United States of America]   \n1                    [Norway]   \n2            [United Kingdom]   \n3                   [Germany]   \n4  [United States of America]   \n5              [South Africa]   \n6  [United States of America]   \n7                 [Argentina]   \n8            [United Kingdom]   \n9  [United States of America]   \n\n                                           genresCmu  releaseMonth  \\\n0   [Mystery, Biographical film, Drama, Crime Drama]           2.0   \n1                             [Crime Fiction, Drama]           NaN   \n2  [Thriller, Erotic thriller, Psychological thri...           NaN   \n3                                            [Drama]           NaN   \n4  [Short Film, Silent film, Indie, Black-and-whi...           5.0   \n5    [Family Film, Fantasy, Adventure, World cinema]           NaN   \n6                 [Musical, Comedy, Black-and-white]           8.0   \n7                           [Musical, Drama, Comedy]           NaN   \n8                             [Horror, Supernatural]           NaN   \n9                           [Drama, Black-and-white]           NaN   \n\n   releaseYear     imdbID titleType             originalTitle  isAdult  \\\n0       2000.0        NaN       NaN                       NaN      NaN   \n1       1988.0  tt0094806     movie               Brun bitter      0.0   \n2       1987.0        NaN       NaN                       NaN      NaN   \n3       1983.0  tt0083949     movie       Die flambierte Frau      0.0   \n4       1913.0  tt0002894     short             The Gangsters      0.0   \n5       2002.0        NaN       NaN                       NaN      NaN   \n6       1938.0  tt0029852     movie  Alexander's Ragtime Band      0.0   \n7       1974.0        NaN       NaN                       NaN      NaN   \n8       1960.0        NaN       NaN                       NaN      NaN   \n9       1930.0  tt0021335     movie             Sarah and Son      0.0   \n\n  endYear               genresImdb  averageRating  numVotes     budget  \\\n0     NaN                      NaN            NaN       NaN        NaN   \n1      \\N           [Crime, Drama]            5.6      40.0        NaN   \n2     NaN                      NaN            NaN       NaN        NaN   \n3      \\N                  [Drama]            6.0     621.0        NaN   \n4      \\N          [Comedy, Short]            6.8      16.0        NaN   \n5     NaN                      NaN            NaN       NaN        NaN   \n6      \\N  [Drama, Music, Musical]            6.8    2264.0  2000000.0   \n7     NaN                      NaN            NaN       NaN        NaN   \n8     NaN                      NaN            NaN       NaN        NaN   \n9      \\N         [Drama, Romance]            5.4     298.0        NaN   \n\n   popularity  \n0         NaN  \n1         NaN  \n2         NaN  \n3         NaN  \n4         NaN  \n5         NaN  \n6    0.632261  \n7         NaN  \n8         NaN  \n9         NaN  ",
      "text/html": "<div>\n<style scoped>\n    .dataframe tbody tr th:only-of-type {\n        vertical-align: middle;\n    }\n\n    .dataframe tbody tr th {\n        vertical-align: top;\n    }\n\n    .dataframe thead th {\n        text-align: right;\n    }\n</style>\n<table border=\"1\" class=\"dataframe\">\n  <thead>\n    <tr style=\"text-align: right;\">\n      <th></th>\n      <th>wikiID</th>\n      <th>fbID</th>\n      <th>name</th>\n      <th>boxOffice</th>\n      <th>runtime</th>\n      <th>languages</th>\n      <th>countries</th>\n      <th>genresCmu</th>\n      <th>releaseMonth</th>\n      <th>releaseYear</th>\n      <th>imdbID</th>\n      <th>titleType</th>\n      <th>originalTitle</th>\n      <th>isAdult</th>\n      <th>endYear</th>\n      <th>genresImdb</th>\n      <th>averageRating</th>\n      <th>numVotes</th>\n      <th>budget</th>\n      <th>popularity</th>\n    </tr>\n  </thead>\n  <tbody>\n    <tr>\n      <th>0</th>\n      <td>3196793</td>\n      <td>/m/08yl5d</td>\n      <td>Getting Away with Murder: The JonBenét Ramsey ...</td>\n      <td>NaN</td>\n      <td>95.0</td>\n      <td>[English Language]</td>\n      <td>[United States of America]</td>\n      <td>[Mystery, Biographical film, Drama, Crime Drama]</td>\n      <td>2.0</td>\n      <td>2000.0</td>\n      <td>NaN</td>\n      <td>NaN</td>\n      <td>NaN</td>\n      <td>NaN</td>\n      <td>NaN</td>\n      <td>NaN</td>\n      <td>NaN</td>\n      <td>NaN</td>\n      <td>NaN</td>\n      <td>NaN</td>\n    </tr>\n    <tr>\n      <th>1</th>\n      <td>28463795</td>\n      <td>/m/0crgdbh</td>\n      <td>Brun bitter</td>\n      <td>NaN</td>\n      <td>83.0</td>\n      <td>[Norwegian Language]</td>\n      <td>[Norway]</td>\n      <td>[Crime Fiction, Drama]</td>\n      <td>NaN</td>\n      <td>1988.0</td>\n      <td>tt0094806</td>\n      <td>movie</td>\n      <td>Brun bitter</td>\n      <td>0.0</td>\n      <td>\\N</td>\n      <td>[Crime, Drama]</td>\n      <td>5.6</td>\n      <td>40.0</td>\n      <td>NaN</td>\n      <td>NaN</td>\n    </tr>\n    <tr>\n      <th>2</th>\n      <td>9363483</td>\n      <td>/m/0285_cd</td>\n      <td>White Of The Eye</td>\n      <td>NaN</td>\n      <td>110.0</td>\n      <td>[English Language]</td>\n      <td>[United Kingdom]</td>\n      <td>[Thriller, Erotic thriller, Psychological thri...</td>\n      <td>NaN</td>\n      <td>1987.0</td>\n      <td>NaN</td>\n      <td>NaN</td>\n      <td>NaN</td>\n      <td>NaN</td>\n      <td>NaN</td>\n      <td>NaN</td>\n      <td>NaN</td>\n      <td>NaN</td>\n      <td>NaN</td>\n      <td>NaN</td>\n    </tr>\n    <tr>\n      <th>3</th>\n      <td>261236</td>\n      <td>/m/01mrr1</td>\n      <td>A Woman in Flames</td>\n      <td>NaN</td>\n      <td>106.0</td>\n      <td>[German Language]</td>\n      <td>[Germany]</td>\n      <td>[Drama]</td>\n      <td>NaN</td>\n      <td>1983.0</td>\n      <td>tt0083949</td>\n      <td>movie</td>\n      <td>Die flambierte Frau</td>\n      <td>0.0</td>\n      <td>\\N</td>\n      <td>[Drama]</td>\n      <td>6.0</td>\n      <td>621.0</td>\n      <td>NaN</td>\n      <td>NaN</td>\n    </tr>\n    <tr>\n      <th>4</th>\n      <td>13696889</td>\n      <td>/m/03cfc81</td>\n      <td>The Gangsters</td>\n      <td>NaN</td>\n      <td>35.0</td>\n      <td>[Silent film, English Language]</td>\n      <td>[United States of America]</td>\n      <td>[Short Film, Silent film, Indie, Black-and-whi...</td>\n      <td>5.0</td>\n      <td>1913.0</td>\n      <td>tt0002894</td>\n      <td>short</td>\n      <td>The Gangsters</td>\n      <td>0.0</td>\n      <td>\\N</td>\n      <td>[Comedy, Short]</td>\n      <td>6.8</td>\n      <td>16.0</td>\n      <td>NaN</td>\n      <td>NaN</td>\n    </tr>\n    <tr>\n      <th>5</th>\n      <td>18998739</td>\n      <td>/m/04jcqvw</td>\n      <td>The Sorcerer's Apprentice</td>\n      <td>NaN</td>\n      <td>86.0</td>\n      <td>[English Language]</td>\n      <td>[South Africa]</td>\n      <td>[Family Film, Fantasy, Adventure, World cinema]</td>\n      <td>NaN</td>\n      <td>2002.0</td>\n      <td>NaN</td>\n      <td>NaN</td>\n      <td>NaN</td>\n      <td>NaN</td>\n      <td>NaN</td>\n      <td>NaN</td>\n      <td>NaN</td>\n      <td>NaN</td>\n      <td>NaN</td>\n      <td>NaN</td>\n    </tr>\n    <tr>\n      <th>6</th>\n      <td>10408933</td>\n      <td>/m/02qc0j7</td>\n      <td>Alexander's Ragtime Band</td>\n      <td>3600000.0</td>\n      <td>106.0</td>\n      <td>[English Language]</td>\n      <td>[United States of America]</td>\n      <td>[Musical, Comedy, Black-and-white]</td>\n      <td>8.0</td>\n      <td>1938.0</td>\n      <td>tt0029852</td>\n      <td>movie</td>\n      <td>Alexander's Ragtime Band</td>\n      <td>0.0</td>\n      <td>\\N</td>\n      <td>[Drama, Music, Musical]</td>\n      <td>6.8</td>\n      <td>2264.0</td>\n      <td>2000000.0</td>\n      <td>0.632261</td>\n    </tr>\n    <tr>\n      <th>7</th>\n      <td>9997961</td>\n      <td>/m/06_y2j7</td>\n      <td>Contigo y aquí</td>\n      <td>NaN</td>\n      <td>NaN</td>\n      <td>[Spanish Language]</td>\n      <td>[Argentina]</td>\n      <td>[Musical, Drama, Comedy]</td>\n      <td>NaN</td>\n      <td>1974.0</td>\n      <td>NaN</td>\n      <td>NaN</td>\n      <td>NaN</td>\n      <td>NaN</td>\n      <td>NaN</td>\n      <td>NaN</td>\n      <td>NaN</td>\n      <td>NaN</td>\n      <td>NaN</td>\n      <td>NaN</td>\n    </tr>\n    <tr>\n      <th>8</th>\n      <td>2345652</td>\n      <td>/m/075f66</td>\n      <td>City of the Dead</td>\n      <td>NaN</td>\n      <td>76.0</td>\n      <td>[English Language]</td>\n      <td>[United Kingdom]</td>\n      <td>[Horror, Supernatural]</td>\n      <td>NaN</td>\n      <td>1960.0</td>\n      <td>NaN</td>\n      <td>NaN</td>\n      <td>NaN</td>\n      <td>NaN</td>\n      <td>NaN</td>\n      <td>NaN</td>\n      <td>NaN</td>\n      <td>NaN</td>\n      <td>NaN</td>\n      <td>NaN</td>\n    </tr>\n    <tr>\n      <th>9</th>\n      <td>175026</td>\n      <td>/m/017n1p</td>\n      <td>Sarah and Son</td>\n      <td>NaN</td>\n      <td>86.0</td>\n      <td>[English Language]</td>\n      <td>[United States of America]</td>\n      <td>[Drama, Black-and-white]</td>\n      <td>NaN</td>\n      <td>1930.0</td>\n      <td>tt0021335</td>\n      <td>movie</td>\n      <td>Sarah and Son</td>\n      <td>0.0</td>\n      <td>\\N</td>\n      <td>[Drama, Romance]</td>\n      <td>5.4</td>\n      <td>298.0</td>\n      <td>NaN</td>\n      <td>NaN</td>\n    </tr>\n  </tbody>\n</table>\n</div>"
     },
     "execution_count": 2,
     "metadata": {},
     "output_type": "execute_result"
    }
   ],
   "source": [
    "DATA_FOLDER = \"../Data/\"\n",
    "movies_imdb = pd.read_csv(DATA_FOLDER + 'movies_imdb.csv',\n",
    "                          converters={'languages': parse_list, 'countries': parse_list, 'genresCmu': parse_list,\n",
    "                                      'genresImdb': parse_list})\n",
    "movies_imdb.head(10)"
   ],
   "metadata": {
    "collapsed": false,
    "ExecuteTime": {
     "end_time": "2023-11-06T18:10:15.439320Z",
     "start_time": "2023-11-06T18:10:13.884967Z"
    }
   },
   "id": "15c37c7283fc631a"
  },
  {
   "cell_type": "code",
   "execution_count": 3,
   "outputs": [
    {
     "name": "stderr",
     "output_type": "stream",
     "text": [
      "Fetching movie data:   2%|▏         | 1858/81630 [06:40<4:18:32,  5.14it/s]  "
     ]
    },
    {
     "name": "stdout",
     "output_type": "stream",
     "text": [
      "Failed to fetch data for IMDb ID: tt14449300\n",
      "Retrying in 1.5 seconds...\n"
     ]
    },
    {
     "name": "stderr",
     "output_type": "stream",
     "text": [
      "Fetching movie data:   7%|▋         | 5738/81630 [18:00<2:28:42,  8.51it/s]  "
     ]
    },
    {
     "name": "stdout",
     "output_type": "stream",
     "text": [
      "Failed to fetch data for IMDb ID: tt27792386\n",
      "Retrying in 1.5 seconds...\n"
     ]
    },
    {
     "name": "stderr",
     "output_type": "stream",
     "text": [
      "Fetching movie data:  13%|█▎        | 10620/81630 [34:07<2:44:48,  7.18it/s] "
     ]
    },
    {
     "name": "stdout",
     "output_type": "stream",
     "text": [
      "Failed to fetch data for IMDb ID: tt11725726\n",
      "Retrying in 1.5 seconds...\n"
     ]
    },
    {
     "name": "stderr",
     "output_type": "stream",
     "text": [
      "Fetching movie data:  17%|█▋        | 14079/81630 [47:42<1:29:51, 12.53it/s]  "
     ]
    },
    {
     "name": "stdout",
     "output_type": "stream",
     "text": [
      "Failed to fetch data for IMDb ID: tt11455636\n",
      "Retrying in 1.5 seconds...\n"
     ]
    },
    {
     "name": "stderr",
     "output_type": "stream",
     "text": [
      "Fetching movie data:  33%|███▎      | 27301/81630 [1:25:33<1:41:32,  8.92it/s]  "
     ]
    },
    {
     "name": "stdout",
     "output_type": "stream",
     "text": [
      "Failed to fetch data for IMDb ID: tt27628011\n",
      "Retrying in 1.5 seconds...\n"
     ]
    },
    {
     "name": "stderr",
     "output_type": "stream",
     "text": [
      "Fetching movie data:  35%|███▍      | 28416/81630 [1:30:43<1:16:01, 11.67it/s]  "
     ]
    },
    {
     "name": "stdout",
     "output_type": "stream",
     "text": [
      "Failed to fetch data for IMDb ID: tt14134980\n",
      "Retrying in 1.5 seconds...\n"
     ]
    },
    {
     "name": "stderr",
     "output_type": "stream",
     "text": [
      "Fetching movie data:  41%|████▏     | 33737/81630 [1:47:44<1:08:06, 11.72it/s]  "
     ]
    },
    {
     "name": "stdout",
     "output_type": "stream",
     "text": [
      "Failed to fetch data for IMDb ID: tt0763842\n",
      "Retrying in 1.5 seconds...\n"
     ]
    },
    {
     "name": "stderr",
     "output_type": "stream",
     "text": [
      "Fetching movie data:  47%|████▋     | 38217/81630 [2:03:44<59:26, 12.17it/s]    "
     ]
    },
    {
     "name": "stdout",
     "output_type": "stream",
     "text": [
      "Failed to fetch data for IMDb ID: tt0435633\n",
      "Retrying in 1.5 seconds...\n"
     ]
    },
    {
     "name": "stderr",
     "output_type": "stream",
     "text": [
      "Fetching movie data:  54%|█████▍    | 44089/81630 [2:22:15<58:19, 10.73it/s]    "
     ]
    },
    {
     "name": "stdout",
     "output_type": "stream",
     "text": [
      "Failed to fetch data for IMDb ID: tt6096972\n",
      "Retrying in 1.5 seconds...\n"
     ]
    },
    {
     "name": "stderr",
     "output_type": "stream",
     "text": [
      "Fetching movie data:  61%|██████    | 49484/81630 [2:40:16<53:20, 10.04it/s]    "
     ]
    },
    {
     "name": "stdout",
     "output_type": "stream",
     "text": [
      "Failed to fetch data for IMDb ID: tt15683824\n",
      "Retrying in 1.5 seconds...\n"
     ]
    },
    {
     "name": "stderr",
     "output_type": "stream",
     "text": [
      "Fetching movie data:  92%|█████████▏| 75484/81630 [3:45:57<07:51, 13.05it/s]    "
     ]
    },
    {
     "name": "stdout",
     "output_type": "stream",
     "text": [
      "Failed to fetch data for IMDb ID: tt1361548\n",
      "Retrying in 1.5 seconds...\n"
     ]
    },
    {
     "name": "stderr",
     "output_type": "stream",
     "text": [
      "Fetching movie data:  93%|█████████▎| 75993/81630 [3:48:20<12:48,  7.34it/s]   "
     ]
    },
    {
     "name": "stdout",
     "output_type": "stream",
     "text": [
      "Failed to fetch data for IMDb ID: tt6354176\n",
      "Retrying in 1.5 seconds...\n"
     ]
    },
    {
     "name": "stderr",
     "output_type": "stream",
     "text": [
      "Fetching movie data: 100%|██████████| 81630/81630 [4:01:23<00:00,  5.64it/s]   \n"
     ]
    },
    {
     "data": {
      "text/plain": "                                  Title  Year      Rated     Released  \\\n0                           Brun bitter  1988        N/A  17 Nov 1988   \n1                     A Woman in Flames  1983  Not Rated  10 Jun 1983   \n2                         The Gangsters  1913        N/A  29 May 1913   \n3              Alexander's Ragtime Band  1938   Approved  16 Aug 1938   \n4                         Sarah and Son  1930     Passed  14 Mar 1930   \n...                                 ...   ...        ...          ...   \n30369                     Guilty as Sin  1993          R  04 Jun 1993   \n30370  The Time, the Place and the Girl  1946   Approved  28 Dec 1946   \n30371                     Geoul sokeuro  2003  Not Rated  14 Aug 2003   \n30372              The Luck of the Navy  1927        N/A  06 Dec 1929   \n30373                 Another Nice Mess  1972         PG  22 Sep 1972   \n\n       Runtime                     Genre            Director  \\\n0       83 min              Crime, Drama        Sølve Skagen   \n1      106 min                     Drama  Robert van Ackeren   \n2       35 min             Comedy, Short       Henry Lehrman   \n3      106 min     Drama, Music, Musical          Henry King   \n4       86 min            Drama, Romance      Dorothy Arzner   \n...        ...                       ...                 ...   \n30369  107 min    Crime, Drama, Thriller        Sidney Lumet   \n30370  105 min  Musical, Comedy, Romance        David Butler   \n30371  113 min   Action, Fantasy, Horror         Sung-ho Kim   \n30372  110 min             Action, Drama           Fred Paul   \n30373   66 min                    Comedy        Bob Einstein   \n\n                                                  Writer  \\\n0                         Sølve Skagen, Gunnar Staalesen   \n1                  Robert van Ackeren, Catharina Zwerenz   \n2                                             Fred Niblo   \n3           Kathryn Scola, Lamar Trotti, Richard Sherman   \n4                                Zoe Akins, Timothy Shea   \n...                                                  ...   \n30369                                        Larry Cohen   \n30370  Francis Swann, Agnes Christine Johnston, Lynn ...   \n30371                                        Sung-ho Kim   \n30372                                     Clifford Mills   \n30373                                       Bob Einstein   \n\n                                                  Actors  \\\n0           Frank Krog, Kristin Kajander, Anne Krigsvoll   \n1      Gudrun Landgrebe, Mathieu Carrière, Hanns Zisc...   \n2        Roscoe 'Fatty' Arbuckle, Fred Mace, Nick Cogley   \n3                   Tyrone Power, Alice Faye, Don Ameche   \n4      Ruth Chatterton, Fredric March, Fuller Mellish...   \n...                                                  ...   \n30369       Rebecca De Mornay, Don Johnson, Stephen Lang   \n30370         Dennis Morgan, Martha Vickers, Jack Carson   \n30371              Yoo Ji-tae, Myung-Min Kim, Hye-na Kim   \n30372           Evelyn Laye, Henry Victor, Hayford Hobbs   \n30373           Rich Little, Herb Voland, Diahn Williams   \n\n                                                    Plot  ...          DVD  \\\n0      The lonely, divorced and disillusioned lawyer ...  ...          N/A   \n1      Eva, an upper-class housewife, frustratingly l...  ...  20 Mar 2017   \n2      An amusing burlesque of gang fighters. The pol...  ...          N/A   \n3      This send-up of ragtime song and dance begins ...  ...  22 Oct 2013   \n4      After years of abusing his wife, a ne'er-do-we...  ...          N/A   \n...                                                  ...  ...          ...   \n30369  A female lawyer takes an accused wife-murderer...  ...  16 Dec 2015   \n30370  The stuffy manager of lovely opera singer Vick...  ...          N/A   \n30371  An ex-cop, now working as a security guard in ...  ...          N/A   \n30372  A spy has his son steal an Admiral's submarine...  ...          N/A   \n30373  Farce / Spoof Comedy: President Nixon and V.P....  ...          N/A   \n\n         BoxOffice Production Website Response totalSeasons Error Season  \\\n0              N/A        N/A     N/A     True          NaN   NaN    NaN   \n1              N/A        N/A     N/A     True          NaN   NaN    NaN   \n2              N/A        N/A     N/A     True          NaN   NaN    NaN   \n3              N/A        N/A     N/A     True          NaN   NaN    NaN   \n4              N/A        N/A     N/A     True          NaN   NaN    NaN   \n...            ...        ...     ...      ...          ...   ...    ...   \n30369  $22,866,222        N/A     N/A     True          NaN   NaN    NaN   \n30370          N/A        N/A     N/A     True          NaN   NaN    NaN   \n30371          N/A        N/A     N/A     True          NaN   NaN    NaN   \n30372          N/A        N/A     N/A     True          NaN   NaN    NaN   \n30373          N/A        N/A     N/A     True          NaN   NaN    NaN   \n\n      Episode seriesID  \n0         NaN      NaN  \n1         NaN      NaN  \n2         NaN      NaN  \n3         NaN      NaN  \n4         NaN      NaN  \n...       ...      ...  \n30369     NaN      NaN  \n30370     NaN      NaN  \n30371     NaN      NaN  \n30372     NaN      NaN  \n30373     NaN      NaN  \n\n[30374 rows x 30 columns]",
      "text/html": "<div>\n<style scoped>\n    .dataframe tbody tr th:only-of-type {\n        vertical-align: middle;\n    }\n\n    .dataframe tbody tr th {\n        vertical-align: top;\n    }\n\n    .dataframe thead th {\n        text-align: right;\n    }\n</style>\n<table border=\"1\" class=\"dataframe\">\n  <thead>\n    <tr style=\"text-align: right;\">\n      <th></th>\n      <th>Title</th>\n      <th>Year</th>\n      <th>Rated</th>\n      <th>Released</th>\n      <th>Runtime</th>\n      <th>Genre</th>\n      <th>Director</th>\n      <th>Writer</th>\n      <th>Actors</th>\n      <th>Plot</th>\n      <th>...</th>\n      <th>DVD</th>\n      <th>BoxOffice</th>\n      <th>Production</th>\n      <th>Website</th>\n      <th>Response</th>\n      <th>totalSeasons</th>\n      <th>Error</th>\n      <th>Season</th>\n      <th>Episode</th>\n      <th>seriesID</th>\n    </tr>\n  </thead>\n  <tbody>\n    <tr>\n      <th>0</th>\n      <td>Brun bitter</td>\n      <td>1988</td>\n      <td>N/A</td>\n      <td>17 Nov 1988</td>\n      <td>83 min</td>\n      <td>Crime, Drama</td>\n      <td>Sølve Skagen</td>\n      <td>Sølve Skagen, Gunnar Staalesen</td>\n      <td>Frank Krog, Kristin Kajander, Anne Krigsvoll</td>\n      <td>The lonely, divorced and disillusioned lawyer ...</td>\n      <td>...</td>\n      <td>N/A</td>\n      <td>N/A</td>\n      <td>N/A</td>\n      <td>N/A</td>\n      <td>True</td>\n      <td>NaN</td>\n      <td>NaN</td>\n      <td>NaN</td>\n      <td>NaN</td>\n      <td>NaN</td>\n    </tr>\n    <tr>\n      <th>1</th>\n      <td>A Woman in Flames</td>\n      <td>1983</td>\n      <td>Not Rated</td>\n      <td>10 Jun 1983</td>\n      <td>106 min</td>\n      <td>Drama</td>\n      <td>Robert van Ackeren</td>\n      <td>Robert van Ackeren, Catharina Zwerenz</td>\n      <td>Gudrun Landgrebe, Mathieu Carrière, Hanns Zisc...</td>\n      <td>Eva, an upper-class housewife, frustratingly l...</td>\n      <td>...</td>\n      <td>20 Mar 2017</td>\n      <td>N/A</td>\n      <td>N/A</td>\n      <td>N/A</td>\n      <td>True</td>\n      <td>NaN</td>\n      <td>NaN</td>\n      <td>NaN</td>\n      <td>NaN</td>\n      <td>NaN</td>\n    </tr>\n    <tr>\n      <th>2</th>\n      <td>The Gangsters</td>\n      <td>1913</td>\n      <td>N/A</td>\n      <td>29 May 1913</td>\n      <td>35 min</td>\n      <td>Comedy, Short</td>\n      <td>Henry Lehrman</td>\n      <td>Fred Niblo</td>\n      <td>Roscoe 'Fatty' Arbuckle, Fred Mace, Nick Cogley</td>\n      <td>An amusing burlesque of gang fighters. The pol...</td>\n      <td>...</td>\n      <td>N/A</td>\n      <td>N/A</td>\n      <td>N/A</td>\n      <td>N/A</td>\n      <td>True</td>\n      <td>NaN</td>\n      <td>NaN</td>\n      <td>NaN</td>\n      <td>NaN</td>\n      <td>NaN</td>\n    </tr>\n    <tr>\n      <th>3</th>\n      <td>Alexander's Ragtime Band</td>\n      <td>1938</td>\n      <td>Approved</td>\n      <td>16 Aug 1938</td>\n      <td>106 min</td>\n      <td>Drama, Music, Musical</td>\n      <td>Henry King</td>\n      <td>Kathryn Scola, Lamar Trotti, Richard Sherman</td>\n      <td>Tyrone Power, Alice Faye, Don Ameche</td>\n      <td>This send-up of ragtime song and dance begins ...</td>\n      <td>...</td>\n      <td>22 Oct 2013</td>\n      <td>N/A</td>\n      <td>N/A</td>\n      <td>N/A</td>\n      <td>True</td>\n      <td>NaN</td>\n      <td>NaN</td>\n      <td>NaN</td>\n      <td>NaN</td>\n      <td>NaN</td>\n    </tr>\n    <tr>\n      <th>4</th>\n      <td>Sarah and Son</td>\n      <td>1930</td>\n      <td>Passed</td>\n      <td>14 Mar 1930</td>\n      <td>86 min</td>\n      <td>Drama, Romance</td>\n      <td>Dorothy Arzner</td>\n      <td>Zoe Akins, Timothy Shea</td>\n      <td>Ruth Chatterton, Fredric March, Fuller Mellish...</td>\n      <td>After years of abusing his wife, a ne'er-do-we...</td>\n      <td>...</td>\n      <td>N/A</td>\n      <td>N/A</td>\n      <td>N/A</td>\n      <td>N/A</td>\n      <td>True</td>\n      <td>NaN</td>\n      <td>NaN</td>\n      <td>NaN</td>\n      <td>NaN</td>\n      <td>NaN</td>\n    </tr>\n    <tr>\n      <th>...</th>\n      <td>...</td>\n      <td>...</td>\n      <td>...</td>\n      <td>...</td>\n      <td>...</td>\n      <td>...</td>\n      <td>...</td>\n      <td>...</td>\n      <td>...</td>\n      <td>...</td>\n      <td>...</td>\n      <td>...</td>\n      <td>...</td>\n      <td>...</td>\n      <td>...</td>\n      <td>...</td>\n      <td>...</td>\n      <td>...</td>\n      <td>...</td>\n      <td>...</td>\n      <td>...</td>\n    </tr>\n    <tr>\n      <th>30369</th>\n      <td>Guilty as Sin</td>\n      <td>1993</td>\n      <td>R</td>\n      <td>04 Jun 1993</td>\n      <td>107 min</td>\n      <td>Crime, Drama, Thriller</td>\n      <td>Sidney Lumet</td>\n      <td>Larry Cohen</td>\n      <td>Rebecca De Mornay, Don Johnson, Stephen Lang</td>\n      <td>A female lawyer takes an accused wife-murderer...</td>\n      <td>...</td>\n      <td>16 Dec 2015</td>\n      <td>$22,866,222</td>\n      <td>N/A</td>\n      <td>N/A</td>\n      <td>True</td>\n      <td>NaN</td>\n      <td>NaN</td>\n      <td>NaN</td>\n      <td>NaN</td>\n      <td>NaN</td>\n    </tr>\n    <tr>\n      <th>30370</th>\n      <td>The Time, the Place and the Girl</td>\n      <td>1946</td>\n      <td>Approved</td>\n      <td>28 Dec 1946</td>\n      <td>105 min</td>\n      <td>Musical, Comedy, Romance</td>\n      <td>David Butler</td>\n      <td>Francis Swann, Agnes Christine Johnston, Lynn ...</td>\n      <td>Dennis Morgan, Martha Vickers, Jack Carson</td>\n      <td>The stuffy manager of lovely opera singer Vick...</td>\n      <td>...</td>\n      <td>N/A</td>\n      <td>N/A</td>\n      <td>N/A</td>\n      <td>N/A</td>\n      <td>True</td>\n      <td>NaN</td>\n      <td>NaN</td>\n      <td>NaN</td>\n      <td>NaN</td>\n      <td>NaN</td>\n    </tr>\n    <tr>\n      <th>30371</th>\n      <td>Geoul sokeuro</td>\n      <td>2003</td>\n      <td>Not Rated</td>\n      <td>14 Aug 2003</td>\n      <td>113 min</td>\n      <td>Action, Fantasy, Horror</td>\n      <td>Sung-ho Kim</td>\n      <td>Sung-ho Kim</td>\n      <td>Yoo Ji-tae, Myung-Min Kim, Hye-na Kim</td>\n      <td>An ex-cop, now working as a security guard in ...</td>\n      <td>...</td>\n      <td>N/A</td>\n      <td>N/A</td>\n      <td>N/A</td>\n      <td>N/A</td>\n      <td>True</td>\n      <td>NaN</td>\n      <td>NaN</td>\n      <td>NaN</td>\n      <td>NaN</td>\n      <td>NaN</td>\n    </tr>\n    <tr>\n      <th>30372</th>\n      <td>The Luck of the Navy</td>\n      <td>1927</td>\n      <td>N/A</td>\n      <td>06 Dec 1929</td>\n      <td>110 min</td>\n      <td>Action, Drama</td>\n      <td>Fred Paul</td>\n      <td>Clifford Mills</td>\n      <td>Evelyn Laye, Henry Victor, Hayford Hobbs</td>\n      <td>A spy has his son steal an Admiral's submarine...</td>\n      <td>...</td>\n      <td>N/A</td>\n      <td>N/A</td>\n      <td>N/A</td>\n      <td>N/A</td>\n      <td>True</td>\n      <td>NaN</td>\n      <td>NaN</td>\n      <td>NaN</td>\n      <td>NaN</td>\n      <td>NaN</td>\n    </tr>\n    <tr>\n      <th>30373</th>\n      <td>Another Nice Mess</td>\n      <td>1972</td>\n      <td>PG</td>\n      <td>22 Sep 1972</td>\n      <td>66 min</td>\n      <td>Comedy</td>\n      <td>Bob Einstein</td>\n      <td>Bob Einstein</td>\n      <td>Rich Little, Herb Voland, Diahn Williams</td>\n      <td>Farce / Spoof Comedy: President Nixon and V.P....</td>\n      <td>...</td>\n      <td>N/A</td>\n      <td>N/A</td>\n      <td>N/A</td>\n      <td>N/A</td>\n      <td>True</td>\n      <td>NaN</td>\n      <td>NaN</td>\n      <td>NaN</td>\n      <td>NaN</td>\n      <td>NaN</td>\n    </tr>\n  </tbody>\n</table>\n<p>30374 rows × 30 columns</p>\n</div>"
     },
     "execution_count": 3,
     "metadata": {},
     "output_type": "execute_result"
    }
   ],
   "source": [
    "# function to fetch all movie data for a given imdb id\n",
    "def fetch_movie_data(imdbID, api_key):\n",
    "    base_url = \"http://www.omdbapi.com/\"\n",
    "    params = {'i': imdbID, 'apikey': api_key}\n",
    "    response = requests.get(base_url, params=params)\n",
    "    movie_data = response.json()\n",
    "\n",
    "    return movie_data\n",
    "\n",
    "\n",
    "api_key = '2cdf120a'\n",
    "\n",
    "movie_data_example = fetch_movie_data('tt0000001', api_key)\n",
    "omdb = pd.DataFrame(columns=movie_data_example.keys())\n",
    "\n",
    "# iterate over the 'imdbID' column with tqdm\n",
    "for imdb_id in tqdm(movies_imdb['imdbID'], desc='Fetching movie data'):\n",
    "    success = False\n",
    "    retries = 0\n",
    "    max_retries = 5  # maximum number of retries\n",
    "    backoff_factor = 1.5  # growth rate of the delay between retries\n",
    "\n",
    "    if pd.notna(imdb_id):\n",
    "        while not success and retries < max_retries:\n",
    "            try:\n",
    "                # fetch movie data\n",
    "                movie_data = fetch_movie_data(imdb_id, api_key)\n",
    "                # convert dictionary to pandas Series and append to the omdb DataFrame\n",
    "                omdb = pd.concat([omdb, pd.DataFrame([movie_data])], ignore_index=True)\n",
    "                success = True\n",
    "            except json.JSONDecodeError:\n",
    "                print(f\"Failed to fetch data for IMDb ID: {imdb_id}\")\n",
    "                retries += 1\n",
    "                sleep_time = backoff_factor ** retries  # exponential backoff\n",
    "                print(f\"Retrying in {sleep_time} seconds...\")\n",
    "                sleep(sleep_time)\n",
    "            except Exception as e:\n",
    "                print(f\"An error occurred: {e}\")\n",
    "                break\n",
    "omdb"
   ],
   "metadata": {
    "collapsed": false,
    "ExecuteTime": {
     "end_time": "2023-11-06T22:11:40.421168Z",
     "start_time": "2023-11-06T18:10:15.434720Z"
    }
   },
   "id": "fcdc99bdb5b1dc6a"
  },
  {
   "cell_type": "code",
   "execution_count": 4,
   "outputs": [],
   "source": [
    "omdb.to_csv(DATA_FOLDER + 'OMDb/omdb.csv', index=False)"
   ],
   "metadata": {
    "collapsed": false,
    "ExecuteTime": {
     "end_time": "2023-11-06T22:11:40.705598Z",
     "start_time": "2023-11-06T22:11:40.421538Z"
    }
   },
   "id": "fc488195a4c547c8"
  }
 ],
 "metadata": {
  "kernelspec": {
   "display_name": "Python 3",
   "language": "python",
   "name": "python3"
  },
  "language_info": {
   "codemirror_mode": {
    "name": "ipython",
    "version": 2
   },
   "file_extension": ".py",
   "mimetype": "text/x-python",
   "name": "python",
   "nbconvert_exporter": "python",
   "pygments_lexer": "ipython2",
   "version": "2.7.6"
  }
 },
 "nbformat": 4,
 "nbformat_minor": 5
}
