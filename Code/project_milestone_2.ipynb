{
 "cells": [
  {
   "cell_type": "markdown",
   "metadata": {},
   "source": [
    "# Team Lovelace : #TODO (ecrire le titre) <img src=\"../Data/Images/LinkedIn_logo_initials.png\" width=\"25\">\n",
    "\n",
    "Welcome to our project notebook for Milestone P2! In this phase, our team has worked on refining our project proposal and conducting preliminary analyses to set the stage for a successful data exploration and analysis journey. \n",
    "\n",
    "Our project aims to analyze the careers of actors present in our dataset. In this milestone, we delve into initial analyses and data handling tasks, ensuring that our proposed project is feasible given the available datasets."
   ]
  },
  {
   "cell_type": "markdown",
   "metadata": {},
   "source": [
    "## Imports\n"
   ]
  },
  {
   "cell_type": "code",
   "execution_count": null,
   "metadata": {
    "ExecuteTime": {
     "end_time": "2023-11-15T18:55:28.812055Z",
     "start_time": "2023-11-15T18:55:28.773129Z"
    }
   },
   "outputs": [],
   "source": [
    "import numpy as np\n",
    "import pandas as pd\n",
    "import seaborn as sns\n",
    "import matplotlib.pyplot as plt\n",
    "from scipy.stats import ttest_ind\n",
    "from tqdm import tqdm\n",
    "from rapidfuzz import fuzz\n",
    "\n",
    "from helpers import *\n",
    "\n",
    "import warnings\n",
    "\n",
    "# Ignoring warnings to improve code readability\n",
    "warnings.filterwarnings(\"ignore\")\n",
    "\n",
    "# Resetting Matplotlib default settings\n",
    "plt.rcdefaults()\n",
    "\n",
    "# Set the maximum number of rows to display\n",
    "pd.set_option('display.max_rows', 20)\n",
    "\n",
    "%load_ext autoreload\n",
    "%autoreload 2"
   ]
  },
  {
   "cell_type": "markdown",
   "metadata": {},
   "source": [
    "## Loading Datasets"
   ]
  },
  {
   "cell_type": "code",
   "execution_count": null,
   "metadata": {
    "ExecuteTime": {
     "end_time": "2023-11-15T18:55:45.609Z",
     "start_time": "2023-11-15T18:55:31.616207Z"
    }
   },
   "outputs": [],
   "source": [
    "# Setting the paths to the data folders\n",
    "DATA_FOLDER = \"../Data/\"\n",
    "CMU_PATH = DATA_FOLDER + \"MovieSummaries/\"\n",
    "IMDB_PATH = DATA_FOLDER + \"IMDb/\"\n",
    "OMDB_PATH = DATA_FOLDER + \"OMDb/\"\n",
    "BUDGET_PATH = DATA_FOLDER + \"Budget/\"\n",
    "OSCARS_PATH = DATA_FOLDER + \"Oscars/\"\n",
    "\n",
    "# Reading CMU Movie & Character metadata\n",
    "cmu_movies_raw = pd.read_csv(CMU_PATH + \"movie.metadata.tsv\", sep=\"\\t\", )\n",
    "cmu_characters_raw = pd.read_csv(CMU_PATH + \"character.metadata.tsv\", sep=\"\\t\")\n",
    "\n",
    "# Reading IMDb basics and ratings data\n",
    "imdb_movies_raw = pd.read_csv(\n",
    "    IMDB_PATH + \"title.basics.tsv.gz\", sep=\"\\t\", compression=\"gzip\"\n",
    ")\n",
    "imdb_ratings_raw = pd.read_csv(\n",
    "    IMDB_PATH + \"title.ratings.tsv.gz\", sep=\"\\t\", compression=\"gzip\"\n",
    ")\n",
    "\n",
    "# Reading movie data that was fetched using the OMDb API (done in omdbAPI.ipynb)\n",
    "omdb_raw = pd.read_csv(\n",
    "    OMDB_PATH + \"omdb.csv\"\n",
    ")\n",
    "\n",
    "# Reading movie budget data\n",
    "budget_raw = pd.read_csv(\n",
    "    BUDGET_PATH + \"movies_metadata.csv.zip\", compression=\"zip\",\n",
    ")\n",
    "\n",
    "# Reading Oscars data\n",
    "oscars_raw = pd.read_csv(\n",
    "    OSCARS_PATH + \"the_oscar_award.csv\",\n",
    ")\n",
    "\n",
    "\n",
    "# TODO Import other dataset (Don't forget to add comments as above)"
   ]
  },
  {
   "cell_type": "markdown",
   "metadata": {},
   "source": [
    "### Renaming Columns\n",
    "\n",
    "Both CMU datasets, `cmu_movies_raw` and `cmu_characters_raw`, initially lacked column names (#TODO ajouter les noms des autres datasets entre `...` si nécessaires). To address this, we have provided names in the cell below. For the CMU dataset, you can refer to the descriptions of each column [here](http://www.cs.cmu.edu/~ark/personas/). (#TODO pareil mettre les liens pour les autres datasets)\n"
   ]
  },
  {
   "cell_type": "code",
   "execution_count": null,
   "metadata": {
    "ExecuteTime": {
     "end_time": "2023-11-15T16:54:40.498879Z",
     "start_time": "2023-11-15T16:54:40.449041Z"
    }
   },
   "outputs": [],
   "source": [
    "cmu_movies_raw.columns = [\n",
    "    \"wikiID\",\n",
    "    \"fbID\",\n",
    "    \"movieName\",\n",
    "    \"releaseDate\",\n",
    "    \"boxOffice\",\n",
    "    \"runtime\",\n",
    "    \"languages\",\n",
    "    \"countries\",\n",
    "    \"genres\",\n",
    "]\n",
    "\n",
    "cmu_characters_raw.columns = [\n",
    "    \"wikiID\",\n",
    "    \"fbID\",\n",
    "    \"releaseDate\",\n",
    "    \"characterName\",\n",
    "    \"actorDOB\",\n",
    "    \"actorGender\",\n",
    "    \"actorHeight\",\n",
    "    \"actorEthnicity\",\n",
    "    \"actorName\",\n",
    "    \"ageAtMovieRelease\",\n",
    "    \"fbCharacterMap\",\n",
    "    \"fbCharacterID\",\n",
    "    \"fbActorID\",\n",
    "]\n",
    "\n",
    "cmu_movies_raw.drop(columns=\"wikiID\", inplace=True)  #TODO expliquer pk on drop au dessus\n",
    "cmu_characters_raw.drop(columns=\"wikiID\", inplace=True)\n",
    "#TODO add les noms ici si necessaire pour les autres datasets"
   ]
  },
  {
   "cell_type": "markdown",
   "metadata": {},
   "source": [
    "To ensure consistency in column names across datasets, we have renamed some columns in the other datasets (to match the conventions of the CMU dataset) in the cell below."
   ]
  },
  {
   "cell_type": "code",
   "execution_count": null,
   "metadata": {
    "ExecuteTime": {
     "end_time": "2023-11-15T16:54:40.538407Z",
     "start_time": "2023-11-15T16:54:40.500200Z"
    }
   },
   "outputs": [],
   "source": [
    "imdb_movies_raw.rename(\n",
    "    columns={\n",
    "        \"tconst\": \"imdbID\",\n",
    "        \"primaryTitle\": \"movieName\",\n",
    "        \"startYear\": \"releaseYear\",\n",
    "        \"runtimeMinutes\": \"runtime\",\n",
    "    },\n",
    "    inplace=True\n",
    ")\n",
    "\n",
    "imdb_ratings_raw.rename(\n",
    "    columns={\n",
    "        \"tconst\": \"imdbID\",\n",
    "    },\n",
    "    inplace=True\n",
    ")\n",
    "\n",
    "oscars_raw.rename(\n",
    "    columns={\n",
    "        \"year_film\": \"releaseYear\",\n",
    "        \"year_ceremony\": \"yearCeremony\",\n",
    "        \"name\": \"actorName\",\n",
    "        \"film\": \"movieName\",\n",
    "    },\n",
    "    inplace=True\n",
    ")\n",
    "\n",
    "omdb_raw = omdb_raw[\n",
    "    ['Rated', 'Director', 'Writer', 'Actors', 'Plot', 'Language', 'Country', 'Awards', 'Poster', 'Ratings', 'Metascore',\n",
    "     'imdbID']].rename(\n",
    "    columns={\n",
    "        \"Rated\": \"MPARating\",\n",
    "        \"Director\": \"director\",\n",
    "        \"Writer\": \"writer\",\n",
    "        \"Actors\": \"actors\",\n",
    "        \"Plot\": \"plot\",\n",
    "        \"Language\": \"languages\",\n",
    "        \"Country\": \"countries\",\n",
    "        \"Awards\": \"awards\",\n",
    "        \"Poster\": \"poster\",\n",
    "        \"Ratings\": \"allRatings\",\n",
    "        \"Metascore\": \"metascore\",\n",
    "    }\n",
    ")\n",
    "\n",
    "budget_raw = budget_raw[[\"budget\", \"popularity\", \"imdb_id\"]].rename(\n",
    "    columns={\n",
    "        \"imdb_id\": \"imdbID\",\n",
    "    }\n",
    ")\n",
    "\n",
    "# TODO rename les columns des autres datasets si nécessaire"
   ]
  },
  {
   "cell_type": "markdown",
   "metadata": {},
   "source": [
    "## Merging Datasets"
   ]
  },
  {
   "cell_type": "markdown",
   "metadata": {},
   "source": [
    "Before merging the datasets, it is important to clean and standardize the column formats for the columns we intend to merge on. To facilitate this process, we create copies of our raw dataframes. This ensures that we don't need to reload them if we want to start the cleaning process from scratch."
   ]
  },
  {
   "cell_type": "code",
   "execution_count": null,
   "metadata": {
    "ExecuteTime": {
     "end_time": "2023-11-15T17:43:14.398249Z",
     "start_time": "2023-11-15T17:43:13.955810Z"
    }
   },
   "outputs": [],
   "source": [
    "cmu_movies = cmu_movies_raw.copy()\n",
    "cmu_characters = cmu_characters_raw.copy()\n",
    "\n",
    "imdb_movies = imdb_movies_raw.copy()\n",
    "imdb_ratings = imdb_ratings_raw.copy()\n",
    "\n",
    "omdb = omdb_raw.copy()\n",
    "\n",
    "budget = budget_raw.copy()\n",
    "\n",
    "oscars = oscars_raw.copy()"
   ]
  },
  {
   "cell_type": "markdown",
   "metadata": {},
   "source": [
    "### Extract ethnicities\n",
    "\n",
    "In the original dataset, ethnicities are represented as Freebase IDs. Such IDs are difficult to interpret, so we replaced them by their real name. The map used to convert IDs to the name of the ethnicity is extracted from the full freebase database in `Code/extract-ethnicities.ipynb`."
   ]
  },
  {
   "cell_type": "code",
   "execution_count": null,
   "metadata": {},
   "outputs": [],
   "source": [
    "# Read the map that converts ethnicities\n",
    "map_ethnicities = eval('\\n'.join(open(\"../Data/map-ethnicities\").readlines()))\n",
    "\n",
    "# Apply the conversion on the dataset\n",
    "cmu_characters.actorEthnicity = cmu_characters.actorEthnicity.apply(lambda eth: map_ethnicities.get(\"m.\" + eth[3:] if type(eth) == type(\"\") else \"\", None))\n",
    "\n",
    "cmu_characters.actorEthnicity.value_counts()"
   ]
  },
  {
   "cell_type": "markdown",
   "metadata": {},
   "source": [
    "### Cleaning columns `movieName` & `actorName`\n",
    "\n",
    "#TODO Michael explain why et comment tu le fais pour les deux datasets cmu movies et imdb et autres"
   ]
  },
  {
   "cell_type": "code",
   "execution_count": null,
   "metadata": {
    "ExecuteTime": {
     "end_time": "2023-11-15T17:43:16.012732Z",
     "start_time": "2023-11-15T17:43:15.191723Z"
    },
    "collapsed": false
   },
   "outputs": [],
   "source": [
    "# pre-filtering IMDb movies\n",
    "# keep only movies and shorts\n",
    "imdb_movies = imdb_movies[imdb_movies['titleType'].isin(['movie', 'short', 'tvMovie', 'tvShort'])]\n",
    "# remove data for movies with no name\n",
    "imdb_movies.dropna(subset='movieName', inplace=True)\n",
    "oscars.dropna(subset='movieName', inplace=True)\n",
    "# likewise for actors with no name\n",
    "cmu_characters.dropna(subset='actorName', inplace=True)"
   ]
  },
  {
   "cell_type": "code",
   "execution_count": null,
   "metadata": {
    "ExecuteTime": {
     "end_time": "2023-11-15T17:43:19.048425Z",
     "start_time": "2023-11-15T17:43:16.126265Z"
    },
    "collapsed": false
   },
   "outputs": [],
   "source": [
    "# standardize movie titles and actor names by removing accents, special characters, extra spaces and converting to lowercase\n",
    "cmu_movies['movieName'] = cmu_movies['movieName'].apply(standardize_str)\n",
    "imdb_movies['movieName'] = imdb_movies['movieName'].apply(standardize_str)\n",
    "oscars['movieName'] = oscars['movieName'].apply(standardize_str)\n",
    "\n",
    "oscars['actorName'] = oscars['actorName'].apply(standardize_str)\n",
    "cmu_characters['actorName'] = cmu_characters['actorName'].apply(standardize_str)"
   ]
  },
  {
   "cell_type": "code",
   "execution_count": null,
   "metadata": {
    "ExecuteTime": {
     "end_time": "2023-11-15T17:43:20.550028Z",
     "start_time": "2023-11-15T17:43:20.509892Z"
    }
   },
   "outputs": [],
   "source": [
    "# cleaning titles #TODO #dans oscars"
   ]
  },
  {
   "cell_type": "markdown",
   "metadata": {},
   "source": [
    "### Cleaning column `releaseDate`\n",
    "\n",
    "The `cmu_movies` and `cmu_characters` dataset exhibit variable date formats, with some entries providing day, month, and year, while others only contain the year. To enhance clarity and facilitate analysis, we've decided to split the `releaseDate` column into separate columns for `releaseMonth` and `releaseYear`. In contrast, the `imdb_movies` and `oscars` datasets provides release dates in the year-only format."
   ]
  },
  {
   "cell_type": "code",
   "execution_count": null,
   "metadata": {
    "ExecuteTime": {
     "end_time": "2023-11-15T17:43:22.250204Z",
     "start_time": "2023-11-15T17:43:21.964456Z"
    }
   },
   "outputs": [],
   "source": [
    "# Cmu movies & characters\n",
    "# Months\n",
    "cmu_movies[\"releaseMonth\"] = pd.to_datetime(\n",
    "    cmu_movies[\"releaseDate\"], errors=\"coerce\", dayfirst=True\n",
    ").dt.month\n",
    "cmu_characters[\"releaseMonth\"] = pd.to_datetime(\n",
    "    cmu_characters[\"releaseDate\"], errors=\"coerce\", yearfirst=True\n",
    ").dt.month\n",
    "# Year\n",
    "cmu_movies[\"releaseYear\"] = pd.to_datetime(\n",
    "    cmu_movies[\"releaseDate\"], errors=\"coerce\", format=\"mixed\", dayfirst=True\n",
    ").dt.year\n",
    "cmu_characters[\"releaseYear\"] = pd.to_datetime(\n",
    "    cmu_characters[\"releaseDate\"], errors=\"coerce\", format=\"mixed\", dayfirst=True\n",
    ").dt.year\n",
    "\n",
    "# Drop releaseDate column\n",
    "cmu_movies.drop(columns=[\"releaseDate\"], inplace=True)\n",
    "cmu_characters.drop(columns=[\"releaseDate\"], inplace=True)\n",
    "\n",
    "# IMDb & Oscars\n",
    "imdb_movies[\"releaseYear\"] = pd.to_datetime(\n",
    "    imdb_movies[\"releaseYear\"], errors=\"coerce\", format=\"%Y\"\n",
    ").dt.year\n",
    "\n",
    "oscars[\"releaseYear\"] = pd.to_datetime(\n",
    "    oscars[\"releaseYear\"], errors=\"coerce\", format=\"%Y\"\n",
    ").dt.year"
   ]
  },
  {
   "cell_type": "code",
   "execution_count": null,
   "metadata": {
    "ExecuteTime": {
     "end_time": "2023-11-15T17:43:26.892184Z",
     "start_time": "2023-11-15T17:43:26.234968Z"
    },
    "collapsed": false
   },
   "outputs": [],
   "source": [
    "# drop movie with same title and release date to avoid issues when merging\n",
    "cmu_movies.drop_duplicates(subset=[\"movieName\", \"releaseMonth\", \"releaseYear\"], inplace=True)\n",
    "imdb_movies.drop_duplicates(subset=[\"movieName\", \"releaseYear\"], inplace=True)"
   ]
  },
  {
   "cell_type": "markdown",
   "metadata": {
    "collapsed": false
   },
   "source": [
    "### Cleaning column `runtime`\n",
    "\n",
    "The `runtime` column for the `imdb_movies` dataset contains '\\N' values instead of 'NaN'."
   ]
  },
  {
   "cell_type": "code",
   "execution_count": null,
   "metadata": {
    "ExecuteTime": {
     "end_time": "2023-11-15T17:43:28.827059Z",
     "start_time": "2023-11-15T17:43:28.268330Z"
    }
   },
   "outputs": [],
   "source": [
    "imdb_movies[\"runtime\"] = pd.to_numeric(imdb_movies[\"runtime\"], errors=\"coerce\")"
   ]
  },
  {
   "cell_type": "markdown",
   "metadata": {},
   "source": [
    "#TODO other columns to clean pour merger??"
   ]
  },
  {
   "cell_type": "markdown",
   "metadata": {
    "collapsed": false
   },
   "source": [
    "### Cleaning budget dataset"
   ]
  },
  {
   "cell_type": "code",
   "execution_count": null,
   "metadata": {
    "ExecuteTime": {
     "end_time": "2023-11-15T16:54:45.168128Z",
     "start_time": "2023-11-15T16:54:45.130151Z"
    },
    "collapsed": false
   },
   "outputs": [],
   "source": [
    "# Make sure all budget entries are numeric (or null)\n",
    "budget[\"budget\"] = pd.to_numeric(budget[\"budget\"], errors=\"coerce\")\n",
    "# Remove duplicate IMDb IDs\n",
    "budget.drop_duplicates(subset='imdbID', inplace=True)\n",
    "# Replace all zero budget entries to nan\n",
    "budget.loc[budget['budget'] == 0, 'budget'] = np.nan\n",
    "# Drop null budget and imdbID entries to avoid issues when merging\n",
    "budget.dropna(subset=['budget', 'imdbID'], inplace=True)"
   ]
  },
  {
   "cell_type": "markdown",
   "metadata": {},
   "source": [
    "### Merging\n",
    "\n",
    "In the following cell, we perform two left merges:\n",
    "\n",
    "1. **CMU Movies and IMDb Merged Data:**\n",
    "   - We merge the `cmu_movies` dataset with the merged IMDb dataset based on the common columns `[\"movieName\", \"releaseYear\", \"runtime\"]`. The resulting DataFrame, named `movies_merged`, contains combined information from both datasets, with column suffixes \"Cmu\" for columns from the CMU dataset and \"Imdb\" for columns from the IMDb dataset.\n",
    "<br>\n",
    "<br>\n",
    "2. **CMU Characters and Oscars:**\n",
    "   - We merge the `cmu_characters` dataset with the `oscars` dataset based on the common columns `[\"actorName\", \"releaseYear\", \"movieName\"]` using a left join.\n",
    "   \n",
    "\n",
    "#TODO other merge to do. Adapter les textes au dessus et il faut max deux datasets. un qui s'appelle actors et l'autre movies\n",
    "\n",
    "\n"
   ]
  },
  {
   "cell_type": "code",
   "execution_count": null,
   "metadata": {
    "ExecuteTime": {
     "end_time": "2023-11-15T16:54:46.279625Z",
     "start_time": "2023-11-15T16:54:45.158041Z"
    },
    "collapsed": false
   },
   "outputs": [],
   "source": [
    "# Merging IMDb movies with IMDb ratings\n",
    "imdb = pd.merge(imdb_movies, imdb_ratings, how='left', on='imdbID')"
   ]
  },
  {
   "cell_type": "code",
   "execution_count": null,
   "metadata": {
    "ExecuteTime": {
     "end_time": "2023-11-15T17:04:55.201160Z",
     "start_time": "2023-11-15T16:54:46.283070Z"
    },
    "collapsed": false
   },
   "outputs": [],
   "source": [
    "# Merging CMU movies with IMDb movies\n",
    "\n",
    "# Using rapidfuzz library to perform fast fuzzy matching between the movie titles\n",
    "# Group the imdb dataframe by releaseYear to speed up the search\n",
    "grouped_imdb = imdb.groupby('releaseYear')\n",
    "# Enable tqdm pandas integration\n",
    "tqdm.pandas(desc=\"Retrieving best matches\")\n",
    "# Compute the best match for each title in CMU movies with a similarity threshold of 95\n",
    "cmu_movies['matched_title'] = cmu_movies.progress_apply(get_best_match, args=(grouped_imdb,), scorer=fuzz.WRatio,\n",
    "                                                        threshold=95, axis=1)\n",
    "\n",
    "# Perform the merge on the matched titles and releaseYear\n",
    "movies_merged = pd.merge(cmu_movies, imdb, left_on=['matched_title', 'releaseYear'],\n",
    "                         right_on=['movieName', 'releaseYear'], how='left', suffixes=['Cmu', 'Imdb'])\n",
    "\n",
    "# To improve the accuracy of the merge, we filter out IMDb data for movies where runtime doesn't match (with tolerance)\n",
    "runtime_tol = 5  # Allow for 5 minutes of leeway in runtime between IMDb and CMU\n",
    "\n",
    "# When only one of the runtimes is nan, use the other\n",
    "movies_merged['runtimeCmu'] = np.where(\n",
    "    # If runtimeCmu is nan but runtimeImdb is not, use runtimeImdb else keep runtimeCmu\n",
    "    pd.isna(movies_merged['runtimeCmu']) & pd.notna(movies_merged['runtimeImdb']),\n",
    "    movies_merged['runtimeImdb'],\n",
    "    movies_merged['runtimeCmu']\n",
    ")\n",
    "\n",
    "# Identify rows where both runtimes are not NaN and the difference is not within tolerance\n",
    "mask = pd.notna(movies_merged['runtimeCmu']) & pd.notna(movies_merged['runtimeImdb']) & (\n",
    "        abs(movies_merged['runtimeCmu'] - movies_merged['runtimeImdb']) > runtime_tol)\n",
    "\n",
    "# Remove IMDb data when the runtimes are not within tolerance\n",
    "movies_merged.loc[mask, ['imdbID', 'titleType', 'originalTitle', 'isAdult', 'endYear', 'genresImdb', 'averageRating',\n",
    "                         'numVotes']] = np.nan\n",
    "\n",
    "# Drop extra columns used during title and runtime matching\n",
    "movies_merged.drop(['matched_title', 'movieNameImdb', 'runtimeImdb'], axis=1, inplace=True)\n",
    "movies_merged.rename(columns={'movieNameCmu': 'movieName', 'runtimeCmu': 'runtime'}, inplace=True)"
   ]
  },
  {
   "cell_type": "code",
   "execution_count": null,
   "metadata": {
    "ExecuteTime": {
     "end_time": "2023-11-15T17:25:33.110013Z",
     "start_time": "2023-11-15T17:25:32.993426Z"
    },
    "collapsed": false
   },
   "outputs": [],
   "source": [
    "# Merging IMDb budget with the merged movies dataframe\n",
    "movies_merged = pd.merge(movies_merged, budget, on='imdbID', how='left')\n",
    "\n",
    "print(f\"Proportion of missing IMDb ratings: {movies_merged.averageRating.isna().sum() / movies_merged.shape[0]:.3f}\")\n",
    "print(f\"Proportion of missing box office revenues: {movies_merged.boxOffice.isna().sum() / movies_merged.shape[0]:.3f}\")\n",
    "print(f\"Proportion of missing budgets: {movies_merged.budget.isna().sum() / movies_merged.shape[0]:.3f}\")"
   ]
  },
  {
   "cell_type": "code",
   "execution_count": null,
   "metadata": {
    "ExecuteTime": {
     "end_time": "2023-11-15T17:43:38.827478Z",
     "start_time": "2023-11-15T17:43:38.535631Z"
    },
    "collapsed": false
   },
   "outputs": [],
   "source": [
    "# Merging CMU Characters with Oscars\n",
    "characters_merged = pd.merge(\n",
    "    cmu_characters.merge(\n",
    "        cmu_movies[[\"fbID\", \"movieName\"]], how=\"left\", on=\"fbID\"\n",
    "    ),  # add movieName in cmu_characters\n",
    "    oscars,\n",
    "    how=\"left\",\n",
    "    on=[\"actorName\", \"releaseYear\", \"movieName\"],\n",
    ")"
   ]
  },
  {
   "cell_type": "markdown",
   "metadata": {},
   "source": [
    "As before, we copy our DataFrame to avoid running the merge cell in case we make modifications incorrectly and wish to restart from this point."
   ]
  },
  {
   "cell_type": "code",
   "execution_count": null,
   "metadata": {
    "ExecuteTime": {
     "end_time": "2023-11-15T17:57:39.758544Z",
     "start_time": "2023-11-15T17:57:39.634150Z"
    }
   },
   "outputs": [],
   "source": [
    "movies = movies_merged.copy()\n",
    "characters = characters_merged.copy()"
   ]
  },
  {
   "cell_type": "markdown",
   "metadata": {},
   "source": [
    "Given that our analysis primarily centers on actors rather than movies characters, we construct a new dataframe `actors` from `characters` emphasizing actor-related information. The columns are rearranged to provide a perspective centered on actors. Following this, we filter out rows without a Freebase actor ID, as they only contain character information without actor-related details."
   ]
  },
  {
   "cell_type": "code",
   "execution_count": null,
   "metadata": {
    "ExecuteTime": {
     "end_time": "2023-11-15T17:57:41.062930Z",
     "start_time": "2023-11-15T17:57:40.342908Z"
    }
   },
   "outputs": [],
   "source": [
    "actors = characters[\n",
    "    [\n",
    "        \"fbActorID\",\n",
    "        \"actorName\",\n",
    "        \"actorGender\",\n",
    "        \"actorDOB\",\n",
    "        \"actorHeight\",\n",
    "        \"actorEthnicity\",\n",
    "        \"fbID\",\n",
    "        \"ageAtMovieRelease\",  #TODO Adrien had cleaned this (there are negative ages!)\n",
    "        \"category\",\n",
    "        \"winner\",\n",
    "    ]\n",
    "]\n",
    "\n",
    "actors = actors.sort_values(by=actors.columns.to_list(), ignore_index=True)\n",
    "actors = actors.dropna(subset=\"fbActorID\")"
   ]
  },
  {
   "cell_type": "code",
   "execution_count": null,
   "metadata": {
    "ExecuteTime": {
     "end_time": "2023-11-15T17:57:54.825443Z",
     "start_time": "2023-11-15T17:57:41.144507Z"
    }
   },
   "outputs": [],
   "source": [
    "actors = actors.groupby(\n",
    "    [\n",
    "        \"fbActorID\",\n",
    "        \"actorName\",\n",
    "        \"actorGender\",\n",
    "        \"actorDOB\",\n",
    "        \"actorHeight\",\n",
    "        \"actorEthnicity\",\n",
    "    ],\n",
    "    dropna=False\n",
    ").apply(actors_agg).reset_index()  #ATTENTION TRES LONG #TODO remove cette remarque "
   ]
  },
  {
   "cell_type": "code",
   "execution_count": null,
   "metadata": {
    "ExecuteTime": {
     "end_time": "2023-11-15T17:48:58.028943Z",
     "start_time": "2023-11-15T17:48:54.851320Z"
    }
   },
   "outputs": [],
   "source": [
    "explode_on_movies(actors)"
   ]
  },
  {
   "cell_type": "code",
   "execution_count": null,
   "metadata": {
    "ExecuteTime": {
     "end_time": "2023-11-15T17:52:26.907270Z",
     "start_time": "2023-11-15T17:52:26.706014Z"
    }
   },
   "outputs": [],
   "source": [
    "print(\"MOVIES\")\n",
    "display(movies)\n",
    "print(\"ACTORS\")\n",
    "display(actors)"
   ]
  },
  {
   "cell_type": "markdown",
   "metadata": {},
   "source": [
    "## NOM DE LA QUESTION SUR LES GENRES #TODO"
   ]
  },
  {
   "cell_type": "markdown",
   "metadata": {},
   "source": [
    "## Cleaning the genres\n",
    "\n",
    "The `genresCmu` column, while having very few missing values, exhibits a wide diversity of genres, as outlined in the cell below. Additionally, the genres are not standardized; for instance, we observe distinctions like 'Action', 'Adventure' and 'Action/Adventure' making it challenging to analyze. As for `genresImdb`, we have a reasonably manageable number of unique genres. However, due to the merge, we notice a considerable number of missing values compared to `genresCmu`."
   ]
  },
  {
   "cell_type": "code",
   "execution_count": null,
   "metadata": {
    "ExecuteTime": {
     "end_time": "2023-11-15T17:57:58.848227Z",
     "start_time": "2023-11-15T17:57:57.852026Z"
    }
   },
   "outputs": [],
   "source": [
    "# Updating the 'genresCmu' and 'genresImdb' columns to get a list of genres without the IDs for each movie\n",
    "movies['genresCmu'] = movies['genresCmu'].apply(parse_dict_to_list)\n",
    "movies['genresImdb'] = movies['genresImdb'].apply(\n",
    "    lambda x: x.split(',') if not (isinstance(x, float) or x == \"\\\\N\") else np.nan)"
   ]
  },
  {
   "cell_type": "code",
   "execution_count": null,
   "metadata": {
    "ExecuteTime": {
     "end_time": "2023-11-15T17:58:00.473768Z",
     "start_time": "2023-11-15T17:58:00.359610Z"
    }
   },
   "outputs": [],
   "source": [
    "percent_missing = movies.isnull().sum() * 100 / len(movies)\n",
    "print(\n",
    "    f\"Proportion of missing values in each column:\\n{percent_missing[['genresCmu', 'genresImdb']]}\"\n",
    ")\n",
    "\n",
    "number_genres_cmu = len(movies.genresCmu.explode().unique())\n",
    "number_genres_imdb = len(movies.genresImdb.explode().unique())\n",
    "print(\"\\nNumber of unique genres in\\n\" +\n",
    "      \"CMU:\", number_genres_cmu, \"\\n\"\n",
    "                                 \"Imdb:\", number_genres_imdb)"
   ]
  },
  {
   "cell_type": "code",
   "execution_count": null,
   "metadata": {
    "ExecuteTime": {
     "end_time": "2023-11-15T17:58:21.666802Z",
     "start_time": "2023-11-15T17:58:21.459072Z"
    }
   },
   "outputs": [],
   "source": [
    "fig = plt.figure(figsize=(15, 5))\n",
    "fig.suptitle(\"15 most appearing genres in CMU and IMDb\")\n",
    "\n",
    "fig.add_subplot(121)\n",
    "occurences_cmu = movies[\"genresCmu\"].explode().value_counts()\n",
    "occurences_cmu[:15].plot(kind='barh')\n",
    "plt.grid(alpha=0.15, axis=\"x\")\n",
    "plt.xlabel(\"counts\")\n",
    "\n",
    "fig.add_subplot(122)\n",
    "occurences_imdb = movies[\"genresImdb\"].explode().value_counts()\n",
    "occurences_imdb[:15].plot(kind='barh')\n",
    "plt.grid(alpha=0.15, axis=\"x\")\n",
    "plt.xlabel(\"counts\")\n",
    "\n",
    "plt.subplots_adjust(wspace=0.3)"
   ]
  },
  {
   "cell_type": "markdown",
   "metadata": {},
   "source": [
    "To address the issue of numerous missing values in 'Imdb' and the diversity of genres in 'CMU', we will first combine the genres for each movie."
   ]
  },
  {
   "cell_type": "code",
   "execution_count": null,
   "metadata": {
    "ExecuteTime": {
     "end_time": "2023-11-15T17:58:29.486597Z",
     "start_time": "2023-11-15T17:58:29.055146Z"
    }
   },
   "outputs": [],
   "source": [
    "combinedGenres = movies[\"genresImdb\"].apply(\n",
    "    lambda x: list(x) if isinstance(x, list) else []\n",
    ") + movies[\"genresCmu\"].apply(lambda x: list(x) if isinstance(x, list) else [])\n",
    "\n",
    "combinedGenres = combinedGenres.apply(lambda x: set(x) if len(x) > 0 else np.nan)\n",
    "\n",
    "movies[\"combinedGenres\"] = combinedGenres\n",
    "movies[\"combinedGenres\"]"
   ]
  },
  {
   "cell_type": "markdown",
   "metadata": {},
   "source": [
    "Once we have a set of unique genres for each movie, the idea is to create a long string by concatenating all the genres for all the movies."
   ]
  },
  {
   "cell_type": "code",
   "execution_count": null,
   "metadata": {
    "ExecuteTime": {
     "end_time": "2023-11-15T17:58:32.857285Z",
     "start_time": "2023-11-15T17:58:32.434982Z"
    }
   },
   "outputs": [],
   "source": [
    "genres = movies.dropna(subset=\"combinedGenres\").explode(column=\"combinedGenres\").combinedGenres.values\n",
    "genres_str = \" \".join(str(g) for g in genres)\n",
    "\n",
    "genres_unique = np.unique(genres)"
   ]
  },
  {
   "cell_type": "markdown",
   "metadata": {},
   "source": [
    "Then we want to split this long string using the `split_characters` found by the code. This will, for example, allow us to split the genre 'Action/Adventure' into 'Adventure' and 'Action'. The list `words` contains all the words appearing throughout all the combinedGenres. The more a word appears in the list `words`, the more it appears in combinedGenres."
   ]
  },
  {
   "cell_type": "code",
   "execution_count": null,
   "metadata": {
    "ExecuteTime": {
     "end_time": "2023-11-15T17:58:34.259897Z",
     "start_time": "2023-11-15T17:58:34.126412Z"
    }
   },
   "outputs": [],
   "source": [
    "split_characters = set()\n",
    "for letter in genres_str:\n",
    "    if (\n",
    "            not letter.isalpha() and letter != \" \"\n",
    "    ):  # letter.isalpha() return True if the letter is an alphabetic string\n",
    "        split_characters.add(letter)\n",
    "\n",
    "print(split_characters)\n",
    "\n",
    "string = genres_str\n",
    "for delimiter in split_characters:\n",
    "    string = \" \".join(string.split(delimiter))\n",
    "\n",
    "words = string.split(\" \")\n",
    "print(\"\\nThe first 15 terms of the list words\", words[:15])"
   ]
  },
  {
   "cell_type": "markdown",
   "metadata": {},
   "source": [
    "Now, our objective is to identify the most frequently occurring words in our list of `words`. As one can observe above, some words are presented in uppercase, while others are in lowercase. To ensure consistency, we convert all text to lowercase and proceed to identify words that appear more than 2000 times. "
   ]
  },
  {
   "cell_type": "code",
   "execution_count": null,
   "metadata": {
    "ExecuteTime": {
     "end_time": "2023-11-15T17:58:36.673108Z",
     "start_time": "2023-11-15T17:58:36.585723Z"
    }
   },
   "outputs": [],
   "source": [
    "words = list(map(lambda x: x.lower(), words))\n",
    "\n",
    "counts = pd.Series(words).value_counts()\n",
    "new_genres_serie = pd.Series(counts[counts > 2000])\n",
    "new_genres_serie.index"
   ]
  },
  {
   "cell_type": "markdown",
   "metadata": {},
   "source": [
    "Finally, we have a list of words representing our new genres. After filtering out words that do not correspond to actual genres, we create a dictionary, `genres_dict`, linking genres from 'CMU' and 'IMDb' to our new list of genres. For example, all genres containing the word 'drama' will be associated with the genre 'Drama.' \n",
    "\n",
    "A list of genres associated with 'Drama' is displayed two cells below."
   ]
  },
  {
   "cell_type": "code",
   "execution_count": null,
   "metadata": {
    "ExecuteTime": {
     "end_time": "2023-11-15T17:58:38.498486Z",
     "start_time": "2023-11-15T17:58:38.476410Z"
    }
   },
   "outputs": [],
   "source": [
    "# Dropping irrelevant genres and characters from the series\n",
    "new_genres_serie = new_genres_serie.drop(\n",
    "    index=[\n",
    "        \"\",\n",
    "        \"film\",\n",
    "        \"cinema\",\n",
    "        \"movie\",\n",
    "        \"movies\",\n",
    "        \"black\",\n",
    "        \"and\",\n",
    "        \"white\",  # combining \"black-and-white\" instead of having separate entries\n",
    "    ]\n",
    ")\n",
    "\n",
    "# Adding \"black-and-white\" to the indices\n",
    "new_genres_serie[\"black-and-white\"] = 0\n",
    "\n",
    "# Capitalizing the new genres and create a list from the indices\n",
    "new_genres = list(map(lambda x: x.capitalize(), new_genres_serie.index))\n",
    "\n",
    "genres_dict = {genre: set() for genre in new_genres}\n",
    "for new_genre in new_genres:\n",
    "    for genre in genres_unique:\n",
    "        if new_genre.lower() in genre.lower():\n",
    "            genres_dict[new_genre].add(genre)\n",
    "\n",
    "# Merging \"Romantic\" into \"Romance\" since can be considered equivalent\n",
    "genres_dict[\"Romance\"] = genres_dict[\"Romance\"].union(genres_dict.pop(\"Romantic\"))\n",
    "new_genres.remove(\"Romantic\")\n",
    "\n",
    "print(len(new_genres), \"unified genres listed below\")\n",
    "new_genres"
   ]
  },
  {
   "cell_type": "code",
   "execution_count": null,
   "metadata": {
    "ExecuteTime": {
     "end_time": "2023-11-15T17:58:39.558841Z",
     "start_time": "2023-11-15T17:58:39.522038Z"
    }
   },
   "outputs": [],
   "source": [
    "genres_dict[\"Drama\"]"
   ]
  },
  {
   "cell_type": "markdown",
   "metadata": {},
   "source": [
    "In conclusion to the cleaning process, we apply the function `unify_genres()` to our column combinedGenres, creating the new unique column genres. This transformation ensures that the genres are now meaningful for our analysis."
   ]
  },
  {
   "cell_type": "code",
   "execution_count": null,
   "metadata": {
    "ExecuteTime": {
     "end_time": "2023-11-15T17:58:41.791453Z",
     "start_time": "2023-11-15T17:58:41.241281Z"
    }
   },
   "outputs": [],
   "source": [
    "def unify_genres(x):\n",
    "    try:\n",
    "        unified_genres = set()\n",
    "        for genre in x:\n",
    "            themes_in_genres = {t for t in new_genres if genre in genres_dict[t]}\n",
    "            unified_genres = unified_genres.union(themes_in_genres)\n",
    "        return unified_genres if unified_genres else np.nan\n",
    "\n",
    "    except TypeError:\n",
    "        return x\n",
    "\n",
    "\n",
    "movies[\"genres\"] = movies[\"combinedGenres\"].apply(unify_genres)\n",
    "# movies.drop(columns=[\"genresCmu\",\"genresImdb\",\"combinedGenres\"],inplace=True) #TODO uncomment\n",
    "\n",
    "occurences = movies[\"genres\"].explode().value_counts()\n",
    "occurences.plot(kind=\"barh\")\n",
    "plt.title(\"Genre Occurrence Distribution\")\n",
    "plt.grid(alpha=0.15, axis=\"x\")\n",
    "plt.xlabel(\"counts\")\n",
    "\n",
    "percent_missing = movies[\"genres\"].isnull().sum() / len(movies)\n",
    "print(f\"Proportion of missing values in column genres {percent_missing:.2%}\")"
   ]
  },
  {
   "cell_type": "code",
   "execution_count": null,
   "metadata": {
    "ExecuteTime": {
     "end_time": "2023-11-15T17:58:50.166009Z",
     "start_time": "2023-11-15T17:58:48.800615Z"
    }
   },
   "outputs": [],
   "source": [
    "# Explode the genres and get dummies\n",
    "genre_dummies = pd.get_dummies(movies[\"genres\"].explode())\n",
    "genre_dummies.index.name = \"index\"\n",
    "\n",
    "# Group by index and sum\n",
    "genre_dummies_grouped = genre_dummies.groupby(\"index\").sum()\n",
    "\n",
    "# Get the list of genres\n",
    "genres_list = movies[\"genres\"].explode().dropna().value_counts().index.to_list()\n",
    "\n",
    "# Initialize co-occurrences matrix\n",
    "co_occurrences_matrix = np.zeros((len(genres_list), len(genres_list)))\n",
    "\n",
    "# Calculate co-occurrences\n",
    "for x, genre_x in enumerate(genres_list):\n",
    "    for y, genre_y in enumerate(genres_list):\n",
    "        if genre_x == genre_y:\n",
    "            co_occurrences_matrix[x, y] = (\n",
    "                    movies[\"genres\"].apply(lambda x: x == {genre_x}).sum()\n",
    "                    / genre_dummies_grouped[genre_x].sum()\n",
    "            )\n",
    "        else:\n",
    "            co_occurrences_matrix[x, y] = (\n",
    "                                                  (genre_dummies_grouped[genre_x] + genre_dummies_grouped[genre_y]) == 2\n",
    "                                          ).sum() / genre_dummies_grouped[genre_x].sum()\n",
    "\n",
    "# Plot heatmap\n",
    "heatmap_ax = sns.heatmap(\n",
    "    co_occurrences_matrix,\n",
    "    xticklabels=genres_list,\n",
    "    yticklabels=genres_list,\n",
    "    vmax=1,\n",
    "    vmin=0,\n",
    ")\n",
    "\n",
    "# Move x-axis to top and rotate labels\n",
    "heatmap_ax.xaxis.tick_top()\n",
    "plt.xticks(rotation=90);"
   ]
  },
  {
   "cell_type": "markdown",
   "metadata": {},
   "source": [
    "# CHANTIER EN COURS"
   ]
  },
  {
   "cell_type": "code",
   "execution_count": null,
   "metadata": {
    "ExecuteTime": {
     "end_time": "2023-11-15T17:58:55.914370Z",
     "start_time": "2023-11-15T17:58:52.535768Z"
    }
   },
   "outputs": [],
   "source": [
    "actors_exploded = explode_on_movies(actors)"
   ]
  },
  {
   "cell_type": "code",
   "execution_count": null,
   "metadata": {
    "ExecuteTime": {
     "end_time": "2023-11-15T17:58:57.412897Z",
     "start_time": "2023-11-15T17:58:55.915992Z"
    }
   },
   "outputs": [],
   "source": [
    "# Merge actors_genres with movies dataset, explode the genres column\n",
    "merged_actors_genres = actors_exploded.merge(movies[[\"fbID\", \"genres\"]], how=\"left\", on=\"fbID\")\n",
    "exploded_actors_genres = merged_actors_genres[[\"fbActorID\", \"fbID\", \"genres\"]].explode(column=\"genres\")\n",
    "\n",
    "# Create dummy variables for genres and group and sum \n",
    "genre_dummies = pd.get_dummies(exploded_actors_genres, columns=[\"genres\"], prefix=\"\", prefix_sep=\"\")\n",
    "grouped_genre_dummies = (1 * genre_dummies).groupby([\"fbActorID\", \"fbID\"]).sum()\n",
    "\n",
    "# Calculate the sum of genres for each actor and movie\n",
    "grouped_genre_dummies[\"genresCounts\"] = grouped_genre_dummies[genres_list].sum(axis=\"columns\")\n",
    "\n",
    "# Normalize by dividing by the total count of genres\n",
    "normalized_genre_dummies = grouped_genre_dummies.div(grouped_genre_dummies[\"genresCounts\"], axis=0)\n",
    "\n",
    "# Group by fbActorID and sum again\n",
    "grouped_normalized_genre_dummies = normalized_genre_dummies.groupby(\"fbActorID\").sum()\n",
    "\n",
    "# Filter actors with at least 100 genresCounts\n",
    "filtered_genre_dummies = grouped_normalized_genre_dummies.query(\"genresCounts >= 10\")\n",
    "\n",
    "# Normalize again after filtering\n",
    "final_genre_dummies = filtered_genre_dummies.div(filtered_genre_dummies[\"genresCounts\"], axis=0)\n",
    "\n",
    "# Group by fbActorID and sum again\n",
    "final_grouped_genre_dummies = final_genre_dummies.groupby(\"fbActorID\").sum()\n"
   ]
  },
  {
   "cell_type": "code",
   "execution_count": null,
   "metadata": {
    "ExecuteTime": {
     "end_time": "2023-11-15T17:58:58.046475Z",
     "start_time": "2023-11-15T17:58:58.013948Z"
    }
   },
   "outputs": [],
   "source": [
    "len(final_grouped_genre_dummies)"
   ]
  },
  {
   "cell_type": "code",
   "execution_count": null,
   "metadata": {
    "ExecuteTime": {
     "end_time": "2023-11-15T17:58:59.234044Z",
     "start_time": "2023-11-15T17:58:59.110866Z"
    }
   },
   "outputs": [],
   "source": [
    "final_grouped_genre_dummies.drop(columns=[\"genresCounts\"]).mean(axis=\"index\").plot(kind=\"barh\");"
   ]
  },
  {
   "cell_type": "code",
   "execution_count": null,
   "metadata": {
    "ExecuteTime": {
     "end_time": "2023-11-15T17:59:01.987953Z",
     "start_time": "2023-11-15T17:59:00.112364Z"
    }
   },
   "outputs": [],
   "source": [
    "pairplot = sns.pairplot(\n",
    "    final_grouped_genre_dummies[[\"Fiction\", \"Romance\", \"Adventure\", \"Action\"]],\n",
    ")\n",
    "pairplot.set(ylim=[0, 0.5], xlim=[0, 0.5])"
   ]
  },
  {
   "cell_type": "code",
   "execution_count": null,
   "metadata": {
    "ExecuteTime": {
     "end_time": "2023-11-15T17:59:02.160240Z",
     "start_time": "2023-11-15T17:59:01.960237Z"
    }
   },
   "outputs": [],
   "source": [
    "# Je sais pas pourquoi tes couleurs sont parties Valerie\n",
    "fig = plt.figure(figsize=(15, 5))\n",
    "fig.suptitle('Count of Movies by Release Year & Month')\n",
    "\n",
    "fig.add_subplot(121)\n",
    "sns.countplot(x='releaseYear', data=movies_load)\n",
    "plt.xticks(plt.xticks()[0][2::10], rotation=45)\n",
    "\n",
    "fig.add_subplot(122)\n",
    "sns.countplot(x=\"releaseMonth\", data=movies_load)\n",
    "\n",
    "plt.subplots_adjust(wspace=0.2)\n",
    "plt.show()"
   ]
  },
  {
   "cell_type": "markdown",
   "metadata": {},
   "source": [
    "# FIN DU CHANTIER"
   ]
  },
  {
   "cell_type": "markdown",
   "metadata": {},
   "source": [
    "## Saving Preprocessed Datasets"
   ]
  },
  {
   "cell_type": "markdown",
   "metadata": {},
   "source": [
    "### Removing Unnecessary Columns\n",
    "\n",
    "We are excluding columns containing information irrelevant to our analysis from all datasets to optimize memory usage and enhance readability."
   ]
  },
  {
   "cell_type": "code",
   "execution_count": null,
   "metadata": {
    "ExecuteTime": {
     "end_time": "2023-11-15T17:59:16.897056Z",
     "start_time": "2023-11-15T17:59:16.861234Z"
    }
   },
   "outputs": [],
   "source": [
    "# TODO enlever toutes les columns qu'on utilise pas dans TOUS les datasets"
   ]
  },
  {
   "cell_type": "code",
   "execution_count": null,
   "metadata": {
    "ExecuteTime": {
     "end_time": "2023-11-15T17:59:19.663464Z",
     "start_time": "2023-11-15T17:59:17.614613Z"
    }
   },
   "outputs": [],
   "source": [
    "movies.to_csv(DATA_FOLDER + \"movies.csv\", index=False)\n",
    "actors.to_csv(DATA_FOLDER + \"actors.csv\", index=False)"
   ]
  },
  {
   "cell_type": "code",
   "execution_count": null,
   "metadata": {
    "ExecuteTime": {
     "end_time": "2023-11-15T19:08:33.283626Z",
     "start_time": "2023-11-15T19:08:30.035907Z"
    }
   },
   "outputs": [],
   "source": [
    "actors_load = pd.read_csv(\n",
    "    DATA_FOLDER + \"actors.csv\",\n",
    "    converters={\n",
    "        \"fbID\": parse_list_actors,\n",
    "        \"ageAtMovieRelease\": parse_dict,\n",
    "        \"category\": parse_dict,\n",
    "        \"winner\": parse_dict,\n",
    "    },\n",
    ")\n",
    "movies_load = pd.read_csv(\n",
    "    DATA_FOLDER + \"movies.csv\",\n",
    "    converters={\n",
    "        \"languages\": parse_dict_to_list,\n",
    "        \"countries\": parse_dict_to_list,\n",
    "        \"genres\": parse_list,\n",
    "    },\n",
    ")"
   ]
  },
  {
   "cell_type": "code",
   "execution_count": null,
   "metadata": {
    "ExecuteTime": {
     "end_time": "2023-11-15T19:09:12.860219Z",
     "start_time": "2023-11-15T19:09:12.768299Z"
    },
    "collapsed": false
   },
   "outputs": [],
   "source": [
    "actors_load.fbID.head(1)    #TODO pk ya des \\n"
   ]
  },
  {
   "cell_type": "markdown",
   "metadata": {},
   "source": [
    "## Career Trajectory Analysis - Jennifer (should probably be before Genre analysis)"
   ]
  },
  {
   "cell_type": "code",
   "execution_count": null,
   "metadata": {
    "ExecuteTime": {
     "end_time": "2023-11-15T18:51:34.372015Z",
     "start_time": "2023-11-15T18:51:31.288056Z"
    }
   },
   "outputs": [],
   "source": [
    "actors_load = pd.read_csv(\n",
    "    DATA_FOLDER + \"actors.csv\",\n",
    "    converters={\n",
    "        \"fbID\": parse_list_actors,\n",
    "        \"ageAtMovieRelease\": parse_string,\n",
    "        \"category\": parse_string,\n",
    "        \"winner\": parse_string,\n",
    "    },\n",
    ")\n",
    "movies_load = pd.read_csv(\n",
    "    DATA_FOLDER + \"movies.csv\",\n",
    "    converters={\n",
    "        \"languages\": parse_string,\n",
    "        \"countries\": parse_string,\n",
    "        \"genres\": parse_string\n",
    "    },\n",
    ")"
   ]
  },
  {
   "cell_type": "code",
   "execution_count": null,
   "metadata": {
    "ExecuteTime": {
     "end_time": "2023-11-15T18:51:34.991297Z",
     "start_time": "2023-11-15T18:51:34.947074Z"
    }
   },
   "outputs": [],
   "source": [
    "print(\"Total number of actors:\", actors_load.shape[0])"
   ]
  },
  {
   "cell_type": "markdown",
   "metadata": {},
   "source": [
    "There are 135'760 actors in our dataset. It is likely that the dataset contains a diverse range of individuals with varying levels of involvement in the film industry, including many actors who have only appeared in a few movies (\"one-timers\" or relatively minor contributors to the overall landscape of the industry). Let us look at the number of movies played by the actors to confirm that."
   ]
  },
  {
   "cell_type": "code",
   "execution_count": null,
   "metadata": {
    "ExecuteTime": {
     "end_time": "2023-11-15T18:51:36.215318Z",
     "start_time": "2023-11-15T18:51:35.945335Z"
    }
   },
   "outputs": [],
   "source": [
    "actors_load['numMovies'] = actors_load['fbID'].apply(lambda x: len(x))\n",
    "\n",
    "sns.histplot(data=actors_load, x='numMovies', bins=100, log_scale=True)\n",
    "plt.title(\"Distribution of Number of Movies per Actor\")\n",
    "plt.xlabel(\"Number of Movies\")\n",
    "plt.ylabel(\"Count\")\n",
    "plt.show()\n",
    "\n",
    "num_actors_one_movie = (actors_load['numMovies'] == 1).sum()\n",
    "print(f\"Number of actors that have played in only one movie: {num_actors_one_movie}\")\n",
    "num_actors_ten_movies = (actors_load['numMovies'] < 10).sum()\n",
    "print(f\"Number of actors that have played in less than 10 movies: {num_actors_ten_movies}\")\n",
    "\n",
    "#TODO Choose number of minimum number of movies played by actors \n",
    "# Do we all agree with 10, because we are technically removing a LOT of actors?"
   ]
  },
  {
   "cell_type": "markdown",
   "metadata": {},
   "source": [
    "We observe that a significant proportion of actors have contributed to fewer than 10 movies. For the purpose of our analysis, we have chosen to exclude these actors from consideration to focus on individuals with more extensive careers. "
   ]
  },
  {
   "cell_type": "markdown",
   "metadata": {},
   "source": [
    "The distribution of the number of movies per actor now is:"
   ]
  },
  {
   "cell_type": "code",
   "execution_count": null,
   "metadata": {
    "ExecuteTime": {
     "end_time": "2023-11-15T18:51:36.915908Z",
     "start_time": "2023-11-15T18:51:36.755727Z"
    }
   },
   "outputs": [],
   "source": [
    "actors_load = actors_load[actors_load['numMovies'] >= 10]\n",
    "sns.histplot(data=actors_load, x='numMovies', bins=100, log_scale=True)\n",
    "plt.title(\"Distribution of Number of Movies per Actor\")\n",
    "plt.xlabel(\"Number of Movies\")\n",
    "plt.ylabel(\"Count\")\n",
    "plt.show()"
   ]
  },
  {
   "cell_type": "markdown",
   "metadata": {},
   "source": [
    "Let us now look at the year of birth of the actors considered."
   ]
  },
  {
   "cell_type": "code",
   "execution_count": null,
   "metadata": {
    "ExecuteTime": {
     "end_time": "2023-11-15T18:51:37.225797Z",
     "start_time": "2023-11-15T18:51:37.127236Z"
    }
   },
   "outputs": [],
   "source": [
    "actors_load['actorDOB'] = pd.to_datetime(actors_load['actorDOB'], errors='coerce')\n",
    "actors_load['yearOfBirth'] = actors_load['actorDOB'].dt.year\n",
    "\n",
    "# Plot histogram\n",
    "sns.histplot(data=actors_load, x='yearOfBirth', bins=50)\n",
    "plt.title(\"Distribution of Actors' Year of Birth\")\n",
    "plt.xlabel(\"Year of Birth\")\n",
    "plt.ylabel(\"Count\")\n",
    "plt.show()\n",
    "\n",
    "min_year = actors_load['yearOfBirth'].min()\n",
    "max_year = actors_load['yearOfBirth'].max()\n",
    "\n",
    "print(f\"The minimum year of birth is {min_year} and the maximum year of birth is {max_year}.\")\n"
   ]
  },
  {
   "cell_type": "markdown",
   "metadata": {},
   "source": [
    "From 1854 to 1970, there appears to be a noticeable increase in the number of actors born during this period. This rise could be indicative of several factors, such as the increasing popularity of movies as a form of entertainment, the growth of the film industry, and the increasing recognition of acting as a viable and esteemed profession. A decrease in the number of actors can be noticed after 1975, which can be explained by the fact that some 'future' actors may have not started their career yet."
   ]
  },
  {
   "cell_type": "markdown",
   "metadata": {},
   "source": [
    "Let us now see if there is a difference in this distribution depending on the gender."
   ]
  },
  {
   "cell_type": "code",
   "execution_count": null,
   "metadata": {
    "ExecuteTime": {
     "end_time": "2023-11-15T18:51:37.842125Z",
     "start_time": "2023-11-15T18:51:37.704020Z"
    }
   },
   "outputs": [],
   "source": [
    "num_female_actors = actors_load['actorGender'].value_counts()['F']\n",
    "num_male_actors = actors_load['actorGender'].value_counts()['M']\n",
    "\n",
    "print(\"Number of female actors:\", num_female_actors)\n",
    "print(\"Number of male actors:\", num_male_actors)\n",
    "print(\"Percentage of female actors:\", 100 * num_female_actors / (num_female_actors + num_male_actors))\n",
    "\n",
    "# Plot histogram\n",
    "sns.histplot(data=actors_load, x='yearOfBirth', bins=50, hue='actorGender')\n",
    "plt.title(\"Distribution of Actors' Year of Birth\")\n",
    "plt.xlabel(\"Year of Birth\")\n",
    "plt.ylabel(\"Count\")\n",
    "plt.show()"
   ]
  },
  {
   "cell_type": "markdown",
   "metadata": {},
   "source": [
    "There is a larger number of male actors than female actors. However, it seems that the proportion of female actors is increasing with time. \n",
    "\n",
    "Excluding the tails, specifically the lower and upper 10% of the interval, we can visualize the evolution of female actors, which is indeed increasing. This exclusion can be justified by the consideration that some actors may not have yet started their careers, particularly those entering the industry after 1990. By focusing on the central portion of the data, we aim to provide a more accurate depiction of the evolving gender composition among actors over the relevant time frame."
   ]
  },
  {
   "cell_type": "code",
   "execution_count": null,
   "metadata": {
    "ExecuteTime": {
     "end_time": "2023-11-15T18:51:38.344362Z",
     "start_time": "2023-11-15T18:51:38.263830Z"
    }
   },
   "outputs": [],
   "source": [
    "# group actors by year of birth and calculate proportion of female actors\n",
    "prop_female_actors = \\\n",
    "    actors_load[(actors_load['yearOfBirth'] >= 1870) & (actors_load['yearOfBirth'] <= 1995)].groupby('yearOfBirth')[\n",
    "        'actorGender'].apply(lambda x: (x == 'F').sum() / len(x))\n",
    "\n",
    "# plot the proportion of female actors per year of birth\n",
    "plt.plot(prop_female_actors.index, prop_female_actors.values)\n",
    "plt.xlabel('Year of Birth')\n",
    "plt.ylabel('Proportion of Female Actors')\n",
    "plt.title('Proportion of Female Actors by Year of Birth')\n",
    "plt.show()"
   ]
  },
  {
   "cell_type": "markdown",
   "metadata": {},
   "source": [
    "We now want to analyze the career start ages of actors. This will be determined by calculating the age at which an actor first appears in a movie within our dataset. To ensure an accurate assessment of career beginnings and to avoid erroneously identifying a mid-career movie as the initial one due to a lack of data before it, we will consider actors born after the release year of the earliest movie included in our dataset."
   ]
  },
  {
   "cell_type": "code",
   "execution_count": null,
   "metadata": {
    "ExecuteTime": {
     "end_time": "2023-11-15T18:51:38.891605Z",
     "start_time": "2023-11-15T18:51:38.871287Z"
    }
   },
   "outputs": [],
   "source": [
    "print('Minimum release year for movies dataset: ', movies_load['releaseYear'].min())\n",
    "actors_after_1888 = actors_load[actors_load['yearOfBirth'] > 1888]\n",
    "print('Number of actors after 1888: ', actors_after_1888.shape[0])"
   ]
  },
  {
   "cell_type": "code",
   "execution_count": null,
   "metadata": {
    "ExecuteTime": {
     "end_time": "2023-11-15T18:51:39.467414Z",
     "start_time": "2023-11-15T18:51:39.435852Z"
    }
   },
   "outputs": [],
   "source": [
    "# Define a function to extract the minimum age from the ageAtMovieRelease dictionary\n",
    "def get_min_age(x):\n",
    "    if isinstance(x, dict):\n",
    "        return min(x.values())\n",
    "    else:\n",
    "        return np.nan\n",
    "\n",
    "\n",
    "# Apply the function to the ageAtMovieRelease column\n",
    "actors_after_1888['ageAtFirstMovie'] = actors_after_1888['ageAtMovieRelease'].apply(get_min_age)\n"
   ]
  },
  {
   "cell_type": "code",
   "execution_count": null,
   "metadata": {
    "ExecuteTime": {
     "end_time": "2023-11-15T18:51:40.125663Z",
     "start_time": "2023-11-15T18:51:39.975159Z"
    }
   },
   "outputs": [],
   "source": [
    "# Statistics on age at first movie appearance\n",
    "mean_age = actors_after_1888['ageAtFirstMovie'].mean()\n",
    "median_age = actors_after_1888['ageAtFirstMovie'].median()\n",
    "\n",
    "print(f\"The mean age at first movie appearance is {mean_age:.2f} years old.\")\n",
    "print(f\"The median age at first movie appearance is {median_age:.2f} years old.\")\n",
    "print(\"Minimum age at first movie appearance:\", actors_after_1888['ageAtFirstMovie'].min())\n",
    "print(\"Maximum age at first movie appearance:\", actors_after_1888['ageAtFirstMovie'].max())\n",
    "\n",
    "# Plot histogram of age at first movie appearance\n",
    "sns.histplot(data=actors_after_1888, x='ageAtFirstMovie', bins=70, hue='actorGender')\n",
    "plt.title(\"Distribution of Age at First Movie Appearance\")\n",
    "plt.xlabel(\"Age at First Movie Appearance\")\n",
    "plt.ylabel(\"Count\")\n",
    "plt.show()"
   ]
  },
  {
   "cell_type": "markdown",
   "metadata": {},
   "source": [
    "Based on the observed distributions, it appears that there is a discrepancy in the age at which individuals of different genders make their first movie appearances, with male actors seemingly starting at an older age compared to female actors. To formally test this observation, we can conduct a t-test with the null hypothesis that the mean age at first movie for both genders is equal, which will help confirm whether the observed difference is statistically significant or could be due to random chance."
   ]
  },
  {
   "cell_type": "code",
   "execution_count": null,
   "metadata": {
    "ExecuteTime": {
     "end_time": "2023-11-15T18:51:42.399123Z",
     "start_time": "2023-11-15T18:51:42.358668Z"
    }
   },
   "outputs": [],
   "source": [
    "men_data = actors_after_1888.loc[actors_after_1888['actorGender'] == 'M', 'ageAtFirstMovie']\n",
    "women_data = actors_after_1888.loc[actors_after_1888['actorGender'] == 'F', 'ageAtFirstMovie']\n",
    "\n",
    "# Perform the t-test\n",
    "t_stat, p_value = ttest_ind(men_data.dropna(), women_data.dropna(), equal_var=False, alternative='greater')\n",
    "\n",
    "# Print the results\n",
    "print(f\"t-statistic: {t_stat:.2f}\")\n",
    "print(f\"p-value: {p_value:.2f}\")\n"
   ]
  },
  {
   "cell_type": "markdown",
   "metadata": {},
   "source": [
    "Given the p-value of 0.00, it is extremely unlikely to observe such a large difference in age at first movie appearance between men and women if there were no true difference in the population. Therefore, we may reject the null hypothesis. It can thus be suggested that the age at which male actors make their first movie appearance is statistically significantly greater than that of female actors."
   ]
  },
  {
   "cell_type": "code",
   "execution_count": null,
   "metadata": {
    "ExecuteTime": {
     "end_time": "2023-11-15T18:52:04.333282Z",
     "start_time": "2023-11-15T18:52:04.226447Z"
    }
   },
   "outputs": [],
   "source": [
    "# Group actors by year of birth and gender and calculate mean age at first movie appearance\n",
    "mean_age_by_year_gender = actors_after_1888.groupby(['yearOfBirth', 'actorGender'])[\n",
    "    'ageAtFirstMovie'].mean().reset_index()\n",
    "\n",
    "# Plot mean age at first movie appearance per year of birth and gender\n",
    "sns.lineplot(data=mean_age_by_year_gender, x='yearOfBirth', y='ageAtFirstMovie', hue='actorGender')\n",
    "plt.title('Mean Age at First Movie Appearance by Year of Birth and Gender')\n",
    "plt.xlabel('Year of Birth')\n",
    "plt.ylabel('Mean Age at First Movie Appearance')\n",
    "\n",
    "#TODO We really have to solve this problem of age \n",
    "#TODO Once this is solved, do analysis on this (can we say that there is no difference from a \n",
    "# certain year because gender equality and all)"
   ]
  },
  {
   "cell_type": "code",
   "execution_count": null,
   "metadata": {
    "ExecuteTime": {
     "end_time": "2023-11-15T18:52:05.541325Z",
     "start_time": "2023-11-15T18:52:05.518209Z"
    }
   },
   "outputs": [],
   "source": [
    "print('Maximum release year for movies dataset: ', movies_load['releaseYear'].max())\n",
    "actors_full_career = actors_after_1888[actors_after_1888['yearOfBirth'] < 2017 - 61]\n",
    "#TODO: discuss with someone about this choice\n",
    "print('Number of actors between 1888 and 1967: ', actors_full_career.shape[0])"
   ]
  },
  {
   "cell_type": "code",
   "execution_count": null,
   "metadata": {
    "ExecuteTime": {
     "end_time": "2023-11-15T18:52:06.179949Z",
     "start_time": "2023-11-15T18:52:06.137680Z"
    }
   },
   "outputs": [],
   "source": [
    "# Define a function to extract the maximum age from the ageAtMovieRelease dictionary\n",
    "def get_max_age(x):\n",
    "    if isinstance(x, dict):\n",
    "        return max(x.values())\n",
    "    else:\n",
    "        return np.nan\n",
    "\n",
    "\n",
    "# Apply the function to the ageAtMovieRelease column\n",
    "actors_full_career['ageAtLastMovie'] = actors_full_career['ageAtMovieRelease'].apply(get_max_age)\n",
    "# Calculate career length\n",
    "actors_full_career['careerLength'] = actors_full_career['ageAtLastMovie'] - actors_full_career['ageAtFirstMovie']"
   ]
  },
  {
   "cell_type": "markdown",
   "metadata": {},
   "source": [
    "To choose the upper limit for the birth years of actors, we conducted an analysis of the age at the last movie appearance within a specified interval that should be immune to the influence of cutting points (taking into account a 100-year margin). The results revealed an average age of approximately 60.96 years, which thus taken off from 2017, last movie release year in our dataset."
   ]
  },
  {
   "cell_type": "code",
   "execution_count": null,
   "metadata": {
    "ExecuteTime": {
     "end_time": "2023-11-15T18:52:07.109055Z",
     "start_time": "2023-11-15T18:52:07.021083Z"
    }
   },
   "outputs": [],
   "source": [
    "# Mean and median of age at last movie appearance\n",
    "age_last_movie = actors_full_career[actors_full_career.yearOfBirth < 2017 - 90]['ageAtLastMovie']\n",
    "print(f\"Mean age at last movie appearance: {age_last_movie.mean():.2f}\")\n",
    "print(f\"Median age at last movie appearance: {age_last_movie.median():.2f}\")\n",
    "\n",
    "# Plot histogram of age at last movie appearance\n",
    "sns.histplot(data=actors_full_career[actors_full_career.yearOfBirth < 2017 - 90], x='ageAtLastMovie')\n",
    "plt.title('Distribution of Age at Last Movie Appearance')\n",
    "plt.xlabel('Age at Last Movie Appearance')\n",
    "plt.ylabel('Count')\n",
    "plt.show()"
   ]
  },
  {
   "cell_type": "code",
   "execution_count": null,
   "metadata": {
    "ExecuteTime": {
     "end_time": "2023-11-15T18:52:07.814023Z",
     "start_time": "2023-11-15T18:52:07.678957Z"
    }
   },
   "outputs": [],
   "source": [
    "mean_career_length = actors_full_career['careerLength'].mean()\n",
    "median_career_length = actors_full_career['careerLength'].median()\n",
    "\n",
    "print(f\"The mean career length is {mean_career_length:.2f} years.\")\n",
    "print(f\"The median career length is {median_career_length:.2f} years.\")\n",
    "\n",
    "sns.histplot(data=actors_full_career, x='careerLength', bins=50, hue='actorGender')\n",
    "plt.title(\"Distribution of Career Lengths\")\n",
    "plt.xlabel(\"Career Length (years)\")\n",
    "plt.ylabel(\"Count\")\n",
    "plt.show()\n"
   ]
  },
  {
   "cell_type": "markdown",
   "metadata": {},
   "source": [
    "A t-test was conducted to assess whether there is a statistically significant difference in the career lengths between male and female actors."
   ]
  },
  {
   "cell_type": "code",
   "execution_count": null,
   "metadata": {
    "ExecuteTime": {
     "end_time": "2023-11-15T18:52:08.921714Z",
     "start_time": "2023-11-15T18:52:08.889439Z"
    }
   },
   "outputs": [],
   "source": [
    "# extract career lengths for male and female actors\n",
    "male_career_lengths = actors_full_career[actors_full_career['actorGender'] == 'M']['careerLength']\n",
    "female_career_lengths = actors_full_career[actors_full_career['actorGender'] == 'F']['careerLength']\n",
    "\n",
    "# perform the t-test\n",
    "t_stat, p_value = ttest_ind(male_career_lengths.dropna(), female_career_lengths.dropna(), equal_var=False)\n",
    "\n",
    "# print the results\n",
    "print(f\"t-statistic: {t_stat:.2f}\")\n",
    "print(f\"p-value: {p_value:.2f}\")\n"
   ]
  },
  {
   "cell_type": "markdown",
   "metadata": {},
   "source": [
    "The t-statistic of 0.41 suggests a relatively small difference in means between the two groups. The p-value of 0.68 is above the significance threshold 0.05, indicating that there is insufficient evidence to reject the null hypothesis. In other words, the observed difference in the meands of career lengths between male and female actors is not statistically significant.\n",
    "\n",
    "#TODO: same means but distribution looks different, that's weird"
   ]
  },
  {
   "cell_type": "code",
   "execution_count": null,
   "metadata": {
    "ExecuteTime": {
     "end_time": "2023-11-15T18:52:09.672898Z",
     "start_time": "2023-11-15T18:52:09.505202Z"
    }
   },
   "outputs": [],
   "source": [
    "fig, (ax1, ax2) = plt.subplots(1, 2, figsize=(12, 5))\n",
    "\n",
    "sns.scatterplot(data=actors_full_career, x='numMovies', y='careerLength', ax=ax1, color='blue', alpha=0.5)\n",
    "ax1.set_title(\"Correlation between Number of Movies and Career Length\", fontsize=14)\n",
    "ax1.set_xlabel(\"Number of Movies\")\n",
    "ax1.set_ylabel(\"Career Length (years)\")\n",
    "\n",
    "# Extract unique age values from ageAtMovieRelease dictionary\n",
    "#TODO: Explain what is active years\n",
    "actors_full_career['activeYears'] = actors_full_career['ageAtMovieRelease'].apply(\n",
    "    lambda x: len(set(x.values())) if isinstance(x, dict) else np.nan)\n",
    "\n",
    "sns.scatterplot(data=actors_full_career, x='activeYears', y='careerLength', ax=ax2, color='red', alpha=0.5)\n",
    "ax2.set_title(\"Correlation between Active Years and Career Length\", fontsize=14)\n",
    "ax2.set_xlabel(\"Active Years\")\n",
    "ax2.set_ylabel(\"Career Length (years)\")\n",
    "\n",
    "plt.tight_layout()\n",
    "plt.show()"
   ]
  },
  {
   "cell_type": "markdown",
   "metadata": {},
   "source": [
    "#TODO: Interpretation de ces plots"
   ]
  },
  {
   "cell_type": "code",
   "execution_count": null,
   "metadata": {
    "ExecuteTime": {
     "end_time": "2023-11-15T18:52:10.668086Z",
     "start_time": "2023-11-15T18:52:10.649198Z"
    }
   },
   "outputs": [],
   "source": [
    "# Calculate average number of movies per year\n",
    "actors_full_career['avgMoviesPerYear'] = actors_full_career['numMovies'] / actors_full_career['careerLength']\n",
    "\n",
    "# Calculate active years per career length\n",
    "actors_full_career['activeYearsPerCareerLength'] = actors_full_career['activeYears'] / actors_full_career[\n",
    "    'careerLength']\n",
    "\n",
    "#TODO: Do something out of this (potentially)"
   ]
  },
  {
   "cell_type": "code",
   "execution_count": null,
   "metadata": {
    "collapsed": false
   },
   "outputs": [],
   "source": []
  }
 ],
 "metadata": {
  "kernelspec": {
   "display_name": "Python 3",
   "language": "python",
   "name": "python3"
  },
  "language_info": {
   "codemirror_mode": {
    "name": "ipython",
    "version": 3
   },
   "file_extension": ".py",
   "mimetype": "text/x-python",
   "name": "python",
   "nbconvert_exporter": "python",
   "pygments_lexer": "ipython3",
   "version": "3.10.7"
  }
 },
 "nbformat": 4,
 "nbformat_minor": 2
}
