{
 "cells": [
  {
   "cell_type": "code",
   "execution_count": 2,
   "metadata": {
    "ExecuteTime": {
     "end_time": "2023-11-05T23:47:37.797521Z",
     "start_time": "2023-11-05T23:47:37.717755Z"
    }
   },
   "outputs": [],
   "source": [
    "import pandas as pd\n",
    "import numpy as np\n",
    "import matplotlib.pyplot as plt\n",
    "import seaborn as sns\n",
    "\n",
    "import warnings\n",
    "\n",
    "warnings.filterwarnings(\"ignore\")\n",
    "pd.set_option('display.max_columns', None)\n",
    "plt.rcdefaults()"
   ]
  },
  {
   "cell_type": "code",
   "execution_count": 3,
   "metadata": {
    "ExecuteTime": {
     "end_time": "2023-11-05T23:47:50.357243Z",
     "start_time": "2023-11-05T23:47:37.718755Z"
    }
   },
   "outputs": [],
   "source": [
    "DATA_FOLDER = \"../Data/\"\n",
    "\n",
    "imdb_basics_raw = pd.read_csv(\n",
    "    DATA_FOLDER + \"IMDb/title.basics.tsv.gz\",\n",
    "    sep=\"\\t\",\n",
    "    compression=\"gzip\",\n",
    ")\n",
    "imdb_ratings_raw = pd.read_csv(\n",
    "    DATA_FOLDER + \"IMDb/title.ratings.tsv.gz\",\n",
    "    sep=\"\\t\",\n",
    "    compression=\"gzip\",\n",
    ")\n",
    "movies_raw = pd.read_csv(DATA_FOLDER + \"MovieSummaries/movie.metadata.tsv\", sep=\"\\t\")"
   ]
  },
  {
   "cell_type": "code",
   "execution_count": 4,
   "metadata": {
    "ExecuteTime": {
     "end_time": "2023-11-05T23:47:50.364927Z",
     "start_time": "2023-11-05T23:47:50.357555Z"
    }
   },
   "outputs": [],
   "source": [
    "movies_raw.columns = [\n",
    "    \"wikiID\",\n",
    "    \"fbID\",\n",
    "    \"name\",\n",
    "    \"releaseDate\",\n",
    "    \"boxOffice\",\n",
    "    \"runtime\",\n",
    "    \"languages\",\n",
    "    \"countries\",\n",
    "    \"genres\",\n",
    "]\n",
    "\n",
    "imdb_basics_raw.rename(\n",
    "    columns={\n",
    "        \"primaryTitle\": \"name\",\n",
    "        \"startYear\": \"releaseYear\",\n",
    "        \"runtimeMinutes\": \"runtime\",\n",
    "    },\n",
    "    inplace=True\n",
    ")"
   ]
  },
  {
   "cell_type": "code",
   "execution_count": 5,
   "metadata": {
    "ExecuteTime": {
     "end_time": "2023-11-05T23:47:50.962392Z",
     "start_time": "2023-11-05T23:47:50.360319Z"
    }
   },
   "outputs": [],
   "source": [
    "movies = movies_raw.copy()\n",
    "imdb_basics = imdb_basics_raw.copy()\n",
    "imdb_ratings = imdb_ratings_raw.copy()"
   ]
  },
  {
   "cell_type": "code",
   "execution_count": 6,
   "metadata": {
    "ExecuteTime": {
     "end_time": "2023-11-05T23:47:56.431712Z",
     "start_time": "2023-11-05T23:47:54.571728Z"
    }
   },
   "outputs": [],
   "source": [
    "# Merge both imdb datasets\n",
    "imdb = pd.merge(imdb_basics, imdb_ratings, on='tconst', how='left')"
   ]
  },
  {
   "cell_type": "code",
   "execution_count": 7,
   "metadata": {
    "ExecuteTime": {
     "end_time": "2023-11-05T23:47:58.686756Z",
     "start_time": "2023-11-05T23:47:56.431894Z"
    }
   },
   "outputs": [],
   "source": [
    "imdb[\"releaseYear\"] = pd.to_numeric(imdb[\"releaseYear\"], errors=\"coerce\")\n",
    "\n",
    "movies[\"releaseMonth\"] = pd.to_datetime(\n",
    "    movies[\"releaseDate\"],\n",
    "    errors=\"coerce\",\n",
    ").dt.month\n",
    "\n",
    "movies[\"releaseYear\"] = pd.to_datetime(\n",
    "    movies[\"releaseDate\"], errors=\"coerce\", format=\"mixed\"\n",
    ").dt.year\n",
    "\n",
    "movies.drop(columns=[\"releaseDate\"], inplace=True)"
   ]
  },
  {
   "cell_type": "code",
   "execution_count": 8,
   "metadata": {
    "ExecuteTime": {
     "end_time": "2023-11-05T23:48:02.425153Z",
     "start_time": "2023-11-05T23:47:58.687158Z"
    }
   },
   "outputs": [],
   "source": [
    "movies.drop_duplicates(subset=[\"name\", \"releaseMonth\", \"releaseYear\"], inplace=True)\n",
    "imdb.drop_duplicates(subset=[\"name\", \"releaseYear\"], inplace=True)"
   ]
  },
  {
   "cell_type": "code",
   "execution_count": 9,
   "metadata": {
    "ExecuteTime": {
     "end_time": "2023-11-05T23:48:04.094769Z",
     "start_time": "2023-11-05T23:48:02.424542Z"
    }
   },
   "outputs": [],
   "source": [
    "imdb.runtime = pd.to_numeric(imdb.runtime, errors=\"coerce\")"
   ]
  },
  {
   "cell_type": "code",
   "execution_count": 10,
   "metadata": {
    "ExecuteTime": {
     "end_time": "2023-11-05T23:48:06.848296Z",
     "start_time": "2023-11-05T23:48:04.095385Z"
    }
   },
   "outputs": [],
   "source": [
    "movies_imdb = pd.merge(movies, imdb, how=\"left\", on=[\"name\", \"releaseYear\", \"runtime\"], suffixes=[\"Cmu\", \"Imdb\"])"
   ]
  },
  {
   "cell_type": "code",
   "execution_count": 11,
   "metadata": {
    "ExecuteTime": {
     "end_time": "2023-11-05T23:48:08.356085Z",
     "start_time": "2023-11-05T23:48:06.849567Z"
    },
    "collapsed": false
   },
   "outputs": [],
   "source": [
    "# Function to extract genres from the string representation of dictionary-like data\n",
    "def parse_dict(s):\n",
    "    try:\n",
    "        genres_dict = eval(s.replace('null', 'None'))\n",
    "        values = list(genres_dict.values())\n",
    "        if len(values) == 0:\n",
    "            return np.nan\n",
    "        else:\n",
    "            return values\n",
    "    except:\n",
    "        return np.nan\n",
    "\n",
    "\n",
    "movies_imdb['languages'] = movies_imdb['languages'].apply(parse_dict)\n",
    "movies_imdb['countries'] = movies_imdb['countries'].apply(parse_dict)\n",
    "movies_imdb['genresCmu'] = movies_imdb['genresCmu'].apply(parse_dict)\n",
    "\n",
    "movies_imdb['genresImdb'] = movies_imdb['genresImdb'].apply(\n",
    "    lambda x: x.split(',') if not isinstance(x, float) else np.nan)"
   ]
  },
  {
   "cell_type": "code",
   "execution_count": 12,
   "metadata": {
    "ExecuteTime": {
     "end_time": "2023-11-05T23:48:08.366882Z",
     "start_time": "2023-11-05T23:48:08.363528Z"
    }
   },
   "outputs": [
    {
     "name": "stdout",
     "output_type": "stream",
     "text": [
      "(81630, 10)\n",
      "(81630, 18)\n"
     ]
    },
    {
     "data": {
      "text/html": [
       "<div>\n",
       "<style scoped>\n",
       "    .dataframe tbody tr th:only-of-type {\n",
       "        vertical-align: middle;\n",
       "    }\n",
       "\n",
       "    .dataframe tbody tr th {\n",
       "        vertical-align: top;\n",
       "    }\n",
       "\n",
       "    .dataframe thead th {\n",
       "        text-align: right;\n",
       "    }\n",
       "</style>\n",
       "<table border=\"1\" class=\"dataframe\">\n",
       "  <thead>\n",
       "    <tr style=\"text-align: right;\">\n",
       "      <th></th>\n",
       "      <th>wikiID</th>\n",
       "      <th>fbID</th>\n",
       "      <th>name</th>\n",
       "      <th>boxOffice</th>\n",
       "      <th>runtime</th>\n",
       "      <th>languages</th>\n",
       "      <th>countries</th>\n",
       "      <th>genresCmu</th>\n",
       "      <th>releaseMonth</th>\n",
       "      <th>releaseYear</th>\n",
       "      <th>tconst</th>\n",
       "      <th>titleType</th>\n",
       "      <th>originalTitle</th>\n",
       "      <th>isAdult</th>\n",
       "      <th>endYear</th>\n",
       "      <th>genresImdb</th>\n",
       "      <th>averageRating</th>\n",
       "      <th>numVotes</th>\n",
       "    </tr>\n",
       "  </thead>\n",
       "  <tbody>\n",
       "    <tr>\n",
       "      <th>0</th>\n",
       "      <td>3196793</td>\n",
       "      <td>/m/08yl5d</td>\n",
       "      <td>Getting Away with Murder: The JonBenét Ramsey ...</td>\n",
       "      <td>NaN</td>\n",
       "      <td>95.0</td>\n",
       "      <td>[English Language]</td>\n",
       "      <td>[United States of America]</td>\n",
       "      <td>[Mystery, Biographical film, Drama, Crime Drama]</td>\n",
       "      <td>2.0</td>\n",
       "      <td>2000.0</td>\n",
       "      <td>NaN</td>\n",
       "      <td>NaN</td>\n",
       "      <td>NaN</td>\n",
       "      <td>NaN</td>\n",
       "      <td>NaN</td>\n",
       "      <td>NaN</td>\n",
       "      <td>NaN</td>\n",
       "      <td>NaN</td>\n",
       "    </tr>\n",
       "    <tr>\n",
       "      <th>1</th>\n",
       "      <td>28463795</td>\n",
       "      <td>/m/0crgdbh</td>\n",
       "      <td>Brun bitter</td>\n",
       "      <td>NaN</td>\n",
       "      <td>83.0</td>\n",
       "      <td>[Norwegian Language]</td>\n",
       "      <td>[Norway]</td>\n",
       "      <td>[Crime Fiction, Drama]</td>\n",
       "      <td>NaN</td>\n",
       "      <td>1988.0</td>\n",
       "      <td>tt0094806</td>\n",
       "      <td>movie</td>\n",
       "      <td>Brun bitter</td>\n",
       "      <td>0</td>\n",
       "      <td>\\N</td>\n",
       "      <td>[Crime, Drama]</td>\n",
       "      <td>5.6</td>\n",
       "      <td>40.0</td>\n",
       "    </tr>\n",
       "    <tr>\n",
       "      <th>2</th>\n",
       "      <td>9363483</td>\n",
       "      <td>/m/0285_cd</td>\n",
       "      <td>White Of The Eye</td>\n",
       "      <td>NaN</td>\n",
       "      <td>110.0</td>\n",
       "      <td>[English Language]</td>\n",
       "      <td>[United Kingdom]</td>\n",
       "      <td>[Thriller, Erotic thriller, Psychological thri...</td>\n",
       "      <td>NaN</td>\n",
       "      <td>1987.0</td>\n",
       "      <td>NaN</td>\n",
       "      <td>NaN</td>\n",
       "      <td>NaN</td>\n",
       "      <td>NaN</td>\n",
       "      <td>NaN</td>\n",
       "      <td>NaN</td>\n",
       "      <td>NaN</td>\n",
       "      <td>NaN</td>\n",
       "    </tr>\n",
       "    <tr>\n",
       "      <th>3</th>\n",
       "      <td>261236</td>\n",
       "      <td>/m/01mrr1</td>\n",
       "      <td>A Woman in Flames</td>\n",
       "      <td>NaN</td>\n",
       "      <td>106.0</td>\n",
       "      <td>[German Language]</td>\n",
       "      <td>[Germany]</td>\n",
       "      <td>[Drama]</td>\n",
       "      <td>NaN</td>\n",
       "      <td>1983.0</td>\n",
       "      <td>tt0083949</td>\n",
       "      <td>movie</td>\n",
       "      <td>Die flambierte Frau</td>\n",
       "      <td>0</td>\n",
       "      <td>\\N</td>\n",
       "      <td>[Drama]</td>\n",
       "      <td>6.0</td>\n",
       "      <td>621.0</td>\n",
       "    </tr>\n",
       "    <tr>\n",
       "      <th>4</th>\n",
       "      <td>13696889</td>\n",
       "      <td>/m/03cfc81</td>\n",
       "      <td>The Gangsters</td>\n",
       "      <td>NaN</td>\n",
       "      <td>35.0</td>\n",
       "      <td>[Silent film, English Language]</td>\n",
       "      <td>[United States of America]</td>\n",
       "      <td>[Short Film, Silent film, Indie, Black-and-whi...</td>\n",
       "      <td>5.0</td>\n",
       "      <td>1913.0</td>\n",
       "      <td>tt0002894</td>\n",
       "      <td>short</td>\n",
       "      <td>The Gangsters</td>\n",
       "      <td>0</td>\n",
       "      <td>\\N</td>\n",
       "      <td>[Comedy, Short]</td>\n",
       "      <td>6.8</td>\n",
       "      <td>16.0</td>\n",
       "    </tr>\n",
       "    <tr>\n",
       "      <th>5</th>\n",
       "      <td>18998739</td>\n",
       "      <td>/m/04jcqvw</td>\n",
       "      <td>The Sorcerer's Apprentice</td>\n",
       "      <td>NaN</td>\n",
       "      <td>86.0</td>\n",
       "      <td>[English Language]</td>\n",
       "      <td>[South Africa]</td>\n",
       "      <td>[Family Film, Fantasy, Adventure, World cinema]</td>\n",
       "      <td>NaN</td>\n",
       "      <td>2002.0</td>\n",
       "      <td>NaN</td>\n",
       "      <td>NaN</td>\n",
       "      <td>NaN</td>\n",
       "      <td>NaN</td>\n",
       "      <td>NaN</td>\n",
       "      <td>NaN</td>\n",
       "      <td>NaN</td>\n",
       "      <td>NaN</td>\n",
       "    </tr>\n",
       "    <tr>\n",
       "      <th>6</th>\n",
       "      <td>10408933</td>\n",
       "      <td>/m/02qc0j7</td>\n",
       "      <td>Alexander's Ragtime Band</td>\n",
       "      <td>3600000.0</td>\n",
       "      <td>106.0</td>\n",
       "      <td>[English Language]</td>\n",
       "      <td>[United States of America]</td>\n",
       "      <td>[Musical, Comedy, Black-and-white]</td>\n",
       "      <td>8.0</td>\n",
       "      <td>1938.0</td>\n",
       "      <td>tt0029852</td>\n",
       "      <td>movie</td>\n",
       "      <td>Alexander's Ragtime Band</td>\n",
       "      <td>0</td>\n",
       "      <td>\\N</td>\n",
       "      <td>[Drama, Music, Musical]</td>\n",
       "      <td>6.8</td>\n",
       "      <td>2264.0</td>\n",
       "    </tr>\n",
       "    <tr>\n",
       "      <th>7</th>\n",
       "      <td>9997961</td>\n",
       "      <td>/m/06_y2j7</td>\n",
       "      <td>Contigo y aquí</td>\n",
       "      <td>NaN</td>\n",
       "      <td>NaN</td>\n",
       "      <td>[Spanish Language]</td>\n",
       "      <td>[Argentina]</td>\n",
       "      <td>[Musical, Drama, Comedy]</td>\n",
       "      <td>NaN</td>\n",
       "      <td>1974.0</td>\n",
       "      <td>NaN</td>\n",
       "      <td>NaN</td>\n",
       "      <td>NaN</td>\n",
       "      <td>NaN</td>\n",
       "      <td>NaN</td>\n",
       "      <td>NaN</td>\n",
       "      <td>NaN</td>\n",
       "      <td>NaN</td>\n",
       "    </tr>\n",
       "    <tr>\n",
       "      <th>8</th>\n",
       "      <td>2345652</td>\n",
       "      <td>/m/075f66</td>\n",
       "      <td>City of the Dead</td>\n",
       "      <td>NaN</td>\n",
       "      <td>76.0</td>\n",
       "      <td>[English Language]</td>\n",
       "      <td>[United Kingdom]</td>\n",
       "      <td>[Horror, Supernatural]</td>\n",
       "      <td>NaN</td>\n",
       "      <td>1960.0</td>\n",
       "      <td>NaN</td>\n",
       "      <td>NaN</td>\n",
       "      <td>NaN</td>\n",
       "      <td>NaN</td>\n",
       "      <td>NaN</td>\n",
       "      <td>NaN</td>\n",
       "      <td>NaN</td>\n",
       "      <td>NaN</td>\n",
       "    </tr>\n",
       "    <tr>\n",
       "      <th>9</th>\n",
       "      <td>175026</td>\n",
       "      <td>/m/017n1p</td>\n",
       "      <td>Sarah and Son</td>\n",
       "      <td>NaN</td>\n",
       "      <td>86.0</td>\n",
       "      <td>[English Language]</td>\n",
       "      <td>[United States of America]</td>\n",
       "      <td>[Drama, Black-and-white]</td>\n",
       "      <td>NaN</td>\n",
       "      <td>1930.0</td>\n",
       "      <td>tt0021335</td>\n",
       "      <td>movie</td>\n",
       "      <td>Sarah and Son</td>\n",
       "      <td>0</td>\n",
       "      <td>\\N</td>\n",
       "      <td>[Drama, Romance]</td>\n",
       "      <td>5.4</td>\n",
       "      <td>298.0</td>\n",
       "    </tr>\n",
       "  </tbody>\n",
       "</table>\n",
       "</div>"
      ],
      "text/plain": [
       "     wikiID        fbID                                               name  \\\n",
       "0   3196793   /m/08yl5d  Getting Away with Murder: The JonBenét Ramsey ...   \n",
       "1  28463795  /m/0crgdbh                                        Brun bitter   \n",
       "2   9363483  /m/0285_cd                                   White Of The Eye   \n",
       "3    261236   /m/01mrr1                                  A Woman in Flames   \n",
       "4  13696889  /m/03cfc81                                      The Gangsters   \n",
       "5  18998739  /m/04jcqvw                          The Sorcerer's Apprentice   \n",
       "6  10408933  /m/02qc0j7                           Alexander's Ragtime Band   \n",
       "7   9997961  /m/06_y2j7                                     Contigo y aquí   \n",
       "8   2345652   /m/075f66                                   City of the Dead   \n",
       "9    175026   /m/017n1p                                      Sarah and Son   \n",
       "\n",
       "   boxOffice  runtime                        languages  \\\n",
       "0        NaN     95.0               [English Language]   \n",
       "1        NaN     83.0             [Norwegian Language]   \n",
       "2        NaN    110.0               [English Language]   \n",
       "3        NaN    106.0                [German Language]   \n",
       "4        NaN     35.0  [Silent film, English Language]   \n",
       "5        NaN     86.0               [English Language]   \n",
       "6  3600000.0    106.0               [English Language]   \n",
       "7        NaN      NaN               [Spanish Language]   \n",
       "8        NaN     76.0               [English Language]   \n",
       "9        NaN     86.0               [English Language]   \n",
       "\n",
       "                    countries  \\\n",
       "0  [United States of America]   \n",
       "1                    [Norway]   \n",
       "2            [United Kingdom]   \n",
       "3                   [Germany]   \n",
       "4  [United States of America]   \n",
       "5              [South Africa]   \n",
       "6  [United States of America]   \n",
       "7                 [Argentina]   \n",
       "8            [United Kingdom]   \n",
       "9  [United States of America]   \n",
       "\n",
       "                                           genresCmu  releaseMonth  \\\n",
       "0   [Mystery, Biographical film, Drama, Crime Drama]           2.0   \n",
       "1                             [Crime Fiction, Drama]           NaN   \n",
       "2  [Thriller, Erotic thriller, Psychological thri...           NaN   \n",
       "3                                            [Drama]           NaN   \n",
       "4  [Short Film, Silent film, Indie, Black-and-whi...           5.0   \n",
       "5    [Family Film, Fantasy, Adventure, World cinema]           NaN   \n",
       "6                 [Musical, Comedy, Black-and-white]           8.0   \n",
       "7                           [Musical, Drama, Comedy]           NaN   \n",
       "8                             [Horror, Supernatural]           NaN   \n",
       "9                           [Drama, Black-and-white]           NaN   \n",
       "\n",
       "   releaseYear     tconst titleType             originalTitle isAdult endYear  \\\n",
       "0       2000.0        NaN       NaN                       NaN     NaN     NaN   \n",
       "1       1988.0  tt0094806     movie               Brun bitter       0      \\N   \n",
       "2       1987.0        NaN       NaN                       NaN     NaN     NaN   \n",
       "3       1983.0  tt0083949     movie       Die flambierte Frau       0      \\N   \n",
       "4       1913.0  tt0002894     short             The Gangsters       0      \\N   \n",
       "5       2002.0        NaN       NaN                       NaN     NaN     NaN   \n",
       "6       1938.0  tt0029852     movie  Alexander's Ragtime Band       0      \\N   \n",
       "7       1974.0        NaN       NaN                       NaN     NaN     NaN   \n",
       "8       1960.0        NaN       NaN                       NaN     NaN     NaN   \n",
       "9       1930.0  tt0021335     movie             Sarah and Son       0      \\N   \n",
       "\n",
       "                genresImdb  averageRating  numVotes  \n",
       "0                      NaN            NaN       NaN  \n",
       "1           [Crime, Drama]            5.6      40.0  \n",
       "2                      NaN            NaN       NaN  \n",
       "3                  [Drama]            6.0     621.0  \n",
       "4          [Comedy, Short]            6.8      16.0  \n",
       "5                      NaN            NaN       NaN  \n",
       "6  [Drama, Music, Musical]            6.8    2264.0  \n",
       "7                      NaN            NaN       NaN  \n",
       "8                      NaN            NaN       NaN  \n",
       "9         [Drama, Romance]            5.4     298.0  "
      ]
     },
     "execution_count": 12,
     "metadata": {},
     "output_type": "execute_result"
    }
   ],
   "source": [
    "print(movies.shape)\n",
    "print(movies_imdb.shape)\n",
    "movies_imdb.head(10)"
   ]
  },
  {
   "cell_type": "code",
   "execution_count": 13,
   "metadata": {
    "ExecuteTime": {
     "end_time": "2023-11-05T23:48:09.106090Z",
     "start_time": "2023-11-05T23:48:08.366718Z"
    }
   },
   "outputs": [],
   "source": [
    "characters_raw = pd.read_csv(DATA_FOLDER + \"MovieSummaries/character.metadata.tsv\", sep='\\t')\n",
    "oscars_raw = pd.read_csv(DATA_FOLDER + \"Oscars/the_oscar_award.csv\", sep=',')"
   ]
  },
  {
   "cell_type": "code",
   "execution_count": 14,
   "metadata": {
    "ExecuteTime": {
     "end_time": "2023-11-05T23:48:09.111981Z",
     "start_time": "2023-11-05T23:48:09.106738Z"
    }
   },
   "outputs": [],
   "source": [
    "characters_raw.columns = [\n",
    "    \"wikiID\",\n",
    "    \"fbID\",\n",
    "    \"releaseDate\",\n",
    "    \"characterName\",\n",
    "    \"DOB\",\n",
    "    \"gender\",\n",
    "    \"height\",\n",
    "    \"ethnicity\",\n",
    "    \"name\",\n",
    "    \"ageAtMovieRelease\",\n",
    "    \"fbCharacterMap\",\n",
    "    \"fbCharacterID\",\n",
    "    \"fbActorID\",\n",
    "]"
   ]
  },
  {
   "cell_type": "code",
   "execution_count": 15,
   "metadata": {
    "ExecuteTime": {
     "end_time": "2023-11-05T23:48:09.113384Z",
     "start_time": "2023-11-05T23:48:09.112148Z"
    }
   },
   "outputs": [],
   "source": [
    "oscars_raw = oscars_raw.drop(columns=[\"ceremony\", \"year_ceremony\", \"film\"])\n",
    "oscars_raw.rename(columns={\"year_film\": \"releaseYear\", \"category\": \"oscarCategory\", \"winner\": \"oscarWinner\"},\n",
    "                  inplace=True)"
   ]
  },
  {
   "cell_type": "code",
   "execution_count": 16,
   "metadata": {
    "ExecuteTime": {
     "end_time": "2023-11-05T23:48:09.145526Z",
     "start_time": "2023-11-05T23:48:09.113838Z"
    }
   },
   "outputs": [],
   "source": [
    "characters = characters_raw.copy()\n",
    "oscars = oscars_raw.copy()"
   ]
  },
  {
   "cell_type": "code",
   "execution_count": 17,
   "metadata": {
    "ExecuteTime": {
     "end_time": "2023-11-05T23:48:09.251568Z",
     "start_time": "2023-11-05T23:48:09.157603Z"
    }
   },
   "outputs": [],
   "source": [
    "characters[\"releaseYear\"] = pd.to_datetime(\n",
    "    characters[\"releaseDate\"],\n",
    "    errors=\"coerce\",\n",
    "    yearfirst=True,\n",
    ").dt.year\n",
    "characters[\"releaseMonth\"] = pd.to_datetime(\n",
    "    characters[\"releaseDate\"],\n",
    "    errors=\"coerce\",\n",
    "    yearfirst=True,\n",
    ").dt.month\n",
    "characters.drop(columns=[\"releaseDate\"], inplace=True)"
   ]
  },
  {
   "cell_type": "code",
   "execution_count": 18,
   "metadata": {
    "ExecuteTime": {
     "end_time": "2023-11-05T23:48:09.405780Z",
     "start_time": "2023-11-05T23:48:09.252387Z"
    }
   },
   "outputs": [
    {
     "name": "stdout",
     "output_type": "stream",
     "text": [
      "(450713, 16)\n"
     ]
    },
    {
     "data": {
      "text/html": [
       "<div>\n",
       "<style scoped>\n",
       "    .dataframe tbody tr th:only-of-type {\n",
       "        vertical-align: middle;\n",
       "    }\n",
       "\n",
       "    .dataframe tbody tr th {\n",
       "        vertical-align: top;\n",
       "    }\n",
       "\n",
       "    .dataframe thead th {\n",
       "        text-align: right;\n",
       "    }\n",
       "</style>\n",
       "<table border=\"1\" class=\"dataframe\">\n",
       "  <thead>\n",
       "    <tr style=\"text-align: right;\">\n",
       "      <th></th>\n",
       "      <th>wikiID</th>\n",
       "      <th>fbID</th>\n",
       "      <th>characterName</th>\n",
       "      <th>DOB</th>\n",
       "      <th>gender</th>\n",
       "      <th>height</th>\n",
       "      <th>ethnicity</th>\n",
       "      <th>name</th>\n",
       "      <th>ageAtMovieRelease</th>\n",
       "      <th>fbCharacterMap</th>\n",
       "      <th>fbCharacterID</th>\n",
       "      <th>fbActorID</th>\n",
       "      <th>releaseYear</th>\n",
       "      <th>releaseMonth</th>\n",
       "      <th>oscarCategory</th>\n",
       "      <th>oscarWinner</th>\n",
       "    </tr>\n",
       "  </thead>\n",
       "  <tbody>\n",
       "    <tr>\n",
       "      <th>0</th>\n",
       "      <td>975900</td>\n",
       "      <td>/m/03vyhn</td>\n",
       "      <td>Lieutenant Melanie Ballard</td>\n",
       "      <td>1974-08-15</td>\n",
       "      <td>F</td>\n",
       "      <td>1.780</td>\n",
       "      <td>/m/044038p</td>\n",
       "      <td>Natasha Henstridge</td>\n",
       "      <td>27.0</td>\n",
       "      <td>/m/0jys3m</td>\n",
       "      <td>/m/0bgchn4</td>\n",
       "      <td>/m/0346l4</td>\n",
       "      <td>2001.0</td>\n",
       "      <td>8.0</td>\n",
       "      <td>NaN</td>\n",
       "      <td>NaN</td>\n",
       "    </tr>\n",
       "    <tr>\n",
       "      <th>1</th>\n",
       "      <td>975900</td>\n",
       "      <td>/m/03vyhn</td>\n",
       "      <td>Desolation Williams</td>\n",
       "      <td>1969-06-15</td>\n",
       "      <td>M</td>\n",
       "      <td>1.727</td>\n",
       "      <td>/m/0x67</td>\n",
       "      <td>Ice Cube</td>\n",
       "      <td>32.0</td>\n",
       "      <td>/m/0jys3g</td>\n",
       "      <td>/m/0bgchn_</td>\n",
       "      <td>/m/01vw26l</td>\n",
       "      <td>2001.0</td>\n",
       "      <td>8.0</td>\n",
       "      <td>NaN</td>\n",
       "      <td>NaN</td>\n",
       "    </tr>\n",
       "    <tr>\n",
       "      <th>2</th>\n",
       "      <td>975900</td>\n",
       "      <td>/m/03vyhn</td>\n",
       "      <td>Sgt Jericho Butler</td>\n",
       "      <td>1967-09-12</td>\n",
       "      <td>M</td>\n",
       "      <td>1.750</td>\n",
       "      <td>NaN</td>\n",
       "      <td>Jason Statham</td>\n",
       "      <td>33.0</td>\n",
       "      <td>/m/02vchl6</td>\n",
       "      <td>/m/0bgchnq</td>\n",
       "      <td>/m/034hyc</td>\n",
       "      <td>2001.0</td>\n",
       "      <td>8.0</td>\n",
       "      <td>NaN</td>\n",
       "      <td>NaN</td>\n",
       "    </tr>\n",
       "    <tr>\n",
       "      <th>3</th>\n",
       "      <td>975900</td>\n",
       "      <td>/m/03vyhn</td>\n",
       "      <td>Bashira Kincaid</td>\n",
       "      <td>1977-09-25</td>\n",
       "      <td>F</td>\n",
       "      <td>1.650</td>\n",
       "      <td>NaN</td>\n",
       "      <td>Clea DuVall</td>\n",
       "      <td>23.0</td>\n",
       "      <td>/m/02vbb3r</td>\n",
       "      <td>/m/0bgchp9</td>\n",
       "      <td>/m/01y9xg</td>\n",
       "      <td>2001.0</td>\n",
       "      <td>8.0</td>\n",
       "      <td>NaN</td>\n",
       "      <td>NaN</td>\n",
       "    </tr>\n",
       "    <tr>\n",
       "      <th>4</th>\n",
       "      <td>975900</td>\n",
       "      <td>/m/03vyhn</td>\n",
       "      <td>Commander Helena Braddock</td>\n",
       "      <td>1949-05-26</td>\n",
       "      <td>F</td>\n",
       "      <td>1.727</td>\n",
       "      <td>/m/0x67</td>\n",
       "      <td>Pam Grier</td>\n",
       "      <td>52.0</td>\n",
       "      <td>/m/02vdcfp</td>\n",
       "      <td>/m/0bgchnd</td>\n",
       "      <td>/m/0418ft</td>\n",
       "      <td>2001.0</td>\n",
       "      <td>8.0</td>\n",
       "      <td>NaN</td>\n",
       "      <td>NaN</td>\n",
       "    </tr>\n",
       "    <tr>\n",
       "      <th>5</th>\n",
       "      <td>975900</td>\n",
       "      <td>/m/03vyhn</td>\n",
       "      <td>Whitlock</td>\n",
       "      <td>1945-08-02</td>\n",
       "      <td>F</td>\n",
       "      <td>1.753</td>\n",
       "      <td>NaN</td>\n",
       "      <td>Joanna Cassidy</td>\n",
       "      <td>56.0</td>\n",
       "      <td>/m/02vd6kw</td>\n",
       "      <td>/m/0bgchmx</td>\n",
       "      <td>/m/06lj1m</td>\n",
       "      <td>2001.0</td>\n",
       "      <td>8.0</td>\n",
       "      <td>NaN</td>\n",
       "      <td>NaN</td>\n",
       "    </tr>\n",
       "    <tr>\n",
       "      <th>6</th>\n",
       "      <td>975900</td>\n",
       "      <td>/m/03vyhn</td>\n",
       "      <td>Big Daddy Mars</td>\n",
       "      <td>NaN</td>\n",
       "      <td>M</td>\n",
       "      <td>NaN</td>\n",
       "      <td>NaN</td>\n",
       "      <td>Richard Cetrone</td>\n",
       "      <td>NaN</td>\n",
       "      <td>/m/0bgchsy</td>\n",
       "      <td>/m/0bgcht0</td>\n",
       "      <td>/m/0bgcht7</td>\n",
       "      <td>2001.0</td>\n",
       "      <td>8.0</td>\n",
       "      <td>NaN</td>\n",
       "      <td>NaN</td>\n",
       "    </tr>\n",
       "    <tr>\n",
       "      <th>7</th>\n",
       "      <td>975900</td>\n",
       "      <td>/m/03vyhn</td>\n",
       "      <td>Michael Descanso</td>\n",
       "      <td>1971-03-20</td>\n",
       "      <td>M</td>\n",
       "      <td>1.892</td>\n",
       "      <td>NaN</td>\n",
       "      <td>Liam Waite</td>\n",
       "      <td>30.0</td>\n",
       "      <td>/m/03jqhb0</td>\n",
       "      <td>/m/0bgchs4</td>\n",
       "      <td>/m/0ks8b0</td>\n",
       "      <td>2001.0</td>\n",
       "      <td>8.0</td>\n",
       "      <td>NaN</td>\n",
       "      <td>NaN</td>\n",
       "    </tr>\n",
       "    <tr>\n",
       "      <th>8</th>\n",
       "      <td>975900</td>\n",
       "      <td>/m/03vyhn</td>\n",
       "      <td>Uno</td>\n",
       "      <td>NaN</td>\n",
       "      <td>M</td>\n",
       "      <td>NaN</td>\n",
       "      <td>NaN</td>\n",
       "      <td>Duane Davis</td>\n",
       "      <td>NaN</td>\n",
       "      <td>/m/0bgchtj</td>\n",
       "      <td>/m/0bgchtm</td>\n",
       "      <td>/m/03nrwdy</td>\n",
       "      <td>2001.0</td>\n",
       "      <td>8.0</td>\n",
       "      <td>NaN</td>\n",
       "      <td>NaN</td>\n",
       "    </tr>\n",
       "    <tr>\n",
       "      <th>9</th>\n",
       "      <td>975900</td>\n",
       "      <td>/m/03vyhn</td>\n",
       "      <td>Dos</td>\n",
       "      <td>NaN</td>\n",
       "      <td>M</td>\n",
       "      <td>NaN</td>\n",
       "      <td>NaN</td>\n",
       "      <td>Lobo Sebastian</td>\n",
       "      <td>NaN</td>\n",
       "      <td>/m/0bgchsc</td>\n",
       "      <td>/m/0bgchsg</td>\n",
       "      <td>/m/0bgchsp</td>\n",
       "      <td>2001.0</td>\n",
       "      <td>8.0</td>\n",
       "      <td>NaN</td>\n",
       "      <td>NaN</td>\n",
       "    </tr>\n",
       "  </tbody>\n",
       "</table>\n",
       "</div>"
      ],
      "text/plain": [
       "   wikiID       fbID               characterName         DOB gender  height  \\\n",
       "0  975900  /m/03vyhn  Lieutenant Melanie Ballard  1974-08-15      F   1.780   \n",
       "1  975900  /m/03vyhn         Desolation Williams  1969-06-15      M   1.727   \n",
       "2  975900  /m/03vyhn          Sgt Jericho Butler  1967-09-12      M   1.750   \n",
       "3  975900  /m/03vyhn             Bashira Kincaid  1977-09-25      F   1.650   \n",
       "4  975900  /m/03vyhn   Commander Helena Braddock  1949-05-26      F   1.727   \n",
       "5  975900  /m/03vyhn                    Whitlock  1945-08-02      F   1.753   \n",
       "6  975900  /m/03vyhn              Big Daddy Mars         NaN      M     NaN   \n",
       "7  975900  /m/03vyhn            Michael Descanso  1971-03-20      M   1.892   \n",
       "8  975900  /m/03vyhn                         Uno         NaN      M     NaN   \n",
       "9  975900  /m/03vyhn                         Dos         NaN      M     NaN   \n",
       "\n",
       "    ethnicity                name  ageAtMovieRelease fbCharacterMap  \\\n",
       "0  /m/044038p  Natasha Henstridge               27.0      /m/0jys3m   \n",
       "1     /m/0x67            Ice Cube               32.0      /m/0jys3g   \n",
       "2         NaN       Jason Statham               33.0     /m/02vchl6   \n",
       "3         NaN         Clea DuVall               23.0     /m/02vbb3r   \n",
       "4     /m/0x67           Pam Grier               52.0     /m/02vdcfp   \n",
       "5         NaN      Joanna Cassidy               56.0     /m/02vd6kw   \n",
       "6         NaN     Richard Cetrone                NaN     /m/0bgchsy   \n",
       "7         NaN          Liam Waite               30.0     /m/03jqhb0   \n",
       "8         NaN         Duane Davis                NaN     /m/0bgchtj   \n",
       "9         NaN      Lobo Sebastian                NaN     /m/0bgchsc   \n",
       "\n",
       "  fbCharacterID   fbActorID  releaseYear  releaseMonth oscarCategory  \\\n",
       "0    /m/0bgchn4   /m/0346l4       2001.0           8.0           NaN   \n",
       "1    /m/0bgchn_  /m/01vw26l       2001.0           8.0           NaN   \n",
       "2    /m/0bgchnq   /m/034hyc       2001.0           8.0           NaN   \n",
       "3    /m/0bgchp9   /m/01y9xg       2001.0           8.0           NaN   \n",
       "4    /m/0bgchnd   /m/0418ft       2001.0           8.0           NaN   \n",
       "5    /m/0bgchmx   /m/06lj1m       2001.0           8.0           NaN   \n",
       "6    /m/0bgcht0  /m/0bgcht7       2001.0           8.0           NaN   \n",
       "7    /m/0bgchs4   /m/0ks8b0       2001.0           8.0           NaN   \n",
       "8    /m/0bgchtm  /m/03nrwdy       2001.0           8.0           NaN   \n",
       "9    /m/0bgchsg  /m/0bgchsp       2001.0           8.0           NaN   \n",
       "\n",
       "  oscarWinner  \n",
       "0         NaN  \n",
       "1         NaN  \n",
       "2         NaN  \n",
       "3         NaN  \n",
       "4         NaN  \n",
       "5         NaN  \n",
       "6         NaN  \n",
       "7         NaN  \n",
       "8         NaN  \n",
       "9         NaN  "
      ]
     },
     "execution_count": 18,
     "metadata": {},
     "output_type": "execute_result"
    }
   ],
   "source": [
    "characters_oscars = pd.merge(characters, oscars, on=[\"name\", 'releaseYear'], how=\"left\")\n",
    "print(characters_oscars.shape)\n",
    "characters_oscars.head(10)"
   ]
  },
  {
   "cell_type": "code",
   "execution_count": 19,
   "metadata": {
    "ExecuteTime": {
     "end_time": "2023-11-05T23:48:09.924214Z",
     "start_time": "2023-11-05T23:48:09.405434Z"
    }
   },
   "outputs": [],
   "source": [
    "budget_raw = pd.read_csv(\n",
    "    DATA_FOLDER + \"Budget/movies_metadata.csv.zip\",\n",
    "    compression=\"zip\",\n",
    ")"
   ]
  },
  {
   "cell_type": "code",
   "execution_count": 20,
   "metadata": {
    "ExecuteTime": {
     "end_time": "2023-11-05T23:48:09.925768Z",
     "start_time": "2023-11-05T23:48:09.922023Z"
    }
   },
   "outputs": [],
   "source": [
    "budget = budget_raw[\n",
    "    [\n",
    "        \"budget\",\n",
    "        \"imdb_id\",\n",
    "        \"original_title\",\n",
    "        \"popularity\",\n",
    "        \"revenue\",\n",
    "        \"vote_average\",\n",
    "        \"vote_count\",\n",
    "        \"release_date\",\n",
    "    ]\n",
    "].copy()"
   ]
  },
  {
   "cell_type": "code",
   "execution_count": 21,
   "metadata": {
    "ExecuteTime": {
     "end_time": "2023-11-05T23:48:09.933909Z",
     "start_time": "2023-11-05T23:48:09.925953Z"
    }
   },
   "outputs": [],
   "source": [
    "budget.columns = [\n",
    "    \"budget\",\n",
    "    \"tconst\",\n",
    "    \"name\",\n",
    "    \"popularity\",\n",
    "    \"revenue\",\n",
    "    \"voteAverage\",\n",
    "    \"voteCount\",\n",
    "    \"releaseDate\",\n",
    "]"
   ]
  },
  {
   "cell_type": "code",
   "execution_count": 22,
   "metadata": {
    "ExecuteTime": {
     "end_time": "2023-11-05T23:48:09.934120Z",
     "start_time": "2023-11-05T23:48:09.932144Z"
    }
   },
   "outputs": [],
   "source": [
    "#budget[\"releaseMonth\"] = pd.to_datetime(budget[\"releaseDate\"], errors=\"coerce\").dt.month\n",
    "#budget[\"releaseYear\"] = pd.to_datetime(budget[\"releaseDate\"], errors=\"coerce\").dt.year\n",
    "#budget.drop_duplicates(subset=[\"name\", \"releaseMonth\", \"releaseYear\"], inplace=True)\n",
    "budget.drop(columns=[\"releaseDate\", \"name\", \"revenue\", \"voteAverage\", \"voteCount\"], inplace=True)"
   ]
  },
  {
   "cell_type": "code",
   "execution_count": 23,
   "metadata": {
    "ExecuteTime": {
     "end_time": "2023-11-05T23:48:09.948140Z",
     "start_time": "2023-11-05T23:48:09.944317Z"
    },
    "collapsed": false
   },
   "outputs": [],
   "source": [
    "budget[\"budget\"] = pd.to_numeric(budget[\"budget\"], errors=\"coerce\")"
   ]
  },
  {
   "cell_type": "code",
   "execution_count": 24,
   "metadata": {
    "ExecuteTime": {
     "end_time": "2023-11-05T23:48:09.950199Z",
     "start_time": "2023-11-05T23:48:09.948512Z"
    }
   },
   "outputs": [
    {
     "data": {
      "text/html": [
       "<div>\n",
       "<style scoped>\n",
       "    .dataframe tbody tr th:only-of-type {\n",
       "        vertical-align: middle;\n",
       "    }\n",
       "\n",
       "    .dataframe tbody tr th {\n",
       "        vertical-align: top;\n",
       "    }\n",
       "\n",
       "    .dataframe thead th {\n",
       "        text-align: right;\n",
       "    }\n",
       "</style>\n",
       "<table border=\"1\" class=\"dataframe\">\n",
       "  <thead>\n",
       "    <tr style=\"text-align: right;\">\n",
       "      <th></th>\n",
       "      <th>budget</th>\n",
       "      <th>tconst</th>\n",
       "      <th>popularity</th>\n",
       "    </tr>\n",
       "  </thead>\n",
       "  <tbody>\n",
       "    <tr>\n",
       "      <th>0</th>\n",
       "      <td>30000000.0</td>\n",
       "      <td>tt0114709</td>\n",
       "      <td>21.946943</td>\n",
       "    </tr>\n",
       "    <tr>\n",
       "      <th>1</th>\n",
       "      <td>65000000.0</td>\n",
       "      <td>tt0113497</td>\n",
       "      <td>17.015539</td>\n",
       "    </tr>\n",
       "    <tr>\n",
       "      <th>2</th>\n",
       "      <td>0.0</td>\n",
       "      <td>tt0113228</td>\n",
       "      <td>11.7129</td>\n",
       "    </tr>\n",
       "    <tr>\n",
       "      <th>3</th>\n",
       "      <td>16000000.0</td>\n",
       "      <td>tt0114885</td>\n",
       "      <td>3.859495</td>\n",
       "    </tr>\n",
       "    <tr>\n",
       "      <th>4</th>\n",
       "      <td>0.0</td>\n",
       "      <td>tt0113041</td>\n",
       "      <td>8.387519</td>\n",
       "    </tr>\n",
       "  </tbody>\n",
       "</table>\n",
       "</div>"
      ],
      "text/plain": [
       "       budget     tconst popularity\n",
       "0  30000000.0  tt0114709  21.946943\n",
       "1  65000000.0  tt0113497  17.015539\n",
       "2         0.0  tt0113228    11.7129\n",
       "3  16000000.0  tt0114885   3.859495\n",
       "4         0.0  tt0113041   8.387519"
      ]
     },
     "execution_count": 24,
     "metadata": {},
     "output_type": "execute_result"
    }
   ],
   "source": [
    "budget.head()"
   ]
  },
  {
   "cell_type": "code",
   "execution_count": 25,
   "metadata": {
    "ExecuteTime": {
     "end_time": "2023-11-05T23:48:09.958105Z",
     "start_time": "2023-11-05T23:48:09.952048Z"
    }
   },
   "outputs": [
    {
     "name": "stdout",
     "output_type": "stream",
     "text": [
      "17\n",
      "(45449, 3)\n"
     ]
    }
   ],
   "source": [
    "# remove tconst nan entries to avoid issues when merging\n",
    "print(budget.tconst.isnull().sum())\n",
    "budget.dropna(subset=['tconst'], inplace=True)\n",
    "print(budget.shape)"
   ]
  },
  {
   "cell_type": "code",
   "execution_count": 26,
   "metadata": {
    "ExecuteTime": {
     "end_time": "2023-11-05T23:48:09.966631Z",
     "start_time": "2023-11-05T23:48:09.961155Z"
    },
    "collapsed": false
   },
   "outputs": [
    {
     "name": "stdout",
     "output_type": "stream",
     "text": [
      "32\n",
      "(45417, 3)\n"
     ]
    }
   ],
   "source": [
    "# remove duplicate tconst entries\n",
    "print(budget.tconst.duplicated().sum())\n",
    "budget.drop_duplicates(subset='tconst', inplace=True)\n",
    "print(budget.shape)"
   ]
  },
  {
   "cell_type": "code",
   "execution_count": 27,
   "metadata": {
    "ExecuteTime": {
     "end_time": "2023-11-05T23:48:09.969265Z",
     "start_time": "2023-11-05T23:48:09.966531Z"
    }
   },
   "outputs": [
    {
     "name": "stdout",
     "output_type": "stream",
     "text": [
      "36538\n"
     ]
    }
   ],
   "source": [
    "# replace all zero budget entries to nan\n",
    "print((budget['budget'] == 0).sum())\n",
    "budget.loc[budget['budget'] == 0, 'budget'] = np.nan"
   ]
  },
  {
   "cell_type": "code",
   "execution_count": 28,
   "metadata": {
    "ExecuteTime": {
     "end_time": "2023-11-05T23:48:10.000869Z",
     "start_time": "2023-11-05T23:48:09.980952Z"
    },
    "collapsed": false
   },
   "outputs": [
    {
     "name": "stdout",
     "output_type": "stream",
     "text": [
      "11401\n"
     ]
    },
    {
     "data": {
      "text/plain": [
       "2797"
      ]
     },
     "execution_count": 28,
     "metadata": {},
     "output_type": "execute_result"
    }
   ],
   "source": [
    "# Jennifer: trop bizarre, ca marche pas pour moi\n",
    "# check tconst matches\n",
    "print(budget['tconst'].isin(movies_imdb['tconst']).sum())\n",
    "# check how many movies we can populate with budget data\n",
    "budget.loc[budget['tconst'].isin(movies_imdb['tconst']), 'budget'].notnull().sum()"
   ]
  },
  {
   "cell_type": "code",
   "execution_count": 29,
   "metadata": {
    "ExecuteTime": {
     "end_time": "2023-11-05T23:48:10.001291Z",
     "start_time": "2023-11-05T23:48:09.986397Z"
    },
    "collapsed": false
   },
   "outputs": [
    {
     "data": {
      "text/html": [
       "<div>\n",
       "<style scoped>\n",
       "    .dataframe tbody tr th:only-of-type {\n",
       "        vertical-align: middle;\n",
       "    }\n",
       "\n",
       "    .dataframe tbody tr th {\n",
       "        vertical-align: top;\n",
       "    }\n",
       "\n",
       "    .dataframe thead th {\n",
       "        text-align: right;\n",
       "    }\n",
       "</style>\n",
       "<table border=\"1\" class=\"dataframe\">\n",
       "  <thead>\n",
       "    <tr style=\"text-align: right;\">\n",
       "      <th></th>\n",
       "      <th>budget</th>\n",
       "      <th>tconst</th>\n",
       "      <th>popularity</th>\n",
       "    </tr>\n",
       "  </thead>\n",
       "  <tbody>\n",
       "    <tr>\n",
       "      <th>0</th>\n",
       "      <td>30000000.0</td>\n",
       "      <td>tt0114709</td>\n",
       "      <td>21.946943</td>\n",
       "    </tr>\n",
       "    <tr>\n",
       "      <th>1</th>\n",
       "      <td>65000000.0</td>\n",
       "      <td>tt0113497</td>\n",
       "      <td>17.015539</td>\n",
       "    </tr>\n",
       "    <tr>\n",
       "      <th>2</th>\n",
       "      <td>NaN</td>\n",
       "      <td>tt0113228</td>\n",
       "      <td>11.7129</td>\n",
       "    </tr>\n",
       "    <tr>\n",
       "      <th>3</th>\n",
       "      <td>16000000.0</td>\n",
       "      <td>tt0114885</td>\n",
       "      <td>3.859495</td>\n",
       "    </tr>\n",
       "    <tr>\n",
       "      <th>4</th>\n",
       "      <td>NaN</td>\n",
       "      <td>tt0113041</td>\n",
       "      <td>8.387519</td>\n",
       "    </tr>\n",
       "    <tr>\n",
       "      <th>5</th>\n",
       "      <td>60000000.0</td>\n",
       "      <td>tt0113277</td>\n",
       "      <td>17.924927</td>\n",
       "    </tr>\n",
       "    <tr>\n",
       "      <th>6</th>\n",
       "      <td>58000000.0</td>\n",
       "      <td>tt0114319</td>\n",
       "      <td>6.677277</td>\n",
       "    </tr>\n",
       "    <tr>\n",
       "      <th>7</th>\n",
       "      <td>NaN</td>\n",
       "      <td>tt0112302</td>\n",
       "      <td>2.561161</td>\n",
       "    </tr>\n",
       "    <tr>\n",
       "      <th>8</th>\n",
       "      <td>35000000.0</td>\n",
       "      <td>tt0114576</td>\n",
       "      <td>5.23158</td>\n",
       "    </tr>\n",
       "    <tr>\n",
       "      <th>9</th>\n",
       "      <td>58000000.0</td>\n",
       "      <td>tt0113189</td>\n",
       "      <td>14.686036</td>\n",
       "    </tr>\n",
       "  </tbody>\n",
       "</table>\n",
       "</div>"
      ],
      "text/plain": [
       "       budget     tconst popularity\n",
       "0  30000000.0  tt0114709  21.946943\n",
       "1  65000000.0  tt0113497  17.015539\n",
       "2         NaN  tt0113228    11.7129\n",
       "3  16000000.0  tt0114885   3.859495\n",
       "4         NaN  tt0113041   8.387519\n",
       "5  60000000.0  tt0113277  17.924927\n",
       "6  58000000.0  tt0114319   6.677277\n",
       "7         NaN  tt0112302   2.561161\n",
       "8  35000000.0  tt0114576    5.23158\n",
       "9  58000000.0  tt0113189  14.686036"
      ]
     },
     "execution_count": 29,
     "metadata": {},
     "output_type": "execute_result"
    }
   ],
   "source": [
    "budget.head(10)"
   ]
  },
  {
   "cell_type": "code",
   "execution_count": 30,
   "metadata": {
    "ExecuteTime": {
     "end_time": "2023-11-05T23:48:10.032206Z",
     "start_time": "2023-11-05T23:48:09.999847Z"
    }
   },
   "outputs": [
    {
     "data": {
      "text/plain": [
       "(81630, 20)"
      ]
     },
     "execution_count": 30,
     "metadata": {},
     "output_type": "execute_result"
    }
   ],
   "source": [
    "movies_imdb = pd.merge(movies_imdb, budget, on='tconst', how='left')\n",
    "movies_imdb.shape"
   ]
  },
  {
   "cell_type": "code",
   "execution_count": 31,
   "metadata": {
    "ExecuteTime": {
     "end_time": "2023-11-05T23:48:10.163861Z",
     "start_time": "2023-11-05T23:48:10.016986Z"
    }
   },
   "outputs": [
    {
     "name": "stdout",
     "output_type": "stream",
     "text": [
      "Number of movies with runtime > 400: 66\n",
      "Number of movies with negative runtime: 0\n",
      "Number of movies with runtime between [0, 20]: 3102\n",
      "Number of na values: 20396\n"
     ]
    },
    {
     "data": {
      "image/png": "[encoded data removed]",
      "text/plain": [
       "<Figure size 640x480 with 1 Axes>"
      ]
     },
     "metadata": {},
     "output_type": "display_data"
    }
   ],
   "source": [
    "num_movies_gt_400 = len(movies_imdb[movies_imdb['runtime'] > 400])\n",
    "num_movies_neg_runtime = len(movies_imdb[movies_imdb['runtime'] < 0])\n",
    "num_movies_0_20_runtime = len(movies_imdb[(movies_imdb['runtime'] >= 0) & (movies_imdb['runtime'] <= 20)])\n",
    "\n",
    "print(f\"Number of movies with runtime > 400: {num_movies_gt_400}\")\n",
    "print(f\"Number of movies with negative runtime: {num_movies_neg_runtime}\")\n",
    "print(f\"Number of movies with runtime between [0, 20]: {num_movies_0_20_runtime}\")\n",
    "\n",
    "print(f\"Number of na values: {movies_imdb['runtime'].isna().sum()}\")\n",
    "\n",
    "# Drop movies with runtime > 400, negative runtime and runtime between [0, 20] \n",
    "# (should we drop them or just set them to nan?)\n",
    "movies_imdb = movies_imdb.drop(movies_imdb[movies_imdb['runtime'] > 400].index)\n",
    "movies_imdb = movies_imdb.drop(movies_imdb[movies_imdb['runtime'] < 0].index)\n",
    "movies_imdb = movies_imdb.drop(movies_imdb[(movies_imdb['runtime'] >= 0) & (movies_imdb['runtime'] <= 20)].index)\n",
    "\n",
    "# Histogram of runtime\n",
    "sns.histplot(data=movies_imdb, x=\"runtime\", bins=30)\n",
    "plt.title(\"Histogram of runtime (in minutes)\")\n",
    "plt.show()"
   ]
  },
  {
   "cell_type": "code",
   "execution_count": 38,
   "metadata": {
    "ExecuteTime": {
     "end_time": "2023-11-05T23:48:10.240304Z",
     "start_time": "2023-11-05T23:48:10.164010Z"
    }
   },
   "outputs": [
    {
     "data": {
      "image/png": "[encoded data removed]",
      "text/plain": [
       "<Figure size 640x480 with 1 Axes>"
      ]
     },
     "metadata": {},
     "output_type": "display_data"
    }
   ],
   "source": [
    "# Scatterplot of runtime vs boxOffice\n",
    "sns.scatterplot(data=movies_imdb, x=\"runtime\", y=\"boxOffice\")\n",
    "plt.title(\"Scatterplot of runtime vs boxOffice\")\n",
    "plt.yscale(\"log\")\n",
    "plt.show()"
   ]
  },
  {
   "cell_type": "code",
   "execution_count": 33,
   "metadata": {
    "ExecuteTime": {
     "end_time": "2023-11-05T23:48:10.413139Z",
     "start_time": "2023-11-05T23:48:10.241300Z"
    }
   },
   "outputs": [
    {
     "name": "stdout",
     "output_type": "stream",
     "text": [
      "Number of movies with box office set to NaN: 70072\n",
      "Proportion of movies with box office set to NaN: 0.8930692564553542\n"
     ]
    },
    {
     "data": {
      "image/png": "[encoded data removed]",
      "text/plain": [
       "<Figure size 640x480 with 1 Axes>"
      ]
     },
     "metadata": {},
     "output_type": "display_data"
    }
   ],
   "source": [
    "print(f\"Number of movies with box office set to NaN: {movies_imdb['boxOffice'].isna().sum()}\")\n",
    "print(f\"Proportion of movies with box office set to NaN: {movies_imdb['boxOffice'].isna().sum() / len(movies_imdb)}\")\n",
    "\n",
    "sns.histplot(data=movies_imdb, x=\"boxOffice\", log_scale=True)\n",
    "plt.title(\"Box Office Distribution (log scale)\")\n",
    "plt.show()"
   ]
  },
  {
   "cell_type": "code",
   "execution_count": 34,
   "metadata": {
    "ExecuteTime": {
     "end_time": "2023-11-05T23:48:10.427032Z",
     "start_time": "2023-11-05T23:48:10.417493Z"
    }
   },
   "outputs": [
    {
     "name": "stdout",
     "output_type": "stream",
     "text": [
      "Number of movies with genresImdb information: 28660\n",
      "Proportion of movies with genresImdb information: 0.3652723611429737\n",
      "Number of movies with genresCmu information: 76179\n",
      "Proportion of movies with genresCmu information: 0.9709031123346333\n"
     ]
    }
   ],
   "source": [
    "print(f\"Number of movies with genresImdb information: {movies_imdb['genresImdb'].notnull().sum()}\")\n",
    "print(\n",
    "    f\"Proportion of movies with genresImdb information: {movies_imdb['genresImdb'].notnull().sum() / len(movies_imdb)}\")\n",
    "\n",
    "print(f\"Number of movies with genresCmu information: {movies_imdb['genresCmu'].notnull().sum()}\")\n",
    "print(f\"Proportion of movies with genresCmu information: {movies_imdb['genresCmu'].notnull().sum() / len(movies_imdb)}\")\n",
    "\n",
    "# Je pense pas que ca soit normal"
   ]
  },
  {
   "cell_type": "code",
   "execution_count": 512,
   "metadata": {
    "ExecuteTime": {
     "end_time": "2023-11-05T23:50:25.561243Z",
     "start_time": "2023-11-05T23:50:25.436126Z"
    }
   },
   "outputs": [
    {
     "name": "stdout",
     "output_type": "stream",
     "text": [
      "             mean_boxoffice  median_boxoffice  num_movies\n",
      "genresImdb                                               \n",
      "Action         8.565336e+07        27007143.0        3190\n",
      "Adult          5.000000e+07        50000000.0          65\n",
      "Adventure      1.090502e+08        28445927.0        2428\n",
      "Animation      1.480309e+08        55293297.5         612\n",
      "Biography      2.883393e+07         6659377.0         960\n",
      "Comedy         4.396099e+07        12000000.0        8611\n",
      "Crime          3.659286e+07        11567217.0        3651\n",
      "Documentary    1.604474e+07         1332110.0        1712\n",
      "Drama          3.156991e+07         6600310.5       15160\n",
      "Family         6.356189e+07        24371281.0        1332\n",
      "Fantasy        5.979984e+07        17037887.0        1034\n",
      "Film-Noir      1.680860e+06         1400000.0         419\n",
      "Game-Show               NaN               NaN           1\n",
      "History        2.365401e+07         5200493.0         801\n",
      "Horror         3.137416e+07        11665465.0        1835\n",
      "Music          2.326508e+07         8206315.5         850\n",
      "Musical        8.974457e+06         2400000.0        1077\n",
      "Mystery        3.997004e+07        14543394.0        1523\n",
      "News           4.975651e+07        49756507.0          24\n",
      "Reality-TV     1.215480e+05          121548.0          16\n",
      "Romance        3.089659e+07         6000000.0        4753\n",
      "Sci-Fi         1.149519e+08        28735610.0         868\n",
      "Short          4.877995e+07        15553324.0        1406\n",
      "Sport          3.545564e+07        14644335.0         447\n",
      "Talk-Show               NaN               NaN          14\n",
      "Thriller       5.263167e+07        17360137.0        2258\n",
      "War            2.139971e+07         3293658.0         884\n",
      "Western        5.020886e+06         2000000.0        1040\n",
      "\\N                      NaN               NaN         846\n"
     ]
    }
   ],
   "source": [
    "movies_imdb_exploded = movies_imdb.explode('genresImdb')\n",
    "imdb_genre_boxoffice = movies_imdb_exploded.dropna(subset=['genresImdb']).groupby('genresImdb')['boxOffice'].agg(\n",
    "    ['mean', 'median'])\n",
    "imdb_genre_boxoffice.columns = ['mean_boxoffice', 'median_boxoffice']\n",
    "\n",
    "genre_counts = movies_imdb_exploded['genresImdb'].value_counts()\n",
    "imdb_genre_boxoffice = imdb_genre_boxoffice.merge(genre_counts, left_index=True, right_index=True)\n",
    "imdb_genre_boxoffice.columns = ['mean_boxoffice', 'median_boxoffice', 'num_movies']\n",
    "print(imdb_genre_boxoffice)"
   ]
  },
  {
   "cell_type": "code",
   "execution_count": 513,
   "metadata": {},
   "outputs": [
    {
     "data": {
      "text/plain": [
       "Index(['Drama', 'Comedy', 'Romance', 'Crime', 'Action', 'Adventure',\n",
       "       'Thriller', 'Horror', 'Documentary', 'Mystery', 'Short', 'Family',\n",
       "       'Musical', 'Western', 'Fantasy', 'Biography', 'War', 'Sci-Fi', 'Music',\n",
       "       '\\N', 'History', 'Animation', 'Sport', 'Film-Noir', 'Adult', 'News',\n",
       "       'Reality-TV', 'Talk-Show', 'Game-Show'],\n",
       "      dtype='object', name='genresImdb')"
      ]
     },
     "execution_count": 513,
     "metadata": {},
     "output_type": "execute_result"
    }
   ],
   "source": [
    "genre_counts.index"
   ]
  },
  {
   "cell_type": "code",
   "execution_count": 36,
   "metadata": {
    "ExecuteTime": {
     "end_time": "2023-11-05T23:50:26.433266Z",
     "start_time": "2023-11-05T23:50:26.235340Z"
    }
   },
   "outputs": [
    {
     "name": "stdout",
     "output_type": "stream",
     "text": [
      "                  mean_boxoffice  median_boxoffice  num_movies\n",
      "genresCmu                                                     \n",
      "Absurdism           7.571945e+07        29106786.0          91\n",
      "Acid western        6.412655e+05          641265.5           9\n",
      "Action              8.875071e+07        23510601.0        8738\n",
      "Action Comedy       8.380756e+07        38576276.5         168\n",
      "Action Thrillers    1.093814e+08        44350926.0         516\n",
      "...                          ...               ...         ...\n",
      "World History       2.796540e+05          311542.0          19\n",
      "World cinema        1.867080e+07         6204504.0        7141\n",
      "Wuxia               8.764117e+07        96431972.5         125\n",
      "Z movie                      NaN               NaN           3\n",
      "Zombie Film         4.620866e+07        14210186.0         270\n",
      "\n",
      "[363 rows x 3 columns]\n"
     ]
    }
   ],
   "source": [
    "movies_imdb_exploded = movies_imdb.explode('genresCmu')\n",
    "cmu_genre_boxoffice = movies_imdb_exploded.dropna(subset=['genresCmu']).groupby('genresCmu')['boxOffice'].agg(\n",
    "    ['mean', 'median'])\n",
    "cmu_genre_boxoffice.columns = ['mean_boxoffice', 'median_boxoffice']\n",
    "\n",
    "genre_counts = movies_imdb_exploded['genresCmu'].value_counts()\n",
    "cmu_genre_boxoffice = cmu_genre_boxoffice.merge(genre_counts, left_index=True, right_index=True)\n",
    "cmu_genre_boxoffice.columns = ['mean_boxoffice', 'median_boxoffice', 'num_movies']\n",
    "print(cmu_genre_boxoffice)"
   ]
  },
  {
   "cell_type": "markdown",
   "metadata": {},
   "source": [
    "# Methodologie\n",
    "\n",
    "1. Prendre genre et creer un long str\n",
    "2. couper aux delimiter qui sont pas des lettres et avoir une liste de touts les mots\n",
    "3. unique tous les mots et en miniscules\n",
    "4. voir comment les mots romantic et romance par exemple peut-être vus comme equivalent \n"
   ]
  },
  {
   "cell_type": "markdown",
   "metadata": {},
   "source": [
    "1."
   ]
  },
  {
   "cell_type": "code",
   "execution_count": 527,
   "metadata": {},
   "outputs": [],
   "source": [
    "genres = movies_imdb.dropna(subset=\"genresCmu\").explode(column=\"genresCmu\").genresCmu.values\n",
    "genres_str = \" \".join(str(g) for g in genres)"
   ]
  },
  {
   "cell_type": "markdown",
   "metadata": {},
   "source": [
    "2."
   ]
  },
  {
   "cell_type": "code",
   "execution_count": 528,
   "metadata": {},
   "outputs": [
    {
     "data": {
      "text/plain": [
       "{' ', '&', \"'\", '-', '/', '5', '9', '[', ']'}"
      ]
     },
     "execution_count": 528,
     "metadata": {},
     "output_type": "execute_result"
    }
   ],
   "source": [
    "split_characters = set()\n",
    "for m in genres_str:\n",
    "    for l in m:\n",
    "        if not l.isalpha():\n",
    "            split_characters.add(l)\n",
    "            \n",
    "split_characters"
   ]
  },
  {
   "cell_type": "code",
   "execution_count": 529,
   "metadata": {},
   "outputs": [],
   "source": [
    "string = genres_str\n",
    "for delimiter in split_characters:\n",
    "    string = \" \".join(string.split(delimiter))\n",
    "    \n",
    "words = string.split(\" \")"
   ]
  },
  {
   "cell_type": "markdown",
   "metadata": {},
   "source": [
    "3."
   ]
  },
  {
   "cell_type": "code",
   "execution_count": 530,
   "metadata": {},
   "outputs": [],
   "source": [
    "import nltk\n",
    "from nltk.stem import WordNetLemmatizer\n",
    "\n",
    "lemmatizer = WordNetLemmatizer()\n",
    "\n",
    "words = list(map(lambda x: x.lower(), words)) #tout en minuscule\n",
    "words = list(map(lambda x:lemmatizer.lemmatize(x), words)) #enlever les s\n",
    "ags = nltk.pos_tag(words) # dire si c'est un verbe adjectif etc\n",
    "words_, tags= np.array(list(map(list, zip(*ags))))"
   ]
  },
  {
   "cell_type": "code",
   "execution_count": 531,
   "metadata": {},
   "outputs": [],
   "source": [
    "mask = (tags == np.array([\"NN\",\"NNS\",\"NNP\",\"NNPS\",\"JJ\"]).reshape(-1,1)).any(axis=0) # grader que les nouns et les adjs\n",
    "words_len = np.array(list(map(lambda x : len(x),words_))) #taille des mots\n",
    "mask = mask & (words_len>2) # garder que les mots de plus de 2 lettres "
   ]
  },
  {
   "cell_type": "code",
   "execution_count": 532,
   "metadata": {},
   "outputs": [
    {
     "data": {
      "text/plain": [
       "Index(['drama', 'film', 'comedy', 'action', 'thriller', 'fiction', 'romance',\n",
       "       'adventure', 'crime', 'black', 'white', 'cinema', 'world', 'movie',\n",
       "       'family', 'romantic', 'indie', 'horror', 'documentary', 'short',\n",
       "       'musical', 'silent', 'fantasy', 'mystery', 'animation', 'science',\n",
       "       'war', 'western', 'japanese', 'period', 'child', 'political',\n",
       "       'adaptation', 'chinese', 'art', 'biography', 'piece', 'psychological',\n",
       "       'sport', 'biographical', 'bollywood', 'music', 'television',\n",
       "       'historical'],\n",
       "      dtype='object')"
      ]
     },
     "execution_count": 532,
     "metadata": {},
     "output_type": "execute_result"
    }
   ],
   "source": [
    "counts = pd.Series(words_[mask]).value_counts() # compter combien de fois chaque mot apparait\n",
    "pd.Series(counts[counts>1000]).index # les mots qui apparaissent plus de 1000 fois"
   ]
  }
 ],
 "metadata": {
  "kernelspec": {
   "display_name": "Python 3",
   "language": "python",
   "name": "python3"
  },
  "language_info": {
   "codemirror_mode": {
    "name": "ipython",
    "version": 3
   },
   "file_extension": ".py",
   "mimetype": "text/x-python",
   "name": "python",
   "nbconvert_exporter": "python",
   "pygments_lexer": "ipython3",
   "version": "3.10.7"
  }
 },
 "nbformat": 4,
 "nbformat_minor": 2
}
