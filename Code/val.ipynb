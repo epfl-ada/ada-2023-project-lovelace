{
 "cells": [
  {
   "cell_type": "code",
   "execution_count": 108,
   "metadata": {
    "ExecuteTime": {
     "end_time": "2023-11-06T12:26:07.473322Z",
     "start_time": "2023-11-06T12:26:07.469540Z"
    }
   },
   "outputs": [],
   "source": [
    "import pandas as pd\n",
    "import numpy as np\n",
    "import matplotlib.pyplot as plt\n",
    "import seaborn as sns\n",
    "from helpers import *\n",
    "\n",
    "import warnings\n",
    "\n",
    "warnings.filterwarnings(\"ignore\")\n",
    "pd.set_option('display.max_columns', None)\n",
    "plt.rcdefaults()"
   ]
  },
  {
   "cell_type": "code",
   "execution_count": 109,
   "metadata": {
    "ExecuteTime": {
     "end_time": "2023-11-06T12:36:20.734460Z",
     "start_time": "2023-11-06T12:36:19.059481Z"
    },
    "collapsed": false
   },
   "outputs": [],
   "source": [
    "DATA_FOLDER = \"../Data/\"\n",
    "\n",
    "movies_imdb = pd.read_csv(DATA_FOLDER + 'movies_imdb.csv',\n",
    "                          converters={'languages': parse_list, 'countries': parse_list, 'genresCmu': parse_list,\n",
    "                                      'genresImdb': parse_list})"
   ]
  },
  {
   "cell_type": "code",
   "execution_count": 110,
   "metadata": {},
   "outputs": [],
   "source": [
    "combinedGenres = movies_imdb.genresImdb.apply(\n",
    "    lambda x: x if isinstance(x, list) else []\n",
    ") + movies_imdb.genresCmu.apply(lambda x: x if isinstance(x, list) else [])\n",
    "\n",
    "combinedGenres = combinedGenres.apply(lambda x: set(x) if len(x)>0 else np.nan)\n",
    "\n",
    "movies_imdb[\"combinedGenres\"]= combinedGenres"
   ]
  },
  {
   "cell_type": "code",
   "execution_count": 111,
   "metadata": {
    "ExecuteTime": {
     "end_time": "2023-11-06T12:36:21.036013Z",
     "start_time": "2023-11-06T12:36:20.917608Z"
    }
   },
   "outputs": [],
   "source": [
    "genres = movies_imdb.dropna(subset=\"combinedGenres\").explode(column=\"combinedGenres\").combinedGenres.values\n",
    "genres_unique = np.unique(genres)\n"
   ]
  },
  {
   "cell_type": "code",
   "execution_count": 112,
   "metadata": {},
   "outputs": [],
   "source": [
    "genres_str = \" \".join(str(g) for g in genres)"
   ]
  },
  {
   "cell_type": "code",
   "execution_count": 113,
   "metadata": {
    "ExecuteTime": {
     "end_time": "2023-11-06T12:36:22.004975Z",
     "start_time": "2023-11-06T12:36:21.864389Z"
    }
   },
   "outputs": [
    {
     "data": {
      "text/plain": [
       "{'&', \"'\", '-', '/', '5', '9', '[', ']'}"
      ]
     },
     "execution_count": 113,
     "metadata": {},
     "output_type": "execute_result"
    }
   ],
   "source": [
    "split_characters = set()\n",
    "for m in genres_str:\n",
    "    for l in m:\n",
    "        if not l.isalpha() and l != \" \":\n",
    "            split_characters.add(l)\n",
    "\n",
    "split_characters"
   ]
  },
  {
   "cell_type": "code",
   "execution_count": 114,
   "metadata": {
    "ExecuteTime": {
     "end_time": "2023-11-06T12:36:23.153200Z",
     "start_time": "2023-11-06T12:36:23.126849Z"
    }
   },
   "outputs": [],
   "source": [
    "string = genres_str\n",
    "for delimiter in split_characters:\n",
    "    string = \" \".join(string.split(delimiter))\n",
    "    \n",
    "words = string.split(\" \")"
   ]
  },
  {
   "cell_type": "code",
   "execution_count": 115,
   "metadata": {
    "ExecuteTime": {
     "end_time": "2023-11-06T12:38:10.435384Z",
     "start_time": "2023-11-06T12:38:03.057514Z"
    }
   },
   "outputs": [],
   "source": [
    "import nltk\n",
    "from nltk.stem import WordNetLemmatizer\n",
    "\n",
    "lemmatizer = WordNetLemmatizer()\n",
    "\n",
    "words = list(map(lambda x: x.lower(), words)) #tout en minuscule\n",
    "words = list(map(lambda x:lemmatizer.lemmatize(x), words)) #enlever les s\n",
    "ags = nltk.pos_tag(words) # dire si c'est un verbe adjectif etc\n",
    "words_, tags= np.array(list(map(list, zip(*ags))))"
   ]
  },
  {
   "cell_type": "code",
   "execution_count": 116,
   "metadata": {
    "ExecuteTime": {
     "end_time": "2023-11-06T12:38:10.519854Z",
     "start_time": "2023-11-06T12:38:10.446150Z"
    }
   },
   "outputs": [],
   "source": [
    "mask = (tags == np.array([\"NN\",\"NNS\",\"NNP\",\"NNPS\",\"JJ\"]).reshape(-1,1)).any(axis=0) # grader que les nouns et les adjs\n"
   ]
  },
  {
   "cell_type": "code",
   "execution_count": 117,
   "metadata": {
    "ExecuteTime": {
     "end_time": "2023-11-06T12:38:10.563543Z",
     "start_time": "2023-11-06T12:38:10.520027Z"
    }
   },
   "outputs": [
    {
     "data": {
      "text/plain": [
       "Index(['drama', 'film', 'comedy', 'action', 'romance', 'thriller', 'crime',\n",
       "       'adventure', 'fiction', 'short', 'black', 'white', 'family', 'cinema',\n",
       "       'world', 'movie', 'indie', 'horror', 'romantic', 'documentary',\n",
       "       'silent', 'musical', 'fantasy', 'animation', 'mystery', 'war', '',\n",
       "       'science', 'western', 'japanese', 'biography'],\n",
       "      dtype='object')"
      ]
     },
     "execution_count": 117,
     "metadata": {},
     "output_type": "execute_result"
    }
   ],
   "source": [
    "counts = pd.Series(words_[mask]).value_counts()\n",
    "themes = pd.Series(counts[counts > 2000]).index\n",
    "themes "
   ]
  },
  {
   "cell_type": "code",
   "execution_count": 118,
   "metadata": {},
   "outputs": [],
   "source": [
    "themes = list(themes)\n",
    "to_remove = [\n",
    "    \"\", #remove null caracter \n",
    "    \"film\",\n",
    "    \"cinema\",\n",
    "    \"movie\",  # comes from genres like \"Romance Film\" not a genre in itself.\n",
    "    \"black\",\n",
    "    \"white\",  # will add \"black-and-white\" instead of having both\n",
    "    \"science\", # only science fiction contained in fiction\n",
    "]\n",
    "for r in to_remove:\n",
    "    themes.remove(r)\n",
    "themes.append(\"black-and-white\")\n",
    "themes = list(map(lambda x:x.capitalize(), themes))"
   ]
  },
  {
   "cell_type": "code",
   "execution_count": 119,
   "metadata": {},
   "outputs": [
    {
     "name": "stdout",
     "output_type": "stream",
     "text": [
      "24 themes : ['Drama', 'Comedy', 'Action', 'Romance', 'Thriller', 'Crime', 'Adventure', 'Fiction', 'Short', 'Family', 'World', 'Indie', 'Horror', 'Documentary', 'Silent', 'Musical', 'Fantasy', 'Animation', 'Mystery', 'War', 'Western', 'Japanese', 'Biography', 'Black-and-white']\n"
     ]
    }
   ],
   "source": [
    "genres_dict = {theme: set() for theme in themes}\n",
    "for theme in themes:\n",
    "    for genre in genres_unique:\n",
    "        if theme.lower() in genre.lower():\n",
    "            genres_dict[theme].add(genre)\n",
    "\n",
    "\n",
    "genres_dict[\"Romance\"]= genres_dict[\"Romance\"].union(genres_dict.pop(\"Romantic\"));\n",
    "themes.remove(\"Romantic\")\n",
    "\n",
    "print(len(themes) ,\"themes :\",themes)"
   ]
  },
  {
   "cell_type": "code",
   "execution_count": 120,
   "metadata": {},
   "outputs": [
    {
     "data": {
      "text/plain": [
       "{'Addiction Drama',\n",
       " 'Childhood Drama',\n",
       " 'Comedy-drama',\n",
       " 'Costume drama',\n",
       " 'Courtroom Drama',\n",
       " 'Crime Drama',\n",
       " 'Docudrama',\n",
       " 'Drama',\n",
       " 'Erotic Drama',\n",
       " 'Family Drama',\n",
       " 'Fantasy Drama',\n",
       " 'Historical drama',\n",
       " 'Inspirational Drama',\n",
       " 'Legal drama',\n",
       " 'Marriage Drama',\n",
       " 'Melodrama',\n",
       " 'Musical Drama',\n",
       " 'Political drama',\n",
       " 'Romantic drama'}"
      ]
     },
     "execution_count": 120,
     "metadata": {},
     "output_type": "execute_result"
    }
   ],
   "source": [
    "genres_dict[\"Drama\"]"
   ]
  },
  {
   "cell_type": "code",
   "execution_count": 121,
   "metadata": {},
   "outputs": [],
   "source": [
    "def unify_genres(x):\n",
    "    try:\n",
    "        unified_genres = set()\n",
    "        for genre in x:\n",
    "            themes_in_genres = {t for t in themes if genre in genres_dict[t]}\n",
    "            unified_genres= unified_genres.union(themes_in_genres)\n",
    "        return unified_genres if unified_genres else np.nan\n",
    "\n",
    "    except TypeError: \n",
    "        return x\n",
    "        "
   ]
  },
  {
   "cell_type": "code",
   "execution_count": 122,
   "metadata": {},
   "outputs": [
    {
     "data": {
      "text/plain": [
       "3339"
      ]
     },
     "execution_count": 122,
     "metadata": {},
     "output_type": "execute_result"
    }
   ],
   "source": [
    "genres_final = movies_imdb.combinedGenres.apply(unify_genres)\n",
    "(genres_final.isnull()).sum()"
   ]
  },
  {
   "cell_type": "code",
   "execution_count": 123,
   "metadata": {},
   "outputs": [],
   "source": [
    "movies_imdb[\"unifiedGenres\"] = movies_imdb.combinedGenres.apply(unify_genres)"
   ]
  },
  {
   "cell_type": "code",
   "execution_count": null,
   "metadata": {},
   "outputs": [
    {
     "data": {
      "image/png": "[encoded data removed]",
      "text/plain": [
       "<Figure size 640x480 with 1 Axes>"
      ]
     },
     "metadata": {},
     "output_type": "display_data"
    }
   ],
   "source": [
    "genres_final.explode().value_counts().plot(kind='barh')\n",
    "plt.xlim([0,4e4])\n",
    "plt.grid(alpha=0.15, axis=\"x\")"
   ]
  },
  {
   "cell_type": "code",
   "execution_count": null,
   "metadata": {},
   "outputs": [
    {
     "data": {
      "image/png": "[encoded data removed]",
      "text/plain": [
       "<Figure size 640x480 with 1 Axes>"
      ]
     },
     "metadata": {},
     "output_type": "display_data"
    }
   ],
   "source": [
    "occurences = movies_imdb.genresCmu.explode().value_counts()\n",
    "occurences[occurences>2000].plot(kind='barh')\n",
    "plt.xlim([0,4e4])\n",
    "plt.grid(alpha=0.15, axis=\"x\")"
   ]
  },
  {
   "cell_type": "code",
   "execution_count": 124,
   "metadata": {},
   "outputs": [
    {
     "data": {
      "text/plain": [
       "0                                  {Mystery, Drama, Crime}\n",
       "1                                  {Drama, Fiction, Crime}\n",
       "2                                               {Thriller}\n",
       "3                                                  {Drama}\n",
       "4          {Silent, Comedy, Black-and-white, Indie, Short}\n",
       "                               ...                        \n",
       "81625                                              {Drama}\n",
       "81626                                 {Drama, Documentary}\n",
       "81627                                             {Comedy}\n",
       "81628    {Adventure, Animation, Drama, Japanese, Fictio...\n",
       "81629                                   {Thriller, Horror}\n",
       "Name: unifiedGenres, Length: 81630, dtype: object"
      ]
     },
     "execution_count": 124,
     "metadata": {},
     "output_type": "execute_result"
    }
   ],
   "source": [
    "movies_imdb.unifiedGenres"
   ]
  },
  {
   "cell_type": "code",
   "execution_count": 127,
   "metadata": {},
   "outputs": [],
   "source": [
    "movies_imdb.drop(\"combinedGenres\",inplace=True, axis=1)"
   ]
  },
  {
   "cell_type": "code",
   "execution_count": 128,
   "metadata": {},
   "outputs": [
    {
     "data": {
      "text/html": [
       "<div>\n",
       "<style scoped>\n",
       "    .dataframe tbody tr th:only-of-type {\n",
       "        vertical-align: middle;\n",
       "    }\n",
       "\n",
       "    .dataframe tbody tr th {\n",
       "        vertical-align: top;\n",
       "    }\n",
       "\n",
       "    .dataframe thead th {\n",
       "        text-align: right;\n",
       "    }\n",
       "</style>\n",
       "<table border=\"1\" class=\"dataframe\">\n",
       "  <thead>\n",
       "    <tr style=\"text-align: right;\">\n",
       "      <th></th>\n",
       "      <th>wikiID</th>\n",
       "      <th>fbID</th>\n",
       "      <th>name</th>\n",
       "      <th>boxOffice</th>\n",
       "      <th>runtime</th>\n",
       "      <th>languages</th>\n",
       "      <th>countries</th>\n",
       "      <th>genresCmu</th>\n",
       "      <th>releaseMonth</th>\n",
       "      <th>releaseYear</th>\n",
       "      <th>imdbID</th>\n",
       "      <th>titleType</th>\n",
       "      <th>originalTitle</th>\n",
       "      <th>isAdult</th>\n",
       "      <th>endYear</th>\n",
       "      <th>genresImdb</th>\n",
       "      <th>averageRating</th>\n",
       "      <th>numVotes</th>\n",
       "      <th>budget</th>\n",
       "      <th>popularity</th>\n",
       "      <th>unifiedGenres</th>\n",
       "    </tr>\n",
       "  </thead>\n",
       "  <tbody>\n",
       "    <tr>\n",
       "      <th>0</th>\n",
       "      <td>3196793</td>\n",
       "      <td>/m/08yl5d</td>\n",
       "      <td>Getting Away with Murder: The JonBenét Ramsey ...</td>\n",
       "      <td>NaN</td>\n",
       "      <td>95.0</td>\n",
       "      <td>[English Language]</td>\n",
       "      <td>[United States of America]</td>\n",
       "      <td>[Mystery, Biographical film, Drama, Crime Drama]</td>\n",
       "      <td>2.0</td>\n",
       "      <td>2000.0</td>\n",
       "      <td>NaN</td>\n",
       "      <td>NaN</td>\n",
       "      <td>NaN</td>\n",
       "      <td>NaN</td>\n",
       "      <td>NaN</td>\n",
       "      <td>NaN</td>\n",
       "      <td>NaN</td>\n",
       "      <td>NaN</td>\n",
       "      <td>NaN</td>\n",
       "      <td>NaN</td>\n",
       "      <td>{Mystery, Drama, Crime}</td>\n",
       "    </tr>\n",
       "    <tr>\n",
       "      <th>1</th>\n",
       "      <td>28463795</td>\n",
       "      <td>/m/0crgdbh</td>\n",
       "      <td>Brun bitter</td>\n",
       "      <td>NaN</td>\n",
       "      <td>83.0</td>\n",
       "      <td>[Norwegian Language]</td>\n",
       "      <td>[Norway]</td>\n",
       "      <td>[Crime Fiction, Drama]</td>\n",
       "      <td>NaN</td>\n",
       "      <td>1988.0</td>\n",
       "      <td>tt0094806</td>\n",
       "      <td>movie</td>\n",
       "      <td>Brun bitter</td>\n",
       "      <td>0.0</td>\n",
       "      <td>\\N</td>\n",
       "      <td>[Crime, Drama]</td>\n",
       "      <td>5.6</td>\n",
       "      <td>40.0</td>\n",
       "      <td>NaN</td>\n",
       "      <td>NaN</td>\n",
       "      <td>{Drama, Fiction, Crime}</td>\n",
       "    </tr>\n",
       "    <tr>\n",
       "      <th>2</th>\n",
       "      <td>9363483</td>\n",
       "      <td>/m/0285_cd</td>\n",
       "      <td>White Of The Eye</td>\n",
       "      <td>NaN</td>\n",
       "      <td>110.0</td>\n",
       "      <td>[English Language]</td>\n",
       "      <td>[United Kingdom]</td>\n",
       "      <td>[Thriller, Erotic thriller, Psychological thri...</td>\n",
       "      <td>NaN</td>\n",
       "      <td>1987.0</td>\n",
       "      <td>NaN</td>\n",
       "      <td>NaN</td>\n",
       "      <td>NaN</td>\n",
       "      <td>NaN</td>\n",
       "      <td>NaN</td>\n",
       "      <td>NaN</td>\n",
       "      <td>NaN</td>\n",
       "      <td>NaN</td>\n",
       "      <td>NaN</td>\n",
       "      <td>NaN</td>\n",
       "      <td>{Thriller}</td>\n",
       "    </tr>\n",
       "    <tr>\n",
       "      <th>3</th>\n",
       "      <td>261236</td>\n",
       "      <td>/m/01mrr1</td>\n",
       "      <td>A Woman in Flames</td>\n",
       "      <td>NaN</td>\n",
       "      <td>106.0</td>\n",
       "      <td>[German Language]</td>\n",
       "      <td>[Germany]</td>\n",
       "      <td>[Drama]</td>\n",
       "      <td>NaN</td>\n",
       "      <td>1983.0</td>\n",
       "      <td>tt0083949</td>\n",
       "      <td>movie</td>\n",
       "      <td>Die flambierte Frau</td>\n",
       "      <td>0.0</td>\n",
       "      <td>\\N</td>\n",
       "      <td>[Drama]</td>\n",
       "      <td>6.0</td>\n",
       "      <td>621.0</td>\n",
       "      <td>NaN</td>\n",
       "      <td>NaN</td>\n",
       "      <td>{Drama}</td>\n",
       "    </tr>\n",
       "    <tr>\n",
       "      <th>4</th>\n",
       "      <td>13696889</td>\n",
       "      <td>/m/03cfc81</td>\n",
       "      <td>The Gangsters</td>\n",
       "      <td>NaN</td>\n",
       "      <td>35.0</td>\n",
       "      <td>[Silent film, English Language]</td>\n",
       "      <td>[United States of America]</td>\n",
       "      <td>[Short Film, Silent film, Indie, Black-and-whi...</td>\n",
       "      <td>5.0</td>\n",
       "      <td>1913.0</td>\n",
       "      <td>tt0002894</td>\n",
       "      <td>short</td>\n",
       "      <td>The Gangsters</td>\n",
       "      <td>0.0</td>\n",
       "      <td>\\N</td>\n",
       "      <td>[Comedy, Short]</td>\n",
       "      <td>6.8</td>\n",
       "      <td>16.0</td>\n",
       "      <td>NaN</td>\n",
       "      <td>NaN</td>\n",
       "      <td>{Silent, Comedy, Black-and-white, Indie, Short}</td>\n",
       "    </tr>\n",
       "    <tr>\n",
       "      <th>...</th>\n",
       "      <td>...</td>\n",
       "      <td>...</td>\n",
       "      <td>...</td>\n",
       "      <td>...</td>\n",
       "      <td>...</td>\n",
       "      <td>...</td>\n",
       "      <td>...</td>\n",
       "      <td>...</td>\n",
       "      <td>...</td>\n",
       "      <td>...</td>\n",
       "      <td>...</td>\n",
       "      <td>...</td>\n",
       "      <td>...</td>\n",
       "      <td>...</td>\n",
       "      <td>...</td>\n",
       "      <td>...</td>\n",
       "      <td>...</td>\n",
       "      <td>...</td>\n",
       "      <td>...</td>\n",
       "      <td>...</td>\n",
       "      <td>...</td>\n",
       "    </tr>\n",
       "    <tr>\n",
       "      <th>81625</th>\n",
       "      <td>35228177</td>\n",
       "      <td>/m/0j7hxnt</td>\n",
       "      <td>Mermaids: The Body Found</td>\n",
       "      <td>NaN</td>\n",
       "      <td>120.0</td>\n",
       "      <td>[English Language]</td>\n",
       "      <td>[United States of America]</td>\n",
       "      <td>[Drama]</td>\n",
       "      <td>3.0</td>\n",
       "      <td>2011.0</td>\n",
       "      <td>NaN</td>\n",
       "      <td>NaN</td>\n",
       "      <td>NaN</td>\n",
       "      <td>NaN</td>\n",
       "      <td>NaN</td>\n",
       "      <td>NaN</td>\n",
       "      <td>NaN</td>\n",
       "      <td>NaN</td>\n",
       "      <td>NaN</td>\n",
       "      <td>NaN</td>\n",
       "      <td>{Drama}</td>\n",
       "    </tr>\n",
       "    <tr>\n",
       "      <th>81626</th>\n",
       "      <td>34980460</td>\n",
       "      <td>/m/0g4pl34</td>\n",
       "      <td>Knuckle</td>\n",
       "      <td>NaN</td>\n",
       "      <td>96.0</td>\n",
       "      <td>[English Language]</td>\n",
       "      <td>[Ireland, United Kingdom]</td>\n",
       "      <td>[Biographical film, Drama, Documentary]</td>\n",
       "      <td>1.0</td>\n",
       "      <td>2011.0</td>\n",
       "      <td>NaN</td>\n",
       "      <td>NaN</td>\n",
       "      <td>NaN</td>\n",
       "      <td>NaN</td>\n",
       "      <td>NaN</td>\n",
       "      <td>NaN</td>\n",
       "      <td>NaN</td>\n",
       "      <td>NaN</td>\n",
       "      <td>NaN</td>\n",
       "      <td>NaN</td>\n",
       "      <td>{Drama, Documentary}</td>\n",
       "    </tr>\n",
       "    <tr>\n",
       "      <th>81627</th>\n",
       "      <td>9971909</td>\n",
       "      <td>/m/02pygw1</td>\n",
       "      <td>Another Nice Mess</td>\n",
       "      <td>NaN</td>\n",
       "      <td>66.0</td>\n",
       "      <td>[English Language]</td>\n",
       "      <td>[United States of America]</td>\n",
       "      <td>[Satire, Comedy]</td>\n",
       "      <td>9.0</td>\n",
       "      <td>1972.0</td>\n",
       "      <td>tt0362411</td>\n",
       "      <td>movie</td>\n",
       "      <td>Another Nice Mess</td>\n",
       "      <td>0.0</td>\n",
       "      <td>\\N</td>\n",
       "      <td>[Comedy]</td>\n",
       "      <td>5.8</td>\n",
       "      <td>110.0</td>\n",
       "      <td>NaN</td>\n",
       "      <td>NaN</td>\n",
       "      <td>{Comedy}</td>\n",
       "    </tr>\n",
       "    <tr>\n",
       "      <th>81628</th>\n",
       "      <td>913762</td>\n",
       "      <td>/m/03pcrp</td>\n",
       "      <td>The Super Dimension Fortress Macross II: Lover...</td>\n",
       "      <td>NaN</td>\n",
       "      <td>150.0</td>\n",
       "      <td>[Japanese Language]</td>\n",
       "      <td>[Japan]</td>\n",
       "      <td>[Science Fiction, Japanese Movies, Adventure, ...</td>\n",
       "      <td>5.0</td>\n",
       "      <td>1992.0</td>\n",
       "      <td>NaN</td>\n",
       "      <td>NaN</td>\n",
       "      <td>NaN</td>\n",
       "      <td>NaN</td>\n",
       "      <td>NaN</td>\n",
       "      <td>NaN</td>\n",
       "      <td>NaN</td>\n",
       "      <td>NaN</td>\n",
       "      <td>NaN</td>\n",
       "      <td>NaN</td>\n",
       "      <td>{Adventure, Animation, Drama, Japanese, Fictio...</td>\n",
       "    </tr>\n",
       "    <tr>\n",
       "      <th>81629</th>\n",
       "      <td>12476867</td>\n",
       "      <td>/m/02w7zz8</td>\n",
       "      <td>Spliced</td>\n",
       "      <td>NaN</td>\n",
       "      <td>86.0</td>\n",
       "      <td>[English Language]</td>\n",
       "      <td>[Canada]</td>\n",
       "      <td>[Thriller, Horror, Slasher, Teen]</td>\n",
       "      <td>NaN</td>\n",
       "      <td>2002.0</td>\n",
       "      <td>NaN</td>\n",
       "      <td>NaN</td>\n",
       "      <td>NaN</td>\n",
       "      <td>NaN</td>\n",
       "      <td>NaN</td>\n",
       "      <td>NaN</td>\n",
       "      <td>NaN</td>\n",
       "      <td>NaN</td>\n",
       "      <td>NaN</td>\n",
       "      <td>NaN</td>\n",
       "      <td>{Thriller, Horror}</td>\n",
       "    </tr>\n",
       "  </tbody>\n",
       "</table>\n",
       "<p>81630 rows × 21 columns</p>\n",
       "</div>"
      ],
      "text/plain": [
       "         wikiID        fbID  \\\n",
       "0       3196793   /m/08yl5d   \n",
       "1      28463795  /m/0crgdbh   \n",
       "2       9363483  /m/0285_cd   \n",
       "3        261236   /m/01mrr1   \n",
       "4      13696889  /m/03cfc81   \n",
       "...         ...         ...   \n",
       "81625  35228177  /m/0j7hxnt   \n",
       "81626  34980460  /m/0g4pl34   \n",
       "81627   9971909  /m/02pygw1   \n",
       "81628    913762   /m/03pcrp   \n",
       "81629  12476867  /m/02w7zz8   \n",
       "\n",
       "                                                    name  boxOffice  runtime  \\\n",
       "0      Getting Away with Murder: The JonBenét Ramsey ...        NaN     95.0   \n",
       "1                                            Brun bitter        NaN     83.0   \n",
       "2                                       White Of The Eye        NaN    110.0   \n",
       "3                                      A Woman in Flames        NaN    106.0   \n",
       "4                                          The Gangsters        NaN     35.0   \n",
       "...                                                  ...        ...      ...   \n",
       "81625                           Mermaids: The Body Found        NaN    120.0   \n",
       "81626                                            Knuckle        NaN     96.0   \n",
       "81627                                  Another Nice Mess        NaN     66.0   \n",
       "81628  The Super Dimension Fortress Macross II: Lover...        NaN    150.0   \n",
       "81629                                            Spliced        NaN     86.0   \n",
       "\n",
       "                             languages                   countries  \\\n",
       "0                   [English Language]  [United States of America]   \n",
       "1                 [Norwegian Language]                    [Norway]   \n",
       "2                   [English Language]            [United Kingdom]   \n",
       "3                    [German Language]                   [Germany]   \n",
       "4      [Silent film, English Language]  [United States of America]   \n",
       "...                                ...                         ...   \n",
       "81625               [English Language]  [United States of America]   \n",
       "81626               [English Language]   [Ireland, United Kingdom]   \n",
       "81627               [English Language]  [United States of America]   \n",
       "81628              [Japanese Language]                     [Japan]   \n",
       "81629               [English Language]                    [Canada]   \n",
       "\n",
       "                                               genresCmu  releaseMonth  \\\n",
       "0       [Mystery, Biographical film, Drama, Crime Drama]           2.0   \n",
       "1                                 [Crime Fiction, Drama]           NaN   \n",
       "2      [Thriller, Erotic thriller, Psychological thri...           NaN   \n",
       "3                                                [Drama]           NaN   \n",
       "4      [Short Film, Silent film, Indie, Black-and-whi...           5.0   \n",
       "...                                                  ...           ...   \n",
       "81625                                            [Drama]           3.0   \n",
       "81626            [Biographical film, Drama, Documentary]           1.0   \n",
       "81627                                   [Satire, Comedy]           9.0   \n",
       "81628  [Science Fiction, Japanese Movies, Adventure, ...           5.0   \n",
       "81629                  [Thriller, Horror, Slasher, Teen]           NaN   \n",
       "\n",
       "       releaseYear     imdbID titleType        originalTitle  isAdult endYear  \\\n",
       "0           2000.0        NaN       NaN                  NaN      NaN     NaN   \n",
       "1           1988.0  tt0094806     movie          Brun bitter      0.0      \\N   \n",
       "2           1987.0        NaN       NaN                  NaN      NaN     NaN   \n",
       "3           1983.0  tt0083949     movie  Die flambierte Frau      0.0      \\N   \n",
       "4           1913.0  tt0002894     short        The Gangsters      0.0      \\N   \n",
       "...            ...        ...       ...                  ...      ...     ...   \n",
       "81625       2011.0        NaN       NaN                  NaN      NaN     NaN   \n",
       "81626       2011.0        NaN       NaN                  NaN      NaN     NaN   \n",
       "81627       1972.0  tt0362411     movie    Another Nice Mess      0.0      \\N   \n",
       "81628       1992.0        NaN       NaN                  NaN      NaN     NaN   \n",
       "81629       2002.0        NaN       NaN                  NaN      NaN     NaN   \n",
       "\n",
       "            genresImdb  averageRating  numVotes  budget  popularity  \\\n",
       "0                  NaN            NaN       NaN     NaN         NaN   \n",
       "1       [Crime, Drama]            5.6      40.0     NaN         NaN   \n",
       "2                  NaN            NaN       NaN     NaN         NaN   \n",
       "3              [Drama]            6.0     621.0     NaN         NaN   \n",
       "4      [Comedy, Short]            6.8      16.0     NaN         NaN   \n",
       "...                ...            ...       ...     ...         ...   \n",
       "81625              NaN            NaN       NaN     NaN         NaN   \n",
       "81626              NaN            NaN       NaN     NaN         NaN   \n",
       "81627         [Comedy]            5.8     110.0     NaN         NaN   \n",
       "81628              NaN            NaN       NaN     NaN         NaN   \n",
       "81629              NaN            NaN       NaN     NaN         NaN   \n",
       "\n",
       "                                           unifiedGenres  \n",
       "0                                {Mystery, Drama, Crime}  \n",
       "1                                {Drama, Fiction, Crime}  \n",
       "2                                             {Thriller}  \n",
       "3                                                {Drama}  \n",
       "4        {Silent, Comedy, Black-and-white, Indie, Short}  \n",
       "...                                                  ...  \n",
       "81625                                            {Drama}  \n",
       "81626                               {Drama, Documentary}  \n",
       "81627                                           {Comedy}  \n",
       "81628  {Adventure, Animation, Drama, Japanese, Fictio...  \n",
       "81629                                 {Thriller, Horror}  \n",
       "\n",
       "[81630 rows x 21 columns]"
      ]
     },
     "execution_count": 128,
     "metadata": {},
     "output_type": "execute_result"
    }
   ],
   "source": [
    "movies_imdb"
   ]
  },
  {
   "cell_type": "code",
   "execution_count": 129,
   "metadata": {},
   "outputs": [],
   "source": [
    "# save preprocessed dataframe to csv\n",
    "movies_imdb.to_csv(DATA_FOLDER + \"movies_imdb.csv\", index=False)"
   ]
  },
  {
   "cell_type": "code",
   "execution_count": 130,
   "metadata": {},
   "outputs": [],
   "source": [
    "movies_imdb = pd.read_csv(DATA_FOLDER + 'movies_imdb.csv',\n",
    "                          converters={'languages': parse_list, 'countries': parse_list, 'genresCmu': parse_list,\n",
    "                                      'genresImdb': parse_list, 'unifiedGenres': parse_list})"
   ]
  },
  {
   "cell_type": "code",
   "execution_count": 134,
   "metadata": {},
   "outputs": [
    {
     "data": {
      "text/plain": [
       "array(['Mystery', 'Drama', 'Crime', 'Fiction', 'Thriller',\n",
       "       'Black-and-white', 'Silent', 'Comedy', 'Indie', 'Short',\n",
       "       'Adventure', 'World', 'Fantasy', 'Family', 'Musical', 'Horror',\n",
       "       'Romance', 'Japanese', 'Action', 'Biography', 'War', 'Animation',\n",
       "       nan, 'Western', 'Documentary'], dtype=object)"
      ]
     },
     "execution_count": 134,
     "metadata": {},
     "output_type": "execute_result"
    }
   ],
   "source": [
    "movies_imdb.unifiedGenres.explode().unique()"
   ]
  }
 ],
 "metadata": {
  "kernelspec": {
   "display_name": "Python 3",
   "language": "python",
   "name": "python3"
  },
  "language_info": {
   "codemirror_mode": {
    "name": "ipython",
    "version": 3
   },
   "file_extension": ".py",
   "mimetype": "text/x-python",
   "name": "python",
   "nbconvert_exporter": "python",
   "pygments_lexer": "ipython3",
   "version": "3.10.7"
  }
 },
 "nbformat": 4,
 "nbformat_minor": 2
}
