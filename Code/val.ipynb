{
 "cells": [
  {
   "cell_type": "code",
   "execution_count": 1,
   "metadata": {
    "ExecuteTime": {
     "end_time": "2023-11-06T12:26:07.473322Z",
     "start_time": "2023-11-06T12:26:07.469540Z"
    }
   },
   "outputs": [],
   "source": [
    "import pandas as pd\n",
    "import numpy as np\n",
    "import matplotlib.pyplot as plt\n",
    "import seaborn as sns\n",
    "from helpers import *\n",
    "\n",
    "import warnings\n",
    "\n",
    "warnings.filterwarnings(\"ignore\")\n",
    "pd.set_option('display.max_columns', None)\n",
    "plt.rcdefaults()"
   ]
  },
  {
   "cell_type": "code",
   "execution_count": 27,
   "outputs": [],
   "source": [
    "DATA_FOLDER = \"../Data/\"\n",
    "\n",
    "movies_imdb = pd.read_csv(DATA_FOLDER + 'movies_imdb.csv',\n",
    "                          converters={'languages': parse_list, 'countries': parse_list, 'genresCmu': parse_list,\n",
    "                                      'genresImdb': parse_list})"
   ],
   "metadata": {
    "collapsed": false,
    "ExecuteTime": {
     "end_time": "2023-11-06T12:36:20.734460Z",
     "start_time": "2023-11-06T12:36:19.059481Z"
    }
   }
  },
  {
   "cell_type": "markdown",
   "metadata": {},
   "source": [
    "# Methodologie\n",
    "\n",
    "1. Prendre genre et creer un long str\n",
    "2. couper aux delimiter qui sont pas des lettres et avoir une liste de touts les mots\n",
    "3. unique tous les mots et en miniscules\n",
    "4. voir comment les mots romantic et romance par exemple peut-être vus comme equivalent \n"
   ]
  },
  {
   "cell_type": "markdown",
   "metadata": {},
   "source": [
    "1."
   ]
  },
  {
   "cell_type": "code",
   "execution_count": 28,
   "metadata": {
    "ExecuteTime": {
     "end_time": "2023-11-06T12:36:21.036013Z",
     "start_time": "2023-11-06T12:36:20.917608Z"
    }
   },
   "outputs": [],
   "source": [
    "genres = movies_imdb.dropna(subset=\"genresCmu\").explode(column=\"genresCmu\").genresCmu.values\n",
    "genres_str = \" \".join(str(g) for g in genres)"
   ]
  },
  {
   "cell_type": "markdown",
   "metadata": {},
   "source": [
    "2."
   ]
  },
  {
   "cell_type": "code",
   "execution_count": 29,
   "metadata": {
    "ExecuteTime": {
     "end_time": "2023-11-06T12:36:22.004975Z",
     "start_time": "2023-11-06T12:36:21.864389Z"
    }
   },
   "outputs": [
    {
     "data": {
      "text/plain": "{' ', '&', \"'\", '-', '/', '5', '9', '[', ']'}"
     },
     "execution_count": 29,
     "metadata": {},
     "output_type": "execute_result"
    }
   ],
   "source": [
    "split_characters = set()\n",
    "for m in genres_str:\n",
    "    for l in m:\n",
    "        if not l.isalpha():\n",
    "            split_characters.add(l)\n",
    "            \n",
    "split_characters"
   ]
  },
  {
   "cell_type": "code",
   "execution_count": 30,
   "metadata": {
    "ExecuteTime": {
     "end_time": "2023-11-06T12:36:23.153200Z",
     "start_time": "2023-11-06T12:36:23.126849Z"
    }
   },
   "outputs": [],
   "source": [
    "string = genres_str\n",
    "for delimiter in split_characters:\n",
    "    string = \" \".join(string.split(delimiter))\n",
    "    \n",
    "words = string.split(\" \")"
   ]
  },
  {
   "cell_type": "markdown",
   "metadata": {},
   "source": [
    "3."
   ]
  },
  {
   "cell_type": "code",
   "execution_count": 34,
   "metadata": {
    "ExecuteTime": {
     "end_time": "2023-11-06T12:38:10.435384Z",
     "start_time": "2023-11-06T12:38:03.057514Z"
    }
   },
   "outputs": [],
   "source": [
    "import nltk\n",
    "from nltk.stem import WordNetLemmatizer\n",
    "\n",
    "lemmatizer = WordNetLemmatizer()\n",
    "\n",
    "words = list(map(lambda x: x.lower(), words)) #tout en minuscule\n",
    "words = list(map(lambda x:lemmatizer.lemmatize(x), words)) #enlever les s\n",
    "ags = nltk.pos_tag(words) # dire si c'est un verbe adjectif etc\n",
    "words_, tags= np.array(list(map(list, zip(*ags))))"
   ]
  },
  {
   "cell_type": "code",
   "execution_count": 35,
   "metadata": {
    "ExecuteTime": {
     "end_time": "2023-11-06T12:38:10.519854Z",
     "start_time": "2023-11-06T12:38:10.446150Z"
    }
   },
   "outputs": [],
   "source": [
    "mask = (tags == np.array([\"NN\",\"NNS\",\"NNP\",\"NNPS\",\"JJ\"]).reshape(-1,1)).any(axis=0) # grader que les nouns et les adjs\n",
    "words_len = np.array(list(map(lambda x : len(x),words_))) #taille des mots\n",
    "mask = mask & (words_len>2) # garder que les mots de plus de 2 lettres "
   ]
  },
  {
   "cell_type": "code",
   "execution_count": 36,
   "metadata": {
    "ExecuteTime": {
     "end_time": "2023-11-06T12:38:10.563543Z",
     "start_time": "2023-11-06T12:38:10.520027Z"
    }
   },
   "outputs": [
    {
     "data": {
      "text/plain": "Index(['film', 'drama', 'comedy', 'action', 'thriller', 'fiction', 'romance',\n       'adventure', 'black', 'crime', 'white', 'short', 'cinema', 'world',\n       'movie', 'family', 'indie', 'romantic', 'horror', 'documentary',\n       'silent', 'musical', 'animation', 'fantasy', 'mystery', 'science',\n       'war', 'western', 'japanese', 'period', 'child', 'political',\n       'adaptation', 'chinese', 'art', 'biography', 'piece', 'psychological',\n       'sport', 'biographical', 'bollywood', 'music', 'television',\n       'historical', 'gay'],\n      dtype='object')"
     },
     "execution_count": 36,
     "metadata": {},
     "output_type": "execute_result"
    }
   ],
   "source": [
    "counts = pd.Series(words_[mask]).value_counts() # compter combien de fois chaque mot apparait\n",
    "pd.Series(counts[counts>1000]).index # les mots qui apparaissent plus de 1000 fois"
   ]
  },
  {
   "cell_type": "code",
   "execution_count": null,
   "outputs": [],
   "source": [],
   "metadata": {
    "collapsed": false
   }
  }
 ],
 "metadata": {
  "kernelspec": {
   "display_name": "Python 3",
   "language": "python",
   "name": "python3"
  },
  "language_info": {
   "codemirror_mode": {
    "name": "ipython",
    "version": 3
   },
   "file_extension": ".py",
   "mimetype": "text/x-python",
   "name": "python",
   "nbconvert_exporter": "python",
   "pygments_lexer": "ipython3",
   "version": "3.10.7"
  }
 },
 "nbformat": 4,
 "nbformat_minor": 2
}
