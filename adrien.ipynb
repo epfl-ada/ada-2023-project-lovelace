{
 "cells": [
  {
   "cell_type": "code",
   "execution_count": null,
   "metadata": {},
   "outputs": [],
   "source": [
    "import numpy as np\n",
    "import pandas as pd\n",
    "from matplotlib import pyplot as plt\n",
    "import seaborn as sns"
   ]
  },
  {
   "cell_type": "markdown",
   "metadata": {},
   "source": [
    "# Loading the dataset"
   ]
  },
  {
   "cell_type": "markdown",
   "metadata": {},
   "source": [
    "## Movies"
   ]
  },
  {
   "cell_type": "code",
   "execution_count": null,
   "metadata": {},
   "outputs": [],
   "source": [
    "column_names = [\n",
    "    \"Wikipedia movie ID\",\n",
    "    \"Freebase movie ID\",\n",
    "    \"Movie name\",\n",
    "    \"Movie release date\",\n",
    "    \"Movie box office revenue\",\n",
    "    \"Movie runtime\",\n",
    "    \"Movie languages (Freebase ID:name tuples)\",\n",
    "    \"Movie countries (Freebase ID:name tuples)\",\n",
    "    \"Movie genres (Freebase ID:name tuples)\"\n",
    "]\n",
    "\n",
    "movies = pd.read_csv(\"dataset/MovieSummaries/movie.metadata.tsv\", delimiter='\\t', names=column_names)"
   ]
  },
  {
   "cell_type": "code",
   "execution_count": null,
   "metadata": {},
   "outputs": [],
   "source": [
    "movies"
   ]
  },
  {
   "cell_type": "code",
   "execution_count": null,
   "metadata": {},
   "outputs": [],
   "source": [
    "movies.info()"
   ]
  },
  {
   "cell_type": "markdown",
   "metadata": {},
   "source": [
    "90% of missing data for the box office revenue!"
   ]
  },
  {
   "cell_type": "markdown",
   "metadata": {},
   "source": [
    "## Actors"
   ]
  },
  {
   "cell_type": "code",
   "execution_count": null,
   "metadata": {},
   "outputs": [],
   "source": [
    "column_names = [\n",
    "    \"Wikipedia movie ID\",\n",
    "    \"Freebase movie ID\",\n",
    "    \"Movie release date\",\n",
    "    \"Character name\",\n",
    "    \"Actor date of birth\",\n",
    "    \"Actor gender\",\n",
    "    \"Actor height (in meters)\",\n",
    "    \"Actor ethnicity (Freebase ID)\",\n",
    "    \"Actor name\",\n",
    "    \"Actor age at movie release\",\n",
    "    \"Freebase character/actor map ID\",\n",
    "    \"Freebase character ID\",\n",
    "    \"Freebase actor ID\"\n",
    "]\n",
    "\n",
    "characters = pd.read_csv(\"dataset/MovieSummaries/character.metadata.tsv\", delimiter='\\t', names=column_names, date_format=[\"Actor date of birth\"])"
   ]
  },
  {
   "cell_type": "code",
   "execution_count": null,
   "metadata": {},
   "outputs": [],
   "source": [
    "characters"
   ]
  },
  {
   "cell_type": "code",
   "execution_count": null,
   "metadata": {},
   "outputs": [],
   "source": [
    "oscars = pd.read_csv(\"dataset/the_oscar_award.csv\", delimiter=',')\n",
    "\n",
    "#len(oscars), len(characters)\n",
    "oscars"
   ]
  },
  {
   "cell_type": "code",
   "execution_count": null,
   "metadata": {},
   "outputs": [],
   "source": [
    "characters.drop_duplicates(\"Actor name\")"
   ]
  },
  {
   "cell_type": "code",
   "execution_count": null,
   "metadata": {},
   "outputs": [],
   "source": [
    "print(list(pd.merge(oscars, characters.drop_duplicates(\"Actor name\"), how=\"inner\", left_on=\"name\", right_on=\"Actor name\")['name'].unique()))"
   ]
  },
  {
   "cell_type": "markdown",
   "metadata": {},
   "source": [
    "# Analysis"
   ]
  },
  {
   "cell_type": "code",
   "execution_count": null,
   "metadata": {},
   "outputs": [],
   "source": [
    "nb_films = characters[\"Freebase actor ID\"].value_counts()\n",
    "\n",
    "nb_films[nb_films > 100]"
   ]
  }
 ],
 "metadata": {
  "kernelspec": {
   "display_name": "epfl-ada",
   "language": "python",
   "name": "python3"
  },
  "language_info": {
   "codemirror_mode": {
    "name": "ipython",
    "version": 3
   },
   "file_extension": ".py",
   "mimetype": "text/x-python",
   "name": "python",
   "nbconvert_exporter": "python",
   "pygments_lexer": "ipython3",
   "version": "3.9.18"
  }
 },
 "nbformat": 4,
 "nbformat_minor": 2
}
